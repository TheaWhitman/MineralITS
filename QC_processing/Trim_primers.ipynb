{
 "cells": [
  {
   "cell_type": "code",
   "execution_count": null,
   "metadata": {
    "collapsed": true
   },
   "outputs": [],
   "source": []
  },
  {
   "cell_type": "code",
   "execution_count": 2,
   "metadata": {
    "collapsed": false
   },
   "outputs": [],
   "source": [
    "!head -2000 ../../SeqData/Undetermined_S0_L001_R1_001.fastq > ../../SeqData/Undetermined_S0_L001_R1_001.crop.fastq"
   ]
  },
  {
   "cell_type": "code",
   "execution_count": null,
   "metadata": {
    "collapsed": true
   },
   "outputs": [],
   "source": []
  },
  {
   "cell_type": "code",
   "execution_count": 10,
   "metadata": {
    "collapsed": true
   },
   "outputs": [
    {
     "name": "stdout",
     "output_type": "stream",
     "text": [
      "This is cutadapt 1.8.1 with Python 2.7.9\r\n",
      "Command line parameters: -a TCCTCCGCTTATTGATATGC -o ../../SeqData/Undetermined_S0_L001_R1_001.crop.primers.fastq ../../SeqData/Undetermined_S0_L001_R1_001.crop.fastq\r\n",
      "Trimming 1 adapter with at most 10.0% errors in single-end mode ...\r\n",
      "Finished in 0.01 s (20 us/read; 3.00 M reads/minute).\r\n",
      "\r\n",
      "=== Summary ===\r\n",
      "\r\n",
      "Total reads processed:                     500\r\n",
      "Reads with adapters:                        19 (3.8%)\r\n",
      "Reads written (passing filters):           500 (100.0%)\r\n",
      "\r\n",
      "Total basepairs processed:       125,500 bp\r\n",
      "Total written (filtered):        125,431 bp (99.9%)\r\n",
      "\r\n",
      "=== Adapter 1 ===\r\n",
      "\r\n",
      "Sequence: TCCTCCGCTTATTGATATGC; Type: regular 3'; Length: 20; Trimmed: 19 times.\r\n",
      "\r\n",
      "No. of allowed errors:\r\n",
      "0-9 bp: 0; 10-19 bp: 1; 20 bp: 2\r\n",
      "\r\n",
      "Bases preceding removed adapters:\r\n",
      "  A: 5.3%\r\n",
      "  C: 47.4%\r\n",
      "  G: 15.8%\r\n",
      "  T: 31.6%\r\n",
      "  none/other: 0.0%\r\n",
      "\r\n",
      "Overview of removed sequences\r\n",
      "length\tcount\texpect\tmax.err\terror counts\r\n",
      "3\t12\t7.8\t0\t12\r\n",
      "4\t3\t2.0\t0\t3\r\n",
      "5\t3\t0.5\t0\t3\r\n",
      "6\t1\t0.1\t0\t1\r\n",
      "\r\n"
     ]
    }
   ],
   "source": [
    "!cutadapt -a XXX    -o ../../SeqData/Undetermined_S0_L001_R1_001.crop.primers.fastq ../../SeqData/Undetermined_S0_L001_R1_001.crop.fastq"
   ]
  },
  {
   "cell_type": "code",
   "execution_count": null,
   "metadata": {
    "collapsed": true
   },
   "outputs": [],
   "source": [
    "!cutadapt -g XXX    -o ../../SeqData/Undetermined_S0_L001_R1_001.crop.primers.fastq ../../SeqData/Undetermined_S0_L001_R1_001.crop.fastq"
   ]
  }
 ],
 "metadata": {
  "kernelspec": {
   "display_name": "Python 2",
   "language": "python",
   "name": "python2"
  },
  "language_info": {
   "codemirror_mode": {
    "name": "ipython",
    "version": 2
   },
   "file_extension": ".py",
   "mimetype": "text/x-python",
   "name": "python",
   "nbconvert_exporter": "python",
   "pygments_lexer": "ipython2",
   "version": "2.7.9"
  }
 },
 "nbformat": 4,
 "nbformat_minor": 0
}
