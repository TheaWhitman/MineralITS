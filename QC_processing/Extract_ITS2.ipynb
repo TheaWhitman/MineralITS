{
 "cells": [
  {
   "cell_type": "markdown",
   "metadata": {},
   "source": [
    "Because our primers, gITS7 and ITS4, rely on conserved regions (5.8S and 28S) to amplify ITS2, they are likely including portions of these regions. We will want to only consider the ITS2 for our analyses, in order to not accord artificially inflated similarity measures between sequences.  \n",
    "\n",
    "We can use ITSx to do this (Bengtsson-Palme et al., 2013)  \n",
    "\n",
    "It seems like I could  \n",
    "1. not remove primers because they will be removed during this step  \n",
    "2. not remove non-EuK sequences another way because this should achieve this, but other EuK will be detected.\n",
    "3. still perform this only on the unique sequences, and then re-expand the data."
   ]
  },
  {
   "cell_type": "code",
   "execution_count": null,
   "metadata": {
    "collapsed": true
   },
   "outputs": [],
   "source": []
  }
 ],
 "metadata": {
  "kernelspec": {
   "display_name": "Python 2",
   "language": "python",
   "name": "python2"
  },
  "language_info": {
   "codemirror_mode": {
    "name": "ipython",
    "version": 2
   },
   "file_extension": ".py",
   "mimetype": "text/x-python",
   "name": "python",
   "nbconvert_exporter": "python",
   "pygments_lexer": "ipython2",
   "version": "2.7.9"
  }
 },
 "nbformat": 4,
 "nbformat_minor": 0
}
