{
 "cells": [
  {
   "cell_type": "code",
   "execution_count": 1,
   "metadata": {
    "collapsed": false
   },
   "outputs": [],
   "source": [
    "%load_ext mothurmagic"
   ]
  },
  {
   "cell_type": "code",
   "execution_count": 7,
   "metadata": {
    "collapsed": true
   },
   "outputs": [],
   "source": [
    "# Imports a parser from cogent\n",
    "from cogent.parse.fasta import MinimalFastaParser as parse"
   ]
  },
  {
   "cell_type": "markdown",
   "metadata": {},
   "source": [
    "Because our primers, gITS7 and ITS4, rely on conserved regions (5.8S and 28S) to amplify ITS2, they are likely including portions of these regions. We will want to only consider the ITS2 for our analyses, in order to not accord artificially inflated similarity measures between sequences.  \n",
    "\n",
    "We can use ITSx to do this (Bengtsson-Palme et al., 2013)  \n",
    "\n",
    "It seems like I could  \n",
    "1. not remove primers because they will be removed during this step  \n",
    "2. not remove non-EuK sequences another way because this should achieve this, but other EuK will be detected.\n",
    "3. still perform this only on the unique sequences, and then re-expand the data."
   ]
  },
  {
   "cell_type": "code",
   "execution_count": null,
   "metadata": {
    "collapsed": true
   },
   "outputs": [],
   "source": [
    "!ITSx -i input.fasta -o output -E XXXevalcutoff --cpu 4 #--preserve\n",
    "\n",
    "#-Note it does store not_found sequences.\n",
    "# E value might be set at 0.01 or even 1 to decrease the amount of coverage\n",
    "# flanking the ITS region\n",
    "# This could make sense because we know we targeted this regions - \n",
    "# We know that our sequences should contain ITS2.\n",
    "# --preserve T could preserve the same sequence headers as from the output \n",
    "# instead of replacing them.\n",
    "# However, it only modifies them, and we should be able to extract original headers\n"
   ]
  },
  {
   "cell_type": "code",
   "execution_count": null,
   "metadata": {
    "collapsed": true
   },
   "outputs": [],
   "source": []
  },
  {
   "cell_type": "code",
   "execution_count": 129,
   "metadata": {
    "collapsed": false
   },
   "outputs": [],
   "source": [
    "# Pulling out the sample identifier and adding it to the header for uclust compatibility\n",
    "\n",
    "!awk \\\n",
    "'BEGIN{FS=\"_\";OFS=\";\"}{ if ( substr($1,0,1) == \">\"){ print $0,\"barcodelabel=\",$1 } else { print $0 } }' \\\n",
    "../../SeqData/ITS.demult.maxee.homoP.fasta | \\\n",
    "sed 's/;>//' > ../../SeqData/ITS.demult.maxee.homoP.usearch.fasta\n",
    "# AWK is an old AT&T programming langauge\n",
    "# The input field separator AWK -F \"_\" or {FS=\"_\"} is the underscore _\n",
    "# The output field separator (OFS) is ;\n",
    "# if the substring (first substring, at position 0, of max length 1) is the >, then we print the whole line as it was,\n",
    "# plus \"barcode label\" and the substring thing we got out. Otherwise, just repeat the full line.\n",
    "# $0 is the full line, $1, $2, etc., are the sub-bits of it.\n",
    "# We do this for the full file, and then spit it out with a new name."
   ]
  },
  {
   "cell_type": "markdown",
   "metadata": {},
   "source": [
    "\n",
    "Could use mothur or usearch to make unique sequences. See how each is done.  \n",
    "usearch derep_fulllength makes a fasta with only the unique seqs and includes the number of times it's present in its filename.  \n",
    "This seems easy to maintain with ITSx.  \n",
    "cluster_otus in uclust just requires the fasta file input has counts called \"size = n\", delimited by semicolons.  \n",
    "So, I need to see if ITSx gets rid of the semicolons.  "
   ]
  },
  {
   "cell_type": "code",
   "execution_count": 130,
   "metadata": {
    "collapsed": false
   },
   "outputs": [],
   "source": [
    "# Try doing ITSx on a subset of unique seqs file.\n",
    "!head -20000 ../../SeqData/ITS.demult.maxee.homoP.usearch.fasta > ../../SeqData/ITS.demult.maxee.homoP.mini.fasta"
   ]
  },
  {
   "cell_type": "code",
   "execution_count": 144,
   "metadata": {
    "collapsed": false
   },
   "outputs": [
    {
     "name": "stdout",
     "output_type": "stream",
     "text": [
      "usearch v8.0.1623_i86osx32, 4.0Gb RAM (17.2Gb total), 4 cores\n",
      "(C) Copyright 2013-15 Robert C. Edgar, all rights reserved.\n",
      "http://drive5.com/usearch\n",
      "\n",
      "Licensed to: tlw59@cornell.edu\n",
      "\n",
      "00:06 852Mb  100.0% Reading ../../SeqData/ITS.demult.maxee.homoP.usearch.fasta\n",
      "00:12 912Mb 2176154 seqs, 707180 uniques, 597836 singletons (84.5%)           \n",
      "00:12 912Mb Min size 1, median 1, max 8883, avg 3.08\n",
      "00:29 912Mb  100.0% Writing ../../SeqData/ITS.demult.maxee.homoP.usearch.unique.fasta\n"
     ]
    }
   ],
   "source": [
    "!usearch -derep_fulllength ../../SeqData/ITS.demult.maxee.homoP.usearch.fasta -fastaout ../../SeqData/ITS.demult.maxee.homoP.usearch.unique.fasta -sizeout -threads 4"
   ]
  },
  {
   "cell_type": "code",
   "execution_count": 145,
   "metadata": {
    "collapsed": false
   },
   "outputs": [
    {
     "name": "stdout",
     "output_type": "stream",
     "text": [
      "usearch v8.0.1623_i86osx32, 4.0Gb RAM (17.2Gb total), 4 cores\n",
      "(C) Copyright 2013-15 Robert C. Edgar, all rights reserved.\n",
      "http://drive5.com/usearch\n",
      "\n",
      "Licensed to: tlw59@cornell.edu\n",
      "\n",
      "00:02 313Mb  100.0% Reading ../../SeqData/ITS.demult.maxee.homoP.usearch.unique.fasta\n",
      "00:02 280Mb Getting sizes                                                            \n",
      "00:04 281Mb Sorting 109344 sequences\n",
      "00:07 281Mb  100.0% Writing output\n"
     ]
    }
   ],
   "source": [
    "# Sequences are sorted by size\n",
    "# Here the size of clusters - we are excluding the singletons here\n",
    "# You would change minsize to 1 if you wanted to include singletons\n",
    "# We don't really need to keep track of the total initial sequences, because we are going to go back to our\n",
    "# original fasta file to compare it to these curated (ITS2 extracted, no singletons) sequences.\n",
    "\n",
    "!usearch -sortbysize ../../SeqData/ITS.demult.maxee.homoP.usearch.unique.fasta -fastaout ../../SeqData/ITS.demult.maxee.homoP.usearch.unique.sorted.fasta -minsize 2"
   ]
  },
  {
   "cell_type": "code",
   "execution_count": 147,
   "metadata": {
    "collapsed": false
   },
   "outputs": [
    {
     "name": "stdout",
     "output_type": "stream",
     "text": [
      "TCAGTGAGTCATCGAATCTTTGAACGCACATTGCGCCCTCTGGAATTCCGGAGGGCACGCCTGTCTGAGCGTCGTCACGC\r\n",
      "CAATCGAGCCCTCCCGGGGGCACGGTGTTGGGTGAGGTCAGGGCACTTTACAGTGCCTGGACCCACCCGCAAAGCGTTGG\r\n",
      "CGGAGCCCCAGGAGCCCCAGTCGCAGCAAGAAAAAGACGTTTCGACTTGGAGCCTCCTTGGTGGCCCCACGCCCTCACGA\r\n",
      "ACCCCATCTCTAAGGTTCGACCTCGGATCAGGCGGGAGTACCCGCTGAACTTAAGCATATCAATAAGCGGAGGATCGT\r\n",
      ">100_1228573;barcodelabel=100;size=2;\r\n",
      "TCACTCAGTGAATCATCGAATCTTTGAACGCACCTTGCACCTTTTGGTATTCCGAAAGGTACACCCGTTTGAGTGTCATT\r\n",
      "GTAATCTCACTCCTTCAACTTTGTTGTTGCTGGATGTGGACTTGGACTCTGTCGTGTTACAACGACTGGTCTGAAATGCC\r\n",
      "TGAGTGCACCCTGCTGTTGCAGCGTCTCCAGTGTGATAAGCATCTTCACTGATTCAAGTTCCTTCGGGACACGTAGCATT\r\n",
      "GTGGGCTCTGTGCTGACAAACCGTCCTCGGACAATCTTTGACAATTTGACCTCAAATCGGGTGGGACTACCCGCTGAACT\r\n",
      "TAAGCATATCAATAAGCGGAGGA\r\n"
     ]
    }
   ],
   "source": [
    "!tail ../../SeqData/ITS.demult.maxee.homoP.usearch.unique.sorted.fasta\n",
    "# The smallest counts still had two present - no singletons remain."
   ]
  },
  {
   "cell_type": "code",
   "execution_count": 1,
   "metadata": {
    "collapsed": false
   },
   "outputs": [
    {
     "name": "stdout",
     "output_type": "stream",
     "text": [
      "ITSx -- Identifies ITS sequences and extracts the ITS region\n",
      "by Johan Bengtsson-Palme et al., University of Gothenburg\n",
      "Version: 1.0.11\n",
      "-----------------------------------------------------------------\n",
      "Thu Jul 16 23:58:12 2015 : Preparing HMM database (should be quick)...\n",
      "Thu Jul 16 23:58:12 2015 : Checking and handling input sequence data (should not take long)...\n",
      "Thu Jul 16 23:58:15 2015 : Doing paralellised comparison to HMM database (this may take a long while)...\n",
      "    Fri Jul 17 01:53:57 2015 : Fungi analysis of complementary strand finished.\n",
      "    Fri Jul 17 09:10:45 2015 : Fungi analysis of main strand finished.\n",
      "    Fri Jul 17 09:10:45 2015 : All processes finished.\n",
      "Fri Jul 17 09:10:45 2015 : Parallel HMM-scan finished.\n",
      "Fri Jul 17 09:10:45 2015 : Analysing results of HMM-scan (this might take quite some time)...\n",
      "Fri Jul 17 09:10:57 2015 : Extraction finished!\n",
      "-----------------------------------------------------------------\n",
      "Thank you for using ITSx!\n",
      "Please report bugs or unsupported lineages to itsx@microbiology.se\n",
      "\n"
     ]
    }
   ],
   "source": [
    "!ITSx -i ../../SeqData/ITS.demult.maxee.homoP.usearch.unique.sorted.fasta -o ../../SeqData/ITS.demult.maxee.homoP.usearch.unique.sorted.output -t \"Fungi\" -N 2 --cpu 4"
   ]
  },
  {
   "cell_type": "code",
   "execution_count": null,
   "metadata": {
    "collapsed": false
   },
   "outputs": [
    {
     "name": "stdout",
     "output_type": "stream",
     "text": [
      "ITSx -- Identifies ITS sequences and extracts the ITS region\n",
      "by Johan Bengtsson-Palme et al., University of Gothenburg\n",
      "Version: 1.0.11\n",
      "-----------------------------------------------------------------\n",
      "Thu Jul 16 12:43:51 2015 : Preparing HMM database (should be quick)...\n",
      "Thu Jul 16 12:43:51 2015 : Checking and handling input sequence data (should not take long)...\n",
      "Thu Jul 16 12:43:53 2015 : Doing paralellised comparison to HMM database (this may take a long while)...\n",
      "    Thu Jul 16 14:35:11 2015 : Fungi analysis of complementary strand finished.\n",
      "    Thu Jul 16 15:08:26 2015 : Fungi analysis of main strand finished.\n",
      "    Thu Jul 16 15:08:26 2015 : All processes finished.\n",
      "Thu Jul 16 15:08:26 2015 : Parallel HMM-scan finished.\n",
      "Thu Jul 16 15:08:26 2015 : Analysing results of HMM-scan (this might take quite some time)...\n"
     ]
    }
   ],
   "source": [
    "!ITSx -i ../../SeqData/ITS.demult.maxee.homoP.usearch.unique.sorted.fasta -o ../../SeqData/ITS.demult.maxee.homoP.usearch.unique.sorted.output -t \"Fungi\" -N 2 --cpu 4\n",
    "# May need to add the \"--reset T\" flag first time to fix HMM database\n",
    "# Can add -t \"Fungi\" to speed up, otherwise it scans all EuK databases *may not actually be faster\n",
    "\n",
    "# Also can use github akutils script to do in parallel faster. Might be worth it. To use script,\n",
    "# need everything to be in the same directory, though, and needed to modify script at readlink to greadlink and\n",
    "# brew install coreutils\n",
    "# This took Xh to do - J.Bengtsson-Palme found that the parallel .sh script could do it ~6x faster, so\n",
    "# 30 min - for future analyses, use this approach. Plus, all types was about 3x slower than fungi with paralell,\n",
    "# but about the same (even a little slower!) with regular script and --cpu flag."
   ]
  },
  {
   "cell_type": "code",
   "execution_count": 2,
   "metadata": {
    "collapsed": false
   },
   "outputs": [
    {
     "name": "stdout",
     "output_type": "stream",
     "text": [
      ">101_391;barcodelabel=101;size=8883;|F|ITS2 Extracted ITS2 sequence 82-235 (154 bp)\r\n",
      "CAACCCATCAAGCCTAGCGCTTGTGTTGGAGCCCTACGGCCGCCGCAGCCTCCTAAAATCAGTGGCGGGCTCGCTATCACGCTGAGTGCAGTAGTATTCTTCTCACTCCTGTTGTGTAGCGGGTAACCAGCCGTAAAAACCCCCCATATTCAAA\r\n"
     ]
    }
   ],
   "source": [
    "!head -2 ../../SeqData/ITS.demult.maxee.homoP.usearch.unique.sorted.output.ITS2.fasta\n",
    "# Overnight run"
   ]
  },
  {
   "cell_type": "code",
   "execution_count": 149,
   "metadata": {
    "collapsed": false
   },
   "outputs": [
    {
     "name": "stdout",
     "output_type": "stream",
     "text": [
      ">101_391;barcodelabel=101;size=8883;|F|ITS2 Extracted ITS2 sequence 82-235 (154 bp)\r\n",
      "CAACCCATCAAGCCTAGCGCTTGTGTTGGAGCCCTACGGCCGCCGCAGCCTCCTAAAATCAGTGGCGGGCTCGCTATCACGCTGAGTGCAGTAGTATTCTTCTCACTCCTGTTGTGTAGCGGGTAACCAGCCGTAAAAACCCCCCATATTCAAA\r\n"
     ]
    }
   ],
   "source": [
    "!head -2 ../../SeqData/ITS.demult.maxee.homoP.usearch.unique.sorted.output.ITS2.fasta\n",
    "# Afternoon run"
   ]
  },
  {
   "cell_type": "code",
   "execution_count": 162,
   "metadata": {
    "collapsed": false
   },
   "outputs": [
    {
     "name": "stdout",
     "output_type": "stream",
     "text": [
      "mothur > summary.seqs(fasta=../../SeqData/ITS.demult.maxee.homoP.usearch.fasta, processors=4)\n",
      "\n",
      "Using 4 processors.\n",
      "\n",
      "Start\tEnd\tNBases\tAmbigs\tPolymer\tNumSeqs\n",
      "Minimum:\t1\t50\t50\t0\t2\t1\n",
      "2.5%-tile:\t1\t187\t187\t0\t3\t54404\n",
      "25%-tile:\t1\t294\t294\t0\t4\t544039\n",
      "Median: \t1\t303\t303\t0\t5\t1088078\n",
      "75%-tile:\t1\t339\t339\t0\t6\t1632116\n",
      "97.5%-tile:\t1\t392\t392\t0\t7\t2121751\n",
      "Maximum:\t1\t492\t492\t0\t8\t2176154\n",
      "Mean:\t1\t309.523\t309.523\t0\t5.10661\n",
      "# of Seqs:\t2176154\n",
      "\n",
      "Output File Names:\n",
      "../../SeqData/ITS.demult.maxee.homoP.usearch.summary\n",
      "\n",
      "It took 21 secs to summarize 2176154 sequences.\n",
      "\n",
      "mothur > quit()\n"
     ]
    }
   ],
   "source": [
    "%%mothur\n",
    "summary.seqs(fasta=../../SeqData/ITS.demult.maxee.homoP.usearch.fasta, processors=4)"
   ]
  },
  {
   "cell_type": "code",
   "execution_count": 4,
   "metadata": {
    "collapsed": false
   },
   "outputs": [
    {
     "name": "stdout",
     "output_type": "stream",
     "text": [
      "mothur > summary.seqs(fasta=../../SeqData/ITS.demult.maxee.homoP.usearch.unique.sorted.output.ITS2.fasta)\n",
      "\n",
      "Using 1 processors.\n",
      "\n",
      "Start\tEnd\tNBases\tAmbigs\tPolymer\tNumSeqs\n",
      "Minimum:\t1\t34\t34\t0\t3\t1\n",
      "2.5%-tile:\t1\t143\t143\t0\t3\t2368\n",
      "25%-tile:\t1\t153\t153\t0\t4\t23677\n",
      "Median: \t1\t163\t163\t0\t5\t47354\n",
      "75%-tile:\t1\t199\t199\t0\t6\t71031\n",
      "97.5%-tile:\t1\t242\t242\t0\t7\t92340\n",
      "Maximum:\t1\t350\t350\t0\t8\t94707\n",
      "Mean:\t1\t176.071\t176.071\t0\t4.96453\n",
      "# of Seqs:\t94707\n",
      "\n",
      "Output File Names:\n",
      "../../SeqData/ITS.demult.maxee.homoP.usearch.unique.sorted.output.ITS2.summary\n",
      "\n",
      "It took 1 secs to summarize 94707 sequences.\n",
      "\n",
      "mothur > # Overnight run\n",
      "[ERROR]: You are missing (\n",
      "Invalid.\n",
      "\n",
      "mothur > quit()\n"
     ]
    }
   ],
   "source": [
    "%%mothur\n",
    "summary.seqs(fasta=../../SeqData/ITS.demult.maxee.homoP.usearch.unique.sorted.output.ITS2.fasta)\n",
    "# Overnight run - same as afternoon - ok to proceed."
   ]
  },
  {
   "cell_type": "code",
   "execution_count": 150,
   "metadata": {
    "collapsed": false
   },
   "outputs": [
    {
     "name": "stdout",
     "output_type": "stream",
     "text": [
      "mothur > summary.seqs(fasta=../../SeqData/ITS.demult.maxee.homoP.usearch.unique.sorted.output.ITS2.fasta)\n",
      "\n",
      "Using 1 processors.\n",
      "\n",
      "Start\tEnd\tNBases\tAmbigs\tPolymer\tNumSeqs\n",
      "Minimum:\t1\t34\t34\t0\t3\t1\n",
      "2.5%-tile:\t1\t143\t143\t0\t3\t2368\n",
      "25%-tile:\t1\t153\t153\t0\t4\t23677\n",
      "Median: \t1\t163\t163\t0\t5\t47354\n",
      "75%-tile:\t1\t199\t199\t0\t6\t71031\n",
      "97.5%-tile:\t1\t242\t242\t0\t7\t92340\n",
      "Maximum:\t1\t350\t350\t0\t8\t94707\n",
      "Mean:\t1\t176.071\t176.071\t0\t4.96453\n",
      "# of Seqs:\t94707\n",
      "\n",
      "Output File Names:\n",
      "../../SeqData/ITS.demult.maxee.homoP.usearch.unique.sorted.output.ITS2.summary\n",
      "\n",
      "It took 2 secs to summarize 94707 sequences.\n",
      "\n",
      "mothur > quit()\n"
     ]
    }
   ],
   "source": [
    "%%mothur\n",
    "summary.seqs(fasta=../../SeqData/ITS.demult.maxee.homoP.usearch.unique.sorted.output.ITS2.fasta)\n",
    "# Original afternoon run"
   ]
  },
  {
   "cell_type": "code",
   "execution_count": 12,
   "metadata": {
    "collapsed": false
   },
   "outputs": [
    {
     "name": "stdout",
     "output_type": "stream",
     "text": [
      "usearch v8.0.1623_i86osx32, 4.0Gb RAM (17.2Gb total), 4 cores\n",
      "(C) Copyright 2013-15 Robert C. Edgar, all rights reserved.\n",
      "http://drive5.com/usearch\n",
      "\n",
      "Licensed to: tlw59@cornell.edu\n",
      "\n",
      "00:06  35Mb  100.0% 2234 OTUs, 748 chimeras (0.8%)\n"
     ]
    }
   ],
   "source": [
    "!usearch -cluster_otus ../../SeqData/ITS.demult.maxee.homoP.usearch.unique.sorted.output.ITS2.fasta -otus ../../SeqData/ITS.demult.maxee.homoP.usearch.unique.sorted.output.ITS2.OTUs.fasta -relabel OTU_\n",
    "# We don't really care about -sizein -sizeout to keep counts bc counts come from\n",
    "# usearch_global "
   ]
  },
  {
   "cell_type": "code",
   "execution_count": 13,
   "metadata": {
    "collapsed": false
   },
   "outputs": [
    {
     "name": "stdout",
     "output_type": "stream",
     "text": [
      "usearch v8.0.1623_i86osx32, 4.0Gb RAM (17.2Gb total), 4 cores\n",
      "(C) Copyright 2013-15 Robert C. Edgar, all rights reserved.\n",
      "http://drive5.com/usearch\n",
      "\n",
      "Licensed to: tlw59@cornell.edu\n",
      "\n",
      "00:00 2.2Mb  100.0% Reading ../../SeqData/ITS.demult.maxee.homoP.usearch.unique.sorted.output.ITS2.OTUs.fasta\n",
      "00:01  19Mb  100.0% Reading ../../SeqData/UNITE/ITS1_ITS2_datasets/uchime_sh_refs_dynamic_develop_985_11.03.2015.ITS2.fasta\n",
      "00:01  11Mb  100.0% Masking\n",
      "00:01  12Mb  100.0% Word stats\n",
      "00:01  12Mb  100.0% Alloc rows\n",
      "00:01  29Mb  100.0% Build index\n",
      "00:02  36Mb  100.0% Search 31/2234 chimeras found (1.4%)\n",
      "00:02  36Mb  100.0% Writing 31 chimeras\n",
      "00:02  36Mb  100.0% Writing 2203 non-chimeras\n"
     ]
    }
   ],
   "source": [
    "!usearch -uchime_ref ../../SeqData/ITS.demult.maxee.homoP.usearch.unique.sorted.output.ITS2.OTUs.fasta \\\n",
    "-db ../../SeqData/UNITE/ITS1_ITS2_datasets/uchime_sh_refs_dynamic_develop_985_11.03.2015.ITS2.fasta \\\n",
    "-nonchimeras ../../SeqData/ITS.demult.maxee.homoP.usearch.unique.sorted.output.ITS2.OTUs.nochim.fasta -chimeras ../../SeqData/ITS.demult.maxee.homoP.usearch.unique.sorted.output.ITS2.OTUs.chim.fasta -strand plus\n",
    "# look for more chimeras using the UNITE database."
   ]
  },
  {
   "cell_type": "code",
   "execution_count": 14,
   "metadata": {
    "collapsed": false
   },
   "outputs": [
    {
     "name": "stdout",
     "output_type": "stream",
     "text": [
      "usearch v8.0.1623_i86osx32, 4.0Gb RAM (17.2Gb total), 4 cores\n",
      "(C) Copyright 2013-15 Robert C. Edgar, all rights reserved.\n",
      "http://drive5.com/usearch\n",
      "\n",
      "Licensed to: tlw59@cornell.edu\n",
      "\n",
      "00:00 2.2Mb  100.0% Reading ../../SeqData/ITS.demult.maxee.homoP.usearch.unique.sorted.output.ITS2.OTUs.nochim.fasta\n",
      "00:00 1.8Mb  100.0% Masking\n",
      "00:00 2.7Mb  100.0% Word stats\n",
      "00:00 2.7Mb  100.0% Alloc rows\n",
      "00:00 4.0Mb  100.0% Build index\n",
      "01:06  40Mb  100.0% Searching ITS.demult.maxee.homoP.usearch.fasta, 88.0% matched\n"
     ]
    }
   ],
   "source": [
    "!usearch -usearch_global ../../SeqData/ITS.demult.maxee.homoP.usearch.fasta \\\n",
    "-db ../../SeqData/ITS.demult.maxee.homoP.usearch.unique.sorted.output.ITS2.OTUs.nochim.fasta \\\n",
    "-strand plus -id 0.95 \\\n",
    "-uc ../../SeqData/ITS.readmap.uc \\\n",
    "-threads 4\n",
    "# Using our full database of all fasta sequences, not just the unique ones\n",
    "# Using our picked OTUs as the reference database\n",
    "# we know the strands are oriented correctly and will use 97% ID\n",
    "# outputs a uclust formatted file (tab)\n",
    "# 4 processors\n",
    "\n",
    "# Seems like it can find the matches in our ITS2-trimmed OTU refs, so this works, I think."
   ]
  },
  {
   "cell_type": "code",
   "execution_count": 15,
   "metadata": {
    "collapsed": false
   },
   "outputs": [
    {
     "name": "stdout",
     "output_type": "stream",
     "text": [
      "../../SeqData/ITS.readmap.uc 100.0%   \n"
     ]
    }
   ],
   "source": [
    "# Makes an OTU table\n",
    "!python /opt/virt_env/bin/uc2otutab.py ../../SeqData/ITS.readmap.uc > ../../SeqData/ITS.otu_table.txt"
   ]
  },
  {
   "cell_type": "code",
   "execution_count": 16,
   "metadata": {
    "collapsed": false
   },
   "outputs": [],
   "source": [
    "!if [ -f ../../SeqData/ITS.otu_table.biom ]; then rm ../../SeqData/ITS.otu_table.biom; fi #This is to mitigate a biom bug\n",
    "!biom convert -i ../../SeqData/ITS.otu_table.txt -o ../../SeqData/ITS.otu_table.biom --table-type=\"OTU table\" --to-json"
   ]
  },
  {
   "cell_type": "code",
   "execution_count": 17,
   "metadata": {
    "collapsed": true
   },
   "outputs": [],
   "source": [
    "!if [ -f ../../SeqData/ITS.otu_table_summary.txt ]; then rm ../../SeqData/ITS.otu_table_summary.txt; fi #This is to mitigate a biom bug\n",
    "!biom summarize-table -i ../../SeqData/ITS.otu_table.biom -o ../../SeqData/ITS.otu_table_summary.txt"
   ]
  },
  {
   "cell_type": "code",
   "execution_count": 18,
   "metadata": {
    "collapsed": false,
    "scrolled": true
   },
   "outputs": [
    {
     "name": "stdout",
     "output_type": "stream",
     "text": [
      "Num samples: 100\r\n",
      "Num observations: 2200\r\n",
      "Total count: 1902544\r\n",
      "Table density (fraction of non-zero values): 0.062\r\n",
      "\r\n",
      "Counts/sample summary:\r\n",
      " Min: 1.0\r\n",
      " Max: 165893.0\r\n",
      " Median: 6463.000\r\n",
      " Mean: 19025.440\r\n",
      " Std. dev.: 28826.747\r\n",
      " Sample Metadata Categories: None provided\r\n",
      " Observation Metadata Categories: None provided\r\n",
      "\r\n",
      "Counts/sample detail:\r\n",
      " 30: 1.0\r\n",
      " 54: 2.0\r\n",
      " 37: 2.0\r\n",
      " 63: 2.0\r\n",
      " 60: 5.0\r\n",
      " 14: 9.0\r\n",
      " 68: 13.0\r\n",
      " 16: 28.0\r\n",
      " 51: 57.0\r\n",
      " 48: 63.0\r\n",
      " 87: 76.0\r\n",
      " 11: 95.0\r\n",
      " 42: 96.0\r\n",
      " 8: 100.0\r\n",
      " 22: 135.0\r\n",
      " 9: 150.0\r\n",
      " 92: 194.0\r\n",
      " 45: 270.0\r\n",
      " 21: 294.0\r\n",
      " 23: 337.0\r\n",
      " 29: 391.0\r\n",
      " 18: 462.0\r\n",
      " 47: 468.0\r\n",
      " 81: 665.0\r\n",
      " 25: 768.0\r\n",
      " 2: 953.0\r\n",
      " 75: 954.0\r\n",
      " 27: 1139.0\r\n",
      " 24: 1212.0\r\n",
      " 78: 1364.0\r\n",
      " 84: 1561.0\r\n",
      " 71: 1747.0\r\n",
      " 90: 1923.0\r\n",
      " 28: 1924.0\r\n",
      " 73: 2081.0\r\n",
      " 6: 2164.0\r\n",
      " 10: 2490.0\r\n",
      " 57: 2492.0\r\n",
      " 82: 2922.0\r\n",
      " 74: 2979.0\r\n",
      " 76: 3462.0\r\n",
      " 4: 3934.0\r\n",
      " 26: 4573.0\r\n",
      " 5: 4646.0\r\n",
      " 3: 4671.0\r\n",
      " 19: 4894.0\r\n",
      " 77: 5087.0\r\n",
      " 72: 5259.0\r\n",
      " 85: 5307.0\r\n",
      " 12: 6024.0\r\n",
      " 1: 6902.0\r\n",
      " 97: 7253.0\r\n",
      " 15: 7582.0\r\n",
      " 88: 7769.0\r\n",
      " 103: 7930.0\r\n",
      " 17: 8411.0\r\n",
      " 66: 9546.0\r\n",
      " 83: 11635.0\r\n",
      " 46: 12327.0\r\n",
      " 91: 12615.0\r\n",
      " 20: 13435.0\r\n",
      " 69: 13460.0\r\n",
      " 80: 13748.0\r\n",
      " 55: 17957.0\r\n",
      " 79: 18378.0\r\n",
      " 86: 18497.0\r\n",
      " 50: 18605.0\r\n",
      " 38: 18990.0\r\n",
      " 95: 19326.0\r\n",
      " 43: 19407.0\r\n",
      " 53: 19509.0\r\n",
      " 99: 20230.0\r\n",
      " 106: 21736.0\r\n",
      " 102: 22826.0\r\n",
      " 40: 22962.0\r\n",
      " 52: 28034.0\r\n",
      " 39: 28648.0\r\n",
      " 64: 29085.0\r\n",
      " 89: 32445.0\r\n",
      " 59: 33447.0\r\n",
      " 67: 34724.0\r\n",
      " 41: 35088.0\r\n",
      " 44: 36684.0\r\n",
      " 62: 38145.0\r\n",
      " 105: 40212.0\r\n",
      " 70: 42825.0\r\n",
      " 104: 50042.0\r\n",
      " 58: 51070.0\r\n",
      " 98: 53054.0\r\n",
      " 7: 55346.0\r\n",
      " 56: 56977.0\r\n",
      " 100: 59039.0\r\n",
      " 65: 60505.0\r\n",
      " 93: 61599.0\r\n",
      " 13: 66287.0\r\n",
      " 94: 73106.0\r\n",
      " 49: 74218.0\r\n",
      " 96: 93820.0\r\n",
      " 101: 150770.0\r\n",
      " 61: 165893.0\r\n"
     ]
    }
   ],
   "source": [
    "# This tells us the overall data info\n",
    "# Num obs = OTUs\n",
    "# total count = total seqs\n",
    "\n",
    "!cat ../../SeqData/ITS.otu_table_summary.txt"
   ]
  },
  {
   "cell_type": "code",
   "execution_count": 19,
   "metadata": {
    "collapsed": true
   },
   "outputs": [],
   "source": [
    "!cp ../../SeqData/ITS.demult.maxee.homoP.usearch.unique.sorted.output.ITS2.OTUs.nochim.fasta ../../SeqData/ITS.otus.fasta"
   ]
  },
  {
   "cell_type": "code",
   "execution_count": null,
   "metadata": {
    "collapsed": true
   },
   "outputs": [],
   "source": []
  }
 ],
 "metadata": {
  "kernelspec": {
   "display_name": "Python 2",
   "language": "python",
   "name": "python2"
  },
  "language_info": {
   "codemirror_mode": {
    "name": "ipython",
    "version": 2
   },
   "file_extension": ".py",
   "mimetype": "text/x-python",
   "name": "python",
   "nbconvert_exporter": "python",
   "pygments_lexer": "ipython2",
   "version": "2.7.9"
  }
 },
 "nbformat": 4,
 "nbformat_minor": 0
}
