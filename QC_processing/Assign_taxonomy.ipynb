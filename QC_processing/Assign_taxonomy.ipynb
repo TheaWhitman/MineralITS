{
 "cells": [
  {
   "cell_type": "code",
   "execution_count": null,
   "metadata": {
    "collapsed": false
   },
   "outputs": [],
   "source": [
    "\n",
    "\n",
    "#nprocs = 4\n",
    "\n",
    "#!assign_taxonomy.py -i ../../SeqData/otus.pick.fasta -o ../../SeqData/Taxonomy/ -r ../../SeqData/UNITE/sh_refs_qiime_ver7_97_02.03.2015.fasta"
   ]
  },
  {
   "cell_type": "code",
   "execution_count": 10,
   "metadata": {
    "collapsed": false
   },
   "outputs": [],
   "source": [
    "# This is the assign taxonomy command from QIIME, using the UNITE database at 97%.\n",
    "# Note they do have another version of the db where the cutoffs are curated at varying levels, based on experts.\n",
    "# It is using the default uclust method, at default min 0.9 coverage and 0.9 similarity\n",
    "# May need to change this \n",
    "\n",
    "!parallel_assign_taxonomy_uclust.py -i ../../SeqData/ITS.demult.maxee.homoP.usearch.unique.sorted.output.ITS2.OTUs.nochim.fasta -o ../../SeqData/TaxonomySH/ -r ../../SeqData/UNITE/sh_refs_qiime_ver7_97_s_02.03.2015.fasta -t ../../SeqData/UNITE/sh_taxonomy_qiime_ver7_97_s_02.03.2015.txt -O 4"
   ]
  },
  {
   "cell_type": "code",
   "execution_count": 11,
   "metadata": {
    "collapsed": false
   },
   "outputs": [
    {
     "name": "stdout",
     "output_type": "stream",
     "text": [
      "ITS.demult.maxee.homoP.usearch.unique.sorted.output.ITS2.OTUs.nochim_tax_assignments.log\r\n",
      "ITS.demult.maxee.homoP.usearch.unique.sorted.output.ITS2.OTUs.nochim_tax_assignments.txt\r\n"
     ]
    }
   ],
   "source": [
    "!ls ../../SeqData/TaxonomySH/"
   ]
  },
  {
   "cell_type": "code",
   "execution_count": 12,
   "metadata": {
    "collapsed": true
   },
   "outputs": [
    {
     "name": "stdout",
     "output_type": "stream",
     "text": [
      "OTU_325\tk__Fungi;p__Ascomycota;c__Dothideomycetes;o__Pleosporales\t1.00\t3\r\n",
      "OTU_324\tk__Fungi;p__Ascomycota;c__Dothideomycetes;o__Pleosporales;f__Sporormiaceae\t0.67\t3\r\n",
      "OTU_327\tUnassigned\t1.00\t1\r\n",
      "OTU_326\tUnassigned\t1.00\t1\r\n",
      "OTU_321\tk__Fungi;p__Glomeromycota;c__Glomeromycetes;o__Glomerales;f__Glomeraceae\t0.67\t3\r\n",
      "OTU_320\tk__Fungi;p__Glomeromycota;c__Glomeromycetes;o__Glomerales;f__unidentified;g__unidentified;s__Glomerales sp\t0.67\t3\r\n",
      "OTU_323\tk__Fungi;p__Ascomycota;c__Eurotiomycetes;o__Eurotiales;f__Trichocomaceae;g__Penicillium\t0.67\t3\r\n",
      "OTU_322\tUnassigned\t1.00\t1\r\n",
      "OTU_484\tk__Fungi;p__Ascomycota;c__unidentified;o__unidentified;f__unidentified;g__unidentified;s__Ascomycota sp\t0.67\t3\r\n",
      "OTU_485\tk__Fungi;p__Ascomycota;c__Dothideomycetes;o__Pleosporales;f__Montagnulaceae;g__unidentified;s__Montagnulaceae sp\t0.67\t3\r\n"
     ]
    }
   ],
   "source": [
    "!head ../../SeqData/TaxonomySH/ITS.demult.maxee.homoP.usearch.unique.sorted.output.ITS2.OTUs.nochim_tax_assignments.txt"
   ]
  },
  {
   "cell_type": "code",
   "execution_count": 13,
   "metadata": {
    "collapsed": false
   },
   "outputs": [],
   "source": [
    "# Joining the classification taxonomy to the biom table\n",
    "!if [ -f ../../SeqData/TaxonomySH/ITS.otu_table.tax.biom ]; then rm ../../SeqData/TaxonomySH/ITS.otu_table.tax.biom; fi #This is to mitigate a biom bug\n",
    "! biom add-metadata -i ../../SeqData/ITS.otu_table.biom -o ../../SeqData/TaxonomySH/ITS.otu_table.tax.biom \\\n",
    "--observation-metadata-fp ../../SeqData/TaxonomySH/ITS.demult.maxee.homoP.usearch.unique.sorted.output.ITS2.OTUs.nochim_tax_assignments.txt \\\n",
    "--observation-header OTUID,taxonomy,confidence,ndbseqs --sc-separated taxonomy "
   ]
  },
  {
   "cell_type": "code",
   "execution_count": 14,
   "metadata": {
    "collapsed": false
   },
   "outputs": [],
   "source": [
    "# Adding the mapping data too\n",
    "!if [ -f ../../SeqData/TaxonomySH/ITS.otu_table.tax.meta.biom ]; then rm ../../SeqData/TaxonomySH/ITS.otu_table.tax.meta.biom; fi #This is to mitigate a biom bug\n",
    "! biom add-metadata -i ../../SeqData/TaxonomySH/ITS.otu_table.tax.biom -o ../../SeqData/TaxonomySH/ITS.otu_table.tax.meta.biom \\\n",
    "--sample-metadata-fp ../../SeqData/MapFile.txt"
   ]
  },
  {
   "cell_type": "code",
   "execution_count": 15,
   "metadata": {
    "collapsed": false
   },
   "outputs": [],
   "source": [
    "!if [ -f ../../SeqData/TaxonomySH/ITS.otu_table.tax.meta.biom.summary.txt ]; then rm ../../SeqData/TaxonomySH/ITS.otu_table.tax.meta.biom.summary.txt; fi #This is to mitigate a biom bug\n",
    "! biom summarize-table -i ../../SeqData/TaxonomySH/ITS.otu_table.tax.meta.biom -o ../../SeqData/TaxonomySH/ITS.otu_table.tax.meta.biom.summary.txt"
   ]
  },
  {
   "cell_type": "code",
   "execution_count": 16,
   "metadata": {
    "collapsed": false
   },
   "outputs": [
    {
     "name": "stdout",
     "output_type": "stream",
     "text": [
      "Num samples: 100\r\n",
      "Num observations: 2200\r\n",
      "Total count: 1902544\r\n",
      "Table density (fraction of non-zero values): 0.062\r\n",
      "\r\n",
      "Counts/sample summary:\r\n",
      " Min: 1.0\r\n",
      " Max: 165893.0\r\n",
      " Median: 6463.000\r\n",
      " Mean: 19025.440\r\n",
      " Std. dev.: 28826.747\r\n",
      " Sample Metadata Categories: DNA; Description; OrigBarcodes; Cosm; BarcodeSequence; Month; LinkerPrimerSequence; Trtmt; Buff\r\n",
      " Observation Metadata Categories: taxonomy; confidence; ndbseqs\r\n",
      "\r\n",
      "Counts/sample detail:\r\n",
      " 30: 1.0\r\n",
      " 54: 2.0\r\n",
      " 37: 2.0\r\n",
      " 63: 2.0\r\n",
      " 60: 5.0\r\n",
      " 14: 9.0\r\n",
      " 68: 13.0\r\n",
      " 16: 28.0\r\n",
      " 51: 57.0\r\n",
      " 48: 63.0\r\n",
      " 87: 76.0\r\n",
      " 11: 95.0\r\n",
      " 42: 96.0\r\n",
      " 8: 100.0\r\n",
      " 22: 135.0\r\n",
      " 9: 150.0\r\n",
      " 92: 194.0\r\n",
      " 45: 270.0\r\n",
      " 21: 294.0\r\n",
      " 23: 337.0\r\n",
      " 29: 391.0\r\n",
      " 18: 462.0\r\n",
      " 47: 468.0\r\n",
      " 81: 665.0\r\n",
      " 25: 768.0\r\n",
      " 2: 953.0\r\n",
      " 75: 954.0\r\n",
      " 27: 1139.0\r\n",
      " 24: 1212.0\r\n",
      " 78: 1364.0\r\n",
      " 84: 1561.0\r\n",
      " 71: 1747.0\r\n",
      " 90: 1923.0\r\n",
      " 28: 1924.0\r\n",
      " 73: 2081.0\r\n",
      " 6: 2164.0\r\n",
      " 10: 2490.0\r\n",
      " 57: 2492.0\r\n",
      " 82: 2922.0\r\n",
      " 74: 2979.0\r\n",
      " 76: 3462.0\r\n",
      " 4: 3934.0\r\n",
      " 26: 4573.0\r\n",
      " 5: 4646.0\r\n",
      " 3: 4671.0\r\n",
      " 19: 4894.0\r\n",
      " 77: 5087.0\r\n",
      " 72: 5259.0\r\n",
      " 85: 5307.0\r\n",
      " 12: 6024.0\r\n",
      " 1: 6902.0\r\n",
      " 97: 7253.0\r\n",
      " 15: 7582.0\r\n",
      " 88: 7769.0\r\n",
      " 103: 7930.0\r\n",
      " 17: 8411.0\r\n",
      " 66: 9546.0\r\n",
      " 83: 11635.0\r\n",
      " 46: 12327.0\r\n",
      " 91: 12615.0\r\n",
      " 20: 13435.0\r\n",
      " 69: 13460.0\r\n",
      " 80: 13748.0\r\n",
      " 55: 17957.0\r\n",
      " 79: 18378.0\r\n",
      " 86: 18497.0\r\n",
      " 50: 18605.0\r\n",
      " 38: 18990.0\r\n",
      " 95: 19326.0\r\n",
      " 43: 19407.0\r\n",
      " 53: 19509.0\r\n",
      " 99: 20230.0\r\n",
      " 106: 21736.0\r\n",
      " 102: 22826.0\r\n",
      " 40: 22962.0\r\n",
      " 52: 28034.0\r\n",
      " 39: 28648.0\r\n",
      " 64: 29085.0\r\n",
      " 89: 32445.0\r\n",
      " 59: 33447.0\r\n",
      " 67: 34724.0\r\n",
      " 41: 35088.0\r\n",
      " 44: 36684.0\r\n",
      " 62: 38145.0\r\n",
      " 105: 40212.0\r\n",
      " 70: 42825.0\r\n",
      " 104: 50042.0\r\n",
      " 58: 51070.0\r\n",
      " 98: 53054.0\r\n",
      " 7: 55346.0\r\n",
      " 56: 56977.0\r\n",
      " 100: 59039.0\r\n",
      " 65: 60505.0\r\n",
      " 93: 61599.0\r\n",
      " 13: 66287.0\r\n",
      " 94: 73106.0\r\n",
      " 49: 74218.0\r\n",
      " 96: 93820.0\r\n",
      " 101: 150770.0\r\n",
      " 61: 165893.0\r\n"
     ]
    }
   ],
   "source": [
    "!cat ../../SeqData/TaxonomySH/ITS.otu_table.tax.meta.biom.summary.txt"
   ]
  },
  {
   "cell_type": "markdown",
   "metadata": {},
   "source": [
    "Now our full OTU table with metadata is found at:\n",
    "../../SeqData/ITS.otu_table.tax.meta.biom OR  \n",
    "../../SeqData/TaxonomyDynamic/ITS.otu_table.tax.meta.biom OR  \n",
    "../../SeqData/TaxonomySH/ITS.otu_table.tax.meta.biom "
   ]
  },
  {
   "cell_type": "code",
   "execution_count": null,
   "metadata": {
    "collapsed": true
   },
   "outputs": [],
   "source": []
  }
 ],
 "metadata": {
  "kernelspec": {
   "display_name": "Python 2",
   "language": "python",
   "name": "python2"
  },
  "language_info": {
   "codemirror_mode": {
    "name": "ipython",
    "version": 2
   },
   "file_extension": ".py",
   "mimetype": "text/x-python",
   "name": "python",
   "nbconvert_exporter": "python",
   "pygments_lexer": "ipython2",
   "version": "2.7.9"
  }
 },
 "nbformat": 4,
 "nbformat_minor": 0
}
