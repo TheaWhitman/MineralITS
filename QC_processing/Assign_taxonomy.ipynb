{
 "cells": [
  {
   "cell_type": "code",
   "execution_count": null,
   "metadata": {
    "collapsed": false
   },
   "outputs": [],
   "source": [
    "# This is the assign taxonomy command from QIIME, using the UNITE database at 97%.\n",
    "# It is using the default uclust method, at default min 0.9 similarity\n",
    "\n",
    "nprocs = 4\n",
    "\n",
    "!assign_taxonomy.py -i ../../SeqData/otus.pick.fasta -o ../../SeqData/Taxonomy/ -r ../../SeqData/UNITE/sh_refs_qiime_ver7_97_02.03.2015.fasta"
   ]
  },
  {
   "cell_type": "code",
   "execution_count": null,
   "metadata": {
    "collapsed": true
   },
   "outputs": [],
   "source": [
    "# Maybe useful?\n",
    "\n",
    "!parallel_assign_taxonomy_uclust.py -i ../../SeqData/otus.fasta -o ../../SeqData/otus.tax -O 4"
   ]
  },
  {
   "cell_type": "code",
   "execution_count": null,
   "metadata": {
    "collapsed": true
   },
   "outputs": [],
   "source": []
  },
  {
   "cell_type": "code",
   "execution_count": null,
   "metadata": {
    "collapsed": false
   },
   "outputs": [],
   "source": [
    "!ls ../../SeqData/Taxonomy/"
   ]
  },
  {
   "cell_type": "code",
   "execution_count": null,
   "metadata": {
    "collapsed": false
   },
   "outputs": [],
   "source": [
    "!less ../../SeqData/Taxonomy/otus.pick_tax_assignments.txt"
   ]
  },
  {
   "cell_type": "code",
   "execution_count": null,
   "metadata": {
    "collapsed": true
   },
   "outputs": [],
   "source": [
    "# Joining the classification taxonomy to the biom table\n",
    "! biom add-metadata -i ../../SeqData/otu_table.biom -o ../../SeqData/otu_table.tax.biom \\\n",
    "--observation-metadata-fp ../../SeqData/Taxonomy/otus.pick_tax_assignments.txt \\\n",
    "--observation-header OTUID,taxonomy,confidence,numrefdbseqs --sc-separated taxonomy "
   ]
  },
  {
   "cell_type": "code",
   "execution_count": null,
   "metadata": {
    "collapsed": true
   },
   "outputs": [],
   "source": [
    "# Trying to add the mapping data too. Oh yeah but there are doubles in the map file.\n",
    "! biom add-metadata -i ../../SeqData/otu_table.tax.biom -o ../../SeqData/otu_table.tax.meta.biom \\\n",
    "--sample-metadata-fp ../../SeqData/MapFile.txt"
   ]
  },
  {
   "cell_type": "code",
   "execution_count": null,
   "metadata": {
    "collapsed": true
   },
   "outputs": [],
   "source": [
    "! biom summarize-table -i ../../SeqData/otu_table.tax.meta.biom -o ../../SeqData/otu_table.tax.meta.biom.summary.txt"
   ]
  },
  {
   "cell_type": "code",
   "execution_count": null,
   "metadata": {
    "collapsed": false
   },
   "outputs": [],
   "source": [
    "!cat ../../SeqData/otu_table.tax.meta.biom.summary.txt"
   ]
  },
  {
   "cell_type": "markdown",
   "metadata": {},
   "source": [
    "Now our full OTU table with metadata is found at:\n",
    "../../SeqData/otu_table.tax.meta.biom"
   ]
  }
 ],
 "metadata": {
  "kernelspec": {
   "display_name": "Python 2",
   "language": "python",
   "name": "python2"
  },
  "language_info": {
   "codemirror_mode": {
    "name": "ipython",
    "version": 2
   },
   "file_extension": ".py",
   "mimetype": "text/x-python",
   "name": "python",
   "nbconvert_exporter": "python",
   "pygments_lexer": "ipython2",
   "version": "2.7.9"
  }
 },
 "nbformat": 4,
 "nbformat_minor": 0
}
