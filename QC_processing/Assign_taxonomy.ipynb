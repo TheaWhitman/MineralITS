{
 "cells": [
  {
   "cell_type": "code",
   "execution_count": null,
   "metadata": {
    "collapsed": false
   },
   "outputs": [],
   "source": [
    "\n",
    "\n",
    "#nprocs = 4\n",
    "\n",
    "#!assign_taxonomy.py -i ../../SeqData/otus.pick.fasta -o ../../SeqData/Taxonomy/ -r ../../SeqData/UNITE/sh_refs_qiime_ver7_97_02.03.2015.fasta"
   ]
  },
  {
   "cell_type": "code",
   "execution_count": 1,
   "metadata": {
    "collapsed": false
   },
   "outputs": [
    {
     "name": "stdout",
     "output_type": "stream",
     "text": [
      "^CTraceback (most recent call last):\r\n",
      "  File \"/opt/virt_env/bin/parallel_assign_taxonomy_uclust.py\", line 98, in <module>\r\n",
      "    main()\r\n",
      "  File \"/opt/virt_env/bin/parallel_assign_taxonomy_uclust.py\", line 94, in main\r\n",
      "    suppress_submit_jobs=opts.suppress_submit_jobs)\r\n",
      "  File \"/opt/virt_env/lib/python2.7/site-packages/qiime/parallel/util.py\", line 177, in __call__\r\n",
      "    jobs_fp=jobs_fp, job_prefix=job_prefix)\r\n",
      "  File \"/opt/virt_env/lib/python2.7/site-packages/qiime/parallel/util.py\", line 245, in _submit_jobs\r\n",
      "    stdout, stderr, return_value = qiime_system_call(cmd)\r\n",
      "  File \"/opt/virt_env/lib/python2.7/site-packages/qcli/util.py\", line 39, in qcli_system_call\r\n",
      "    stdout, stderr = proc.communicate()\r\n",
      "  File \"/usr/local/Cellar/python/2.7.9/Frameworks/Python.framework/Versions/2.7/lib/python2.7/subprocess.py\", line 799, in communicate\r\n",
      "    return self._communicate(input)\r\n",
      "  File \"/usr/local/Cellar/python/2.7.9/Frameworks/Python.framework/Versions/2.7/lib/python2.7/subprocess.py\", line 1411, in _communicate\r\n",
      "    stdout, stderr = self._communicate_with_select(input)\r\n",
      "  File \"/usr/local/Cellar/python/2.7.9/Frameworks/Python.framework/Versions/2.7/lib/python2.7/subprocess.py\", line 1512, in _communicate_with_select\r\n",
      "    rlist, wlist, xlist = select.select(read_set, write_set, [])\r\n",
      "KeyboardInterrupt\r\n"
     ]
    }
   ],
   "source": [
    "# This is the assign taxonomy command from QIIME, using the UNITE database at 97%.\n",
    "# Note they do have another version of the db where the cutoffs are curated at varying levels, based on experts.\n",
    "# It is using the default uclust method, at default min 0.9 coverage and 0.9 similarity\n",
    "# May need to change this \n",
    "\n",
    "!parallel_assign_taxonomy_uclust.py -i ./../SeqData/ITS.demult.maxee.homoP.usearch.unique.sorted.output.ITS2.OTUs.nochim.fasta -o ../../SeqData/Taxonomy/ -r ../../SeqData/UNITE/sh_refs_qiime_ver7_97_02.03.2015.fasta -O 4"
   ]
  },
  {
   "cell_type": "code",
   "execution_count": null,
   "metadata": {
    "collapsed": false
   },
   "outputs": [],
   "source": [
    "!ls ../../SeqData/Taxonomy/"
   ]
  },
  {
   "cell_type": "code",
   "execution_count": null,
   "metadata": {
    "collapsed": false
   },
   "outputs": [],
   "source": [
    "!less ../../SeqData/Taxonomy/otus.pick_tax_assignments.txt"
   ]
  },
  {
   "cell_type": "code",
   "execution_count": 2,
   "metadata": {
    "collapsed": false
   },
   "outputs": [
    {
     "name": "stdout",
     "output_type": "stream",
     "text": [
      "Usage: biom add-metadata [options] {-i/--input-fp INPUT-FP -o/--output-fp OUTPUT-FP}\r\n",
      "\r\n",
      "[] indicates optional input (order unimportant)\r\n",
      "{} indicates required input (order unimportant)\r\n",
      "\r\n",
      "Add sample and/or observation metadata to BIOM-formatted files. Detailed usage examples can be found here: http://biom-format.org/documentation/adding_metadata.html\r\n",
      "\r\n",
      "Example usage: \r\n",
      "Print help message and exit\r\n",
      " biom add-metadata -h\r\n",
      "\r\n",
      "Adding sample metadata: Add sample metadata to a BIOM table\r\n",
      " biom add-metadata -i otu_table.biom -o table_with_sample_metadata.biom -m sample_metadata.txt\r\n",
      "\r\n",
      "biom add-metadata: error: option --observation-metadata-fp: file does not exist: '../../SeqData/Taxonomy/otus.pick_tax_assignments.txt'\r\n"
     ]
    }
   ],
   "source": [
    "# Joining the classification taxonomy to the biom table\n",
    "! biom add-metadata -i ../../SeqData/otu_table.biom -o ../../SeqData/otu_table.tax.biom \\\n",
    "--observation-metadata-fp ../../SeqData/Taxonomy/otus.pick_tax_assignments.txt \\\n",
    "--observation-header OTUID,taxonomy,confidence,numrefdbseqs --sc-separated taxonomy "
   ]
  },
  {
   "cell_type": "code",
   "execution_count": null,
   "metadata": {
    "collapsed": true
   },
   "outputs": [],
   "source": [
    "# Adding the mapping data too\n",
    "! biom add-metadata -i ../../SeqData/otu_table.tax.biom -o ../../SeqData/otu_table.tax.meta.biom \\\n",
    "--sample-metadata-fp ../../SeqData/MapFile.txt"
   ]
  },
  {
   "cell_type": "code",
   "execution_count": null,
   "metadata": {
    "collapsed": true
   },
   "outputs": [],
   "source": [
    "! biom summarize-table -i ../../SeqData/otu_table.tax.meta.biom -o ../../SeqData/otu_table.tax.meta.biom.summary.txt"
   ]
  },
  {
   "cell_type": "code",
   "execution_count": null,
   "metadata": {
    "collapsed": false
   },
   "outputs": [],
   "source": [
    "!cat ../../SeqData/otu_table.tax.meta.biom.summary.txt"
   ]
  },
  {
   "cell_type": "markdown",
   "metadata": {},
   "source": [
    "Now our full OTU table with metadata is found at:\n",
    "../../SeqData/otu_table.tax.meta.biom"
   ]
  }
 ],
 "metadata": {
  "kernelspec": {
   "display_name": "Python 2",
   "language": "python",
   "name": "python2"
  },
  "language_info": {
   "codemirror_mode": {
    "name": "ipython",
    "version": 2
   },
   "file_extension": ".py",
   "mimetype": "text/x-python",
   "name": "python",
   "nbconvert_exporter": "python",
   "pygments_lexer": "ipython2",
   "version": "2.7.9"
  }
 },
 "nbformat": 4,
 "nbformat_minor": 0
}
