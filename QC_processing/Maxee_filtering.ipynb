{
 "cells": [
  {
   "cell_type": "markdown",
   "metadata": {},
   "source": [
    "##This notebook is for basic QC on sequencing data"
   ]
  },
  {
   "cell_type": "code",
   "execution_count": null,
   "metadata": {
    "collapsed": true
   },
   "outputs": [],
   "source": [
    "# %install_ext https://raw.githubusercontent.com/SchlossLab/ipython-mothurmagic/master/mothurmagic.py\n",
    "# Only needs to be done once - gets the mothurmagic so you can run mother easily in the %notebook"
   ]
  },
  {
   "cell_type": "code",
   "execution_count": 1,
   "metadata": {
    "collapsed": false
   },
   "outputs": [],
   "source": [
    "%load_ext mothurmagic\n",
    "# Loads mothurmagic so we can run mothur in the notebook using %%mothur at the top of the cell"
   ]
  },
  {
   "cell_type": "code",
   "execution_count": 2,
   "metadata": {
    "collapsed": false
   },
   "outputs": [
    {
     "name": "stdout",
     "output_type": "stream",
     "text": [
      "mothur > help()\n",
      "For more information about a specific command type 'commandName(help)' i.e. 'read.dist(help)'\n",
      "\n",
      "For further assistance please refer to the Mothur manual on our wiki at http://www.mothur.org/wiki, or contact Pat Schloss at mothur.bugs@gmail.com.\n",
      "\n",
      "mothur > quit()\n"
     ]
    }
   ],
   "source": [
    "%%mothur\n",
    "help()"
   ]
  },
  {
   "cell_type": "code",
   "execution_count": 3,
   "metadata": {
    "collapsed": false
   },
   "outputs": [
    {
     "name": "stdout",
     "output_type": "stream",
     "text": [
      "/opt/virt_env/bin:/Users/Thea/anaconda/bin:/usr/local/bin:/usr/bin:/bin:/usr/sbin:/sbin:/opt/X11/bin:/usr/texbin:/opt/virt_env/bin/mothur\r\n"
     ]
    }
   ],
   "source": [
    "!echo $PATH\n",
    "#Make sure mothur folder is in your path somehow. If not, enter "
   ]
  },
  {
   "cell_type": "code",
   "execution_count": null,
   "metadata": {
    "collapsed": true
   },
   "outputs": [],
   "source": [
    "!export PATH=$PATH:/opt/virt_env/bin/mothur"
   ]
  },
  {
   "cell_type": "markdown",
   "metadata": {},
   "source": [
    "First we need to cut out sequences with errors"
   ]
  },
  {
   "cell_type": "code",
   "execution_count": 4,
   "metadata": {
    "collapsed": true
   },
   "outputs": [],
   "source": [
    "! head -1000 ../../SeqData/pear_merged-2015-07-13.assembled.fastq > ../../SeqData/pear_merged-2015-07-13.assembled.mini.fastq"
   ]
  },
  {
   "cell_type": "code",
   "execution_count": 6,
   "metadata": {
    "collapsed": false
   },
   "outputs": [
    {
     "name": "stdout",
     "output_type": "stream",
     "text": [
      "usearch v8.0.1623_i86osx32, 4.0Gb RAM (17.2Gb total), 4 cores\n",
      "(C) Copyright 2013-15 Robert C. Edgar, all rights reserved.\n",
      "http://drive5.com/usearch\n",
      "\n",
      "Licensed to: tlw59@cornell.edu\n",
      "\n",
      "01:07 1.6Mb  100.0% Filtering, 94.1% passed\n",
      "   2441427  FASTQ recs (2.4M)              \n",
      "    143324  Low qual recs discarded (expected errs > 1.00)\n",
      "   2298103  Converted (2.3M, 94.1%)\n"
     ]
    }
   ],
   "source": [
    "! usearch -fastq_filter ../../SeqData/pear_merged-2015-07-13.assembled.fastq \\\n",
    "-fastaout ../../SeqData/pear_merged_2015_07_13.assembled.demult.maxee.fasta \\\n",
    "-fastq_maxee 1\n",
    "# Using Roger Edgar's max expected error filtering\n",
    "# Note we needed to remove - dashes from the name for future mothur processing"
   ]
  },
  {
   "cell_type": "markdown",
   "metadata": {},
   "source": [
    "####If the file were bigger, we would need to split it (below)"
   ]
  },
  {
   "cell_type": "code",
   "execution_count": null,
   "metadata": {
    "collapsed": false
   },
   "outputs": [],
   "source": [
    "!wc -l ../../SeqData/pear_merged-2015-06-30.assembled.fastq\n",
    "# Counts the number of lines in the fastq file. They come in groups of 4 lines."
   ]
  },
  {
   "cell_type": "code",
   "execution_count": null,
   "metadata": {
    "collapsed": true
   },
   "outputs": [],
   "source": [
    "! usearch -fastq_filter ../../SeqData/pear_merged-2015-06-30.assembled.fastq \\\n",
    "-fastaout ../../SeqData/pear_merged-2015-06-30.assembled.maxee.fasta \\\n",
    "-fastq_maxee 1\n",
    "# Using Roger Edgar's max expected error filtering - the whole file is too big to do at once so needs to be split"
   ]
  },
  {
   "cell_type": "code",
   "execution_count": null,
   "metadata": {
    "collapsed": false
   },
   "outputs": [],
   "source": [
    "!head -16528900 ../../SeqData/pear_merged-2015-06-30.assembled.fastq > \\\n",
    "../../SeqData/pear_merged-2015-06-30.assembled.split1.fastq\n",
    "!tail -16528900 ../../SeqData/pear_merged-2015-06-30.assembled.fastq > \\\n",
    "../../SeqData/pear_merged-2015-06-30.assembled.split2.fastq\n",
    "# Split the data for usearch into two files, divided by the number of lines it has as determined above"
   ]
  },
  {
   "cell_type": "code",
   "execution_count": null,
   "metadata": {
    "collapsed": true
   },
   "outputs": [],
   "source": [
    "! usearch -fastq_filter ../../SeqData/pear_merged-2015-06-30.assembled.split1.fastq \\\n",
    "-fastaout ../../SeqData/pear_merged-2015-06-30.assembled.split1.maxee.fasta \\\n",
    "-fastq_maxee 1\n",
    "# Using Roger Edgar's max expected error filtering on our split fastq file"
   ]
  },
  {
   "cell_type": "code",
   "execution_count": null,
   "metadata": {
    "collapsed": true
   },
   "outputs": [],
   "source": [
    "! usearch -fastq_filter ../../SeqData/pear_merged-2015-06-30.assembled.split2.fastq \\\n",
    "-fastaout ../../SeqData/pear_merged-2015-06-30.assembled.split2.maxee.fasta \\\n",
    "-fastq_maxee 1\n",
    "# Using Roger Edgar's max expected error filtering on our split fastq file"
   ]
  },
  {
   "cell_type": "code",
   "execution_count": null,
   "metadata": {
    "collapsed": true
   },
   "outputs": [],
   "source": [
    "!cat ../../SeqData/pear_merged-2015-06-30.assembled.split1.maxee.fasta \\\n",
    "../../SeqData/pear_merged-2015-06-30.assembled.split2.maxee.fasta > \\\n",
    "../../SeqData/pear_merged_2015_06_30.assembled.maxee.fasta\n",
    "# Joining the files back together into one fasta file."
   ]
  },
  {
   "cell_type": "markdown",
   "metadata": {},
   "source": [
    "###Now we examine the sequences using mothur"
   ]
  },
  {
   "cell_type": "code",
   "execution_count": 8,
   "metadata": {
    "collapsed": false
   },
   "outputs": [
    {
     "name": "stdout",
     "output_type": "stream",
     "text": [
      "mothur > summary.seqs(fasta=../../SeqData/pear_merged_2015_07_13.assembled.demult.maxee.fasta, processors=4)\n",
      "\n",
      "Using 4 processors.\n",
      "\n",
      "Start\tEnd\tNBases\tAmbigs\tPolymer\tNumSeqs\n",
      "Minimum:\t1\t50\t50\t0\t2\t1\n",
      "2.5%-tile:\t1\t187\t187\t0\t3\t57453\n",
      "25%-tile:\t1\t294\t294\t0\t4\t574526\n",
      "Median: \t1\t304\t304\t0\t5\t1149052\n",
      "75%-tile:\t1\t339\t339\t0\t6\t1723578\n",
      "97.5%-tile:\t1\t392\t392\t0\t9\t2240651\n",
      "Maximum:\t1\t492\t492\t1\t82\t2298103\n",
      "Mean:\t1\t311.203\t311.203\t3.48113e-06\t5.35651\n",
      "# of Seqs:\t2298103\n",
      "\n",
      "Output File Names:\n",
      "../../SeqData/pear_merged_2015_07_13.assembled.demult.maxee.summary\n",
      "\n",
      "It took 19 secs to summarize 2298103 sequences.\n",
      "\n",
      "mothur > quit()\n"
     ]
    }
   ],
   "source": [
    "%%mothur\n",
    "summary.seqs(fasta=../../SeqData/pear_merged_2015_07_13.assembled.demult.maxee.fasta, processors=4)"
   ]
  },
  {
   "cell_type": "markdown",
   "metadata": {},
   "source": [
    "Okay, we have about 2.3M sequences, and they're variable lengths, but that's sort of to be expected, because this is a variable region and we merged the reads."
   ]
  },
  {
   "cell_type": "code",
   "execution_count": 9,
   "metadata": {
    "collapsed": false
   },
   "outputs": [
    {
     "name": "stdout",
     "output_type": "stream",
     "text": [
      ">74_1\r\n",
      "CAGTGAGTCATCGAATCTTTGCTTGCTGCATATCAATAAGCAGAGGATCTTA\r\n",
      ">55_11\r\n",
      "TCAGTGAATCATCGAGTCTTTGAACGCACATTGCGCCCCGTGGTATTCCGCGGGGCATGCCTGTTCGAGCGTCATTTCAA\r\n",
      "CCCTCAAGCTCTGCTTGGTGTTGGGCCCTGCCCGCTGTGGCCGGCCCTAAAATCAGTGGCGGCGCCGTCTGGCTCTAAGC\r\n",
      "GTAGTAATGCTCTCGCTCTAGGGTCCTGCGGTGGCTTGCCAGCAACCCCAACTTTCCATGGTTGACCTCGGATCAGGTAG\r\n",
      "GGATACCCGCTGAACAAAAGCATATCAATAAGCGGAGGATCGA\r\n",
      ">84_13\r\n",
      "TTGAATCATCGAATCTTTGAACGCAAGTGGCGATGGTTTCGGCCATCATGTTTGTTTCAGTGTGTTCGGTTAATTGCATC\r\n",
      "GTAGAATTTAATGTGACTGAAGCGATTCTTTCACTAAATACGAACTAGTGTCAGACGAAGGACATTAAGCGAACTAGTCA\r\n"
     ]
    }
   ],
   "source": [
    "!head ../../SeqData/pear_merged_2015_07_13.assembled.demult.maxee.fasta"
   ]
  },
  {
   "cell_type": "code",
   "execution_count": null,
   "metadata": {
    "collapsed": true
   },
   "outputs": [],
   "source": []
  },
  {
   "cell_type": "code",
   "execution_count": null,
   "metadata": {
    "collapsed": true
   },
   "outputs": [],
   "source": []
  }
 ],
 "metadata": {
  "kernelspec": {
   "display_name": "Python 2",
   "language": "python",
   "name": "python2"
  },
  "language_info": {
   "codemirror_mode": {
    "name": "ipython",
    "version": 2
   },
   "file_extension": ".py",
   "mimetype": "text/x-python",
   "name": "python",
   "nbconvert_exporter": "python",
   "pygments_lexer": "ipython2",
   "version": "2.7.9"
  }
 },
 "nbformat": 4,
 "nbformat_minor": 0
}
