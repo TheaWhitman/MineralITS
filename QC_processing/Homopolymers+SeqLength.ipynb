{
 "cells": [
  {
   "cell_type": "code",
   "execution_count": 1,
   "metadata": {
    "collapsed": true
   },
   "outputs": [],
   "source": [
    "%load_ext mothurmagic\n",
    "# Loads mothurmagic so we can run mothur in the notebook using %%mothur at the top of the cell"
   ]
  },
  {
   "cell_type": "code",
   "execution_count": 2,
   "metadata": {
    "collapsed": false
   },
   "outputs": [
    {
     "name": "stdout",
     "output_type": "stream",
     "text": [
      "mothur > summary.seqs(fasta=../../SeqData/pear_merged_2015_07_13.assembled.demult.maxee.fasta, processors=4)\n",
      "\n",
      "Using 4 processors.\n",
      "\n",
      "Start\tEnd\tNBases\tAmbigs\tPolymer\tNumSeqs\n",
      "Minimum:\t1\t50\t50\t0\t2\t1\n",
      "2.5%-tile:\t1\t187\t187\t0\t3\t57453\n",
      "25%-tile:\t1\t294\t294\t0\t4\t574526\n",
      "Median: \t1\t304\t304\t0\t5\t1149052\n",
      "75%-tile:\t1\t339\t339\t0\t6\t1723578\n",
      "97.5%-tile:\t1\t392\t392\t0\t9\t2240651\n",
      "Maximum:\t1\t492\t492\t1\t82\t2298103\n",
      "Mean:\t1\t311.203\t311.203\t3.48113e-06\t5.35651\n",
      "# of Seqs:\t2298103\n",
      "\n",
      "Output File Names:\n",
      "../../SeqData/pear_merged_2015_07_13.assembled.demult.maxee.summary\n",
      "\n",
      "It took 18 secs to summarize 2298103 sequences.\n",
      "\n",
      "mothur > quit()\n"
     ]
    }
   ],
   "source": [
    "%%mothur\n",
    "summary.seqs(fasta=../../SeqData/pear_merged_2015_07_13.assembled.demult.maxee.fasta, processors=4)"
   ]
  },
  {
   "cell_type": "code",
   "execution_count": 3,
   "metadata": {
    "collapsed": false
   },
   "outputs": [
    {
     "name": "stdout",
     "output_type": "stream",
     "text": [
      "mothur > unique.seqs(fasta=../../SeqData/pear_merged_2015_07_13.assembled.demult.maxee.fasta)\n",
      "2298103\t741431\n",
      "\n",
      "Output File Names:\n",
      "../../SeqData/pear_merged_2015_07_13.assembled.demult.maxee.names\n",
      "../../SeqData/pear_merged_2015_07_13.assembled.demult.maxee.unique.fasta\n",
      "\n",
      "\n",
      "mothur > quit()\n"
     ]
    }
   ],
   "source": [
    "%%mothur\n",
    "unique.seqs(fasta=../../SeqData/pear_merged_2015_07_13.assembled.demult.maxee.fasta)"
   ]
  },
  {
   "cell_type": "code",
   "execution_count": 7,
   "metadata": {
    "collapsed": false
   },
   "outputs": [
    {
     "name": "stdout",
     "output_type": "stream",
     "text": [
      "mothur > screen.seqs(fasta=../../SeqData/pear_merged_2015_07_13.assembled.demult.maxee.unique.fasta, name=../../SeqData/pear_merged_2015_07_13.assembled.demult.maxee.names, maxambig=0, maxhomop=8, processors=4)\n",
      "\n",
      "Using 4 processors.\n",
      "\n",
      "Output File Names:\n",
      "../../SeqData/pear_merged_2015_07_13.assembled.demult.maxee.unique.good.fasta\n",
      "../../SeqData/pear_merged_2015_07_13.assembled.demult.maxee.unique.bad.accnos\n",
      "../../SeqData/pear_merged_2015_07_13.assembled.demult.maxee.good.names\n",
      "\n",
      "\n",
      "It took 9 secs to screen 741431 sequences.\n",
      "\n",
      "mothur > quit()\n"
     ]
    }
   ],
   "source": [
    "%%mothur\n",
    "screen.seqs(fasta=../../SeqData/pear_merged_2015_07_13.assembled.demult.maxee.unique.fasta, name=../../SeqData/pear_merged_2015_07_13.assembled.demult.maxee.names, maxambig=0, maxhomop=8, processors=4)"
   ]
  },
  {
   "cell_type": "code",
   "execution_count": 8,
   "metadata": {
    "collapsed": false
   },
   "outputs": [
    {
     "name": "stdout",
     "output_type": "stream",
     "text": [
      "mothur > summary.seqs(fasta=../../SeqData/pear_merged_2015_07_13.assembled.demult.maxee.unique.good.fasta, name=../../SeqData/pear_merged_2015_07_13.assembled.demult.maxee.good.names, processors=4)\n",
      "\n",
      "Using 4 processors.\n",
      "\n",
      "Start\tEnd\tNBases\tAmbigs\tPolymer\tNumSeqs\n",
      "Minimum:\t1\t50\t50\t0\t2\t1\n",
      "2.5%-tile:\t1\t187\t187\t0\t3\t54404\n",
      "25%-tile:\t1\t294\t294\t0\t4\t544039\n",
      "Median: \t1\t303\t303\t0\t5\t1088078\n",
      "75%-tile:\t1\t339\t339\t0\t6\t1632116\n",
      "97.5%-tile:\t1\t392\t392\t0\t7\t2121751\n",
      "Maximum:\t1\t492\t492\t0\t8\t2176154\n",
      "Mean:\t1\t309.523\t309.523\t0\t5.10661\n",
      "# of unique seqs:\t707180\n",
      "total # of seqs:\t2176154\n",
      "\n",
      "Output File Names:\n",
      "../../SeqData/pear_merged_2015_07_13.assembled.demult.maxee.unique.good.summary\n",
      "\n",
      "It took 7 secs to summarize 2176154 sequences.\n",
      "\n",
      "mothur > quit()\n"
     ]
    }
   ],
   "source": [
    "%%mothur\n",
    "summary.seqs(fasta=../../SeqData/pear_merged_2015_07_13.assembled.demult.maxee.unique.good.fasta, name=../../SeqData/pear_merged_2015_07_13.assembled.demult.maxee.good.names, processors=4)"
   ]
  },
  {
   "cell_type": "code",
   "execution_count": 9,
   "metadata": {
    "collapsed": false
   },
   "outputs": [
    {
     "name": "stdout",
     "output_type": "stream",
     "text": [
      "mothur > deunique.seqs(fasta=../../SeqData/pear_merged_2015_07_13.assembled.demult.maxee.unique.good.fasta, name=../../SeqData/pear_merged_2015_07_13.assembled.demult.maxee.good.names)\n",
      "\n",
      "Output File Names:\n",
      "../../SeqData/pear_merged_2015_07_13.assembled.demult.maxee.unique.good.redundant.fasta\n",
      "\n",
      "\n",
      "mothur > quit()\n"
     ]
    }
   ],
   "source": [
    "%%mothur\n",
    "deunique.seqs(fasta=../../SeqData/pear_merged_2015_07_13.assembled.demult.maxee.unique.good.fasta, name=../../SeqData/pear_merged_2015_07_13.assembled.demult.maxee.good.names)"
   ]
  },
  {
   "cell_type": "code",
   "execution_count": 11,
   "metadata": {
    "collapsed": false
   },
   "outputs": [
    {
     "name": "stdout",
     "output_type": "stream",
     "text": [
      "mothur > summary.seqs(fasta=../../SeqData/pear_merged_2015_07_13.assembled.demult.maxee.unique.good.redundant.fasta, processors=4)\n",
      "\n",
      "Using 4 processors.\n",
      "\n",
      "Start\tEnd\tNBases\tAmbigs\tPolymer\tNumSeqs\n",
      "Minimum:\t1\t50\t50\t0\t2\t1\n",
      "2.5%-tile:\t1\t187\t187\t0\t3\t54404\n",
      "25%-tile:\t1\t294\t294\t0\t4\t544039\n",
      "Median: \t1\t303\t303\t0\t5\t1088078\n",
      "75%-tile:\t1\t339\t339\t0\t6\t1632116\n",
      "97.5%-tile:\t1\t392\t392\t0\t7\t2121751\n",
      "Maximum:\t1\t492\t492\t0\t8\t2176154\n",
      "Mean:\t1\t309.523\t309.523\t0\t5.10661\n",
      "# of Seqs:\t2176154\n",
      "\n",
      "Output File Names:\n",
      "../../SeqData/pear_merged_2015_07_13.assembled.demult.maxee.unique.good.redundant.summary\n",
      "\n",
      "It took 20 secs to summarize 2176154 sequences.\n",
      "\n",
      "mothur > quit()\n"
     ]
    }
   ],
   "source": [
    "%%mothur\n",
    "summary.seqs(fasta=../../SeqData/pear_merged_2015_07_13.assembled.demult.maxee.unique.good.redundant.fasta, processors=4)\n",
    "# Just check to make sure it's the same."
   ]
  },
  {
   "cell_type": "code",
   "execution_count": 13,
   "metadata": {
    "collapsed": false
   },
   "outputs": [],
   "source": [
    "! cp ../../SeqData/pear_merged_2015_07_13.assembled.demult.maxee.unique.good.redundant.fasta ../../SeqData/ITS.demult.maxee.homoP.fasta"
   ]
  },
  {
   "cell_type": "code",
   "execution_count": 14,
   "metadata": {
    "collapsed": false
   },
   "outputs": [
    {
     "name": "stdout",
     "output_type": "stream",
     "text": [
      ">74_1\r\n",
      "CAGTGAGTCATCGAATCTTTGCTTGCTGCATATCAATAAGCAGAGGATCTTA\r\n",
      ">55_11\r\n",
      "TCAGTGAATCATCGAGTCTTTGAACGCACATTGCGCCCCGTGGTATTCCGCGGGGCATGCCTGTTCGAGCGTCATTTCAACCCTCAAGCTCTGCTTGGTGTTGGGCCCTGCCCGCTGTGGCCGGCCCTAAAATCAGTGGCGGCGCCGTCTGGCTCTAAGCGTAGTAATGCTCTCGCTCTAGGGTCCTGCGGTGGCTTGCCAGCAACCCCAACTTTCCATGGTTGACCTCGGATCAGGTAGGGATACCCGCTGAACAAAAGCATATCAATAAGCGGAGGATCGA\r\n",
      ">84_13\r\n",
      "TTGAATCATCGAATCTTTGAACGCAAGTGGCGATGGTTTCGGCCATCATGTTTGTTTCAGTGTGTTCGGTTAATTGCATCGTAGAATTTAATGTGACTGAAGCGATTCTTTCACTAAATACGAACTAGTGTCAGACGAAGGACATTAAGCGAACTAGTCACTAACTTGGTGATAAGCGTTTAAGTGTTCCCGTTTGTAAACCGCTAGTTAAAAACAATTTATCCTATCATAACACCTGAAACAAGCAAGATTACCCGCTGAACTTAAGCATATCAATAAGCGGAGGATCTCACG\r\n",
      ">61_15\r\n",
      "TCAGTGAGTCATCGAATCTTTGAACGCACATTGCGCCCCCTGGTATTCCGGGGGGCATGCCTGTCCGAGCGTCATTGCTGCCCTCAAGCCCGGCTTGTGTGTTGGGTCTCGTCCCCCTTCCCGGGGGGACGGGCCCGAAAGGCAGCGGCGGCACCGCGTCCGGTCCTCGAGCGTATGGGGCTTTGTCACCCGCTCTGTAGGCCCGGCCGGCGCTTGCAGATCAACCAAAACTTTTTTCCAGGTTGACCTAGGATCAGGTAGGGATACCCGCTGAACATAAGCATATAAATAAGCGGAGGAAAGA\r\n",
      ">7_20\r\n",
      "TCACTCAGTGAGTCATCGAGTCTTTGAACGCACATTGCGCCCATTGGTATTCCGATGGGCATGCCTGTTCGAGCGTCATTATCCTCCCTCAAACCTCGTGTTTGGTGTTGGACCGCGTTGGTCGAGCGACCAACTGGTCTCAAAGACAATGACGGCGTCCGTGGGACCCTCGGTGCAACGAGCTTTTAACGAGCACGCATCGAGTTTCAAGGACCCTCCGGGCCGGTCTTGACCTCTATCTTCTCAGGTTGACCTCGGATCAGGTAGGAATACACGCTGAACTTAAGCATATCAATAAGCGGAGGA\r\n"
     ]
    }
   ],
   "source": [
    "!head ../../SeqData/ITS.demult.maxee.homoP.fasta"
   ]
  },
  {
   "cell_type": "code",
   "execution_count": null,
   "metadata": {
    "collapsed": true
   },
   "outputs": [],
   "source": []
  }
 ],
 "metadata": {
  "kernelspec": {
   "display_name": "Python 2",
   "language": "python",
   "name": "python2"
  },
  "language_info": {
   "codemirror_mode": {
    "name": "ipython",
    "version": 2
   },
   "file_extension": ".py",
   "mimetype": "text/x-python",
   "name": "python",
   "nbconvert_exporter": "python",
   "pygments_lexer": "ipython2",
   "version": "2.7.9"
  }
 },
 "nbformat": 4,
 "nbformat_minor": 0
}
