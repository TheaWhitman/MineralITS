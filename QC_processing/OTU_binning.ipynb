{
 "cells": [
  {
   "cell_type": "code",
   "execution_count": 1,
   "metadata": {
    "collapsed": true
   },
   "outputs": [],
   "source": [
    "# Imports a parser from cogent\n",
    "from cogent.parse.fasta import MinimalFastaParser as parse"
   ]
  },
  {
   "cell_type": "code",
   "execution_count": 1,
   "metadata": {
    "collapsed": true
   },
   "outputs": [],
   "source": [
    "%load_ext mothurmagic\n",
    "# Loads mothurmagic so we can run mothur in the notebook using %%mothur at the top of the cell"
   ]
  },
  {
   "cell_type": "code",
   "execution_count": 2,
   "metadata": {
    "collapsed": true
   },
   "outputs": [],
   "source": [
    "# applies for the whole segment\n",
    "nprocs = 4"
   ]
  },
  {
   "cell_type": "code",
   "execution_count": 3,
   "metadata": {
    "collapsed": false
   },
   "outputs": [
    {
     "name": "stdout",
     "output_type": "stream",
     "text": [
      ">67.2_0\r\n",
      "TTGCCAGCCGCCGCGGTAAGACGTAGGGTGCAAGCGTTGTCCGGATTTATTGGGCATAAAGAGCTCGTAGGCGGCTTGTTGCGTCGACCGTGAAAACCTACCGCTTAACGGTGGGCTTGCGGTCGATACGGGCAGGCTAGAGTTCGGTAGGGGAGACTGGAATTCCTGGTGTAGCGGTGAAATGCGCAGATATCAGGAGGAACACCGGTGGCGAAGGCGGGTCTCTGGGCCGATACTGACGCTGAGGAGCGAAAGCGTGGGGAGCGAACAGGATTAGATACCCTTGTAGTCCC\r\n",
      ">74.2_1\r\n",
      "TTGCCAGCCGCCGCGGTAATACGAAGGGGGCTAGCGTTGTTCGGATTTACTGGGCGTAAAGCGCACGTAGGCGGATCGATCAGTCAGGGGTGAAATCCCAGGGCTCAACCCTGGAACTGCCTTTGATACTGTCGATCTGGAGTATGGAAGAGGTGAGTGGAATTCCGAGTGTAGAGGTGAAATTCGTAGATATTCGGAGGAACACCAGTGGCGAAGGCGGCTCACTGGTCCATTACTGACGCTGAGGTGCGAAAGCGTGGGGAGCAAACAGGATTAGAAACCCTGGTAGTCC\r\n",
      ">67_2\r\n",
      "GTGCCAGCAGCCGCGGTAATACAGAGGGTGCAAGCGTTGTTCGGAATTATTGGGCGTAAAGGGTGCGTAGGCGGTGCGGTAAGTCTTTTGTGAAATCTCCGGGCTCAACTCGGAGCCTGCAGAAGAAACTGCCGTGCTGGAGTATGGGAGAGGTGAGTGGAATTCCCGGTGTAGCGGTGAAATGCGTAGATATCGGGAGGAACACCTGTGGCGAAAGCGGCTCACTGGACCATCACTGACGCTGATGCACGAAAGCTAGGGGAGCAAACAGGATTAGAAACCCCTGTAGTCC\r\n",
      ">1_3\r\n",
      "GTGCCAGCCGCCGCGGTAATACAGAGGTGGCAAGCGTTGTTCGGAATTACTGGGCGTAAAGGGCGCGTAGGCGGCCTTCTAAGTCAGACGTGAAATCCCCCGGCTTAACCTGGGAACTGCGTCTGATACTGGGAGGCTTGAGTATGGGAGAGGGATGTAGAATTCCAGGTGTAGCGGTGAAATGCGTAGATATCTGGAGGAATACCGGTGGCGAAGGCGGCATCCTGGACCATAACTGACGCTGAGGCGCGAAAGCTAGGGGAGCAAACGGGATTAGATACCCGAGTAGTCC\r\n",
      ">102_669848\r\n",
      "GTGCCAGCCGCCGCGGTAATACAGAGGTGGCAAGCGTTGTTCGGAATTACTGGGCGTAAAGGGCGCGTAGGCGGCCTTCTAAGTCAGACGTGAAATCCCCCGGCTTAACCTGGGAACTGCGTCTGATACTGGGAGGCTTGAGTATGGGAGAGGGATGTAGAATTCCAGGTGTAGCGGTGAAATGCGTAGATATCTGGAGGAATACCGGTGGCGAAGGCGGCATCCTGGACCATAACTGACGCTGAGGCGCGAAAGCTAGGGGAGCAAACGGGATTAGATACCCGAGTAGTCC\r\n"
     ]
    }
   ],
   "source": [
    "# Checking out data file.\n",
    "# This file was created using the QC_basic notebook.\n",
    "!head ../../SeqData/16SfinalQC.fasta"
   ]
  },
  {
   "cell_type": "code",
   "execution_count": 8,
   "metadata": {
    "collapsed": false
   },
   "outputs": [
    {
     "name": "stdout",
     "output_type": "stream",
     "text": [
      "mothur > unique.seqs(fasta=../../SeqData/16SfinalQC.fasta)\n",
      "1788698\t804218\n",
      "\n",
      "Output File Names:\n",
      "../../SeqData/16SfinalQC.names\n",
      "../../SeqData/16SfinalQC.unique.fasta\n",
      "\n",
      "\n",
      "mothur > quit()\n"
     ]
    }
   ],
   "source": [
    "%%mothur\n",
    "unique.seqs(fasta=../../SeqData/16SfinalQC.fasta)"
   ]
  },
  {
   "cell_type": "code",
   "execution_count": 9,
   "metadata": {
    "collapsed": true
   },
   "outputs": [],
   "source": [
    "counts = {}\n",
    "\n",
    "with open(\"../../SeqData/16SfinalQC.names\") as f:\n",
    "    for line in f:\n",
    "        seedID, seqIDs = line.split(\"\\t\")\n",
    "        count = len(seqIDs.split(\",\"))\n",
    "        counts[seedID] = count "
   ]
  },
  {
   "cell_type": "code",
   "execution_count": 12,
   "metadata": {
    "collapsed": true
   },
   "outputs": [],
   "source": [
    "# Adds the counts from this dictionary to a new file so it looks like a usearch file with \"size=XXX\"\n",
    "\n",
    "with open(\"../../SeqData/16SfinalQC.unique.usearch_names.fasta\", \"w\") as f:\n",
    "    for n, s in parse(open(\"../../SeqData/16SfinalQC.unique.fasta\")):\n",
    "        f.write(\">%s;size=%s;\\n%s\\n\"%(n,counts[n],s)) "
   ]
  },
  {
   "cell_type": "markdown",
   "metadata": {},
   "source": [
    "We could also just do this with usearch \n",
    "\n",
    "!usearch -derep_fulllength data/finalQC.fasta -output data/finalQC.unique.fasta -sizeout -threads 20"
   ]
  },
  {
   "cell_type": "code",
   "execution_count": 18,
   "metadata": {
    "collapsed": false
   },
   "outputs": [
    {
     "name": "stdout",
     "output_type": "stream",
     "text": [
      "usearch v8.0.1623_i86osx32, 4.0Gb RAM (17.2Gb total), 4 cores\n",
      "(C) Copyright 2013-15 Robert C. Edgar, all rights reserved.\n",
      "http://drive5.com/usearch\n",
      "\n",
      "Licensed to: tlw59@cornell.edu\n",
      "\n",
      "00:05 656Mb  100.0% Reading ../../SeqData/16SfinalQC.fasta\n",
      "00:10 703Mb 1788698 seqs, 804218 uniques, 671925 singletons (83.6%)\n",
      "00:10 703Mb Min size 1, median 1, max 1650, avg 2.22\n",
      "00:30 703Mb  100.0% Writing ../../SeqData/16SfinalQC.unique.fasta\n"
     ]
    }
   ],
   "source": [
    "# This could run out of memory if seq files are too large\n",
    "!usearch -derep_fulllength ../../SeqData/16SfinalQC.fasta -fastaout ../../SeqData/16SfinalQC.unique.fasta ‑minseqlength  -sizeout -threads 4"
   ]
  },
  {
   "cell_type": "code",
   "execution_count": 19,
   "metadata": {
    "collapsed": false
   },
   "outputs": [
    {
     "name": "stdout",
     "output_type": "stream",
     "text": [
      ">28_165;size=1650;\r\n",
      "GTGCCAGCAGCCGCGGTAATACGGAGGGTGCAAGCGTTATCCGGATTCACTGGGTTTAAAGGGTGCGTAGGCGGACATGT\r\n",
      "AAGTCCGTGGTGAAATCTCCGAGCTTAACTCGGAAACTGCCATGGATACTATATGTCTTGAATGTTGTGGAGGTTAGCGG\r\n",
      "AATATGTCATGTAGCGGTGAAATGCATAGATATGACATAGAACACCAATTGCGAAGGCAGCTGGCTACACAAATATTGAC\r\n",
      "GCTGAGGCACGAAAGCGTGGGGATCAAACAGGATTAGAAACCCCAGTAGTCC\r\n",
      ">44_563;size=1510;\r\n",
      "GTGCCAGCAGCCGCGGTAATACGGAGGGTGCAAGCGTTATCCGGATTCACTGGGTTTAAAGGGTGCGTAGGCGGACATGT\r\n",
      "AAGTCCGTGGTGAAATCTCCGAGCTTAACTCGGAAACTGCCATGGATACTATATGTCTTGAATGTTGTGGAGGTTAGCGG\r\n",
      "AATATGTCATGTAGCGGTGAAATGCATAGATATGACATAGAACACCAATTGCGAAGGCAGCTGGCTACACAAATATTGAC\r\n",
      "GCTGAGGCACGAAAGCGTGGGGATCAAACAGGATTAGAAACCCTAGTAGTCC\r\n"
     ]
    }
   ],
   "source": [
    "!head ../../SeqData/16SfinalQC.unique.fasta"
   ]
  },
  {
   "cell_type": "code",
   "execution_count": 20,
   "metadata": {
    "collapsed": false
   },
   "outputs": [
    {
     "name": "stdout",
     "output_type": "stream",
     "text": [
      "usearch v8.0.1623_i86osx32, 4.0Gb RAM (17.2Gb total), 4 cores\n",
      "(C) Copyright 2013-15 Robert C. Edgar, all rights reserved.\n",
      "http://drive5.com/usearch\n",
      "\n",
      "Licensed to: tlw59@cornell.edu\n",
      "\n",
      "00:02 337Mb  100.0% Reading ../../SeqData/16SfinalQC.unique.fasta\n",
      "00:02 303Mb Getting sizes                                        \n",
      "00:05 304Mb Sorting 132293 sequences\n",
      "00:08 304Mb  100.0% Writing output\n"
     ]
    }
   ],
   "source": [
    "# Sequences are sorted by size\n",
    "# Here the size of clusters - we are excluding the singletons here\n",
    "# You would change minsize to 1 if you wanted to include singletons\n",
    "# Or, you know, just not do this step.\n",
    "# But you should just get rid of them.\n",
    "!usearch -sortbysize ../../SeqData/16SfinalQC.unique.fasta -fastaout ../../SeqData/16SfinalQC.unique.sorted.fasta -minsize 2"
   ]
  },
  {
   "cell_type": "code",
   "execution_count": 23,
   "metadata": {
    "collapsed": false
   },
   "outputs": [
    {
     "name": "stdout",
     "output_type": "stream",
     "text": [
      ">98_199509;size=2;\r\n",
      "GTGCCAGCAGCCGCGGTAACACGTAGGCACCAAGCGTTGTCCGGATTTATTGGGCGTAAAGAGCTCGTAGGCGGTTGAGT\r\n",
      "AAGTCGGGTGTGAAAACTCTGGGCTTAACCCAGAGCCGCCACCCGATACTGCTCTGACTTGAGTTCGGTAGGGGAGCAGG\r\n",
      "GAATTCCTAGTGTAGCGGTGAAATGCGCAGATATTAGGAGGAACACCGGTGGCGAAGGCGCTGCTCTGGGCCGATACTGA\r\n",
      "CGCTGAGGAGCGAAAGCGTGGGTAGCAAACAGGATTAGAAACCCGAGTAGTCC\r\n",
      ">7_648581;size=2;\r\n",
      "GTGCCAGCCGCCGCGGTAATACGAAGGGGGCTAGCGTTGCTCGGAATTACTGGGCGTAAAGCGTACGTAGGCGGATCCTT\r\n",
      "AAGTCGGTGGTGAAATCCTGAAGCTCAACTTCAGAACTGCCTTCGATACTGGGGACCTTGAGTTCGGGAGAGGTGAGTGG\r\n",
      "AACTGCGAGTGTAGAGGTGAAATTCGTAGATATTCGCAAGAACACCAGTGGCGAAGGCGGCTCACTGGCCCGATACTGAC\r\n",
      "GCTGAGGTACGAAAGCGTGGGGAGCAAACAGGATTAGAAACCCTTGTAGTCC\r\n"
     ]
    }
   ],
   "source": [
    "!tail ../../SeqData/16SfinalQC.unique.sorted.fasta"
   ]
  },
  {
   "cell_type": "code",
   "execution_count": 25,
   "metadata": {
    "collapsed": false
   },
   "outputs": [
    {
     "name": "stdout",
     "output_type": "stream",
     "text": [
      "usearch v8.0.1623_i86osx32, 4.0Gb RAM (17.2Gb total), 4 cores\n",
      "(C) Copyright 2013-15 Robert C. Edgar, all rights reserved.\n",
      "http://drive5.com/usearch\n",
      "\n",
      "Licensed to: tlw59@cornell.edu\n",
      "\n",
      "00:36  51Mb  100.0% 5079 OTUs, 3885 chimeras (2.9%)\n"
     ]
    }
   ],
   "source": [
    "# Here we are just creating the centroids, or \"seeds\" for future clustering\n",
    "# Default is 97% minimum ID - not recommended to use more than 97%.\n",
    "\n",
    "!usearch -cluster_otus ../../SeqData/16SfinalQC.unique.sorted.fasta -otus ../../SeqData/otus.fasta"
   ]
  },
  {
   "cell_type": "code",
   "execution_count": 26,
   "metadata": {
    "collapsed": false
   },
   "outputs": [
    {
     "name": "stdout",
     "output_type": "stream",
     "text": [
      ">28_165\r\n",
      "GTGCCAGCAGCCGCGGTAATACGGAGGGTGCAAGCGTTATCCGGATTCACTGGGTTTAAAGGGTGCGTAGGCGGACATGT\r\n",
      "AAGTCCGTGGTGAAATCTCCGAGCTTAACTCGGAAACTGCCATGGATACTATATGTCTTGAATGTTGTGGAGGTTAGCGG\r\n",
      "AATATGTCATGTAGCGGTGAAATGCATAGATATGACATAGAACACCAATTGCGAAGGCAGCTGGCTACACAAATATTGAC\r\n",
      "GCTGAGGCACGAAAGCGTGGGGATCAAACAGGATTAGAAACCCCAGTAGTCC\r\n",
      ">13_1570\r\n",
      "GTGCCAGCAGCCGCGGTAATACGTAGGGTGCGAGCGTTAATCGGAATTACTGGGCGTAAAGCGTGCGCAGGCGGTTTGTT\r\n",
      "AAGACCGATGTGAAATCCCCGGGCTCAACCTGGGAACTGCATTGGTGACTGGCAAGCTAGAGTATGGCAGAGGGGGGTAG\r\n",
      "AATTCCACGTGTAGCAGTGAAATGCGTAGAGATGTGGAGGAATACCGATGGCGAAGGCAGCCCCCTGGGCCAATACTGAC\r\n",
      "GCTCATGCACGAAAGCGTGGGGAGCAAACAGGATTAGAAACCCCAGTAGTCC\r\n"
     ]
    }
   ],
   "source": [
    "!head ../../SeqData/otus.fasta\n",
    "# See the OTU names are currently not in QIIME format - we can use a script from Edgar to fix this."
   ]
  },
  {
   "cell_type": "code",
   "execution_count": 9,
   "metadata": {
    "collapsed": false
   },
   "outputs": [],
   "source": [
    "# You do need to assign taxonomy in order to pull out the Euks., etc.\n",
    "# Input is your fasta file\n",
    "# Output is a fasta with taxonomy assinged (still working with unique seqs)\n",
    "\n",
    "!parallel_assign_taxonomy_uclust.py -i ../../SeqData/otus.fasta -o ../../SeqData/otus.tax -O 4\n",
    "#-r data/97_Silva_111_rep_set_no_ambig.fasta \\\n",
    "#-t data/Silva_111_taxa_map_full.txt \\\n",
    "\n"
   ]
  },
  {
   "cell_type": "code",
   "execution_count": 14,
   "metadata": {
    "collapsed": false
   },
   "outputs": [],
   "source": [
    "# This makes a file of what we want to remove\n",
    "# Could change this to pull out different groups.\n",
    "# These primers actually had good Archaeal targets - so, it would be okay to include them.\n",
    "!egrep \"Chloroplast|Eukaryota|Unassigned|mitochondria\" \\\n",
    "../../SeqData/otus.tax/otus_tax_assignments.txt \\\n",
    "| awk '{print $1}' > ../../SeqData/to_remove_tax.accnos"
   ]
  },
  {
   "cell_type": "code",
   "execution_count": 15,
   "metadata": {
    "collapsed": false
   },
   "outputs": [
    {
     "name": "stdout",
     "output_type": "stream",
     "text": [
      "     220 ../../SeqData/to_remove_tax.accnos\r\n"
     ]
    }
   ],
   "source": [
    "# wc is number of lines of the taxa that will be removed\n",
    "!wc -l ../../SeqData/to_remove_tax.accnos"
   ]
  },
  {
   "cell_type": "code",
   "execution_count": 16,
   "metadata": {
    "collapsed": false
   },
   "outputs": [
    {
     "name": "stdout",
     "output_type": "stream",
     "text": [
      "23_181260\r\n",
      "71_103928\r\n",
      "104_391181\r\n",
      "61_89028\r\n",
      "62_245684\r\n",
      "49_60737\r\n",
      "50_418125\r\n",
      "13_47397\r\n",
      "64_98226\r\n",
      "64_84554\r\n"
     ]
    }
   ],
   "source": [
    "# Looking at what you're removing\n",
    "!head ../../SeqData/to_remove_tax.accnos"
   ]
  },
  {
   "cell_type": "code",
   "execution_count": 3,
   "metadata": {
    "collapsed": false
   },
   "outputs": [
    {
     "name": "stdout",
     "output_type": "stream",
     "text": [
      "mothur > remove.seqs(fasta=../../SeqData/otus.fasta, accnos=../../SeqData/to_remove_tax.accnos)\n",
      "Removed 220 sequences from your fasta file.\n",
      "\n",
      "Output File Names:\n",
      "../../SeqData/otus.pick.fasta\n",
      "\n",
      "\n",
      "mothur > quit()\n"
     ]
    }
   ],
   "source": [
    "%%mothur\n",
    "remove.seqs(fasta=../../SeqData/otus.fasta, accnos=../../SeqData/to_remove_tax.accnos)"
   ]
  },
  {
   "cell_type": "code",
   "execution_count": null,
   "metadata": {
    "collapsed": true
   },
   "outputs": [],
   "source": [
    "!head data/finalQC_usearchfmt.fasta"
   ]
  },
  {
   "cell_type": "code",
   "execution_count": 10,
   "metadata": {
    "collapsed": false
   },
   "outputs": [],
   "source": [
    "# Pulling out the sample identifier.\n",
    "# It is adding a portion to the finalQC file that has the barcode label.\n",
    "# Then we can use this later\n",
    "# Now we will see how these reads map to the defined centroids (after removing EuK, etc.)\n",
    "# Basically, we cut, cut, refined our fasta to make our OTU centroids.\n",
    "# THEN, we went back to our original QC'd total fasta file and will throw it all against these nicely defined seeds.\n",
    "# Anything that doesn't match, we won't keep.\n",
    "!awk -F\"_\" \\\n",
    "'BEGIN{OFS=\";\"}{ if ( substr($1,0,1) == \">\"){ print $0,\"barcodelabel=\",$1 } else { print $0 } }' \\\n",
    "../../SeqData/16SfinalQC.fasta | \\\n",
    "sed 's/;>//' > ../../SeqData/16SfinalQC.usearch.fasta"
   ]
  },
  {
   "cell_type": "code",
   "execution_count": 12,
   "metadata": {
    "collapsed": false
   },
   "outputs": [
    {
     "name": "stdout",
     "output_type": "stream",
     "text": [
      ">67.2_0;barcodelabel=67.2\r\n",
      "TTGCCAGCCGCCGCGGTAAGACGTAGGGTGCAAGCGTTGTCCGGATTTATTGGGCATAAAGAGCTCGTAGGCGGCTTGTTGCGTCGACCGTGAAAACCTACCGCTTAACGGTGGGCTTGCGGTCGATACGGGCAGGCTAGAGTTCGGTAGGGGAGACTGGAATTCCTGGTGTAGCGGTGAAATGCGCAGATATCAGGAGGAACACCGGTGGCGAAGGCGGGTCTCTGGGCCGATACTGACGCTGAGGAGCGAAAGCGTGGGGAGCGAACAGGATTAGATACCCTTGTAGTCCC\r\n",
      ">74.2_1;barcodelabel=74.2\r\n",
      "TTGCCAGCCGCCGCGGTAATACGAAGGGGGCTAGCGTTGTTCGGATTTACTGGGCGTAAAGCGCACGTAGGCGGATCGATCAGTCAGGGGTGAAATCCCAGGGCTCAACCCTGGAACTGCCTTTGATACTGTCGATCTGGAGTATGGAAGAGGTGAGTGGAATTCCGAGTGTAGAGGTGAAATTCGTAGATATTCGGAGGAACACCAGTGGCGAAGGCGGCTCACTGGTCCATTACTGACGCTGAGGTGCGAAAGCGTGGGGAGCAAACAGGATTAGAAACCCTGGTAGTCC\r\n",
      ">67_2;barcodelabel=67\r\n",
      "GTGCCAGCAGCCGCGGTAATACAGAGGGTGCAAGCGTTGTTCGGAATTATTGGGCGTAAAGGGTGCGTAGGCGGTGCGGTAAGTCTTTTGTGAAATCTCCGGGCTCAACTCGGAGCCTGCAGAAGAAACTGCCGTGCTGGAGTATGGGAGAGGTGAGTGGAATTCCCGGTGTAGCGGTGAAATGCGTAGATATCGGGAGGAACACCTGTGGCGAAAGCGGCTCACTGGACCATCACTGACGCTGATGCACGAAAGCTAGGGGAGCAAACAGGATTAGAAACCCCTGTAGTCC\r\n",
      ">1_3;barcodelabel=1\r\n",
      "GTGCCAGCCGCCGCGGTAATACAGAGGTGGCAAGCGTTGTTCGGAATTACTGGGCGTAAAGGGCGCGTAGGCGGCCTTCTAAGTCAGACGTGAAATCCCCCGGCTTAACCTGGGAACTGCGTCTGATACTGGGAGGCTTGAGTATGGGAGAGGGATGTAGAATTCCAGGTGTAGCGGTGAAATGCGTAGATATCTGGAGGAATACCGGTGGCGAAGGCGGCATCCTGGACCATAACTGACGCTGAGGCGCGAAAGCTAGGGGAGCAAACGGGATTAGATACCCGAGTAGTCC\r\n",
      ">102_669848;barcodelabel=102\r\n",
      "GTGCCAGCCGCCGCGGTAATACAGAGGTGGCAAGCGTTGTTCGGAATTACTGGGCGTAAAGGGCGCGTAGGCGGCCTTCTAAGTCAGACGTGAAATCCCCCGGCTTAACCTGGGAACTGCGTCTGATACTGGGAGGCTTGAGTATGGGAGAGGGATGTAGAATTCCAGGTGTAGCGGTGAAATGCGTAGATATCTGGAGGAATACCGGTGGCGAAGGCGGCATCCTGGACCATAACTGACGCTGAGGCGCGAAAGCTAGGGGAGCAAACGGGATTAGATACCCGAGTAGTCC\r\n"
     ]
    }
   ],
   "source": [
    "!head ../../SeqData/16SfinalQC.usearch.fasta"
   ]
  },
  {
   "cell_type": "code",
   "execution_count": 13,
   "metadata": {
    "collapsed": false
   },
   "outputs": [
    {
     "name": "stdout",
     "output_type": "stream",
     "text": [
      "usearch v8.0.1623_i86osx32, 4.0Gb RAM (17.2Gb total), 4 cores\n",
      "(C) Copyright 2013-15 Robert C. Edgar, all rights reserved.\n",
      "http://drive5.com/usearch\n",
      "\n",
      "Licensed to: tlw59@cornell.edu\n",
      "\n",
      "00:00 4.4Mb  100.0% Reading ../../SeqData/otus.pick.fasta\n",
      "00:00 2.9Mb  100.0% Masking\n",
      "00:00 3.8Mb  100.0% Word stats\n",
      "00:00 3.8Mb  100.0% Alloc rows\n",
      "00:00 9.2Mb  100.0% Build index\n",
      "01:04  45Mb  100.0% Searching 16SfinalQC.usearch.fasta, 90.0% matched\n"
     ]
    }
   ],
   "source": [
    "# This is where the actual OTUs are being assigned. We choose 97% sequence ID threshold here.\n",
    "# This might take a while - Depending ont he clustering algorithm, like pairwise... \n",
    "# it would take, like, days on the same number of processors.\n",
    "# This is why usearch (centroid-based) is so much better\n",
    "# But is it more biologically relevant? ... maybe, maybe not.\n",
    "# Edgar is showing it's not that bad.\n",
    "\n",
    "# We take our total QC data\n",
    "# We compare it to the otusn.pick.fasta database we made above\n",
    "# We produce a readmap.uc file which tells us how the reads from our finalQC file map to the otusn seed database.\n",
    "\n",
    "!usearch -usearch_global ../../SeqData/16SfinalQC.usearch.fasta \\\n",
    "-db ../../SeqData/otus.pick.fasta \\\n",
    "-strand plus -id 0.97 \\\n",
    "-uc ../../SeqData/readmap.uc \\\n",
    "-threads 4"
   ]
  },
  {
   "cell_type": "code",
   "execution_count": 14,
   "metadata": {
    "collapsed": false
   },
   "outputs": [
    {
     "name": "stdout",
     "output_type": "stream",
     "text": [
      "../../SeqData/readmap.uc 100.0%   \n"
     ]
    }
   ],
   "source": [
    "# Makes an OTU table\n",
    "# It will tell me the OTU ID, and then for all the samples, which OTUs it has sequences from.\n",
    "!python /opt/virt_env/bin/uc2otutab.py ../../SeqData/readmap.uc > ../../SeqData/otu_table.txt"
   ]
  },
  {
   "cell_type": "code",
   "execution_count": 18,
   "metadata": {
    "collapsed": false
   },
   "outputs": [],
   "source": [
    "# Issues with biom table formatting\n",
    "!if [ -f ../../SeqData/otu_table.biom ]; then rm ../../SeqData/otu_table.biom; fi #This is to mitigate a biom bug\n",
    "!biom convert -i ../../SeqData/otu_table.txt -o ../../SeqData/otu_table.biom --table-type=\"OTU table\" --to-json"
   ]
  },
  {
   "cell_type": "code",
   "execution_count": 19,
   "metadata": {
    "collapsed": true
   },
   "outputs": [],
   "source": [
    "# Issues with biom table formatting\n",
    "!if [ -f ../../SeqData/otu_table_summary.txt ]; then rm ../../SeqData/otu_table_summary.txt; fi #This is to mitigate a biom bug\n",
    "!biom summarize-table -i ../../SeqData/otu_table.biom -o ../../SeqData/otu_table_summary.txt"
   ]
  },
  {
   "cell_type": "code",
   "execution_count": 20,
   "metadata": {
    "collapsed": false
   },
   "outputs": [
    {
     "name": "stdout",
     "output_type": "stream",
     "text": [
      "Num samples: 102\r\n",
      "Num observations: 4858\r\n",
      "Total count: 1610247\r\n",
      "Table density (fraction of non-zero values): 0.224\r\n",
      "\r\n",
      "Counts/sample summary:\r\n",
      " Min: 39.0\r\n",
      " Max: 50457.0\r\n",
      " Median: 14993.000\r\n",
      " Mean: 15786.735\r\n",
      " Std. dev.: 12730.953\r\n",
      " Sample Metadata Categories: None provided\r\n",
      " Observation Metadata Categories: None provided\r\n",
      "\r\n",
      "Counts/sample detail:\r\n",
      " 16: 39.0\r\n",
      " 66: 51.0\r\n",
      " 14: 52.0\r\n",
      " 45: 52.0\r\n",
      " 63: 60.0\r\n",
      " 60: 71.0\r\n",
      " 48: 106.0\r\n",
      " 57: 111.0\r\n",
      " 5: 112.0\r\n",
      " 11: 155.0\r\n",
      " 54: 202.0\r\n",
      " 8: 272.0\r\n",
      " 18: 681.0\r\n",
      " 9: 702.0\r\n",
      " 68: 749.0\r\n",
      " 30: 788.0\r\n",
      " 20: 978.0\r\n",
      " 51: 1133.0\r\n",
      " 25: 1452.0\r\n",
      " 27: 1492.0\r\n",
      " 47: 1547.0\r\n",
      " 105: 1924.0\r\n",
      " 68.2: 2304.0\r\n",
      " 37: 2567.0\r\n",
      " 2: 2724.0\r\n",
      " 6: 2753.0\r\n",
      " 17: 2780.0\r\n",
      " 40: 3177.0\r\n",
      " 97: 3421.0\r\n",
      " 46: 3507.0\r\n",
      " 75.2: 3531.0\r\n",
      " 29: 3593.0\r\n",
      " 42: 3889.0\r\n",
      " 24: 4732.0\r\n",
      " 75: 5307.0\r\n",
      " 15: 5433.0\r\n",
      " 22: 7388.0\r\n",
      " 43: 9744.0\r\n",
      " 92: 10664.0\r\n",
      " 94: 11131.0\r\n",
      " 71.2: 11226.0\r\n",
      " 4: 12464.0\r\n",
      " 100: 12963.0\r\n",
      " 83: 13254.0\r\n",
      " 98: 13335.0\r\n",
      " 73.2: 13400.0\r\n",
      " 71: 13490.0\r\n",
      " 10: 13661.0\r\n",
      " 79: 14321.0\r\n",
      " 53: 14521.0\r\n",
      " 106: 14920.0\r\n",
      " 77.2: 15066.0\r\n",
      " 101: 15715.0\r\n",
      " 21: 15957.0\r\n",
      " 77: 16606.0\r\n",
      " 95: 16644.0\r\n",
      " 80: 16880.0\r\n",
      " 76.2: 17098.0\r\n",
      " 3: 17193.0\r\n",
      " 73: 17287.0\r\n",
      " 91: 17535.0\r\n",
      " 86: 17736.0\r\n",
      " 38: 19612.0\r\n",
      " 19: 21853.0\r\n",
      " 102: 21913.0\r\n",
      " 26: 22291.0\r\n",
      " 89: 23271.0\r\n",
      " 61: 23309.0\r\n",
      " 67.2: 23689.0\r\n",
      " 59: 23774.0\r\n",
      " 76: 23806.0\r\n",
      " 52: 23840.0\r\n",
      " 23: 23975.0\r\n",
      " 72.2: 24031.0\r\n",
      " 74.2: 24787.0\r\n",
      " 28: 25058.0\r\n",
      " 69.2: 26198.0\r\n",
      " 7: 26284.0\r\n",
      " 104: 26428.0\r\n",
      " 72: 28231.0\r\n",
      " 67: 28538.0\r\n",
      " 65: 28560.0\r\n",
      " 55: 29376.0\r\n",
      " 64: 29425.0\r\n",
      " 93: 29639.0\r\n",
      " 99: 29764.0\r\n",
      " 103: 29795.0\r\n",
      " 62: 30332.0\r\n",
      " 69: 30471.0\r\n",
      " 44: 32011.0\r\n",
      " 70.2: 32124.0\r\n",
      " 74: 33132.0\r\n",
      " 1: 33664.0\r\n",
      " 41: 33696.0\r\n",
      " 58: 34664.0\r\n",
      " 70: 35463.0\r\n",
      " 56: 37532.0\r\n",
      " 39: 37542.0\r\n",
      " 13: 38138.0\r\n",
      " 50: 38394.0\r\n",
      " 49: 42534.0\r\n",
      " 96: 50457.0\r\n"
     ]
    }
   ],
   "source": [
    "# This tells us the overall data info\n",
    "# Num obs = OTUs\n",
    "# total count = total seqs\n",
    "# Chantal had 50% reduction after QC.\n",
    "\n",
    "!cat ../../SeqData/otu_table_summary.txt"
   ]
  },
  {
   "cell_type": "markdown",
   "metadata": {},
   "source": [
    "This leaves us with the following data:\n",
    "OTU sequences: ../../SeqData/otus.pick.fasta\n",
    "OTU table: ../../SeqData/otu_table.biom\n",
    "\n",
    "We have 4.8k different OTUs, and 1.6M sequences"
   ]
  }
 ],
 "metadata": {
  "kernelspec": {
   "display_name": "Python 2",
   "language": "python",
   "name": "python2"
  },
  "language_info": {
   "codemirror_mode": {
    "name": "ipython",
    "version": 2
   },
   "file_extension": ".py",
   "mimetype": "text/x-python",
   "name": "python",
   "nbconvert_exporter": "python",
   "pygments_lexer": "ipython2",
   "version": "2.7.9"
  }
 },
 "nbformat": 4,
 "nbformat_minor": 0
}
