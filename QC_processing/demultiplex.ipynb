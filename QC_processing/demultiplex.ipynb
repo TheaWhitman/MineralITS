{
 "cells": [
  {
   "cell_type": "markdown",
   "metadata": {},
   "source": [
    "##This notebook is used to demultiplex the sequencing run into the corresponding samples, according to their barcodes"
   ]
  },
  {
   "cell_type": "code",
   "execution_count": 1,
   "metadata": {
    "collapsed": false
   },
   "outputs": [
    {
     "name": "stderr",
     "output_type": "stream",
     "text": [
      "/opt/virt_env/lib/python2.7/site-packages/mpltools/style/__init__.py:42: FutureWarning: \n",
      "\n",
      "    The style-sheet functionality in mpltools has been integrated into\n",
      "    Matplotlib >= 1.4. This module will be removed in a future release.\n",
      "\n",
      "    Note that style-sheets used by `matplotlib.style` use the standard\n",
      "    Matplotlib rc-file syntax instead of the INI format used by `mpltools`.\n",
      "    This mostly means un-quoting strings and changing '=' to ':'.\n",
      "\n",
      "\n",
      "  \"\"\", FutureWarning)\n"
     ]
    }
   ],
   "source": [
    "# Imports all the necessary programs\n",
    "# screed for making databases\n",
    "# pandas, which is a library of Python data analysis functions\n",
    "# Counter tool for convenient and rapid tallies\n",
    "# matplotlib for plotting\n",
    "# numpy for basic computing in Python\n",
    "# mpltools are more tools for matplotlib\n",
    "import screed\n",
    "import pandas as pd\n",
    "from collections import Counter\n",
    "import matplotlib.pyplot as plt\n",
    "import numpy as np\n",
    "from mpltools import style"
   ]
  },
  {
   "cell_type": "code",
   "execution_count": 2,
   "metadata": {
    "collapsed": false
   },
   "outputs": [],
   "source": [
    "# sets our style parameters to ggplot\n",
    "style.use(\"ggplot\")"
   ]
  },
  {
   "cell_type": "code",
   "execution_count": 3,
   "metadata": {
    "collapsed": false
   },
   "outputs": [],
   "source": [
    "# tells the notebook to show the output (graphics) from matplotlib inline (in the notebook)\n",
    "%matplotlib inline"
   ]
  },
  {
   "cell_type": "code",
   "execution_count": 4,
   "metadata": {
    "collapsed": false
   },
   "outputs": [],
   "source": [
    "# This step unzips our index read fastq file.\n",
    "!pigz -k -d -p 4 ../../SeqData/Undetermined_S0_L001_I1_001.fastq.gz\n",
    "# -k means keep the original, -d means decompress the input, -p means use this number of processors"
   ]
  },
  {
   "cell_type": "markdown",
   "metadata": {},
   "source": [
    "###Creating our databases to compare index file with sequence file"
   ]
  },
  {
   "cell_type": "code",
   "execution_count": 5,
   "metadata": {
    "collapsed": false
   },
   "outputs": [
    {
     "data": {
      "text/plain": [
       "<ScreedDB, '../../SeqData/Undetermined_S0_L001_I1_001.fastq_screed'>"
      ]
     },
     "execution_count": 5,
     "metadata": {},
     "output_type": "execute_result"
    }
   ],
   "source": [
    "# This creates the database which it will query\n",
    "# The database will have the sequence name, description, quality, and sequence itself (if those data are in the original files)\n",
    "# The output will be the same file with NAME_screed\n",
    "screed.read_fastq_sequences(\"../../SeqData/Undetermined_S0_L001_I1_001.fastq\")"
   ]
  },
  {
   "cell_type": "code",
   "execution_count": 4,
   "metadata": {
    "collapsed": false
   },
   "outputs": [],
   "source": [
    "# tells the notebook where our index reads are\n",
    "ir1 = \"../../SeqData/Undetermined_S0_L001_I1_001.fastq\""
   ]
  },
  {
   "cell_type": "code",
   "execution_count": 5,
   "metadata": {
    "collapsed": false
   },
   "outputs": [],
   "source": [
    "# Loads our index reads database created above\n",
    "ir1db = screed.ScreedDB(ir1)"
   ]
  },
  {
   "cell_type": "code",
   "execution_count": 59,
   "metadata": {
    "collapsed": false
   },
   "outputs": [
    {
     "data": {
      "text/html": [
       "<div>\n",
       "<table border=\"1\" class=\"dataframe\">\n",
       "  <thead>\n",
       "    <tr style=\"text-align: right;\">\n",
       "      <th></th>\n",
       "      <th>i1</th>\n",
       "      <th>SampleID</th>\n",
       "    </tr>\n",
       "  </thead>\n",
       "  <tbody>\n",
       "    <tr>\n",
       "      <th>1</th>\n",
       "      <td>1</td>\n",
       "      <td>TAAGGGTGTGCC</td>\n",
       "    </tr>\n",
       "    <tr>\n",
       "      <th>2</th>\n",
       "      <td>2</td>\n",
       "      <td>TGTGGGTTGATC</td>\n",
       "    </tr>\n",
       "    <tr>\n",
       "      <th>3</th>\n",
       "      <td>3</td>\n",
       "      <td>ACGACGTCTTAG</td>\n",
       "    </tr>\n",
       "  </tbody>\n",
       "</table>\n",
       "</div>"
      ],
      "text/plain": [
       "  i1      SampleID\n",
       "1  1  TAAGGGTGTGCC\n",
       "2  2  TGTGGGTTGATC\n",
       "3  3  ACGACGTCTTAG"
      ]
     },
     "execution_count": 59,
     "metadata": {},
     "output_type": "execute_result"
    }
   ],
   "source": [
    "# locating the tab delimited file with the index reads and the sample IDS\n",
    "# Note that 0,1,2,3,4 are just row numbers\n",
    "# I need to make this file in excel - note that barcodes as given by Tong need to be reverse-complemented.\n",
    "# This step is making that information into a data frame (using panda), called df_map\n",
    "# Note that the first items are identified by a \"0\" (Python uses a 0-index)\n",
    "# Also note that the first column was made up by the program - not present in the initial file.\n",
    "df_map = pd.read_csv(\"../../SeqData/MapFile.txt\", delimiter=\"\\t\", usecols=[0,1], names=[\"i1\",\"SampleID\"])\n",
    "# uses Pandas to read our csv file of our sequence data.\n",
    "# We only had one indexed read, so we just use that.\n",
    "# prints the head of the dataframe we made called df_map\n",
    "df_map[1:4]"
   ]
  },
  {
   "cell_type": "code",
   "execution_count": 60,
   "metadata": {
    "collapsed": false
   },
   "outputs": [
    {
     "name": "stdout",
     "output_type": "stream",
     "text": [
      "GCGATATATCGC 94\n"
     ]
    }
   ],
   "source": [
    "# map calls a function (lambda) for a sequence of items (zipped)\n",
    "# lambda creates a function, into which x is input. \n",
    "# Here, we are getting whatever x was at 0, 1, and 2 (so the first three columns of our data), and adding the first two\n",
    "# together (our indicies), and maintaining the second one (our sample IDs).\n",
    "# \"Zipping\" links together three elements of the same length, effectively creating an array of vectors\n",
    "# So, here, we have linked together the columns in our mapping dataframe, df_map.\n",
    "# Basically, we link together the three columns, using zip, and then we concatenate the first two values\n",
    "# at each place and keep the last one separate, using the lambda function we created here.\n",
    "# This happens using the map function - the function called is defined by lambda, the sequence of items we look at \n",
    "# is defined by the zip function\n",
    "# Dict is a data structure in Python, the \"dictionary\"\n",
    "# A dictionary has unique keys that are linked to other data\n",
    "# Here we are using our map output to make the dictionary. The map created two values - our combined indicies and ID.\n",
    "# Thus, the map_d.keys at a given position will be the combined index primers,\n",
    "# and the map_d returned when the map_d.keys at a given position is input, will be our sample ID.\n",
    "map_d = dict(map(lambda x: (x[0], x[1]), zip(df_map.SampleID,df_map.i1,)))\n",
    "print map_d.keys()[19], map_d[map_d.keys()[19]]"
   ]
  },
  {
   "cell_type": "code",
   "execution_count": 61,
   "metadata": {
    "collapsed": false
   },
   "outputs": [
    {
     "data": {
      "text/plain": [
       "'94'"
      ]
     },
     "execution_count": 61,
     "metadata": {},
     "output_type": "execute_result"
    }
   ],
   "source": [
    "map_d['GCGATATATCGC']"
   ]
  },
  {
   "cell_type": "code",
   "execution_count": 62,
   "metadata": {
    "collapsed": false
   },
   "outputs": [
    {
     "name": "stdout",
     "output_type": "stream",
     "text": [
      " 55899028 ../../SeqData/pear_merged-2015-07-13.assembled.fastq\r\n"
     ]
    }
   ],
   "source": [
    "!wc -l ../../SeqData/pear_merged-2015-07-13.assembled.fastq"
   ]
  },
  {
   "cell_type": "code",
   "execution_count": 64,
   "metadata": {
    "collapsed": false
   },
   "outputs": [
    {
     "data": {
      "text/plain": [
       "<ScreedDB, '../../SeqData/pear_merged-2015-07-13.assembled.fastq_screed'>"
      ]
     },
     "execution_count": 64,
     "metadata": {},
     "output_type": "execute_result"
    }
   ],
   "source": [
    "# We already created the database with our merged sequence files in merge_reads\n",
    "# The output will be the same file with NAME_screed\n",
    "# screed.read_fastq_sequences(\"../../SeqData/pear_merged-2015-07-13.assembled.fastq\")"
   ]
  },
  {
   "cell_type": "code",
   "execution_count": 65,
   "metadata": {
    "collapsed": false
   },
   "outputs": [],
   "source": [
    "# Loads the screed database\n",
    "db = screed.ScreedDB(\"../../SeqData/pear_merged-2015-07-13.assembled.fastq_screed\")"
   ]
  },
  {
   "cell_type": "markdown",
   "metadata": {},
   "source": [
    "### Beware: the script below will overwrite your fastq file - make sure it works before running it!"
   ]
  },
  {
   "cell_type": "code",
   "execution_count": 66,
   "metadata": {
    "collapsed": false
   },
   "outputs": [
    {
     "name": "stdout",
     "output_type": "stream",
     "text": [
      "Unable to assign 11533330 reads to samples\n"
     ]
    }
   ],
   "source": [
    "# Sets a counting index and starts the number of unassigned reads at zero.\n",
    "# Defines our output as our fastq file.\n",
    "# Sets up a counter function, which is actually like a dictionary.\n",
    "# Assigns our assembled sequence data\n",
    "counter = 0\n",
    "unassigned = 0\n",
    "cnt = Counter()\n",
    "fq = \"../../SeqData/pear_merged-2015-07-13.assembled.fastq\"\n",
    "\n",
    "# \"w\" means we are opening the file to \"w\"rite\n",
    "with open(fq, \"w\") as out:\n",
    "# for each record in our database (of sequence reads, est. above) that we go through iteratively...\n",
    "  for rec in db.itervalues(): \n",
    "        # We get the name of this record, and then find that same name in our index db, and get the associated sequence\n",
    "        index = ir1db[rec[\"name\"]][\"sequence\"]\n",
    "        # We take the index sequence found above (matching the sample's name), and find it in our map file\n",
    "        # This should spit out the ID of the sample associated with these indicies, which we then join to\n",
    "        # an underscore, and the current counter value (which number sequence is this?)\n",
    "        try:\n",
    "            new_name = map_d[index] + \"_\" + str(counter) #case sensitive\n",
    "            # If we couldn't find the index name in our dictionary map file, we say it was unassigned, and tally it.\n",
    "        except KeyError:\n",
    "            unassigned += 1\n",
    "            continue\n",
    "            # Resetting to continue\n",
    "        counter += 1\n",
    "        # map_d[index_etc.lower] should give us the sample name we assigned to that index set.\n",
    "        # We feed that into the counter - not quite sure what happens\n",
    "        # We also increase [what?] by 1.\n",
    "        cnt[map_d[index]] += 1 #case sensitive\n",
    "        # We define s and q as the sequence and accuracy values (from our screed db) \n",
    "        s, q = rec[\"sequence\"], rec[\"quality\"]\n",
    "        # The output written to the file we called fn will be all this..not quite sure what's going on.\n",
    "        out.write(\"@%s orig_name=%s\\n%s\\n+\\n%s\\n\"%(new_name,rec[\"name\"],s,q))\n",
    "        # Reports how many reads didn't match the mapping file. Note that we require an exact match here.\n",
    "print \"Unable to assign %s reads to samples\"%unassigned\n",
    "# The final output should be still a fastq file but now with the sample ID attached.\n",
    "# For now it is called pear_merged-2014-03-25.assembled.demult.fastq"
   ]
  },
  {
   "cell_type": "code",
   "execution_count": 76,
   "metadata": {
    "collapsed": false
   },
   "outputs": [
    {
     "name": "stdout",
     "output_type": "stream",
     "text": [
      "@61_0 orig_name=M01056:154:000000000-AFBDE:1:1101:15270:1389\r\n",
      "TCAGTGAATCATCGAGTCTTTGAACGCACCTTGCACCTTTTGGTATTCCGAAAGGTACACCCGTTTGAGTGTCATTGTAATCTCACTCCTTCAACTTTGTTGTTGCTGGATGTGGACTTGGACTCTGTCGTGTTACAACGACTGGTCTGAAATGCCTGAGTGCACCCTGCTGTTGCAGCGTCTTCAGTGTGATAAGCATCTTCACTGATTCAAGTTCCTTCGGGACACGTAGCATTGTGGGATCTGTGCTGAAAAACCGTCCTCGGAAAATAATTGACAATTTGACCAAAAATCGGGTGGGACTACCAGATGAAAAAAAGCAAATCAAAAAGCGGAGGAAAGA\r\n",
      "+\r\n",
      ">>1>A3FDDFBFFB11GFGGGBEFG0E?EEGH1B1FEFHHH10F1FGFF0////0B1B1F0A/EGH/1/D1FF2FG2G22DFGFBEGFEGHFIIIGHI?IG>FG>II??IIII@II@IIIIIIIIIIIIGIIIIIIIIIHIIIH=IIIIIIII@I<FIIII@@III?I==I@II>>I>IHI>>IIIAIAIIIIII@@IIIIIIIIIIII=IIIIICH>IFII>IIIIHIII>>IIIIII2?2I;IIIIAI0?/E??////////@2D2DD122222D1DD1121B//11FAA///A01122B11B112A220AA113FD31B3B01FB1EA1111B13>1111\r\n",
      "@74_1 orig_name=M01056:154:000000000-AFBDE:1:1101:16492:1394\r\n",
      "CAGTGAGTCATCGAATCTTTGCTTGCTGCATATCAATAAGCAGAGGATCTTA\r\n",
      "+\r\n",
      "AIIIIIIIIIIBIIIEAIIGIIDICCIIBIIIIFIIDIIAAI@IIBIBIDHB\r\n",
      "@102_2 orig_name=M01056:154:000000000-AFBDE:1:1101:15069:1399\r\n",
      "TCACTCAGTGAATCATCGAATCTTTGAACGCAAGTTGCGCCCGAGGCCATTCGGCCGAGGGCACGCCTGCCTGGGCGTCACGCTAAACACGCTCCCAACCCCTTACGGGGGAACAGGATGCGGCATTTGGATCCCCGTCACCCAAGGGCGGTGGGCCGAAGATATGGCTGCCGGAGCATCGTGTCGGACACAGCGCGTGGTGAGCGTCCTCGATAAACTTACCGCAGTGTCTCCGACACGAAGCCGGCGTGATGGAATAGAAAGACCCATATAACGGAGCGCATGACGCAAAGACAGAGACCAAAGGACAGGAGGGAATAAAAGAAGAAAATAAGAATAACAATAAGCGGAGGA\r\n"
     ]
    }
   ],
   "source": [
    "!head ../../SeqData/pear_merged-2015-07-13.assembled.fastq"
   ]
  },
  {
   "cell_type": "code",
   "execution_count": 67,
   "metadata": {
    "collapsed": false
   },
   "outputs": [
    {
     "name": "stdout",
     "output_type": "stream",
     "text": [
      " 9765708 ../../SeqData/pear_merged-2015-07-13.assembled.fastq\r\n"
     ]
    }
   ],
   "source": [
    "!wc -l ../../SeqData/pear_merged-2015-07-13.assembled.fastq"
   ]
  },
  {
   "cell_type": "markdown",
   "metadata": {},
   "source": [
    "9765708/55899028 is 17% of the reads - there were probably other reads in the run so this is fine"
   ]
  },
  {
   "cell_type": "code",
   "execution_count": 71,
   "metadata": {
    "collapsed": false
   },
   "outputs": [
    {
     "data": {
      "image/png": "[encoded data removed]",
      "text/plain": [
       "<matplotlib.figure.Figure at 0x11349d250>"
      ]
     },
     "metadata": {},
     "output_type": "display_data"
    }
   ],
   "source": [
    "# Makes a plot of read counts organized by index\n",
    "# Seems like it worked okay - lowest 12 reads <50,000 counts.\n",
    "X = np.arange(len(cnt.keys()))\n",
    "Y = [v for k, v in cnt.most_common()]\n",
    "fig = plt.figure()\n",
    "fig.set_size_inches((18,8))\n",
    "ax = fig.add_subplot(111)\n",
    "bars = ax.bar(X, Y, width=0.5)\n",
    "xlims = ax.set_xlim((X.min(), X.max()))\n",
    "xt = ax.set_xticks(X)\n",
    "\n",
    "xtl = ax.set_xticklabels([k for k, v in cnt.most_common()], rotation=90, ha=\"center\", size=8)"
   ]
  }
 ],
 "metadata": {
  "kernelspec": {
   "display_name": "Python 2",
   "language": "python",
   "name": "python2"
  },
  "language_info": {
   "codemirror_mode": {
    "name": "ipython",
    "version": 2
   },
   "file_extension": ".py",
   "mimetype": "text/x-python",
   "name": "python",
   "nbconvert_exporter": "python",
   "pygments_lexer": "ipython2",
   "version": "2.7.9"
  }
 },
 "nbformat": 4,
 "nbformat_minor": 0
}
