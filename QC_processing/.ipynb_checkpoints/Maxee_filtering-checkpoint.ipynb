{
 "cells": [
  {
   "cell_type": "markdown",
   "metadata": {},
   "source": [
    "##This notebook is for basic QC on sequencing data"
   ]
  },
  {
   "cell_type": "code",
   "execution_count": null,
   "metadata": {
    "collapsed": true
   },
   "outputs": [],
   "source": [
    "# %install_ext https://raw.githubusercontent.com/SchlossLab/ipython-mothurmagic/master/mothurmagic.py\n",
    "# Only needs to be done once - gets the mothurmagic so you can run mother easily in the %notebook"
   ]
  },
  {
   "cell_type": "code",
   "execution_count": null,
   "metadata": {
    "collapsed": false
   },
   "outputs": [],
   "source": [
    "%load_ext mothurmagic\n",
    "# Loads mothurmagic so we can run mothur in the notebook using %%mothur at the top of the cell"
   ]
  },
  {
   "cell_type": "code",
   "execution_count": null,
   "metadata": {
    "collapsed": false
   },
   "outputs": [],
   "source": [
    "%%mothur\n",
    "help()"
   ]
  },
  {
   "cell_type": "code",
   "execution_count": null,
   "metadata": {
    "collapsed": false
   },
   "outputs": [],
   "source": [
    "!echo $PATH\n",
    "#Make sure mothur folder is in your path somehow. If not, enter "
   ]
  },
  {
   "cell_type": "code",
   "execution_count": null,
   "metadata": {
    "collapsed": true
   },
   "outputs": [],
   "source": [
    "!export PATH=$PATH:opt/virt_env/bin/mothur"
   ]
  },
  {
   "cell_type": "markdown",
   "metadata": {},
   "source": [
    "First we need to cut out sequences with errors"
   ]
  },
  {
   "cell_type": "code",
   "execution_count": null,
   "metadata": {
    "collapsed": false
   },
   "outputs": [],
   "source": [
    "! usearch -fastq_filter ../../SeqData/pear_merged-2015-07-13.assembled.demult.fastq \\\n",
    "-fastaout ../../SeqData/pear_merged_2015_07_13.assembled.demult.maxee.fasta \\\n",
    "-fastq_maxee 1\n",
    "# Using Roger Edgar's max expected error filtering\n",
    "# Note we needed to remove - dashes from the name for future mothur processing"
   ]
  },
  {
   "cell_type": "markdown",
   "metadata": {},
   "source": [
    "####If the file were bigger, we would need to split it (below)"
   ]
  },
  {
   "cell_type": "code",
   "execution_count": null,
   "metadata": {
    "collapsed": false
   },
   "outputs": [],
   "source": [
    "!wc -l ../../SeqData/pear_merged-2015-06-30.assembled.fastq\n",
    "# Counts the number of lines in the fastq file. They come in groups of 4 lines."
   ]
  },
  {
   "cell_type": "code",
   "execution_count": null,
   "metadata": {
    "collapsed": true
   },
   "outputs": [],
   "source": [
    "! usearch -fastq_filter ../../SeqData/pear_merged-2015-06-30.assembled.fastq \\\n",
    "-fastaout ../../SeqData/pear_merged-2015-06-30.assembled.maxee.fasta \\\n",
    "-fastq_maxee 1\n",
    "# Using Roger Edgar's max expected error filtering - the whole file is too big to do at once so needs to be split"
   ]
  },
  {
   "cell_type": "code",
   "execution_count": null,
   "metadata": {
    "collapsed": false
   },
   "outputs": [],
   "source": [
    "!head -16528900 ../../SeqData/pear_merged-2015-06-30.assembled.fastq > \\\n",
    "../../SeqData/pear_merged-2015-06-30.assembled.split1.fastq\n",
    "!tail -16528900 ../../SeqData/pear_merged-2015-06-30.assembled.fastq > \\\n",
    "../../SeqData/pear_merged-2015-06-30.assembled.split2.fastq\n",
    "# Split the data for usearch into two files, divided by the number of lines it has as determined above"
   ]
  },
  {
   "cell_type": "code",
   "execution_count": null,
   "metadata": {
    "collapsed": true
   },
   "outputs": [],
   "source": [
    "! usearch -fastq_filter ../../SeqData/pear_merged-2015-06-30.assembled.split1.fastq \\\n",
    "-fastaout ../../SeqData/pear_merged-2015-06-30.assembled.split1.maxee.fasta \\\n",
    "-fastq_maxee 1\n",
    "# Using Roger Edgar's max expected error filtering on our split fastq file"
   ]
  },
  {
   "cell_type": "code",
   "execution_count": null,
   "metadata": {
    "collapsed": true
   },
   "outputs": [],
   "source": [
    "! usearch -fastq_filter ../../SeqData/pear_merged-2015-06-30.assembled.split2.fastq \\\n",
    "-fastaout ../../SeqData/pear_merged-2015-06-30.assembled.split2.maxee.fasta \\\n",
    "-fastq_maxee 1\n",
    "# Using Roger Edgar's max expected error filtering on our split fastq file"
   ]
  },
  {
   "cell_type": "code",
   "execution_count": null,
   "metadata": {
    "collapsed": true
   },
   "outputs": [],
   "source": [
    "!cat ../../SeqData/pear_merged-2015-06-30.assembled.split1.maxee.fasta \\\n",
    "../../SeqData/pear_merged-2015-06-30.assembled.split2.maxee.fasta > \\\n",
    "../../SeqData/pear_merged_2015_06_30.assembled.maxee.fasta\n",
    "# Joining the files back together into one fasta file."
   ]
  },
  {
   "cell_type": "markdown",
   "metadata": {},
   "source": [
    "###Now we examine and cut the sequences using mothur"
   ]
  },
  {
   "cell_type": "code",
   "execution_count": null,
   "metadata": {
    "collapsed": false
   },
   "outputs": [],
   "source": [
    "%%mothur\n",
    "summary.seqs(fasta=../../SeqData/pear_merged_2015_07_03.assembled.demult.maxee.fasta)"
   ]
  },
  {
   "cell_type": "markdown",
   "metadata": {},
   "source": []
  },
  {
   "cell_type": "code",
   "execution_count": null,
   "metadata": {
    "collapsed": true
   },
   "outputs": [],
   "source": []
  },
  {
   "cell_type": "code",
   "execution_count": null,
   "metadata": {
    "collapsed": true
   },
   "outputs": [],
   "source": []
  },
  {
   "cell_type": "code",
   "execution_count": null,
   "metadata": {
    "collapsed": true
   },
   "outputs": [],
   "source": []
  }
 ],
 "metadata": {
  "kernelspec": {
   "display_name": "Python 2",
   "language": "python",
   "name": "python2"
  },
  "language_info": {
   "codemirror_mode": {
    "name": "ipython",
    "version": 2
   },
   "file_extension": ".py",
   "mimetype": "text/x-python",
   "name": "python",
   "nbconvert_exporter": "python",
   "pygments_lexer": "ipython2",
   "version": "2.7.9"
  }
 },
 "nbformat": 4,
 "nbformat_minor": 0
}
