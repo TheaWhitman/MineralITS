{
 "cells": [
  {
   "cell_type": "markdown",
   "metadata": {},
   "source": [
    "Because our primers, gITS7 and ITS4, rely on conserved regions (5.8S and 28S) to amplify ITS2, they are likely including portions of these regions. We will want to only consider the ITS2 for our analyses, in order to not accord artificially inflated similarity measures between sequences.  \n",
    "\n",
    "We can use ITSx to do this (Bengtsson-Palme et al., 2013)  \n",
    "\n",
    "It seems like I could  \n",
    "1. not remove primers because they will be removed during this step  \n",
    "2. not remove non-EuK sequences another way because this should achieve this, but other EuK will be detected.\n",
    "3. still perform this only on the unique sequences, and then re-expand the data."
   ]
  },
  {
   "cell_type": "code",
   "execution_count": null,
   "metadata": {
    "collapsed": true
   },
   "outputs": [],
   "source": [
    "!ITSx -i input.fasta -o output.fasta -E XXXevalcutoff --cpu 4 #--preserve\n",
    "#-Note it does store not_found sequences.\n",
    "# E value might be set at 0.01 or even 1 to decrease the amount of coverage\n",
    "# flanking the ITS region\n",
    "# This could make sense because we know we targeted this regions - \n",
    "# We know that our sequences should contain ITS2.\n",
    "# --preserve T could preserve the same sequence headers as from the output \n",
    "# instead of replacing them.\n",
    "# However, it only modifies them, and we should be able to extract original headers\n"
   ]
  },
  {
   "cell_type": "markdown",
   "metadata": {},
   "source": [
    "\n",
    "Could use mothur or usearch to make unique sequences. See how each is done.  \n",
    "usearch derep_fulllength makes a fasta with only the unique seqs and includes the number of times it's present in its filename.  \n",
    "This seems easy to maintain with ITSx.  \n",
    "cluster_otus in uclust just requires the fasta file input has counts called \"size = n\", delimited by semicolons.  \n",
    "So, I need to see if ITSx gets rid of the semicolons.  "
   ]
  },
  {
   "cell_type": "code",
   "execution_count": 12,
   "metadata": {
    "collapsed": false
   },
   "outputs": [
    {
     "name": "stdout",
     "output_type": "stream",
     "text": [
      "@M01056:154:000000000-AFBDE:1:1101:16240:1341 1:N:0:0\r\n",
      "TGTCAGTGAATCATCGAATCTTTGCATATCAATAAGCGGAGGATCAGATCGGAAGAGCACACGTCTGAACTCCAGTCACCAAGCATGATCTCGTATGCCGTCTTCTGCTTGAAAAAAAATATTTTTTTTTTTTTTTTTTTTTTTTTTTTTTTTTTTTTTTTTTTTTTTTTTTTTTTTTTTTTTTTTTTTTTTTTTTTTTTTTTTTCTTTTTTTTTTTTTTTTTTTTTTTTTTTTTTTTTTTTTTTTTTTTT\r\n",
      "+\r\n",
      "11>>>3DB1@DFBGG111FEGGHFFBGBGE33D311B0000//BA011DB/////00A1B0B/FFG/12BFD@11GFBE@1/0/0B11F1GD0F/B02@/E>FC2F11BG101110///0122221//<//-----:----------99-----99-9-9-------------999-9----9--9----9-9------9-----//////------9--------------9-------9--9-------\r\n",
      "@M01056:154:000000000-AFBDE:1:1101:15349:1350 1:N:0:0\r\n",
      "CACTCAGTGAGTCATCGAGTCTTTGAACGCACATTGCGCCCCCTGGCACTCCGGGGGGCATGCCTGTCCGAGCGTCATTGCTGCCCTTCAAGCCCGGCTTGTGTGTTGGGTCGTCGTCCCCCCCGGGGGACGGGCCCGAAAGGCAGCGGCGGCACCGCGTCCTTTCCTCGCGCGTTTGGGGCATCGTCTCCCTCTCGTTCTTTGCCCTCCGGGCGCCCTCCGTCCTCTCCTACCTTTTTCTTCTGCTTTTC\r\n",
      "+\r\n",
      "11>>A11D311DE1GE111GGGHH331EAA0A0FG1A0AAAAAE//A0BFBA////////>0<<F1F<<..-<-<<AGG0=C00::CFC0000.:---A@-;0;.;B..-;:-;A-;999A999------9----9------------------99---;>9-/;/99/---9-;-9------9/-;--9/9-999--99-///////------------9----:9//9///-/999;/99////:9///\r\n",
      "@M01056:154:000000000-AFBDE:1:1101:16400:1354 1:N:0:0\r\n",
      "CACTCAGTGAGTCATCGAGTCTTTGAACGCATTTTGCGCTTCTCACACCGAGGAGCATGTCTGTTTGAGTATCAGAACACCTTATCCACTCTGGTGGGAGTTGAGAGACAATAGTATTCCTCTCGAAATGAATTTGGTTCAAGTGTGGTAAAGGACGGATGTTCTTTCCCGCTGTACGACCAACCATTATCTTATTATGATCTCAAATCAGACAAGACTACCCGCTGAACTTAAGCATATCAATAAGCGGT\r\n"
     ]
    }
   ],
   "source": [
    "# Try doing ITSx on a subset of unique seqs file.\n",
    "!head -200 ../../SeqData/Undetermined_S0_L001_R1_001.crop.fastq > ../../SeqData/testITSx.fasta\n",
    "!head ../../SeqData/testITSx.fasta"
   ]
  },
  {
   "cell_type": "code",
   "execution_count": 51,
   "metadata": {
    "collapsed": false
   },
   "outputs": [
    {
     "name": "stdout",
     "output_type": "stream",
     "text": [
      "usearch v8.0.1623_i86osx32, 4.0Gb RAM (17.2Gb total), 4 cores\r\n",
      "(C) Copyright 2013-15 Robert C. Edgar, all rights reserved.\r\n",
      "http://drive5.com/usearch\r\n",
      "\r\n",
      "Licensed to: tlw59@cornell.edu\r\n",
      "\r\n",
      "00:00 1.5Mb    0.1% Reading ../../SeqData/testITSx.fasta\r",
      "00:00 1.6Mb  100.0% Reading ../../SeqData/testITSx.fasta\r",
      "\r\n",
      "00:01 1.6Mb 55 seqs, 50 uniques, 48 singletons (96.0%)  \r\n",
      "00:01 1.6Mb Min size 1, median 1, max 4, avg 1.10\r\n",
      "00:01 1.6Mb    2.0% Writing ../../SeqData/testITSx.unique.fasta\r",
      "00:01 1.6Mb  100.0% Writing ../../SeqData/testITSx.unique.fasta\r",
      "\r\n"
     ]
    }
   ],
   "source": [
    "!usearch -derep_fulllength ../../SeqData/testITSx.fasta -fastaout ../../SeqData/testITSx.unique.fasta -sizeout -threads 4"
   ]
  },
  {
   "cell_type": "code",
   "execution_count": 52,
   "metadata": {
    "collapsed": false
   },
   "outputs": [
    {
     "name": "stdout",
     "output_type": "stream",
     "text": [
      ">M01056:154:000000000-AFBDE:1:1101:16400:1354;size=4;\r\n",
      "CACTCAGTGAGTCATCGAGTCTTTGAACGCATTTTGCGCTTCTCACACCGAGGAGCATGTCTGTTTGAGTATCAGAACAC\r\n",
      "CTTATCCACTCTGGTGGGAGTTGAGAGACAATAGTATTCCTCTCGAAATGAATTTGGTTCAAGTGTGGTAAAGGACGGAT\r\n",
      "GTTCTTTCCCGCTGTACGACCAACCATTATCTTATTATGATCTCAAATCAGACAAGACTACCCGCTGAACTTAAGCATAT\r\n",
      "CAATAAGCGGT\r\n",
      ">M01056:154:000000000-AFBDE:1:1101:16240:1341;size=3;\r\n",
      "TGTCAGTGAATCATCGAATCTTTGCATATCAATAAGCGGAGGATCAGATCGGAAGAGCACACGTCTGAACTCCAGTCACC\r\n",
      "AAGCATGATCTCGTATGCCGTCTTCTGCTTGAAAAAAAATATTTTTTTTTTTTTTTTTTTTTTTTTTTTTTTTTTTTTTT\r\n",
      "TTTTTTTTTTTTTTTTTTTTTTTTTTTTTTTTTTTTTTTTTTTTTCTTTTTTTTTTTTTTTTTTTTTTTTTTTTTTTTTT\r\n",
      "TTTTTTTTTTT\r\n"
     ]
    }
   ],
   "source": [
    "!head ../../SeqData/testITSx.unique.fasta"
   ]
  },
  {
   "cell_type": "code",
   "execution_count": 53,
   "metadata": {
    "collapsed": false
   },
   "outputs": [
    {
     "name": "stdout",
     "output_type": "stream",
     "text": [
      "ITSx -- Identifies ITS sequences and extracts the ITS region\n",
      "by Johan Bengtsson-Palme et al., University of Gothenburg\n",
      "Version: 1.0.11\n",
      "-----------------------------------------------------------------\n",
      "Wed Jul 15 13:19:19 2015 : Preparing HMM database (should be quick)...\n",
      "Wed Jul 15 13:19:20 2015 : Checking and handling input sequence data (should not take long)...\n",
      "Wed Jul 15 13:19:20 2015 : Doing paralellised comparison to HMM database (this may take a long while)...\n",
      "    Wed Jul 15 13:19:22 2015 : Fungi analysis of complementary strand finished.\n",
      "    Wed Jul 15 13:19:22 2015 : Fungi analysis of main strand finished.\n",
      "    Wed Jul 15 13:19:22 2015 : All processes finished.\n",
      "Wed Jul 15 13:19:22 2015 : Parallel HMM-scan finished.\n",
      "Wed Jul 15 13:19:22 2015 : Analysing results of HMM-scan (this might take quite some time)...\n",
      "Wed Jul 15 13:19:22 2015 : Extraction finished!\n",
      "-----------------------------------------------------------------\n",
      "Thank you for using ITSx!\n",
      "Please report bugs or unsupported lineages to itsx@microbiology.se\n",
      "\n"
     ]
    }
   ],
   "source": [
    "!ITSx -i ../../SeqData/testITSx.unique.fasta -o ../../SeqData/testITSx.unique.output -t \"Fungi\" -E 1 -N 2 --cpu 4\n",
    "# May need to add the \"--reset T\" flag first time to fix HMM database"
   ]
  },
  {
   "cell_type": "code",
   "execution_count": 31,
   "metadata": {
    "collapsed": false,
    "scrolled": true
   },
   "outputs": [
    {
     "name": "stdout",
     "output_type": "stream",
     "text": [
      ">M01056:154:000000000-AFBDE:1:1101:15015:1391;size=1;|F|ITS2 Extracted ITS2 sequence 76-251 (176 bp)\r\n",
      "AATTCTCAACCCTTCTAGCTTTTGTGAGCTGTGACAGGGCTTGGAACTTGGGAGTTTGCGGGCCTATAGAAGGTCGGCTCTTCTGAAATGCATTAGCGGAACCGTTTTCAGTCCCGTCACTAGTGTGATAATTATCTACACTGTGATGATTGCTCTCTAGTTTGTTCAGCTGCTAT\r\n",
      ">M01056:154:000000000-AFBDE:1:1101:16515:1359;size=1;|F|ITS2 Extracted ITS2 sequence 81-251 (171 bp)\r\n",
      "TTATCTCAAAGCTTAGGAAACTTTTTTTACCTTTGCATTTGGATGTTGAAGGATTTGCTGGCTCATTTGCCAGCTCCTTTTATATGCATTAGCTTTTCTTTGCTTTACTAGCTTCATTTTGATACACTTTTTTTTTCTGAGCTTTTTCATGTATTGCATCTTTTTCTTTCT\r\n",
      ">M01056:154:000000000-AFBDE:1:1101:15089:1383;size=1;|F|ITS2 Extracted ITS2 sequence 81-229 (149 bp)\r\n",
      "GTACTCTCAAGCTTTGCTTGGTGTTGGGTGCTTGTCTTTGCACTGCTTAGACTCTCCCTAAATACATTGGCAGCCGATATATTGGTTTGAAGCGCAGCACATTTGCAATTCAGGCTTGTTATATTAGCACCCACAAAGACATTCAACAC\r\n",
      ">M01056:154:000000000-AFBDE:1:1101:15186:1383;size=1;|F|ITS2 Extracted ITS2 sequence 81-251 (171 bp)\r\n",
      "CACCTCTCCAGCTTCTCTTGGTTTTCGCCTTCTCGGTCCTCCGCTTTCCTCATTTCGTTCGGCTTGGTCTTCTTTTTTCTTTGCGTTTTCTTAACTATTTGCTTATTTTTTTTCTGTCGTCTACCCCCTAAATCTACCCCTTTTCTCTTTTTCACTTCGGTTCTTGTTCGT\r\n",
      ">M01056:154:000000000-AFBDE:1:1101:15069:1399;size=1;|T|ITS2 Extracted ITS2 sequence 84-251 (168 bp)\r\n",
      "TAAACACGCTCCCAACCCCTTACGGGGGAACAGGATGCGGCATTTGGCTCCCCGTCACCCAAGGGCGGTGGGCCGAAGATATGGCTGCCGTCTCATCGTGTCGGTCACAGCGCGTGTTTAGCGTCCTCGCTTTACTTACCGCTGTTTCTCCGACACGTAGCCGGCGTT\r\n"
     ]
    }
   ],
   "source": [
    "!head ../../SeqData/testITSx.unique.output.ITS2.fasta"
   ]
  },
  {
   "cell_type": "code",
   "execution_count": 42,
   "metadata": {
    "collapsed": false
   },
   "outputs": [
    {
     "name": "stdout",
     "output_type": "stream",
     "text": [
      "      48 ../../SeqData/testITSx.unique.output.ITS2.fasta\r\n"
     ]
    }
   ],
   "source": [
    "! wc -l ../../SeqData/testITSx.unique.output.ITS2.fasta"
   ]
  },
  {
   "cell_type": "code",
   "execution_count": 62,
   "metadata": {
    "collapsed": false
   },
   "outputs": [
    {
     "name": "stdout",
     "output_type": "stream",
     "text": [
      "usearch v8.0.1623_i86osx32, 4.0Gb RAM (17.2Gb total), 4 cores\r\n",
      "(C) Copyright 2013-15 Robert C. Edgar, all rights reserved.\r\n",
      "http://drive5.com/usearch\r\n",
      "\r\n",
      "Licensed to: tlw59@cornell.edu\r\n",
      "\r\n",
      "00:00 2.4Mb    0.1% 0 OTUs, 0 chimeras (0.0%)\r",
      "00:00 3.1Mb  100.0% 23 OTUs, 0 chimeras (0.0%)\r",
      "\r\n"
     ]
    }
   ],
   "source": [
    "!usearch -cluster_otus ../../SeqData/testITSx.unique.output.ITS2.fasta -otus ../../SeqData/testITSx.OTUs.fasta -sizein -sizeout "
   ]
  },
  {
   "cell_type": "code",
   "execution_count": 65,
   "metadata": {
    "collapsed": false
   },
   "outputs": [
    {
     "name": "stdout",
     "output_type": "stream",
     "text": [
      "usearch v8.0.1623_i86osx32, 4.0Gb RAM (17.2Gb total), 4 cores\r\n",
      "(C) Copyright 2013-15 Robert C. Edgar, all rights reserved.\r\n",
      "http://drive5.com/usearch\r\n",
      "\r\n",
      "Licensed to: tlw59@cornell.edu\r\n",
      "\r\n",
      "00:00 1.3Mb    0.1% Reading ../../SeqData/testITSx.unique.output.ITS2.fasta\r",
      "00:00 1.3Mb  100.0% Reading ../../SeqData/testITSx.unique.output.ITS2.fasta\r",
      "\r\n",
      "00:00 1.3Mb    0.1% Masking                                                \r",
      "00:00 1.3Mb  100.0% Masking\r",
      "\r\n",
      "00:00 2.1Mb    0.1% Word stats\r",
      "00:00 2.2Mb  100.0% Word stats\r",
      "\r\n",
      "00:00 2.2Mb  100.0% Alloc rows\r",
      "\r\n",
      "00:00 2.2Mb    0.1% Build index\r",
      "00:00 2.2Mb  100.0% Build index\r",
      "\r\n",
      "00:00 2.2Mb    0.1% Searching testITSx.fasta, 0.0% matched\r",
      "00:00 3.5Mb  100.0% Searching testITSx.fasta, 47.3% matched\r",
      "\r\n"
     ]
    }
   ],
   "source": [
    "!usearch -usearch_global ../../SeqData/testITSx.fasta \\\n",
    "-db ../../SeqData/testITSx.unique.output.ITS2.fasta \\\n",
    "-strand plus -id 0.97 \\\n",
    "-uc ../../SeqData/testITSx.readmap.uc \\\n",
    "-threads 4\n",
    "# Using our full database of all fasta sequences, not just the unique ones\n",
    "# Using our picked OTUs as the reference database\n",
    "# we know the strands are oriented correctly and will use 97% ID\n",
    "# outputs a uclust formatted file (tab)\n",
    "# 4 processors\n",
    "\n",
    "# Seems like it can find the matches in our ITS2-trimmed OTU refs, so this works, I think."
   ]
  },
  {
   "cell_type": "code",
   "execution_count": null,
   "metadata": {
    "collapsed": true
   },
   "outputs": [],
   "source": []
  }
 ],
 "metadata": {
  "kernelspec": {
   "display_name": "Python 2",
   "language": "python",
   "name": "python2"
  },
  "language_info": {
   "codemirror_mode": {
    "name": "ipython",
    "version": 2
   },
   "file_extension": ".py",
   "mimetype": "text/x-python",
   "name": "python",
   "nbconvert_exporter": "python",
   "pygments_lexer": "ipython2",
   "version": "2.7.9"
  }
 },
 "nbformat": 4,
 "nbformat_minor": 0
}
