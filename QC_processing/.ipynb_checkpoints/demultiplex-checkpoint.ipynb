{
 "cells": [
  {
   "cell_type": "markdown",
   "metadata": {},
   "source": [
    "##This notebook is used to demultiplex the sequencing run into the corresponding samples, according to their barcodes"
   ]
  },
  {
   "cell_type": "code",
   "execution_count": 248,
   "metadata": {
    "collapsed": false
   },
   "outputs": [],
   "source": [
    "# Imports all the necessary programs\n",
    "# screed for making databases\n",
    "# pandas, which is a library of Python data analysis functions\n",
    "# Counter tool for convenient and rapid tallies\n",
    "# matplotlib for plotting\n",
    "# numpy for basic computing in Python\n",
    "# mpltools are more tools for matplotlib\n",
    "import screed\n",
    "import pandas as pd\n",
    "from collections import Counter\n",
    "import matplotlib.pyplot as plt\n",
    "import numpy as np\n",
    "from mpltools import style"
   ]
  },
  {
   "cell_type": "code",
   "execution_count": 249,
   "metadata": {
    "collapsed": false
   },
   "outputs": [],
   "source": [
    "# sets our style parameters to ggplot\n",
    "style.use(\"ggplot\")"
   ]
  },
  {
   "cell_type": "code",
   "execution_count": 250,
   "metadata": {
    "collapsed": false
   },
   "outputs": [],
   "source": [
    "# tells the notebook to show the output (graphics) from matplotlib inline (in the notebook)\n",
    "%matplotlib inline"
   ]
  },
  {
   "cell_type": "code",
   "execution_count": null,
   "metadata": {
    "collapsed": false
   },
   "outputs": [],
   "source": [
    "# This step unzips our index read fastq file.\n",
    "!pigz -k -d -p 2 ../../SeqData/20150624_I1_001.fastq.gz\n",
    "# -k means keep the original, -d means decompress the input, -p means use this number of processors"
   ]
  },
  {
   "cell_type": "markdown",
   "metadata": {},
   "source": [
    "###Creating our databases to compare index file with sequence file"
   ]
  },
  {
   "cell_type": "code",
   "execution_count": 4,
   "metadata": {
    "collapsed": false
   },
   "outputs": [
    {
     "data": {
      "text/plain": [
       "<ScreedDB, '../../SeqData/20150624_I1_001.fastq_screed'>"
      ]
     },
     "execution_count": 4,
     "metadata": {},
     "output_type": "execute_result"
    }
   ],
   "source": [
    "# This creates the database which it will query\n",
    "# The database will have the sequence name, description, quality, and sequence itself (if those data are in the original files)\n",
    "# The output will be the same file with NAME_screed\n",
    "screed.read_fastq_sequences(\"../../SeqData/20150624_I1_001.fastq\")"
   ]
  },
  {
   "cell_type": "code",
   "execution_count": 42,
   "metadata": {
    "collapsed": false
   },
   "outputs": [],
   "source": [
    "# tells the notebook where our index reads are\n",
    "ir1 = \"../../SeqData/20150624_I1_001.fastq\""
   ]
  },
  {
   "cell_type": "code",
   "execution_count": 262,
   "metadata": {
    "collapsed": false
   },
   "outputs": [],
   "source": [
    "# Loads our index reads database created above\n",
    "ir1db = screed.ScreedDB(ir1)"
   ]
  },
  {
   "cell_type": "code",
   "execution_count": 232,
   "metadata": {
    "collapsed": false
   },
   "outputs": [
    {
     "data": {
      "text/html": [
       "<div>\n",
       "<table border=\"1\" class=\"dataframe\">\n",
       "  <thead>\n",
       "    <tr style=\"text-align: right;\">\n",
       "      <th></th>\n",
       "      <th>i1</th>\n",
       "      <th>SampleID</th>\n",
       "    </tr>\n",
       "  </thead>\n",
       "  <tbody>\n",
       "    <tr>\n",
       "      <th>1</th>\n",
       "      <td>1</td>\n",
       "      <td>TGTTATCGCACA</td>\n",
       "    </tr>\n",
       "    <tr>\n",
       "      <th>2</th>\n",
       "      <td>2</td>\n",
       "      <td>CTTACACCAAGT</td>\n",
       "    </tr>\n",
       "    <tr>\n",
       "      <th>3</th>\n",
       "      <td>3</td>\n",
       "      <td>AGTTCCCGAGTA</td>\n",
       "    </tr>\n",
       "  </tbody>\n",
       "</table>\n",
       "</div>"
      ],
      "text/plain": [
       "  i1      SampleID\n",
       "1  1  TGTTATCGCACA\n",
       "2  2  CTTACACCAAGT\n",
       "3  3  AGTTCCCGAGTA"
      ]
     },
     "execution_count": 232,
     "metadata": {},
     "output_type": "execute_result"
    }
   ],
   "source": [
    "# locating the tab delimited file with the index reads and the sample IDS\n",
    "# Note that 0,1,2,3,4 are just row numbers\n",
    "# I need to make this file in excel\n",
    "# This step is making that information into a data frame (using panda), called df_map\n",
    "# Note that the first items are identified by a \"0\" (Python uses a 0-index)\n",
    "# Also note that the first column was made up by the program - not present in the initial file.\n",
    "df_map = pd.read_csv(\"../../SeqData/MapFile.txt\", delimiter=\"\\t\", usecols=[0,1], names=[\"i1\",\"SampleID\"])\n",
    "# uses Pandas to read our csv file of our sequence data.\n",
    "# We only had one indexed read, so we \n",
    "# prints the head of the dataframe we made called df_map\n",
    "df_map[1:4]"
   ]
  },
  {
   "cell_type": "code",
   "execution_count": 238,
   "metadata": {
    "collapsed": false
   },
   "outputs": [
    {
     "name": "stdout",
     "output_type": "stream",
     "text": [
      "AAGGGAGGAGAC 93\n"
     ]
    }
   ],
   "source": [
    "# map calls a function (lambda) for a sequence of items (zipped)\n",
    "# lambda creates a function, into which x is input. \n",
    "# Here, we are getting whatever x was at 0, 1, and 2 (so the first three columns of our data), and adding the first two\n",
    "# together (our indicies), and maintaining the second one (our sample IDs).\n",
    "# \"Zipping\" links together three elements of the same length, effectively creating an array of vectors\n",
    "# So, here, we have linked together the columns in our mapping dataframe, df_map.\n",
    "# Basically, we link together the three columns, using zip, and then we concatenate the first two values\n",
    "# at each place and keep the last one separate, using the lambda function we created here.\n",
    "# This happens using the map function - the function called is defined by lambda, the sequence of items we look at \n",
    "# is defined by the zip function\n",
    "# Dict is a data structure in Python, the \"dictionary\"\n",
    "# A dictionary has unique keys that are linked to other data\n",
    "# Here we are using our map output to make the dictionary. The map created two values - our combined indicies and ID.\n",
    "# Thus, the map_d.keys at a given position will be the combined index primers,\n",
    "# and the map_d returned when the map_d.keys at a given position is input, will be our sample ID.\n",
    "map_d = dict(map(lambda x: (x[0], x[1]), zip(df_map.SampleID,df_map.i1,)))\n",
    "print map_d.keys()[20], map_d[map_d.keys()[20]]"
   ]
  },
  {
   "cell_type": "code",
   "execution_count": 241,
   "metadata": {
    "collapsed": false
   },
   "outputs": [
    {
     "data": {
      "text/plain": [
       "'67.2'"
      ]
     },
     "execution_count": 241,
     "metadata": {},
     "output_type": "execute_result"
    }
   ],
   "source": [
    "map_d['TACTTCGCTCGC']"
   ]
  },
  {
   "cell_type": "code",
   "execution_count": 18,
   "metadata": {
    "collapsed": false
   },
   "outputs": [
    {
     "data": {
      "text/plain": [
       "<ScreedDB, '../../SeqData/pear_merged-2015-06-30.assembled.fastq_screed'>"
      ]
     },
     "execution_count": 18,
     "metadata": {},
     "output_type": "execute_result"
    }
   ],
   "source": [
    "# We already created the database with our merged sequence files in merge_reads\n",
    "# The output will be the same file with NAME_screed\n",
    "# screed.read_fastq_sequences(\"../../SeqData/pear_merged-2015-07-03.assembled.fastq\")"
   ]
  },
  {
   "cell_type": "code",
   "execution_count": 265,
   "metadata": {
    "collapsed": false
   },
   "outputs": [],
   "source": [
    "# Loads the screed database\n",
    "db = screed.ScreedDB(\"../../SeqData/pear_merged-2015-07-03.assembled.fastq_screed\")"
   ]
  },
  {
   "cell_type": "markdown",
   "metadata": {},
   "source": [
    "### Beware: the script below will overwrite your fastq file - make sure it works before running it!"
   ]
  },
  {
   "cell_type": "code",
   "execution_count": 266,
   "metadata": {
    "collapsed": false
   },
   "outputs": [
    {
     "name": "stdout",
     "output_type": "stream",
     "text": [
      "Unable to assign 6348429 reads to samples\n"
     ]
    }
   ],
   "source": [
    "# Sets a counting index and starts the number of unassigned reads at zero.\n",
    "# Defines our output as our fastq file.\n",
    "# Sets up a counter function, which is actually like a dictionary.\n",
    "# Assigns our assembled sequence data\n",
    "counter = 0\n",
    "unassigned = 0\n",
    "cnt = Counter()\n",
    "fq = \"../../SeqData/pear_merged-2015-07-03.assembled.demult.fastq\"\n",
    "\n",
    "# \"w\" means we are opening the file to \"w\"rite\n",
    "with open(fq, \"w\") as out:\n",
    "# for each record in our database (of sequence reads, est. above) that we go through iteratively...\n",
    "  for rec in db.itervalues(): \n",
    "        # We get the name of this record, and then find that same name in our index db, and get the associated sequence\n",
    "        index = ir1db[rec[\"name\"]][\"sequence\"]\n",
    "        # We take the index sequence found above (matching the sample's name), and find it in our map file\n",
    "        # This should spit out the ID of the sample associated with these indicies, which we then join to\n",
    "        # an underscore, and the current counter value (which number sequence is this?)\n",
    "        try:\n",
    "            new_name = map_d[index] + \"_\" + str(counter) #case sensitive\n",
    "            # If we couldn't find the index name in our dictionary map file, we say it was unassigned, and tally it.\n",
    "        except KeyError:\n",
    "            unassigned += 1\n",
    "            continue\n",
    "            # Resetting to continue\n",
    "        counter += 1\n",
    "        # map_d[index_etc.lower] should give us the sample name we assigned to that index set.\n",
    "        # We feed that into the counter - not quite sure what happens\n",
    "        # We also increase [what?] by 1.\n",
    "        cnt[map_d[index]] += 1 #case sensitive\n",
    "        # We define s and q as the sequence and accuracy values (from our screed db) \n",
    "        s, q = rec[\"sequence\"], rec[\"quality\"]\n",
    "        # The output written to the file we called fn will be all this..not quite sure what's going on.\n",
    "        out.write(\"@%s orig_name=%s\\n%s\\n+\\n%s\\n\"%(new_name,rec[\"name\"],s,q))\n",
    "        # Reports how many reads didn't match the mapping file. Note that we require an exact match here.\n",
    "print \"Unable to assign %s reads to samples\"%unassigned\n",
    "# The final output should be still a fastq file but now with the sample ID attached.\n",
    "# For now it is called pear_merged-2014-03-25.assembled.demult.fastq"
   ]
  },
  {
   "cell_type": "code",
   "execution_count": 267,
   "metadata": {
    "collapsed": false
   },
   "outputs": [
    {
     "data": {
      "image/png": "[encoded data removed]",
      "text/plain": [
       "<matplotlib.figure.Figure at 0x108f6bf90>"
      ]
     },
     "metadata": {},
     "output_type": "display_data"
    }
   ],
   "source": [
    "# Makes a plot of read counts organized by index\n",
    "# Seems like it worked okay - lowest 12 reads <50,000 counts.\n",
    "X = np.arange(len(cnt.keys()))\n",
    "Y = [v for k, v in cnt.most_common()]\n",
    "fig = plt.figure()\n",
    "fig.set_size_inches((18,8))\n",
    "ax = fig.add_subplot(111)\n",
    "bars = ax.bar(X, Y, width=0.5)\n",
    "xlims = ax.set_xlim((X.min(), X.max()))\n",
    "xt = ax.set_xticks(X)\n",
    "\n",
    "xtl = ax.set_xticklabels([k for k, v in cnt.most_common()], rotation=90, ha=\"center\", size=8)"
   ]
  },
  {
   "cell_type": "markdown",
   "metadata": {},
   "source": [
    "### What if I just try using the QIIME library separator?"
   ]
  },
  {
   "cell_type": "code",
   "execution_count": 58,
   "metadata": {
    "collapsed": false
   },
   "outputs": [],
   "source": [
    "!head -10000 ../../SeqData/20150624_I1_001.fastq > ../../SeqData/20150624_I1_001.crop.fastq"
   ]
  },
  {
   "cell_type": "code",
   "execution_count": 257,
   "metadata": {
    "collapsed": false
   },
   "outputs": [],
   "source": [
    "!head -1000000 ../../SeqData/pear_merged-2015-07-03.assembled.fastq > ../../SeqData/pear_merged-2015-07-03.assembled.crop.fastq"
   ]
  },
  {
   "cell_type": "code",
   "execution_count": 63,
   "metadata": {
    "collapsed": true
   },
   "outputs": [],
   "source": [
    "!head -10000 ../../SeqData/20150624_R1_001.fastq > ../../SeqData/20150624_R1_001.crop.fastq"
   ]
  },
  {
   "cell_type": "code",
   "execution_count": 271,
   "metadata": {
    "collapsed": false,
    "scrolled": true
   },
   "outputs": [
    {
     "name": "stdout",
     "output_type": "stream",
     "text": [
      " 7664084 ../../SeqData/pear_merged-2015-07-03.assembled.demult.fastq\r\n"
     ]
    }
   ],
   "source": [
    "!wc -l ../../SeqData/pear_merged-2015-07-03.assembled.demult.fastq\n",
    "# 33876136 initially"
   ]
  },
  {
   "cell_type": "code",
   "execution_count": 31,
   "metadata": {
    "collapsed": false
   },
   "outputs": [],
   "source": [
    "!grep 'ACACGCGGTTTA' ../../SeqData/20150624_I1_001.fastq"
   ]
  },
  {
   "cell_type": "code",
   "execution_count": 69,
   "metadata": {
    "collapsed": false
   },
   "outputs": [
    {
     "name": "stdout",
     "output_type": "stream",
     "text": [
      "Errors and/or warnings detected in mapping file.  Please check the log and html file for details.\r\n"
     ]
    }
   ],
   "source": [
    "!validate_mapping_file.py -m ../../SeqData/MapFile.txt"
   ]
  },
  {
   "cell_type": "code",
   "execution_count": 72,
   "metadata": {
    "collapsed": false
   },
   "outputs": [],
   "source": [
    "!split_libraries_fastq.py -i ../../SeqData/20150624_R1_001.crop.fastq \\\n",
    "--max_barcode_errors 0 \\\n",
    "-b ../../SeqData/20150624_I1_001.crop.fastq \\\n",
    "-o ../../SeqData/assembled.split.fastq -m ../../SeqData/MapFile.txt -q 1 --barcode_type 12 --rev_comp_mapping_barcodes"
   ]
  },
  {
   "cell_type": "code",
   "execution_count": 11,
   "metadata": {
    "collapsed": false
   },
   "outputs": [
    {
     "name": "stdout",
     "output_type": "stream",
     "text": [
      ">A1_0 M01056:152:000000000-AGL01:1:1101:16161:1343 1:N:0:0 orig_bc=TTTTTCTTTTTT new_bc=TTTTTCTTTTTT bc_diffs=0\r\n",
      "TCGTGCCAGCCGCCGCGGTAATACGTAGGGTGCGAGCGTTAATCGGAATTACTGGGCGTAAAGCGTGCGCAGGCGGCTCATTAAGACAGGCGTGAAATCCCCGGGCTTAACCTGGGAACTGCGCTTGTGACTGGTGGGCTAGAGTGTGTCAGAGGGAGGTGGAATTCCACGTGTAGCAGTGAAATGCGTAGAGATGTGGAGGAACACCGATGGCGAAGGCAGCCTCCTGGGATAACACTGACGCTCATGCACGAAAGCGTGGGGAGCAAACAGGATTAGATACCCCAGTAGTCCACAGA\r\n",
      ">B2_1 M01056:152:000000000-AGL01:1:1101:15992:1344 1:N:0:0 orig_bc=TACTTCGCTCGC new_bc=TACTTCGCTCGC bc_diffs=0\r\n",
      "TTGCCAGCCGCCGCGGTAAGACGTAGGGTGCAAGCGTTGTCCGGATTTATTGGGCATAAAGAGCTCGTAGGCGGCTTGTTGCGTCGACCGTGAAAACCTACCGCTTAACGGTGGGCTTGCGGTCGATACGGGCAGGCTAGAGTTCGGTAGGGGAGACTGGAATTCCTGGTGTAGCGGTGAAATGCGCAGATATCAGGAGGAACACCGGTGGCGAAGGCGGGTCTCTGGGCCGATACTGACGCTGAGGAGCGAAAGCGTGGGGAGCGAACAGGATTAGATACCCTTGTAGTCCCACGATA\r\n",
      ">C3_2 M01056:152:000000000-AGL01:1:1101:15906:1348 1:N:0:0 orig_bc=ACAAGACCAGAA new_bc=ACAAGACCAGAA bc_diffs=0\r\n",
      "TCAGTGAGTCATCGAATCTTTGAACGCACCTTGCGCTCTTTGGTATTCCGAAGAGCATGCCTGTTTGAGTGTCATGAAAATATCAACCTTGACTTGGGTTTTGTGCTCTAGTCTTGGCTTGGAATTGGGTGCTTGCCGCTTTTACGAGCGGCTCACCTTAAATGTATTAGCTGGATCTGTCTTTGAGACTTGGTTTGACTTGGCGTAATAAGTATTTCGCTAAGGACATTCTTCGGAGTGGCCTCGTTTCTAGGACGCTTGTCCGCTTCCCAATACAAGTTCCACCTCGTGGACATGACTTTTTTATTATCTGGCCTCAAATCAGGTAGGACTACCCGCTGAACTTAAGAATATCAATAAGCGGAGGATCGA\r\n"
     ]
    }
   ],
   "source": [
    "!head -16 ../../SeqData/test.demulti.fastq/seqs.fna"
   ]
  },
  {
   "cell_type": "markdown",
   "metadata": {},
   "source": [
    "####It basically works, but it needs the full initial fastq file to match the full initial index reads file - so, running PEAR first doesn't work. That's why we tried using the homemade sequence ID matcher above."
   ]
  },
  {
   "cell_type": "markdown",
   "metadata": {},
   "source": [
    "## Since I haven't gotten the barcode sample IDs yet, I could process these data by extracting the unique barcodes, and then at least have those IDs... it's not the best, but I might see some grouping anyway. Can't go that far without the IDs though."
   ]
  },
  {
   "cell_type": "code",
   "execution_count": 12,
   "metadata": {
    "collapsed": false
   },
   "outputs": [],
   "source": [
    "%load_ext mothurmagic"
   ]
  },
  {
   "cell_type": "code",
   "execution_count": 16,
   "metadata": {
    "collapsed": true
   },
   "outputs": [
    {
     "name": "stdout",
     "output_type": "stream",
     "text": [
      "usearch v8.0.1623_i86osx32, 4.0Gb RAM (17.2Gb total), 4 cores\n",
      "(C) Copyright 2013-15 Robert C. Edgar, all rights reserved.\n",
      "http://drive5.com/usearch\n",
      "\n",
      "Licensed to: tlw59@cornell.edu\n",
      "\n",
      "00:48 1.6Mb  100.0% Filtering, 100.0% passed\n",
      "   8469034  FASTQ recs (8.5M)               \n",
      "   8469034  Converted (8.5M, 100.0%)\n"
     ]
    }
   ],
   "source": [
    "! usearch -fastq_filter ../../SeqData/20150624_I1_001.fastq \\\n",
    "-fastaout ../../SeqData/20150624_I1_001.fasta \\\n",
    "-fastq_ascii 64\n",
    "# Turning the fastq index file into a fasta file.\n",
    "# We're just doing this so we can run the unique.seqs command on it in mothur\n",
    "# and then pull out the barcodes to group by."
   ]
  },
  {
   "cell_type": "code",
   "execution_count": 21,
   "metadata": {
    "collapsed": true
   },
   "outputs": [
    {
     "name": "stdout",
     "output_type": "stream",
     "text": [
      "mothur > unique.seqs(fasta=../../SeqData/20150624_I1_001.fasta)\n",
      "8469034\t2031859\n",
      "\n",
      "Output File Names:\n",
      "../../SeqData/20150624_I1_001.names\n",
      "../../SeqData/20150624_I1_001.unique.fasta\n",
      "\n",
      "[WARNING]: your sequence names contained ':'.  I changed them to '_' to avoid problems in your downstream analysis.\n",
      "\n",
      "mothur > quit()\n"
     ]
    }
   ],
   "source": [
    "%%mothur\n",
    "unique.seqs(fasta=../../SeqData/20150624_I1_001.fasta)\n",
    "# Running this on the index file to get the different barcodes.\n",
    "# We can then look at the counts - there should be 99-100 dominant ones, then a bunch of errors."
   ]
  },
  {
   "cell_type": "code",
   "execution_count": 28,
   "metadata": {
    "collapsed": true
   },
   "outputs": [
    {
     "name": "stdout",
     "output_type": "stream",
     "text": [
      "mothur > count.seqs(name=../../SeqData/20150624_I1_001.names)\n",
      "\n",
      "Using 1 processors.\n",
      "It took 22 secs to create a table for 8469034 sequences.\n",
      "\n",
      "\n",
      "Total number of sequences: 8469034\n",
      "\n",
      "Output File Names:\n",
      "../../SeqData/20150624_I1_001.count_table\n",
      "\n",
      "\n",
      "mothur > quit()\n"
     ]
    }
   ],
   "source": [
    "%%mothur\n",
    "count.seqs(name=../../SeqData/20150624_I1_001.names)\n",
    "# Generating the counts for the unique sequences"
   ]
  },
  {
   "cell_type": "code",
   "execution_count": 29,
   "metadata": {
    "collapsed": false
   },
   "outputs": [
    {
     "name": "stdout",
     "output_type": "stream",
     "text": [
      "Representative_Sequence\ttotal\t\r\n",
      "M01056_152_000000000-AGL01_1_1101_16161_1343\t133\r\n",
      "M01056_152_000000000-AGL01_1_1101_15992_1344\t28161\r\n",
      "M01056_152_000000000-AGL01_1_1101_15906_1348\t7429\r\n",
      "M01056_152_000000000-AGL01_1_1101_15150_1349\t4198\r\n",
      "M01056_152_000000000-AGL01_1_1101_15295_1352\t1\r\n",
      "M01056_152_000000000-AGL01_1_1101_15812_1357\t29081\r\n",
      "M01056_152_000000000-AGL01_1_1101_16721_1367\t7647\r\n",
      "M01056_152_000000000-AGL01_1_1101_16742_1368\t31913\r\n",
      "M01056_152_000000000-AGL01_1_1101_14885_1371\t15884\r\n"
     ]
    }
   ],
   "source": [
    "!head ../../SeqData/20150624_I1_001.count_table"
   ]
  },
  {
   "cell_type": "code",
   "execution_count": 2,
   "metadata": {
    "collapsed": false
   },
   "outputs": [
    {
     "name": "stderr",
     "output_type": "stream",
     "text": [
      "/opt/virt_env/lib/python2.7/site-packages/IPython/extensions/rmagic.py:693: UserWarning: The rmagic extension in IPython is deprecated in favour of rpy2.ipython. If available, that will be loaded instead.\n",
      "http://rpy.sourceforge.net/\n",
      "  warnings.warn(\"The rmagic extension in IPython is deprecated in favour of \"\n"
     ]
    }
   ],
   "source": [
    "%load_ext rmagic"
   ]
  },
  {
   "cell_type": "code",
   "execution_count": 3,
   "metadata": {
    "collapsed": true
   },
   "outputs": [],
   "source": [
    "%%R\n",
    "barcode.counts <- read.table(\"../../SeqData/20150624_I1_001.count_table\", header=TRUE)"
   ]
  },
  {
   "cell_type": "code",
   "execution_count": 4,
   "metadata": {
    "collapsed": false
   },
   "outputs": [
    {
     "data": {
      "text/plain": [
       "                       Representative_Sequence total\n",
       "1 M01056_152_000000000-AGL01_1_1101_16161_1343   133\n",
       "2 M01056_152_000000000-AGL01_1_1101_15992_1344 28161\n",
       "3 M01056_152_000000000-AGL01_1_1101_15906_1348  7429\n",
       "4 M01056_152_000000000-AGL01_1_1101_15150_1349  4198\n",
       "5 M01056_152_000000000-AGL01_1_1101_15295_1352     1\n",
       "6 M01056_152_000000000-AGL01_1_1101_15812_1357 29081\n"
      ]
     },
     "metadata": {},
     "output_type": "display_data"
    }
   ],
   "source": [
    "%%R\n",
    "head(barcode.counts)"
   ]
  },
  {
   "cell_type": "code",
   "execution_count": 5,
   "metadata": {
    "collapsed": false
   },
   "outputs": [
    {
     "data": {
      "text/plain": [
       "[1] 2031859       2\n"
      ]
     },
     "metadata": {},
     "output_type": "display_data"
    }
   ],
   "source": [
    "%%R\n",
    "dim(barcode.counts)"
   ]
  },
  {
   "cell_type": "code",
   "execution_count": 6,
   "metadata": {
    "collapsed": false
   },
   "outputs": [],
   "source": [
    "%%R\n",
    "barcode.counts.sorted <- barcode.counts[order(-barcode.counts$total),] "
   ]
  },
  {
   "cell_type": "code",
   "execution_count": 7,
   "metadata": {
    "collapsed": true
   },
   "outputs": [
    {
     "data": {
      "text/plain": [
       "                         Representative_Sequence  total\n",
       "59  M01056_152_000000000-AGL01_1_1101_14198_1428 100608\n",
       "65  M01056_152_000000000-AGL01_1_1101_15528_1431  62157\n",
       "122 M01056_152_000000000-AGL01_1_1101_16755_1468  56844\n",
       "116 M01056_152_000000000-AGL01_1_1101_14428_1464  47582\n",
       "87  M01056_152_000000000-AGL01_1_1101_13967_1447  47081\n",
       "154 M01056_152_000000000-AGL01_1_1101_15326_1487  44741\n"
      ]
     },
     "metadata": {},
     "output_type": "display_data"
    }
   ],
   "source": [
    "%%R\n",
    "head(barcode.counts.sorted)"
   ]
  },
  {
   "cell_type": "code",
   "execution_count": 8,
   "metadata": {
    "collapsed": false
   },
   "outputs": [],
   "source": [
    "%%R\n",
    "barcode.counts.sorted.mini<-barcode.counts.sorted[1:500,]"
   ]
  },
  {
   "cell_type": "code",
   "execution_count": 9,
   "metadata": {
    "collapsed": true
   },
   "outputs": [
    {
     "data": {
      "text/plain": [
       "                          Representative_Sequence  total\n",
       "59   M01056_152_000000000-AGL01_1_1101_14198_1428 100608\n",
       "65   M01056_152_000000000-AGL01_1_1101_15528_1431  62157\n",
       "122  M01056_152_000000000-AGL01_1_1101_16755_1468  56844\n",
       "116  M01056_152_000000000-AGL01_1_1101_14428_1464  47582\n",
       "87   M01056_152_000000000-AGL01_1_1101_13967_1447  47081\n",
       "154  M01056_152_000000000-AGL01_1_1101_15326_1487  44741\n",
       "36   M01056_152_000000000-AGL01_1_1101_16732_1402  44732\n",
       "189  M01056_152_000000000-AGL01_1_1101_15496_1513  44429\n",
       "82   M01056_152_000000000-AGL01_1_1101_14514_1443  43703\n",
       "39   M01056_152_000000000-AGL01_1_1101_17019_1407  43525\n",
       "186  M01056_152_000000000-AGL01_1_1101_17888_1511  42980\n",
       "297  M01056_152_000000000-AGL01_1_1101_13555_1576  42960\n",
       "247  M01056_152_000000000-AGL01_1_1101_16866_1549  39397\n",
       "494  M01056_152_000000000-AGL01_1_1101_18781_1708  39211\n",
       "30   M01056_152_000000000-AGL01_1_1101_16766_1398  38901\n",
       "235  M01056_152_000000000-AGL01_1_1101_15336_1542  38896\n",
       "25   M01056_152_000000000-AGL01_1_1101_15016_1386  38612\n",
       "209  M01056_152_000000000-AGL01_1_1101_14738_1524  38375\n",
       "108  M01056_152_000000000-AGL01_1_1101_14027_1460  37882\n",
       "85   M01056_152_000000000-AGL01_1_1101_17448_1446  37809\n",
       "178  M01056_152_000000000-AGL01_1_1101_13987_1505  37710\n",
       "324  M01056_152_000000000-AGL01_1_1101_14438_1599  37055\n",
       "243  M01056_152_000000000-AGL01_1_1101_17066_1546  36743\n",
       "526  M01056_152_000000000-AGL01_1_1101_16598_1734  35931\n",
       "162  M01056_152_000000000-AGL01_1_1101_14253_1496  35481\n",
       "126  M01056_152_000000000-AGL01_1_1101_17669_1472  35378\n",
       "176  M01056_152_000000000-AGL01_1_1101_17503_1502  34691\n",
       "444  M01056_152_000000000-AGL01_1_1101_18769_1675  34607\n",
       "202  M01056_152_000000000-AGL01_1_1101_14251_1520  34299\n",
       "550  M01056_152_000000000-AGL01_1_1101_19076_1751  34178\n",
       "24   M01056_152_000000000-AGL01_1_1101_14719_1384  33114\n",
       "269  M01056_152_000000000-AGL01_1_1101_13687_1566  32830\n",
       "40   M01056_152_000000000-AGL01_1_1101_14253_1407  32705\n",
       "586  M01056_152_000000000-AGL01_1_1101_16895_1772  32510\n",
       "113  M01056_152_000000000-AGL01_1_1101_15419_1463  32293\n",
       "38   M01056_152_000000000-AGL01_1_1101_16249_1404  32249\n",
       "248  M01056_152_000000000-AGL01_1_1101_13920_1549  32082\n",
       "8    M01056_152_000000000-AGL01_1_1101_16742_1368  31913\n",
       "51   M01056_152_000000000-AGL01_1_1101_14700_1421  31626\n",
       "103  M01056_152_000000000-AGL01_1_1101_15005_1457  30883\n",
       "139  M01056_152_000000000-AGL01_1_1101_14620_1477  30794\n",
       "205  M01056_152_000000000-AGL01_1_1101_14216_1520  30760\n",
       "43   M01056_152_000000000-AGL01_1_1101_15930_1410  30552\n",
       "195  M01056_152_000000000-AGL01_1_1101_15632_1516  30291\n",
       "125  M01056_152_000000000-AGL01_1_1101_16454_1470  29835\n",
       "210  M01056_152_000000000-AGL01_1_1101_15678_1525  29245\n",
       "6    M01056_152_000000000-AGL01_1_1101_15812_1357  29081\n",
       "418  M01056_152_000000000-AGL01_1_1101_17620_1659  29078\n",
       "145  M01056_152_000000000-AGL01_1_1101_15038_1480  28990\n",
       "385  M01056_152_000000000-AGL01_1_1101_17245_1636  28622\n",
       "91   M01056_152_000000000-AGL01_1_1101_17425_1449  28504\n",
       "74   M01056_152_000000000-AGL01_1_1101_15806_1436  28364\n",
       "2    M01056_152_000000000-AGL01_1_1101_15992_1344  28161\n",
       "220  M01056_152_000000000-AGL01_1_1101_15844_1531  27797\n",
       "138  M01056_152_000000000-AGL01_1_1101_17135_1477  27620\n",
       "34   M01056_152_000000000-AGL01_1_1101_14602_1401  27597\n",
       "170  M01056_152_000000000-AGL01_1_1101_14919_1498  27427\n",
       "60   M01056_152_000000000-AGL01_1_1101_14293_1430  27409\n",
       "98   M01056_152_000000000-AGL01_1_1101_17133_1454  27189\n",
       "291  M01056_152_000000000-AGL01_1_1101_17787_1574  27108\n",
       "841  M01056_152_000000000-AGL01_1_1101_14911_1909  27107\n",
       "99   M01056_152_000000000-AGL01_1_1101_15824_1456  26944\n",
       "33   M01056_152_000000000-AGL01_1_1101_16654_1400  26935\n",
       "90   M01056_152_000000000-AGL01_1_1101_14583_1448  26072\n",
       "242  M01056_152_000000000-AGL01_1_1101_15508_1545  25297\n",
       "198  M01056_152_000000000-AGL01_1_1101_16807_1518  25290\n",
       "414  M01056_152_000000000-AGL01_1_1101_14076_1655  24916\n",
       "314  M01056_152_000000000-AGL01_1_1101_17550_1590  24913\n",
       "219  M01056_152_000000000-AGL01_1_1101_17235_1530  24754\n",
       "67   M01056_152_000000000-AGL01_1_1101_14756_1431  24561\n",
       "746  M01056_152_000000000-AGL01_1_1101_15086_1867  24379\n",
       "211  M01056_152_000000000-AGL01_1_1101_15701_1526  24300\n",
       "207  M01056_152_000000000-AGL01_1_1101_15162_1522  24237\n",
       "459  M01056_152_000000000-AGL01_1_1101_15268_1681  24109\n",
       "370  M01056_152_000000000-AGL01_1_1101_14222_1626  23691\n",
       "238  M01056_152_000000000-AGL01_1_1101_16146_1544  23630\n",
       "456  M01056_152_000000000-AGL01_1_1101_13095_1680  22647\n",
       "173  M01056_152_000000000-AGL01_1_1101_15054_1500  22464\n",
       "230  M01056_152_000000000-AGL01_1_1101_13895_1538  22280\n",
       "926  M01056_152_000000000-AGL01_1_1101_14075_1965  21556\n",
       "792  M01056_152_000000000-AGL01_1_1101_16886_1889  21546\n",
       "118  M01056_152_000000000-AGL01_1_1101_15652_1465  20815\n",
       "62   M01056_152_000000000-AGL01_1_1101_14053_1430  20470\n",
       "608  M01056_152_000000000-AGL01_1_1101_13369_1786  20426\n",
       "136  M01056_152_000000000-AGL01_1_1101_17106_1476  20165\n",
       "427  M01056_152_000000000-AGL01_1_1101_18362_1665  19641\n",
       "110  M01056_152_000000000-AGL01_1_1101_15516_1461  19592\n",
       "27   M01056_152_000000000-AGL01_1_1101_15176_1391  19512\n",
       "261  M01056_152_000000000-AGL01_1_1101_14112_1560  19415\n",
       "531  M01056_152_000000000-AGL01_1_1101_13770_1735  19253\n",
       "208  M01056_152_000000000-AGL01_1_1101_18001_1524  18724\n",
       "28   M01056_152_000000000-AGL01_1_1101_16997_1394  18635\n",
       "282  M01056_152_000000000-AGL01_1_1101_13576_1571  18543\n",
       "384  M01056_152_000000000-AGL01_1_1101_17356_1636  18390\n",
       "75   M01056_152_000000000-AGL01_1_1101_16867_1437  18231\n",
       "174  M01056_152_000000000-AGL01_1_1101_14305_1500  18099\n",
       "276  M01056_152_000000000-AGL01_1_1101_16873_1568  17522\n",
       "96   M01056_152_000000000-AGL01_1_1101_16943_1453  17404\n",
       "188  M01056_152_000000000-AGL01_1_1101_16864_1512  17313\n",
       "23   M01056_152_000000000-AGL01_1_1101_15780_1382  16868\n",
       "320  M01056_152_000000000-AGL01_1_1101_15664_1595  16723\n",
       "516  M01056_152_000000000-AGL01_1_1101_13879_1725  16536\n",
       "32   M01056_152_000000000-AGL01_1_1101_16325_1399  16278\n",
       "499  M01056_152_000000000-AGL01_1_1101_18333_1713  16228\n",
       "363  M01056_152_000000000-AGL01_1_1101_13463_1622  16042\n",
       "609  M01056_152_000000000-AGL01_1_1101_16413_1786  16041\n",
       "1149 M01056_152_000000000-AGL01_1_1101_17432_2060  15931\n",
       "9    M01056_152_000000000-AGL01_1_1101_14885_1371  15884\n",
       "237  M01056_152_000000000-AGL01_1_1101_15473_1543  15603\n",
       "357  M01056_152_000000000-AGL01_1_1101_16364_1620  15563\n",
       "1193 M01056_152_000000000-AGL01_1_1101_15506_2086  15534\n",
       "354  M01056_152_000000000-AGL01_1_1101_15055_1618  15494\n",
       "598  M01056_152_000000000-AGL01_1_1101_15721_1782  14923\n",
       "438  M01056_152_000000000-AGL01_1_1101_17729_1671  14647\n",
       "79   M01056_152_000000000-AGL01_1_1101_15001_1440  14582\n",
       "45   M01056_152_000000000-AGL01_1_1101_14645_1414  14376\n",
       "18   M01056_152_000000000-AGL01_1_1101_16137_1379  14342\n",
       "50   M01056_152_000000000-AGL01_1_1101_14592_1419  13819\n",
       "381  M01056_152_000000000-AGL01_1_1101_15133_1634  13762\n",
       "215  M01056_152_000000000-AGL01_1_1101_14427_1528  13751\n",
       "339  M01056_152_000000000-AGL01_1_1101_17796_1607  13715\n",
       "227  M01056_152_000000000-AGL01_1_1101_14267_1536  13632\n",
       "156  M01056_152_000000000-AGL01_1_1101_14218_1489  13209\n",
       "666  M01056_152_000000000-AGL01_1_1101_17656_1823  13087\n",
       "155  M01056_152_000000000-AGL01_1_1101_14737_1487  13018\n",
       "183  M01056_152_000000000-AGL01_1_1101_13634_1510  13014\n",
       "311  M01056_152_000000000-AGL01_1_1101_14295_1586  12781\n",
       "574  M01056_152_000000000-AGL01_1_1101_15348_1763  12767\n",
       "169  M01056_152_000000000-AGL01_1_1101_15200_1498  12669\n",
       "1231 M01056_152_000000000-AGL01_1_1101_16671_2104  12626\n",
       "153  M01056_152_000000000-AGL01_1_1101_14082_1486  12589\n",
       "372  M01056_152_000000000-AGL01_1_1101_18241_1627  12353\n",
       "95   M01056_152_000000000-AGL01_1_1101_15676_1451  12281\n",
       "839  M01056_152_000000000-AGL01_1_1101_18289_1909  12247\n",
       "497  M01056_152_000000000-AGL01_1_1101_16239_1711  12185\n",
       "616  M01056_152_000000000-AGL01_1_1101_13818_1792  12162\n",
       "212  M01056_152_000000000-AGL01_1_1101_17571_1527  12042\n",
       "131  M01056_152_000000000-AGL01_1_1101_17329_1475  11960\n",
       "184  M01056_152_000000000-AGL01_1_1101_14267_1510  11944\n",
       "19   M01056_152_000000000-AGL01_1_1101_16549_1380  11832\n",
       "251  M01056_152_000000000-AGL01_1_1101_16796_1550  11663\n",
       "69   M01056_152_000000000-AGL01_1_1101_15616_1433  11597\n",
       "1080 M01056_152_000000000-AGL01_1_1101_16428_2030  11579\n",
       "1028 M01056_152_000000000-AGL01_1_1101_16459_2008  11543\n",
       "345  M01056_152_000000000-AGL01_1_1101_14777_1611  11532\n",
       "10   M01056_152_000000000-AGL01_1_1101_15047_1374  11524\n",
       "466  M01056_152_000000000-AGL01_1_1101_12878_1689  11410\n",
       "358  M01056_152_000000000-AGL01_1_1101_14296_1621  11328\n",
       "41   M01056_152_000000000-AGL01_1_1101_14881_1408  11324\n",
       "362  M01056_152_000000000-AGL01_1_1101_17963_1622  11100\n",
       "640  M01056_152_000000000-AGL01_1_1101_16617_1806  11057\n",
       "649  M01056_152_000000000-AGL01_1_1101_14170_1811  10981\n",
       "350  M01056_152_000000000-AGL01_1_1101_14060_1615  10829\n",
       "17   M01056_152_000000000-AGL01_1_1101_14968_1379  10790\n",
       "306  M01056_152_000000000-AGL01_1_1101_17610_1584  10734\n",
       "120  M01056_152_000000000-AGL01_1_1101_16840_1467  10586\n",
       "109  M01056_152_000000000-AGL01_1_1101_17224_1461  10519\n",
       "274  M01056_152_000000000-AGL01_1_1101_17060_1568  10516\n",
       "506  M01056_152_000000000-AGL01_1_1101_17100_1717  10440\n",
       "325  M01056_152_000000000-AGL01_1_1101_18108_1600  10412\n",
       "1173 M01056_152_000000000-AGL01_1_1101_15276_2077  10348\n",
       "172  M01056_152_000000000-AGL01_1_1101_16271_1500  10185\n",
       "603  M01056_152_000000000-AGL01_1_1101_16156_1783  10146\n",
       "130  M01056_152_000000000-AGL01_1_1101_15919_1475  10130\n",
       "71   M01056_152_000000000-AGL01_1_1101_17230_1434  10106\n",
       "518  M01056_152_000000000-AGL01_1_1101_12650_1727  10025\n",
       "287  M01056_152_000000000-AGL01_1_1101_13627_1573   9896\n",
       "1040 M01056_152_000000000-AGL01_1_1101_12104_2015   9853\n",
       "1108 M01056_152_000000000-AGL01_1_1101_19009_2043   9741\n",
       "621  M01056_152_000000000-AGL01_1_1101_15947_1793   9698\n",
       "146  M01056_152_000000000-AGL01_1_1101_17731_1480   9667\n",
       "613  M01056_152_000000000-AGL01_1_1101_19152_1789   9658\n",
       "309  M01056_152_000000000-AGL01_1_1101_15040_1586   9521\n",
       "802  M01056_152_000000000-AGL01_1_1101_18213_1894   9423\n",
       "492  M01056_152_000000000-AGL01_1_1101_12908_1708   9348\n",
       "530  M01056_152_000000000-AGL01_1_1101_16681_1735   9154\n",
       "2297 M01056_152_000000000-AGL01_1_1101_17354_2588   9120\n",
       "84   M01056_152_000000000-AGL01_1_1101_14555_1444   9089\n",
       "507  M01056_152_000000000-AGL01_1_1101_14567_1720   9062\n",
       "548  M01056_152_000000000-AGL01_1_1101_13318_1750   9008\n",
       "922  M01056_152_000000000-AGL01_1_1101_12190_1963   8933\n",
       "61   M01056_152_000000000-AGL01_1_1101_15054_1430   8912\n",
       "166  M01056_152_000000000-AGL01_1_1101_13785_1497   8895\n",
       "46   M01056_152_000000000-AGL01_1_1101_16344_1416   8884\n",
       "1044 M01056_152_000000000-AGL01_1_1101_17743_2015   8804\n",
       "1467 M01056_152_000000000-AGL01_1_1101_17672_2224   8734\n",
       "64   M01056_152_000000000-AGL01_1_1101_17385_1431   8703\n",
       "1905 M01056_152_000000000-AGL01_1_1101_14521_2423   8695\n",
       "413  M01056_152_000000000-AGL01_1_1101_16023_1655   8694\n",
       "1181 M01056_152_000000000-AGL01_1_1101_12226_2081   8501\n",
       "312  M01056_152_000000000-AGL01_1_1101_17417_1587   8444\n",
       "610  M01056_152_000000000-AGL01_1_1101_14613_1787   8380\n",
       "1047 M01056_152_000000000-AGL01_1_1101_18938_2017   8327\n",
       "828  M01056_152_000000000-AGL01_1_1101_19266_1903   8310\n",
       "1583 M01056_152_000000000-AGL01_1_1101_20172_2274   8288\n",
       "295  M01056_152_000000000-AGL01_1_1101_16262_1575   8270\n",
       "265  M01056_152_000000000-AGL01_1_1101_14496_1564   8162\n",
       "774  M01056_152_000000000-AGL01_1_1101_19443_1878   8080\n",
       "941  M01056_152_000000000-AGL01_1_1101_18803_1974   8059\n",
       "419  M01056_152_000000000-AGL01_1_1101_17140_1660   8035\n"
      ]
     },
     "metadata": {},
     "output_type": "display_data"
    }
   ],
   "source": [
    "%%R\n",
    "barcode.counts.sorted[1:200,]"
   ]
  },
  {
   "cell_type": "code",
   "execution_count": 9,
   "metadata": {
    "collapsed": true
   },
   "outputs": [],
   "source": [
    "%%R\n",
    "#install.packages(\"ggplot2\")\n",
    "# Only need to install once\n",
    "library(ggplot2)"
   ]
  },
  {
   "cell_type": "code",
   "execution_count": 10,
   "metadata": {
    "collapsed": false
   },
   "outputs": [
    {
     "data": {
      "image/png": "[encoded data removed]"
     },
     "metadata": {},
     "output_type": "display_data"
    }
   ],
   "source": [
    "%%R\n",
    "plot(barcode.counts.sorted.mini$total)"
   ]
  },
  {
   "cell_type": "markdown",
   "metadata": {},
   "source": [
    "I was hoping there would be clear barcode sequences, but since they are somewhat uneven, it's not really possible to pick them out. Thus, we will have to wait to get the real things.\n",
    "Maybe what we're seeing is an echo of the 1st 100, with their errors, and so on."
   ]
  },
  {
   "cell_type": "code",
   "execution_count": 131,
   "metadata": {
    "collapsed": true
   },
   "outputs": [
    {
     "name": "stdout",
     "output_type": "stream",
     "text": [
      "ATGGTTGTTGGC\n",
      "ATGGTTGTTGGC\n",
      "ATGGTTGTTGGC\n",
      "ATGGTTGTTGGC\n",
      "ATGGTTGTTGGC\n",
      "ATGGTTGTTGGC\n",
      "ATGGTTGTTGGC\n",
      "ATGGTTGTTGGC\n",
      "ATGGTTGTTGGC\n",
      "ATGGTTGTTGGC\n",
      "ATGGTTGTTGGC\n",
      "ATGGTTGTTGGC\n",
      "ATGGTTGTTGGC\n",
      "ATGGTTGTTGGC\n",
      "ATGGTTGTTGGC\n",
      "ATGGTTGTTGGC\n",
      "ATGGTTGTTGGC\n",
      "ATGGTTGTTGGC\n",
      "ATGGTTGTTGGC\n",
      "ATGGTTGTTGGC\n",
      "ATGGTTGTTGGC\n",
      "ATGGTTGTTGGC\n",
      "ATGGTTGTTGGC\n",
      "ATGGTTGTTGGC\n",
      "ATGGTTGTTGGC\n",
      "ATGGTTGTTGGC\n",
      "ATGGTTGTTGGC\n",
      "ATGGTTGTTGGC\n",
      "ATGGTTGTTGGC\n",
      "ATGGTTGTTGGC\n",
      "ATGGTTGTTGGC\n",
      "ATGGTTGTTGGC\n",
      "ATGGTTGTTGGC\n",
      "ATGGTTGTTGGC\n",
      "ATGGTTGTTGGC\n",
      "ATGGTTGTTGGC\n",
      "ATGGTTGTTGGC\n",
      "ATGGTTGTTGGC\n",
      "ATGGTTGTTGGC\n",
      "ATGGTTGTTGGC\n",
      "ATGGTTGTTGGC\n",
      "ATGGTTGTTGGC\n",
      "ATGGTTGTTGGC\n",
      "ATGGTTGTTGGC\n",
      "ATGGTTGTTGGC\n",
      "ATGGTTGTTGGC\n",
      "ATGGTTGTTGGC\n",
      "ATGGTTGTTGGC\n",
      "ATGGTTGTTGGC\n",
      "ATGGTTGTTGGC\n",
      "ATGGTTGTTGGC\n",
      "ATGGTTGTTGGC\n",
      "ATGGTTGTTGGC\n",
      "ATGGTTGTTGGC\n",
      "ATGGTTGTTGGC\n",
      "ATGGTTGTTGGC\n",
      "ATGGTTGTTGGC\n",
      "ATGGTTGTTGGC\n",
      "ATGGTTGTTGGC\n",
      "ATGGTTGTTGGC\n",
      "ATGGTTGTTGGC\n",
      "ATGGTTGTTGGC\n",
      "ATGGTTGTTGGC\n",
      "ATGGTTGTTGGC\n",
      "ATGGTTGTTGGC\n",
      "ATGGTTGTTGGC\n",
      "ATGGTTGTTGGC\n",
      "ATGGTTGTTGGC\n",
      "ATGGTTGTTGGC\n",
      "ATGGTTGTTGGC\n",
      "ATGGTTGTTGGC\n",
      "ATGGTTGTTGGC\n",
      "ATGGTTGTTGGC\n",
      "ATGGTTGTTGGC\n",
      "ATGGTTGTTGGC\n",
      "ATGGTTGTTGGC\n",
      "ATGGTTGTTGGC\n",
      "ATGGTTGTTGGC\n",
      "ATGGTTGTTGGC\n",
      "ATGGTTGTTGGC\n",
      "ATGGTTGTTGGC\n",
      "ATGGTTGTTGGC\n",
      "ATGGTTGTTGGC\n",
      "ATGGTTGTTGGC\n",
      "ATGGTTGTTGGC\n",
      "ATGGTTGTTGGC\n",
      "ATGGTTGTTGGC\n",
      "ATGGTTGTTGGC\n",
      "ATGGTTGTTGGC\n",
      "ATGGTTGTTGGC\n",
      "ATGGTTGTTGGC\n",
      "ATGGTTGTTGGC\n",
      "ATGGTTGTTGGC\n",
      "ATGGTTGTTGGC\n",
      "ATGGTTGTTGGC\n",
      "ATGGTTGTTGGC\n",
      "ATGGTTGTTGGC\n",
      "ATGGTTGTTGGC\n",
      "ATGGTTGTTGGC\n",
      "ATGGTTGTTGGC\n",
      "ATGGTTGTTGGC\n",
      "ATGGTTGTTGGC\n",
      "ATGGTTGTTGGC\n",
      "ATGGTTGTTGGC\n",
      "ATGGTTGTTGGC\n",
      "ATGGTTGTTGGC\n",
      "ATGGTTGTTGGC\n",
      "ATGGTTGTTGGC\n",
      "ATGGTTGTTGGC\n",
      "ATGGTTGTTGGC\n",
      "ATGGTTGTTGGC\n",
      "ATGGTTGTTGGC\n",
      "ATGGTTGTTGGC\n",
      "ATGGTTGTTGGC\n",
      "ATGGTTGTTGGC\n",
      "ATGGTTGTTGGC\n",
      "ATGGTTGTTGGC\n",
      "ATGGTTGTTGGC\n",
      "ATGGTTGTTGGC\n",
      "ATGGTTGTTGGC\n",
      "ATGGTTGTTGGC\n",
      "ATGGTTGTTGGC\n",
      "ATGGTTGTTGGC\n",
      "ATGGTTGTTGGC\n",
      "ATGGTTGTTGGC\n",
      "ATGGTTGTTGGC\n",
      "ATGGTTGTTGGC\n",
      "ATGGTTGTTGGC\n",
      "ATGGTTGTTGGC\n",
      "ATGGTTGTTGGC\n",
      "ATGGTTGTTGGC\n",
      "ATGGTTGTTGGC\n",
      "ATGGTTGTTGGC\n",
      "ATGGTTGTTGGC\n",
      "ATGGTTGTTGGC\n",
      "ATGGTTGTTGGC\n",
      "ATGGTTGTTGGC\n",
      "ATGGTTGTTGGC\n",
      "ATGGTTGTTGGC\n",
      "ATGGTTGTTGGC\n",
      "ATGGTTGTTGGC\n",
      "ATGGTTGTTGGC\n",
      "ATGGTTGTTGGC\n",
      "ATGGTTGTTGGC\n",
      "ATGGTTGTTGGC\n",
      "ATGGTTGTTGGC\n",
      "ATGGTTGTTGGC\n",
      "ATGGTTGTTGGC\n",
      "ATGGTTGTTGGC\n",
      "ATGGTTGTTGGC\n",
      "ATGGTTGTTGGC\n",
      "ATGGTTGTTGGC\n",
      "ATGGTTGTTGGC\n",
      "ATGGTTGTTGGC\n",
      "ATGGTTGTTGGC\n",
      "ATGGTTGTTGGC\n",
      "ATGGTTGTTGGC\n",
      "ATGGTTGTTGGC\n",
      "ATGGTTGTTGGC\n",
      "ATGGTTGTTGGC\n",
      "ATGGTTGTTGGC\n",
      "ATGGTTGTTGGC\n",
      "ATGGTTGTTGGC\n",
      "ATGGTTGTTGGC\n",
      "ATGGTTGTTGGC\n",
      "ATGGTTGTTGGC\n",
      "ATGGTTGTTGGC\n",
      "ATGGTTGTTGGC\n",
      "ATGGTTGTTGGC\n",
      "ATGGTTGTTGGC\n",
      "ATGGTTGTTGGC\n",
      "ATGGTTGTTGGC\n",
      "ATGGTTGTTGGC\n",
      "ATGGTTGTTGGC\n",
      "ATGGTTGTTGGC\n",
      "ATGGTTGTTGGC\n",
      "ATGGTTGTTGGC\n",
      "ATGGTTGTTGGC\n",
      "ATGGTTGTTGGC\n",
      "ATGGTTGTTGGC\n",
      "ATGGTTGTTGGC\n",
      "ATGGTTGTTGGC\n",
      "ATGGTTGTTGGC\n",
      "ATGGTTGTTGGC\n",
      "ATGGTTGTTGGC\n",
      "ATGGTTGTTGGC\n",
      "ATGGTTGTTGGC\n",
      "ATGGTTGTTGGC\n",
      "ATGGTTGTTGGC\n",
      "ATGGTTGTTGGC\n",
      "ATGGTTGTTGGC\n",
      "ATGGTTGTTGGC\n",
      "ATGGTTGTTGGC\n",
      "ATGGTTGTTGGC\n",
      "ATGGTTGTTGGC\n",
      "ATGGTTGTTGGC\n",
      "ATGGTTGTTGGC\n",
      "ATGGTTGTTGGC\n",
      "ATGGTTGTTGGC\n",
      "ATGGTTGTTGGC\n",
      "ATGGTTGTTGGC\n",
      "ATGGTTGTTGGC\n",
      "ATGGTTGTTGGC\n",
      "ATGGTTGTTGGC\n",
      "ATGGTTGTTGGC\n",
      "ATGGTTGTTGGC\n",
      "ATGGTTGTTGGC\n",
      "ATGGTTGTTGGC\n",
      "ATGGTTGTTGGC\n",
      "ATGGTTGTTGGC\n",
      "ATGGTTGTTGGC\n",
      "ATGGTTGTTGGC\n",
      "ATGGTTGTTGGC\n",
      "ATGGTTGTTGGC\n",
      "ATGGTTGTTGGC\n",
      "ATGGTTGTTGGC\n",
      "ATGGTTGTTGGC\n",
      "ATGGTTGTTGGC\n",
      "ATGGTTGTTGGC\n",
      "ATGGTTGTTGGC\n",
      "ATGGTTGTTGGC\n",
      "ATGGTTGTTGGC\n",
      "ATGGTTGTTGGC\n",
      "ATGGTTGTTGGC\n",
      "ATGGTTGTTGGC\n",
      "ATGGTTGTTGGC\n",
      "ATGGTTGTTGGC\n",
      "ATGGTTGTTGGC\n",
      "ATGGTTGTTGGC\n",
      "ATGGTTGTTGGC\n",
      "ATGGTTGTTGGC\n",
      "ATGGTTGTTGGC\n",
      "ATGGTTGTTGGC\n",
      "ATGGTTGTTGGC\n",
      "ATGGTTGTTGGC\n",
      "ATGGTTGTTGGC\n",
      "ATGGTTGTTGGC\n",
      "ATGGTTGTTGGC\n",
      "ATGGTTGTTGGC\n",
      "ATGGTTGTTGGC\n",
      "ATGGTTGTTGGC\n",
      "ATGGTTGTTGGC\n",
      "ATGGTTGTTGGC\n",
      "ATGGTTGTTGGC\n",
      "ATGGTTGTTGGC\n",
      "ATGGTTGTTGGC\n",
      "ATGGTTGTTGGC\n",
      "ATGGTTGTTGGC\n",
      "ATGGTTGTTGGC\n",
      "ATGGTTGTTGGC\n",
      "ATGGTTGTTGGC\n",
      "ATGGTTGTTGGC\n",
      "ATGGTTGTTGGC\n",
      "ATGGTTGTTGGC\n",
      "ATGGTTGTTGGC\n",
      "ATGGTTGTTGGC\n",
      "ATGGTTGTTGGC\n",
      "ATGGTTGTTGGC\n",
      "ATGGTTGTTGGC\n",
      "ATGGTTGTTGGC\n",
      "ATGGTTGTTGGC\n",
      "ATGGTTGTTGGC\n",
      "ATGGTTGTTGGC\n",
      "ATGGTTGTTGGC\n",
      "ATGGTTGTTGGC\n",
      "ATGGTTGTTGGC\n",
      "ATGGTTGTTGGC\n",
      "ATGGTTGTTGGC\n",
      "ATGGTTGTTGGC\n",
      "ATGGTTGTTGGC\n",
      "ATGGTTGTTGGC\n",
      "ATGGTTGTTGGC\n",
      "ATGGTTGTTGGC\n",
      "ATGGTTGTTGGC\n",
      "ATGGTTGTTGGC\n",
      "ATGGTTGTTGGC\n",
      "ATGGTTGTTGGC\n",
      "ATGGTTGTTGGC\n",
      "ATGGTTGTTGGC\n",
      "ATGGTTGTTGGC\n",
      "ATGGTTGTTGGC\n",
      "ATGGTTGTTGGC\n",
      "ATGGTTGTTGGC\n",
      "ATGGTTGTTGGC\n",
      "ATGGTTGTTGGC\n",
      "ATGGTTGTTGGC\n",
      "ATGGTTGTTGGC\n",
      "ATGGTTGTTGGC\n",
      "ATGGTTGTTGGC\n",
      "ATGGTTGTTGGC\n",
      "ATGGTTGTTGGC\n",
      "ATGGTTGTTGGC\n",
      "ATGGTTGTTGGC\n",
      "ATGGTTGTTGGC\n",
      "ATGGTTGTTGGC\n",
      "ATGGTTGTTGGC\n",
      "ATGGTTGTTGGC\n",
      "ATGGTTGTTGGC\n",
      "ATGGTTGTTGGC\n",
      "ATGGTTGTTGGC\n",
      "ATGGTTGTTGGC\n",
      "ATGGTTGTTGGC\n",
      "ATGGTTGTTGGC\n",
      "ATGGTTGTTGGC\n",
      "ATGGTTGTTGGC\n",
      "ATGGTTGTTGGC\n",
      "ATGGTTGTTGGC\n",
      "ATGGTTGTTGGC\n",
      "ATGGTTGTTGGC\n",
      "ATGGTTGTTGGC\n",
      "ATGGTTGTTGGC\n",
      "ATGGTTGTTGGC\n",
      "ATGGTTGTTGGC\n",
      "ATGGTTGTTGGC\n",
      "ATGGTTGTTGGC\n",
      "ATGGTTGTTGGC\n",
      "ATGGTTGTTGGC\n",
      "ATGGTTGTTGGC\n",
      "ATGGTTGTTGGC\n",
      "ATGGTTGTTGGC\n",
      "ATGGTTGTTGGC\n",
      "ATGGTTGTTGGC\n",
      "ATGGTTGTTGGC\n",
      "ATGGTTGTTGGC\n",
      "ATGGTTGTTGGC\n",
      "ATGGTTGTTGGC\n",
      "ATGGTTGTTGGC\n",
      "ATGGTTGTTGGC\n",
      "ATGGTTGTTGGC\n",
      "ATGGTTGTTGGC\n",
      "ATGGTTGTTGGC\n",
      "ATGGTTGTTGGC\n",
      "ATGGTTGTTGGC\n",
      "ATGGTTGTTGGC\n",
      "ATGGTTGTTGGC\n",
      "ATGGTTGTTGGC\n",
      "ATGGTTGTTGGC\n",
      "ATGGTTGTTGGC\n",
      "ATGGTTGTTGGC\n",
      "ATGGTTGTTGGC\n",
      "ATGGTTGTTGGC\n",
      "ATGGTTGTTGGC\n",
      "ATGGTTGTTGGC\n",
      "ATGGTTGTTGGC\n",
      "ATGGTTGTTGGC\n",
      "ATGGTTGTTGGC\n",
      "ATGGTTGTTGGC\n",
      "ATGGTTGTTGGC\n",
      "ATGGTTGTTGGC\n",
      "ATGGTTGTTGGC\n",
      "ATGGTTGTTGGC\n",
      "ATGGTTGTTGGC\n",
      "ATGGTTGTTGGC\n",
      "ATGGTTGTTGGC\n",
      "ATGGTTGTTGGC\n",
      "ATGGTTGTTGGC\n",
      "ATGGTTGTTGGC\n",
      "ATGGTTGTTGGC\n"
     ]
    }
   ],
   "source": [
    "!grep 'ATGGTTGTTGGC' ../../SeqData/20150624_I1_001.fasta"
   ]
  },
  {
   "cell_type": "markdown",
   "metadata": {},
   "source": [
    "I tried searching for a barcode in the sequencing data as well, forward, backwards, and complemented each way. It only turned up in one sequence, and it seemed pretty clearly just a random part of the sequence - it was in the middle. However, I was able to find it flipped and reverse-complemented in the index file after all. Yay!"
   ]
  }
 ],
 "metadata": {
  "kernelspec": {
   "display_name": "Python 2",
   "language": "python",
   "name": "python2"
  },
  "language_info": {
   "codemirror_mode": {
    "name": "ipython",
    "version": 2
   },
   "file_extension": ".py",
   "mimetype": "text/x-python",
   "name": "python",
   "nbconvert_exporter": "python",
   "pygments_lexer": "ipython2",
   "version": "2.7.9"
  }
 },
 "nbformat": 4,
 "nbformat_minor": 0
}
