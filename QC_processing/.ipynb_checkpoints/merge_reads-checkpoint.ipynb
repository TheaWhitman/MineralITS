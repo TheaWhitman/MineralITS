{
 "cells": [
  {
   "cell_type": "markdown",
   "metadata": {},
   "source": [
    "This notebook is used to merge the two paired-end reads from the Illumina sequencing data"
   ]
  },
  {
   "cell_type": "code",
   "execution_count": 1,
   "metadata": {
    "collapsed": false
   },
   "outputs": [
    {
     "name": "stderr",
     "output_type": "stream",
     "text": [
      "/opt/virt_env/lib/python2.7/site-packages/mpltools/style/__init__.py:42: FutureWarning: \n",
      "\n",
      "    The style-sheet functionality in mpltools has been integrated into\n",
      "    Matplotlib >= 1.4. This module will be removed in a future release.\n",
      "\n",
      "    Note that style-sheets used by `matplotlib.style` use the standard\n",
      "    Matplotlib rc-file syntax instead of the INI format used by `mpltools`.\n",
      "    This mostly means un-quoting strings and changing '=' to ':'.\n",
      "\n",
      "\n",
      "  \"\"\", FutureWarning)\n"
     ]
    }
   ],
   "source": [
    "# bringing in some python code\n",
    "# screed reads the fasta or fastq files\n",
    "import screed\n",
    "# matplotlib.pyplot is a program for plotting data\n",
    "import matplotlib.pyplot as plt\n",
    "from mpltools import style\n",
    "import numpy as np\n",
    "from mpld3 import enable_notebook\n",
    "# A mode is indicated by a % sign.\n",
    "# Here we are telling it to show the graphics In the notebook itself\n",
    "%matplotlib inline"
   ]
  },
  {
   "cell_type": "code",
   "execution_count": 2,
   "metadata": {
    "collapsed": false
   },
   "outputs": [],
   "source": [
    "# python code that allows us to have interactive figures in the notebook\n",
    "enable_notebook()"
   ]
  },
  {
   "cell_type": "code",
   "execution_count": 7,
   "metadata": {
    "collapsed": false
   },
   "outputs": [],
   "source": [
    "# pigz unzips the files (could use something else to unzip them)\n",
    "!pigz -k -d -p 2 ../../SeqData/20150624_R2_001.fastq.gz\n",
    "# -k means keep the original, -d means decompress the input, -p means use this number of processors/cores"
   ]
  },
  {
   "cell_type": "code",
   "execution_count": 3,
   "metadata": {
    "collapsed": true
   },
   "outputs": [
    {
     "name": "stdout",
     "output_type": "stream",
     "text": [
      "@M01056:152:000000000-AGL01:1:1101:16161:1343 2:N:0:0\r\n",
      "TCTGTGGACTACTGGGGTATCTAATCCTGTTTGCTCCCCACGCTTTCGTGCATGAGCGTCAGTGTTATCCCAGGAGGCTGCCTTCGCCATCGGTGTTCCTCCACATCTCTACGCATTTCACTGCTACACGTGGAATTCCACCTCCCTCTGACACACTCTAGCCCACCAGTCACAAGCGCAGTTCCCAGGTTAAGCCCGGGGATTTCACGCCTGTCTTAATGAGCCGCCTGCGCACGCTTTACGCCCAGTAT\r\n",
      "+\r\n",
      "3>AAAFBFFFFFGGBGGGGFDGBHHFHHHHHHBHHHHGGHGGFGGGHGHGGHHHBFH?EGGCHFHHHHHHHHGGFFGEHEEHHHHHFGGGHGGGGGGHFHHFHHHHHHHHHGEEAGGHHGFHHGGHGFHDGHGGDGHHHGHHHHGGFHHEDFHFFGHFHE1FCG..AEFGFGD11.C.A--<GGDF0BCGCCB0:CEC-BA-:BBFB;E.AF.CBFGB0C0B0B9@DFF??=9-9=-AFF9B..99A.B//\r\n",
      "@M01056:152:000000000-AGL01:1:1101:15992:1344 2:N:0:0\r\n",
      "TATCGTGGGACTACAAGGGTATCTAATCCTGTTCGCTCCCCACGCTTTCGCTCCTCAGCGTCAGTATCGGCCCAGAGACCCGCCTTCGCCACCGGTGTTCCTCCTGATATCTGCGCATTTCACCGCTACACCAGGAATTCCAGTCTCCCCTACCGAACTCTAGCCTGCCCGTATCGACCGCAAGCCCACCGTTCAGCGGTAGGTTTTCACGTTCGCCGCAACAAGCCGCCTTCGTGCTCTTTCTGCCCATT\r\n",
      "+\r\n",
      "33>ABFFBBBFFGGGGGGCGFGGHHHHHHHHHHGGGGHFGGFGGGGGGHCGGHGHHH3GGGGGGHHHHGGGGGGGGHFGFHGGGGGHHGGGGAF?E@EGHHHEHHHBGGHHHHHCGDGGHHGHFACCCGHHHEACE0GHHGFHHHHGDHGHGH.-A<AHCHF:0:CC.:G.;-:...-?-A-;-9;A.A.:;A.///.;....9:FF///...9.-.->--;....9->B..;....:/:F99///;.//9\r\n",
      "@M01056:152:000000000-AGL01:1:1101:15906:1348 2:N:0:0\r\n",
      "TCGATCCTCCGCTTATTGATATTCTTAAGTTCAGCGGGTAGTCCTACCTGATTTGAGGCCAGATAATAAAAAAGTCATGTCCACGAGGTGGAACTTGTATTGGGAAGCGGACAAGCGTCCTAGAAACGAGGCCACTCCGAAGAATGTCCTTAGCGAAATACTTATTACGCCAAGTCAAACCAAGTCTCAAAGACAGATCCAGCTAATACATTTAAGGTGAGCCGCTCGTAAAAGCGGCAAGCACCCAATTC\r\n"
     ]
    }
   ],
   "source": [
    "!head ../../SeqData/20150624_R2_001.fastq\n",
    "# Check out the file"
   ]
  },
  {
   "cell_type": "code",
   "execution_count": 2,
   "metadata": {
    "collapsed": false
   },
   "outputs": [
    {
     "name": "stdout",
     "output_type": "stream",
     "text": [
      " ____  _____    _    ____ \r\n",
      "|  _ \\| ____|  / \\  |  _ \\\r\n",
      "| |_) |  _|   / _ \\ | |_) |\r\n",
      "|  __/| |___ / ___ \\|  _ <\r\n",
      "|_|   |_____/_/   \\_\\_| \\_\\\r\n",
      "PEAR v0.9.6 [January 15, 2015]  - [+bzlib +zlib]\r\n",
      "\r\n",
      "Citation - PEAR: a fast and accurate Illumina Paired-End reAd mergeR\r\n",
      "Zhang et al (2014) Bioinformatics 30(5): 614-620 | doi:10.1093/bioinformatics/btt593\r\n",
      "\r\n",
      "License: Creative Commons Licence\r\n",
      "Bug-reports and requests to: Tomas.Flouri@h-its.org and Jiajie.Zhang@h-its.org\r\n",
      "\r\n",
      "\r\n",
      "Usage: pear <options>\r\n",
      "Standard (mandatory):\r\n",
      "  -f, --forward-fastq         <str>     Forward paired-end FASTQ file.\r\n",
      "  -r, --reverse-fastq         <str>     Reverse paired-end FASTQ file.\r\n",
      "  -o, --output                <str>     Output filename.\r\n",
      "Optional:\r\n",
      "  -p, --p-value               <float>   Specify  a p-value for the statistical test. If the computed\r\n",
      "                                        p-value of a possible assembly exceeds the specified p-value\r\n",
      "                                        then  paired-end  read  will not be assembled. Valid options\r\n",
      "                                        are: 0.0001, 0.001, 0.01, 0.05 and 1.0. Setting 1.0 disables\r\n",
      "                                        the test. (default: 0.01)\r\n",
      "  -v, --min-overlap           <int>     Specify the minimum overlap size. The minimum overlap may be\r\n",
      "                                        set to 1 when the statistical test is used. However, further\r\n",
      "                                        restricting  the  minimum overlap size to a proper value may\r\n",
      "                                        reduce false-positive assembles. (default: 10)\r\n",
      "  -m, --max-assembly-length   <int>     Specify   the  maximum  possible  length  of  the  assembled\r\n",
      "                                        sequences.  Setting this value to 0 disables the restriction\r\n",
      "                                        and assembled sequences may be arbitrary long. (default: 0)\r\n",
      "  -n, --min-assembly-length   <int>     Specify   the  minimum  possible  length  of  the  assembled\r\n",
      "                                        sequences.  Setting this value to 0 disables the restriction\r\n",
      "                                        and  assembled  sequences  may be arbitrary short. (default:\r\n",
      "                                        50)\r\n",
      "  -t, --min-trim-length       <int>     Specify  the  minimum length of reads after trimming the low\r\n",
      "                                        quality part (see option -q). (default: 1)\r\n",
      "  -q, --quality-threshold     <int>     Specify  the  quality  score  threshold for trimming the low\r\n",
      "                                        quality  part  of  a  read.  If  the  quality  scores of two\r\n",
      "                                        consecutive  bases  are  strictly  less  than  the specified\r\n",
      "                                        threshold,  the  rest of the read will be trimmed. (default:\r\n",
      "                                        0)\r\n",
      "  -u, --max-uncalled-base     <float>   Specify  the maximal proportion of uncalled bases in a read.\r\n",
      "                                        Setting this value to 0 will cause PEAR to discard all reads\r\n",
      "                                        containing  uncalled  bases.  The other extreme setting is 1\r\n",
      "                                        which  causes  PEAR  to process all reads independent on the\r\n",
      "                                        number of uncalled bases. (default: 1)\r\n",
      "  -g, --test-method           <int>     Specify  the  type  of  statistical  test.  Two  options are\r\n",
      "                                        available. (default: 1)\r\n",
      "                                        1: Given the minimum allowed overlap, test using the highest\r\n",
      "                                        OES. Note that due to its discrete nature, this test usually\r\n",
      "                                        yields  a lower p-value for the assembled read than the cut-\r\n",
      "                                        off  (specified  by -p). For example, setting the cut-off to\r\n",
      "                                        0.05  using  this  test,  the  assembled reads might have an\r\n",
      "                                        actual p-value of 0.02.\r\n",
      "\r\n",
      "                                        2. Use the acceptance probability (m.a.p). This test methods\r\n",
      "                                        computes  the same probability as test method 1. However, it\r\n",
      "                                        assumes  that  the  minimal  overlap is the observed overlap\r\n",
      "                                        with  the  highest  OES, instead of the one specified by -v.\r\n",
      "                                        Therefore,  this  is  not  a  valid statistical test and the\r\n",
      "                                        'p-value'  is  in fact the maximal probability for accepting\r\n",
      "                                        the assembly. Nevertheless, we observed in practice that for\r\n",
      "                                        the case the actual overlap sizes are relatively small, test\r\n",
      "                                        2  can  correctly  assemble  more  reads  with only slightly\r\n",
      "                                        higher false-positive rate.\r\n",
      "  -e, --empirical-freqs                 Disable  empirical base frequencies. (default: use empirical\r\n",
      "                                        base frequencies)\r\n",
      "  -s, --score-method          <int>     Specify the scoring method. (default: 2)\r\n",
      "                                        1. OES with +1 for match and -1 for mismatch.\r\n",
      "                                        2: Assembly score (AS). Use +1 for match and -1 for mismatch\r\n",
      "                                        multiplied by base quality scores.\r\n",
      "                                        3: Ignore quality scores and use +1 for a match and -1 for a\r\n",
      "                                        mismatch.\r\n",
      "  -b, --phred-base            <int>     Base PHRED quality score. (default: 33)\r\n",
      "  -y, --memory                <str>     Specify  the  amount of memory to be used. The number may be\r\n",
      "                                        followed  by  one  of  the  letters  K,  M,  or  G  denoting\r\n",
      "                                        Kilobytes,  Megabytes and Gigabytes, respectively. Bytes are\r\n",
      "                                        assumed in case no letter is specified.\r\n",
      "  -c, --cap                   <int>     Specify  the upper bound for the resulting quality score. If\r\n",
      "                                        set to zero, capping is disabled. (default: 40)\r\n",
      "  -j, --threads               <int>     Number of threads to use\r\n",
      "  -z, --nbase                           When  merging  a  base-pair  that  consists of two non-equal\r\n",
      "                                        bases  out  of which none is degenerate, set the merged base\r\n",
      "                                        to N and use the highest quality score of the two bases\r\n",
      "  -h, --help                            This help screen.\r\n",
      "\r\n"
     ]
    }
   ],
   "source": [
    "# PEAR is an Illumina Paired-End reAd mergeR (Zhang et al., 2014)\n",
    "!pear -h"
   ]
  },
  {
   "cell_type": "code",
   "execution_count": 5,
   "metadata": {
    "collapsed": false
   },
   "outputs": [
    {
     "name": "stdout",
     "output_type": "stream",
     "text": [
      " ____  _____    _    ____ \n",
      "|  _ \\| ____|  / \\  |  _ \\\n",
      "| |_) |  _|   / _ \\ | |_) |\n",
      "|  __/| |___ / ___ \\|  _ <\n",
      "|_|   |_____/_/   \\_\\_| \\_\\\n",
      "\n",
      "PEAR v0.9.6 [January 15, 2015]\n",
      "\n",
      "Citation - PEAR: a fast and accurate Illumina Paired-End reAd mergeR\n",
      "Zhang et al (2014) Bioinformatics 30(5): 614-620 | doi:10.1093/bioinformatics/btt593\n",
      "\n",
      "Forward reads file.................: ../../SeqData/20150624_R1_001.fastq\n",
      "Reverse reads file.................: ../../SeqData/20150624_R2_001.fastq\n",
      "PHRED..............................: 33\n",
      "Using empirical frequencies........: YES\n",
      "Statistical method.................: OES\n",
      "Maximum assembly length............: 600\n",
      "Minimum assembly length............: 50\n",
      "p-value............................: 0.010000\n",
      "Quality score threshold (trimming).: 0\n",
      "Minimum read size after trimming...: 1\n",
      "Maximal ratio of uncalled bases....: 1.000000\n",
      "Minimum overlap....................: 10\n",
      "Scoring method.....................: Scaled score\n",
      "Threads............................: 4\n",
      "\n",
      "Allocating memory..................: 200,000,000 bytes\n",
      "Computing empirical frequencies....: DONE\n",
      "  A: 0.239893\n",
      "  C: 0.256452\n",
      "  G: 0.253956\n",
      "  T: 0.249699\n",
      "  19 uncalled bases\n",
      "Assemblying reads: 100%\n",
      "\n",
      "Assembled reads ...................: 8,264,450 / 8,469,034 (97.584%)\n",
      "Discarded reads ...................: 0 / 8,469,034 (0.000%)\n",
      "Not assembled reads ...............: 204,584 / 8,469,034 (2.416%)\n",
      "Assembled reads file...............: ../../SeqData/pear_merged-2015-07-03.assembled.fastq\n",
      "Discarded reads file...............: ../../SeqData/pear_merged-2015-07-03.discarded.fastq\n",
      "Unassembled forward reads file.....: ../../SeqData/pear_merged-2015-07-03.unassembled.forward.fastq\n",
      "Unassembled reverse reads file.....: ../../SeqData/pear_merged-2015-07-03.unassembled.reverse.fastq\n"
     ]
    }
   ],
   "source": [
    "\n",
    "!pear -m 600 -j 4 -f ../../SeqData/20150624_R1_001.fastq -r ../../SeqData/20150624_R2_001.fastq -o ../../SeqData/pear_merged-$(date +%F)\n",
    "# -m is the maximum length we will consider assembling\n",
    "# Thus, the data will be paired together, merged, including max lengths of 600 (-m) and using 2 threads (-j),\n",
    "# returning a file called pear_merged-DATE"
   ]
  },
  {
   "cell_type": "code",
   "execution_count": 13,
   "metadata": {
    "collapsed": false
   },
   "outputs": [],
   "source": [
    "# Screed is a module from C. Titus Brown\n",
    "# Basically it takes your fasta file and makes a database that you can query\n",
    "# Here, we're using it to loop through files, collect seq lengths, and plot as a histogram\n",
    "# This will allow us to evaluate how well the pairing worked.\n",
    "# You can find documentation here: http://screed.readthedocs.org/en/latest/\n",
    "import screed"
   ]
  },
  {
   "cell_type": "code",
   "execution_count": 8,
   "metadata": {
    "collapsed": false
   },
   "outputs": [
    {
     "data": {
      "text/plain": [
       "<ScreedDB, '../../SeqData/pear_merged-2015-07-03.assembled.fastq_screed'>"
      ]
     },
     "execution_count": 8,
     "metadata": {},
     "output_type": "execute_result"
    }
   ],
   "source": [
    "# This creates the database which it will query\n",
    "# The database will have the sequence name, description, quality, and sequence itself (if those data are in the original files)\n",
    "# The output will be NAME_screed\n",
    "screed.read_fastq_sequences(\"../../SeqData/pear_merged-2015-07-03.assembled.fastq\")"
   ]
  },
  {
   "cell_type": "code",
   "execution_count": 9,
   "metadata": {
    "collapsed": false
   },
   "outputs": [],
   "source": [
    "# We will load the fastq database we just made, calling it fqdb\n",
    "db = screed.ScreedDB(\"../../SeqData/pear_merged-2015-07-03.assembled.fastq_screed\")"
   ]
  },
  {
   "cell_type": "code",
   "execution_count": 10,
   "metadata": {
    "collapsed": false
   },
   "outputs": [],
   "source": [
    "# This will store, from our fqdb, the first record... to test the db (recall Python is 0-based, so 0 is the 1st item)\n",
    "record = db[db.keys()[0]]"
   ]
  },
  {
   "cell_type": "code",
   "execution_count": 14,
   "metadata": {
    "collapsed": false
   },
   "outputs": [
    {
     "data": {
      "text/plain": [
       "'TCGTGCCAGCCGCCGCGGTAATACGTAGGGTGCGAGCGTTAATCGGAATTACTGGGCGTAAAGCGTGCGCAGGCGGCTCATTAAGACAGGCGTGAAATCCCCGGGCTTAACCTGGGAACTGCGCTTGTGACTGGTGGGCTAGAGTGTGTCAGAGGGAGGTGGAATTCCACGTGTAGCAGTGAAATGCGTAGAGATGTGGAGGAACACCGATGGCGAAGGCAGCCTCCTGGGATAACACTGACGCTCATGCACGAAAGCGTGGGGAGCAAACAGGATTAGATACCCCAGTAGTCCACAGA'"
      ]
     },
     "execution_count": 14,
     "metadata": {},
     "output_type": "execute_result"
    }
   ],
   "source": [
    "# This will now retrieve the sequence from our database for what we have set as the record\n",
    "record[\"sequence\"]\n",
    "# record[\"name\"]"
   ]
  },
  {
   "cell_type": "code",
   "execution_count": 20,
   "metadata": {
    "collapsed": false
   },
   "outputs": [],
   "source": [
    "# Here we are basically getting the length of each sequence\n",
    "# First we create a string that is called \"lengths\"\n",
    "# For each read from our database (we are looking at all the iterative values of our fqdb), we find the length of the sequence\n",
    "# from the sequence category of our database that we created. Then, we append this length to our original length file.\n",
    "# We should end up with a file that has all the lengths of all our sequences, in a row. They are not necessarily tied to our \n",
    "# original sequence file\n",
    "lengths = []\n",
    "for record in fqdb.itervalues():\n",
    "    lengths.append((len(record[\"sequence\"])))"
   ]
  },
  {
   "cell_type": "code",
   "execution_count": 23,
   "metadata": {
    "collapsed": false
   },
   "outputs": [
    {
     "data": {
      "image/png": "[encoded data removed]",
      "text/plain": [
       "<matplotlib.figure.Figure at 0x118c95f90>"
      ]
     },
     "metadata": {},
     "output_type": "display_data"
    }
   ],
   "source": [
    "# Setting up graphics in ggplot\n",
    "style.use(\"ggplot\")\n",
    "fig = plt.figure()\n",
    "ax = fig.add_subplot(111)\n",
    "# There will be a histogram axis, where we graph the lengths in bins of 50\n",
    "h = ax.hist(np.array(lengths), bins=50)\n",
    "# The x axis will thus be the sequence length, in nucleotides\n",
    "xl = ax.set_xlabel(\"Sequence Length, nt\")\n",
    "# While the y axis will be the count, or number of times this length bin showed up in our peared sequences\n",
    "yl = ax.set_ylabel(\"Count\")\n",
    "# More figure sizing stuff\n",
    "fig.set_size_inches((10,6))"
   ]
  },
  {
   "cell_type": "code",
   "execution_count": 24,
   "metadata": {
    "collapsed": false
   },
   "outputs": [
    {
     "data": {
      "text/plain": [
       "332.38400728421129"
      ]
     },
     "execution_count": 24,
     "metadata": {},
     "output_type": "execute_result"
    }
   ],
   "source": [
    "# I want to know what the average sequence length is.\n",
    "# We used 515F and 806R, so it should be around 300bp\n",
    "import numpy\n",
    "numpy.mean(lengths)"
   ]
  },
  {
   "cell_type": "code",
   "execution_count": 25,
   "metadata": {
    "collapsed": false
   },
   "outputs": [
    {
     "data": {
      "text/plain": [
       "299.0"
      ]
     },
     "execution_count": 25,
     "metadata": {},
     "output_type": "execute_result"
    }
   ],
   "source": [
    "numpy.median(lengths)"
   ]
  },
  {
   "cell_type": "code",
   "execution_count": null,
   "metadata": {
    "collapsed": false
   },
   "outputs": [],
   "source": []
  }
 ],
 "metadata": {
  "kernelspec": {
   "display_name": "Python 2",
   "language": "python",
   "name": "python2"
  },
  "language_info": {
   "codemirror_mode": {
    "name": "ipython",
    "version": 2
   },
   "file_extension": ".py",
   "mimetype": "text/x-python",
   "name": "python",
   "nbconvert_exporter": "python",
   "pygments_lexer": "ipython2",
   "version": "2.7.9"
  }
 },
 "nbformat": 4,
 "nbformat_minor": 0
}
