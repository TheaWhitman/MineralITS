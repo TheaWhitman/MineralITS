{
 "cells": [
  {
   "cell_type": "markdown",
   "metadata": {},
   "source": [
    "##This notebook is for basic QC on sequencing data"
   ]
  },
  {
   "cell_type": "code",
   "execution_count": null,
   "metadata": {
    "collapsed": true
   },
   "outputs": [],
   "source": [
    "# %install_ext https://raw.githubusercontent.com/SchlossLab/ipython-mothurmagic/master/mothurmagic.py\n",
    "# Only needs to be done once - gets the mothurmagic so you can run mother easily in the %notebook"
   ]
  },
  {
   "cell_type": "code",
   "execution_count": null,
   "metadata": {
    "collapsed": false
   },
   "outputs": [],
   "source": [
    "%load_ext mothurmagic\n",
    "# Loads mothurmagic so we can run mothur in the notebook using %%mothur at the top of the cell"
   ]
  },
  {
   "cell_type": "code",
   "execution_count": null,
   "metadata": {
    "collapsed": false
   },
   "outputs": [],
   "source": [
    "%%mothur\n",
    "help()"
   ]
  },
  {
   "cell_type": "code",
   "execution_count": null,
   "metadata": {
    "collapsed": false
   },
   "outputs": [],
   "source": [
    "!echo $PATH\n",
    "#Make sure mothur folder is in your path somehow. If not, enter "
   ]
  },
  {
   "cell_type": "code",
   "execution_count": null,
   "metadata": {
    "collapsed": true
   },
   "outputs": [],
   "source": [
    "!export PATH=$PATH:opt/virt_env/bin/mothur"
   ]
  },
  {
   "cell_type": "markdown",
   "metadata": {},
   "source": [
    "First we need to cut out sequences with errors"
   ]
  },
  {
   "cell_type": "code",
   "execution_count": null,
   "metadata": {
    "collapsed": false
   },
   "outputs": [],
   "source": [
    "! usearch -fastq_filter ../../SeqData/pear_merged-2015-07-03.assembled.demult.fastq \\\n",
    "-fastaout ../../SeqData/pear_merged_2015_07_03.assembled.demult.maxee.fasta \\\n",
    "-fastq_maxee 1\n",
    "# Using Roger Edgar's max expected error filtering\n",
    "# Note we needed to remove - dashes from the name for future mothur processing"
   ]
  },
  {
   "cell_type": "markdown",
   "metadata": {},
   "source": [
    "####If the file were bigger, we would need to split it (below)"
   ]
  },
  {
   "cell_type": "code",
   "execution_count": null,
   "metadata": {
    "collapsed": false
   },
   "outputs": [],
   "source": [
    "!wc -l ../../SeqData/pear_merged-2015-06-30.assembled.fastq\n",
    "# Counts the number of lines in the fastq file. They come in groups of 4 lines."
   ]
  },
  {
   "cell_type": "code",
   "execution_count": null,
   "metadata": {
    "collapsed": true
   },
   "outputs": [],
   "source": [
    "! usearch -fastq_filter ../../SeqData/pear_merged-2015-06-30.assembled.fastq \\\n",
    "-fastaout ../../SeqData/pear_merged-2015-06-30.assembled.maxee.fasta \\\n",
    "-fastq_maxee 1\n",
    "# Using Roger Edgar's max expected error filtering - the whole file is too big to do at once so needs to be split"
   ]
  },
  {
   "cell_type": "code",
   "execution_count": null,
   "metadata": {
    "collapsed": false
   },
   "outputs": [],
   "source": [
    "!head -16528900 ../../SeqData/pear_merged-2015-06-30.assembled.fastq > \\\n",
    "../../SeqData/pear_merged-2015-06-30.assembled.split1.fastq\n",
    "!tail -16528900 ../../SeqData/pear_merged-2015-06-30.assembled.fastq > \\\n",
    "../../SeqData/pear_merged-2015-06-30.assembled.split2.fastq\n",
    "# Split the data for usearch into two files, divided by the number of lines it has as determined above"
   ]
  },
  {
   "cell_type": "code",
   "execution_count": null,
   "metadata": {
    "collapsed": true
   },
   "outputs": [],
   "source": [
    "! usearch -fastq_filter ../../SeqData/pear_merged-2015-06-30.assembled.split1.fastq \\\n",
    "-fastaout ../../SeqData/pear_merged-2015-06-30.assembled.split1.maxee.fasta \\\n",
    "-fastq_maxee 1\n",
    "# Using Roger Edgar's max expected error filtering on our split fastq file"
   ]
  },
  {
   "cell_type": "code",
   "execution_count": null,
   "metadata": {
    "collapsed": true
   },
   "outputs": [],
   "source": [
    "! usearch -fastq_filter ../../SeqData/pear_merged-2015-06-30.assembled.split2.fastq \\\n",
    "-fastaout ../../SeqData/pear_merged-2015-06-30.assembled.split2.maxee.fasta \\\n",
    "-fastq_maxee 1\n",
    "# Using Roger Edgar's max expected error filtering on our split fastq file"
   ]
  },
  {
   "cell_type": "code",
   "execution_count": null,
   "metadata": {
    "collapsed": true
   },
   "outputs": [],
   "source": [
    "!cat ../../SeqData/pear_merged-2015-06-30.assembled.split1.maxee.fasta \\\n",
    "../../SeqData/pear_merged-2015-06-30.assembled.split2.maxee.fasta > \\\n",
    "../../SeqData/pear_merged_2015_06_30.assembled.maxee.fasta\n",
    "# Joining the files back together into one fasta file."
   ]
  },
  {
   "cell_type": "markdown",
   "metadata": {},
   "source": [
    "###Now we examine and cut the sequences using mothur"
   ]
  },
  {
   "cell_type": "code",
   "execution_count": null,
   "metadata": {
    "collapsed": false
   },
   "outputs": [],
   "source": [
    "%%mothur\n",
    "summary.seqs(fasta=../../SeqData/pear_merged_2015_07_03.assembled.demult.maxee.fasta)"
   ]
  },
  {
   "cell_type": "markdown",
   "metadata": {},
   "source": [
    "Okay, so we have about 2M sequences after demultiplexing and the maxee control. There are no ambiguous bases. Most are in the correct size range, actually.\n",
    "We will proceed through standard mothur operating procedure. (First testing it with a cropped dataset)"
   ]
  },
  {
   "cell_type": "code",
   "execution_count": null,
   "metadata": {
    "collapsed": false
   },
   "outputs": [],
   "source": [
    "!head -250000 ../../SeqData/pear_merged_2015_07_03.assembled.demult.maxee.fasta > ../../SeqData/pear_merged_2015_07_03.assembled.demult.maxee.crop.fasta"
   ]
  },
  {
   "cell_type": "code",
   "execution_count": null,
   "metadata": {
    "collapsed": false
   },
   "outputs": [],
   "source": [
    "!wc -l ../../SeqData/pear_merged_2015_07_03.assembled.demult.maxee.fasta"
   ]
  },
  {
   "cell_type": "code",
   "execution_count": null,
   "metadata": {
    "collapsed": false
   },
   "outputs": [],
   "source": [
    "%%mothur\n",
    "unique.seqs(fasta=../../SeqData/pear_merged_2015_07_03.assembled.demult.maxee.fasta)"
   ]
  },
  {
   "cell_type": "markdown",
   "metadata": {},
   "source": [
    "6mers 63s\n",
    "7mers 55s\n",
    "8mers 56s, 53s (61s with larger pcr db, 68s with even larger, 60s with medium, 68s with current, 69s with filtered current)\n",
    "9mers 52s, 54s\n",
    "10mers 62s\n",
    "8 and 9mers seem comparable - just use 8 because good AND standard.\n",
    "\n",
    "For filtered wider PCR database,\n",
    "6mers 81s\n",
    "7mers 70s\n",
    "8mers 69s\n",
    "9mers 62s, 61s <- we shall use this one.\n",
    "10mers 75s"
   ]
  },
  {
   "cell_type": "code",
   "execution_count": null,
   "metadata": {
    "collapsed": false
   },
   "outputs": [],
   "source": [
    "%%mothur\n",
    "align.seqs(candidate=../../SeqData/pear_merged_2015_07_03.assembled.demult.maxee.unique.fasta, template=../../SeqData/db/silva.total.filter.pcr.filter.fasta, processors=4, flip=T, ksize=9)"
   ]
  },
  {
   "cell_type": "markdown",
   "metadata": {},
   "source": [
    "^ Started at 3:52 PM finished at 4:12 PM"
   ]
  },
  {
   "cell_type": "code",
   "execution_count": null,
   "metadata": {
    "collapsed": false
   },
   "outputs": [],
   "source": [
    "%%mothur\n",
    "summary.seqs(fasta=../../SeqData/pear_merged_2015_07_03.assembled.demult.maxee.unique.align, name=../../SeqData/pear_merged_2015_07_03.assembled.demult.maxee.names, processors=4)"
   ]
  },
  {
   "cell_type": "code",
   "execution_count": null,
   "metadata": {
    "collapsed": false
   },
   "outputs": [],
   "source": [
    "%%mothur\n",
    "screen.seqs(fasta=../../SeqData/pear_merged_2015_07_03.assembled.demult.maxee.unique.align, name=../../SeqData/pear_merged_2015_07_03.assembled.demult.maxee.names, start=84, end=3899, minlength=298, maxlength=305, maxhomop=8, processors=4)"
   ]
  },
  {
   "cell_type": "code",
   "execution_count": null,
   "metadata": {
    "collapsed": false
   },
   "outputs": [],
   "source": [
    "%%mothur\n",
    "summary.seqs(fasta=../../SeqData/pear_merged_2015_07_03.assembled.demult.maxee.unique.good.align, name=../../SeqData/pear_merged_2015_07_03.assembled.demult.maxee.good.names, processors=4)"
   ]
  },
  {
   "cell_type": "code",
   "execution_count": null,
   "metadata": {
    "collapsed": false
   },
   "outputs": [],
   "source": [
    "%%mothur\n",
    "filter.seqs(fasta=../../SeqData/pear_merged_2015_07_03.assembled.demult.maxee.unique.good.align, vertical=T, trump=., processors=4)"
   ]
  },
  {
   "cell_type": "markdown",
   "metadata": {},
   "source": [
    "This filter step make sure that the sequences are all comparable. Now they start around the same place, and will end around the same place, so they will be comparable."
   ]
  },
  {
   "cell_type": "code",
   "execution_count": null,
   "metadata": {
    "collapsed": false
   },
   "outputs": [],
   "source": [
    "%%mothur\n",
    "summary.seqs(fasta=../../SeqData/pear_merged_2015_07_03.assembled.demult.maxee.unique.good.filter.fasta, name=../../SeqData/pear_merged_2015_07_03.assembled.demult.maxee.good.names, processors=4)"
   ]
  },
  {
   "cell_type": "code",
   "execution_count": null,
   "metadata": {
    "collapsed": false
   },
   "outputs": [],
   "source": [
    "%%mothur\n",
    "screen.seqs(fasta=../../SeqData/pear_merged_2015_07_03.assembled.demult.maxee.unique.good.filter.fasta, name=../../SeqData/pear_merged_2015_07_03.assembled.demult.maxee.good.names, start=2, end=612, minlength=289, maxhomop=8, processors=4)"
   ]
  },
  {
   "cell_type": "code",
   "execution_count": null,
   "metadata": {
    "collapsed": false
   },
   "outputs": [],
   "source": [
    "%%mothur\n",
    "summary.seqs(fasta=../../SeqData/pear_merged_2015_07_03.assembled.demult.maxee.unique.good.filter.good.fasta, name=../../SeqData/pear_merged_2015_07_03.assembled.demult.maxee.good.good.names, processors=4)"
   ]
  },
  {
   "cell_type": "code",
   "execution_count": null,
   "metadata": {
    "collapsed": false
   },
   "outputs": [],
   "source": [
    "%%mothur\n",
    "deunique.seqs(fasta=../../SeqData/pear_merged_2015_07_03.assembled.demult.maxee.unique.good.filter.good.fasta, name=../../SeqData/pear_merged_2015_07_03.assembled.demult.maxee.good.good.names)"
   ]
  },
  {
   "cell_type": "code",
   "execution_count": null,
   "metadata": {
    "collapsed": false
   },
   "outputs": [],
   "source": [
    "# FinalQC.fasta will be our last file.\n",
    "# Here we are taking out all the alignment characters (-,.,etc.)\n",
    "nprocs=4\n",
    "!sed '/>/! s/-//g;/>/! s/\\.//g' ../../SeqData/pear_merged_2015_07_03.assembled.demult.maxee.unique.good.filter.good.redundant.fasta > ../../SeqData/16SfinalQC.crop.fasta"
   ]
  },
  {
   "cell_type": "code",
   "execution_count": null,
   "metadata": {
    "collapsed": false
   },
   "outputs": [],
   "source": [
    "!head -100 ../../SeqData/16SfinalQC.fasta"
   ]
  },
  {
   "cell_type": "code",
   "execution_count": null,
   "metadata": {
    "collapsed": false
   },
   "outputs": [],
   "source": [
    "%%mothur\n",
    "summary.seqs(fasta=../../SeqData/16SfinalQC.fasta, processors=4)"
   ]
  },
  {
   "cell_type": "markdown",
   "metadata": {},
   "source": [
    "###Here we made the databases from mothur's reference Silva database. We took eukaryotic, archaeal, and bacterial sequences that should have hit our primers, combine them, cut them to our range, and filter out gaps."
   ]
  },
  {
   "cell_type": "code",
   "execution_count": null,
   "metadata": {
    "collapsed": true
   },
   "outputs": [],
   "source": [
    "!mkdir ../../SeqData/db/\n",
    "!curl -o ../../SeqData/db/silva_B.zip http://www.mothur.org/w/images/9/98/Silva.bacteria.zip\n",
    "!curl -o ../../SeqData/db/silva_E.zip http://www.mothur.org/w/images/1/1a/Silva.eukarya.zip\n",
    "!curl -o ../../SeqData/db/silva_A.zip http://www.mothur.org/w/images/3/3c/Silva.archaea.zip\n",
    "!unzip ../../SeqData/db/silva_B.zip\n",
    "!unzip ../../SeqData/db/silva_E.zip\n",
    "!unzip ../../SeqData/db/silva_A.zip\n",
    "# Getting the Silva databases that mothur recommends\n",
    "# We aren't using these for our taxonomy assignments, per se - just to align our sequences for QC"
   ]
  },
  {
   "cell_type": "code",
   "execution_count": null,
   "metadata": {
    "collapsed": false
   },
   "outputs": [],
   "source": [
    "!cat silva.bacteria/silva.bacteria.fasta \\\n",
    "    silva.eukarya/silva.eukarya.fasta \\\n",
    "    Silva.archaea/silva.archaea.fasta \\\n",
    "    > ../../SeqData/db/silva.total.fasta\n",
    "# Joining the ref files together"
   ]
  },
  {
   "cell_type": "code",
   "execution_count": null,
   "metadata": {
    "collapsed": true
   },
   "outputs": [],
   "source": [
    "%%mothur\n",
    "filter.seqs(vertical=t, fasta=../../SeqData/db/silva.total.fasta, processors=4)\n",
    "# Just gets rid of vertical gaps in alignment in the database - will speed things up later on."
   ]
  },
  {
   "cell_type": "code",
   "execution_count": null,
   "metadata": {
    "collapsed": false
   },
   "outputs": [],
   "source": [
    "%%mothur\n",
    "summary.seqs(fasta=../../SeqData/db/silva.total.filter.fasta, processors=4)"
   ]
  },
  {
   "cell_type": "markdown",
   "metadata": {},
   "source": [
    "Trimming the sequences in the database - our primers actually trim it back to about just the bacterial database (14868 seqs/18491). We might try keeping the non-primer matched sequences in there, but just using the bacterial database (14956). "
   ]
  },
  {
   "cell_type": "markdown",
   "metadata": {},
   "source": [
    "Actually, there must be some archeal or whatever in there, because trimming the bacterial db using pcr.seqs cuts it down to 13615 sequences. So, might as well go with the full, filtered db."
   ]
  },
  {
   "cell_type": "code",
   "execution_count": null,
   "metadata": {
    "collapsed": false
   },
   "outputs": [],
   "source": [
    "%%mothur\n",
    "pcr.seqs(fasta=../../SeqData/db/silva.total.filter.fasta, oligos=../../SeqData/primers.txt, processors=4)"
   ]
  },
  {
   "cell_type": "code",
   "execution_count": null,
   "metadata": {
    "collapsed": false
   },
   "outputs": [],
   "source": [
    "%%mothur\n",
    "summary.seqs(fasta=../../SeqData/db/silva.total.filter.pcr.fasta, processors=4)"
   ]
  },
  {
   "cell_type": "markdown",
   "metadata": {
    "collapsed": true
   },
   "source": [
    "PCRing the reference db with our sequences yielded only 250bp or so sequences, but ours are longer... I can try to expand the db by cutting at, say, 3600 and 7500 and see if that makes a difference - keeping still the smaller db for faster alignment."
   ]
  },
  {
   "cell_type": "markdown",
   "metadata": {},
   "source": [
    "It is better - come out more with 293bp seqs, not 250bp. I played around expanding or contracting it to optimize time/size."
   ]
  },
  {
   "cell_type": "code",
   "execution_count": null,
   "metadata": {
    "collapsed": false
   },
   "outputs": [],
   "source": [
    "%%mothur\n",
    "pcr.seqs(fasta=../../SeqData/db/silva.total.filter.fasta, start=3200, end=7200, processors=4)"
   ]
  },
  {
   "cell_type": "code",
   "execution_count": null,
   "metadata": {
    "collapsed": false
   },
   "outputs": [],
   "source": [
    "%%mothur\n",
    "summary.seqs(fasta=../../SeqData/db/silva.total.filter.pcr.fasta, processors=4)"
   ]
  },
  {
   "cell_type": "code",
   "execution_count": null,
   "metadata": {
    "collapsed": false
   },
   "outputs": [],
   "source": [
    "%%mothur\n",
    "filter.seqs(fasta=../../SeqData/db/silva.total.filter.pcr.fasta)"
   ]
  },
  {
   "cell_type": "code",
   "execution_count": null,
   "metadata": {
    "collapsed": true
   },
   "outputs": [],
   "source": []
  }
 ],
 "metadata": {
  "kernelspec": {
   "display_name": "Python 2",
   "language": "python",
   "name": "python2"
  },
  "language_info": {
   "codemirror_mode": {
    "name": "ipython",
    "version": 2
   },
   "file_extension": ".py",
   "mimetype": "text/x-python",
   "name": "python",
   "nbconvert_exporter": "python",
   "pygments_lexer": "ipython2",
   "version": "2.7.9"
  }
 },
 "nbformat": 4,
 "nbformat_minor": 0
}
