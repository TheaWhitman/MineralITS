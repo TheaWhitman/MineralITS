{
 "cells": [
  {
   "cell_type": "markdown",
   "metadata": {},
   "source": [
    "##This notebook is for basic QC on sequencing data"
   ]
  },
  {
   "cell_type": "code",
   "execution_count": 3,
   "metadata": {
    "collapsed": true
   },
   "outputs": [
    {
     "name": "stdout",
     "output_type": "stream",
     "text": [
      "Installed mothurmagic.py. To use it, type:\n",
      "  %load_ext mothurmagic\n"
     ]
    }
   ],
   "source": [
    "# %install_ext https://raw.githubusercontent.com/SchlossLab/ipython-mothurmagic/master/mothurmagic.py\n",
    "# Only needs to be done once - gets the mothurmagic so you can run mother easily in the %notebook"
   ]
  },
  {
   "cell_type": "code",
   "execution_count": 89,
   "metadata": {
    "collapsed": false
   },
   "outputs": [
    {
     "name": "stdout",
     "output_type": "stream",
     "text": [
      "The mothurmagic extension is already loaded. To reload it, use:\n",
      "  %reload_ext mothurmagic\n"
     ]
    }
   ],
   "source": [
    "%load_ext mothurmagic\n",
    "# Loads mothurmagic so we can run mothur in the notebook using %%mothur at the top of the cell"
   ]
  },
  {
   "cell_type": "code",
   "execution_count": 90,
   "metadata": {
    "collapsed": false
   },
   "outputs": [
    {
     "name": "stdout",
     "output_type": "stream",
     "text": [
      "/opt/virt_env/bin:/Users/Thea/anaconda/bin:/usr/local/bin:/usr/bin:/bin:/usr/sbin:/sbin:/opt/X11/bin:/usr/texbin:opt/virt_env/bin/mothur:/opt/virt_env/bin/mothur\r\n"
     ]
    }
   ],
   "source": [
    "!echo $PATH\n",
    "#Make sure mothur folder is in your path somehow. If not, enter "
   ]
  },
  {
   "cell_type": "markdown",
   "metadata": {},
   "source": [
    "First we need to cut out sequences with errors"
   ]
  },
  {
   "cell_type": "code",
   "execution_count": 91,
   "metadata": {
    "collapsed": false
   },
   "outputs": [
    {
     "name": "stdout",
     "output_type": "stream",
     "text": [
      "usearch v8.0.1623_i86osx32, 4.0Gb RAM (17.2Gb total), 4 cores\n",
      "(C) Copyright 2013-15 Robert C. Edgar, all rights reserved.\n",
      "http://drive5.com/usearch\n",
      "\n",
      "Licensed to: tlw59@cornell.edu\n",
      "\n",
      "01:28 1.6Mb  100.0% Filtering, 97.9% passed\n",
      "   1916021  FASTQ recs (1.9M)              \n",
      "     39782  Low qual recs discarded (expected errs > 1.00)\n",
      "   1876239  Converted (1.9M, 97.9%)\n"
     ]
    }
   ],
   "source": [
    "! usearch -fastq_filter ../../SeqData/pear_merged-2015-07-03.assembled.demult.fastq \\\n",
    "-fastaout ../../SeqData/pear_merged_2015_07_03.assembled.demult.maxee.fasta \\\n",
    "-fastq_maxee 1\n",
    "# Using Roger Edgar's max expected error filtering\n",
    "# Note we needed to remove - dashes from the name for future mothur processing"
   ]
  },
  {
   "cell_type": "markdown",
   "metadata": {},
   "source": [
    "####If the file were bigger, we would need to split it (below)"
   ]
  },
  {
   "cell_type": "code",
   "execution_count": 49,
   "metadata": {
    "collapsed": false
   },
   "outputs": [
    {
     "name": "stdout",
     "output_type": "stream",
     "text": [
      " 33057800 ../../SeqData/pear_merged-2015-06-30.assembled.fastq\r\n"
     ]
    }
   ],
   "source": [
    "!wc -l ../../SeqData/pear_merged-2015-06-30.assembled.fastq\n",
    "# Counts the number of lines in the fastq file. They come in groups of 4 lines."
   ]
  },
  {
   "cell_type": "code",
   "execution_count": 28,
   "metadata": {
    "collapsed": true
   },
   "outputs": [
    {
     "name": "stdout",
     "output_type": "stream",
     "text": [
      "usearch v8.0.1623_i86osx32, 4.0Gb RAM (17.2Gb total), 4 cores\r\n",
      "(C) Copyright 2013-15 Robert C. Edgar, all rights reserved.\r\n",
      "http://drive5.com/usearch\r\n",
      "\r\n",
      "Licensed to: tlw59@cornell.edu\r\n",
      "\r\n",
      "\r\n",
      "\r\n",
      "usearch -fastq_filter ../../SeqData/pear_merged-2015-06-30.assembled.fastq -fastaout ../../SeqData/pear_merged-2015-06-30.assembled.maxee.fasta -fastq_maxee 1\r\n",
      "\r\n",
      "---Fatal error---\r\n",
      "File size too big for 32-bit version (6.0Gb)\r\n"
     ]
    }
   ],
   "source": [
    "! usearch -fastq_filter ../../SeqData/pear_merged-2015-06-30.assembled.fastq \\\n",
    "-fastaout ../../SeqData/pear_merged-2015-06-30.assembled.maxee.fasta \\\n",
    "-fastq_maxee 1\n",
    "# Using Roger Edgar's max expected error filtering - the whole file is too big to do at once so needs to be split"
   ]
  },
  {
   "cell_type": "code",
   "execution_count": 53,
   "metadata": {
    "collapsed": false
   },
   "outputs": [
    {
     "name": "stdout",
     "output_type": "stream",
     "text": [
      "^C\r\n"
     ]
    }
   ],
   "source": [
    "!head -16528900 ../../SeqData/pear_merged-2015-06-30.assembled.fastq > \\\n",
    "../../SeqData/pear_merged-2015-06-30.assembled.split1.fastq\n",
    "!tail -16528900 ../../SeqData/pear_merged-2015-06-30.assembled.fastq > \\\n",
    "../../SeqData/pear_merged-2015-06-30.assembled.split2.fastq\n",
    "# Split the data for usearch into two files, divided by the number of lines it has as determined above"
   ]
  },
  {
   "cell_type": "code",
   "execution_count": 51,
   "metadata": {
    "collapsed": true
   },
   "outputs": [
    {
     "name": "stdout",
     "output_type": "stream",
     "text": [
      "usearch v8.0.1623_i86osx32, 4.0Gb RAM (17.2Gb total), 4 cores\n",
      "(C) Copyright 2013-15 Robert C. Edgar, all rights reserved.\n",
      "http://drive5.com/usearch\n",
      "\n",
      "Licensed to: tlw59@cornell.edu\n",
      "\n",
      "02:04 1.6Mb  100.0% Filtering, 96.0% passed\n",
      "   4132225  FASTQ recs (4.1M)              \n",
      "    165212  Low qual recs discarded (expected errs > 1.00)\n",
      "   3967013  Converted (4.0M, 96.0%)\n"
     ]
    }
   ],
   "source": [
    "! usearch -fastq_filter ../../SeqData/pear_merged-2015-06-30.assembled.split1.fastq \\\n",
    "-fastaout ../../SeqData/pear_merged-2015-06-30.assembled.split1.maxee.fasta \\\n",
    "-fastq_maxee 1\n",
    "# Using Roger Edgar's max expected error filtering on our split fastq file"
   ]
  },
  {
   "cell_type": "code",
   "execution_count": 62,
   "metadata": {
    "collapsed": true
   },
   "outputs": [
    {
     "name": "stdout",
     "output_type": "stream",
     "text": [
      "usearch v8.0.1623_i86osx32, 4.0Gb RAM (17.2Gb total), 4 cores\n",
      "(C) Copyright 2013-15 Robert C. Edgar, all rights reserved.\n",
      "http://drive5.com/usearch\n",
      "\n",
      "Licensed to: tlw59@cornell.edu\n",
      "\n",
      "02:07 1.6Mb  100.0% Filtering, 96.2% passed\n",
      "   4132225  FASTQ recs (4.1M)              \n",
      "    155057  Low qual recs discarded (expected errs > 1.00)\n",
      "   3977168  Converted (4.0M, 96.2%)\n"
     ]
    }
   ],
   "source": [
    "! usearch -fastq_filter ../../SeqData/pear_merged-2015-06-30.assembled.split2.fastq \\\n",
    "-fastaout ../../SeqData/pear_merged-2015-06-30.assembled.split2.maxee.fasta \\\n",
    "-fastq_maxee 1\n",
    "# Using Roger Edgar's max expected error filtering on our split fastq file"
   ]
  },
  {
   "cell_type": "code",
   "execution_count": 63,
   "metadata": {
    "collapsed": true
   },
   "outputs": [],
   "source": [
    "!cat ../../SeqData/pear_merged-2015-06-30.assembled.split1.maxee.fasta \\\n",
    "../../SeqData/pear_merged-2015-06-30.assembled.split2.maxee.fasta > \\\n",
    "../../SeqData/pear_merged_2015_06_30.assembled.maxee.fasta\n",
    "# Joining the files back together into one fasta file."
   ]
  },
  {
   "cell_type": "markdown",
   "metadata": {},
   "source": [
    "###Now we examine and cut the sequences using mothur"
   ]
  },
  {
   "cell_type": "code",
   "execution_count": 93,
   "metadata": {
    "collapsed": false
   },
   "outputs": [
    {
     "name": "stdout",
     "output_type": "stream",
     "text": [
      "mothur > summary.seqs(fasta=../../SeqData/pear_merged_2015_07_03.assembled.demult.maxee.fasta)\n",
      "\n",
      "Using 1 processors.\n",
      "\n",
      "Start\tEnd\tNBases\tAmbigs\tPolymer\tNumSeqs\n",
      "Minimum:\t1\t50\t50\t0\t2\t1\n",
      "2.5%-tile:\t1\t297\t297\t0\t4\t46906\n",
      "25%-tile:\t1\t299\t299\t0\t4\t469060\n",
      "Median: \t1\t299\t299\t0\t5\t938120\n",
      "75%-tile:\t1\t299\t299\t0\t5\t1407180\n",
      "97.5%-tile:\t1\t300\t300\t0\t6\t1829334\n",
      "Maximum:\t1\t492\t492\t0\t49\t1876239\n",
      "Mean:\t1\t299.449\t299.449\t0\t4.69148\n",
      "# of Seqs:\t1876239\n",
      "\n",
      "Output File Names:\n",
      "../../SeqData/pear_merged_2015_07_03.assembled.demult.maxee.summary\n",
      "\n",
      "It took 61 secs to summarize 1876239 sequences.\n",
      "\n",
      "mothur > quit()\n"
     ]
    }
   ],
   "source": [
    "%%mothur\n",
    "summary.seqs(fasta=../../SeqData/pear_merged_2015_07_03.assembled.demult.maxee.fasta)"
   ]
  },
  {
   "cell_type": "markdown",
   "metadata": {},
   "source": [
    "Okay, so we have about 2M sequences after demultiplexing and the maxee control. There are no ambiguous bases. Most are in the correct size range, actually.\n",
    "We will proceed through standard mothur operating procedure. (First testing it with a cropped dataset)"
   ]
  },
  {
   "cell_type": "code",
   "execution_count": 95,
   "metadata": {
    "collapsed": false
   },
   "outputs": [],
   "source": [
    "!head -250000 ../../SeqData/pear_merged_2015_07_03.assembled.demult.maxee.fasta > ../../SeqData/pear_merged_2015_07_03.assembled.demult.maxee.crop.fasta"
   ]
  },
  {
   "cell_type": "code",
   "execution_count": 131,
   "metadata": {
    "collapsed": false
   },
   "outputs": [
    {
     "name": "stdout",
     "output_type": "stream",
     "text": [
      " 9399887 ../../SeqData/pear_merged_2015_07_03.assembled.demult.maxee.fasta\r\n"
     ]
    }
   ],
   "source": [
    "!wc -l ../../SeqData/pear_merged_2015_07_03.assembled.demult.maxee.fasta"
   ]
  },
  {
   "cell_type": "code",
   "execution_count": 254,
   "metadata": {
    "collapsed": false
   },
   "outputs": [
    {
     "name": "stdout",
     "output_type": "stream",
     "text": [
      "mothur > unique.seqs(fasta=../../SeqData/pear_merged_2015_07_03.assembled.demult.maxee.fasta)\n",
      "1876239\t1105180\n",
      "\n",
      "Output File Names:\n",
      "../../SeqData/pear_merged_2015_07_03.assembled.demult.maxee.names\n",
      "../../SeqData/pear_merged_2015_07_03.assembled.demult.maxee.unique.fasta\n",
      "\n",
      "\n",
      "mothur > quit()\n"
     ]
    }
   ],
   "source": [
    "%%mothur\n",
    "unique.seqs(fasta=../../SeqData/pear_merged_2015_07_03.assembled.demult.maxee.fasta)"
   ]
  },
  {
   "cell_type": "markdown",
   "metadata": {},
   "source": [
    "6mers 63s\n",
    "7mers 55s\n",
    "8mers 56s, 53s (61s with larger pcr db, 68s with even larger, 60s with medium, 68s with current, 69s with filtered current)\n",
    "9mers 52s, 54s\n",
    "10mers 62s\n",
    "8 and 9mers seem comparable - just use 8 because good AND standard.\n",
    "\n",
    "For filtered wider PCR database,\n",
    "6mers 81s\n",
    "7mers 70s\n",
    "8mers 69s\n",
    "9mers 62s, 61s <- we shall use this one.\n",
    "10mers 75s"
   ]
  },
  {
   "cell_type": "code",
   "execution_count": 255,
   "metadata": {
    "collapsed": false
   },
   "outputs": [
    {
     "name": "stdout",
     "output_type": "stream",
     "text": [
      "mothur > align.seqs(candidate=../../SeqData/pear_merged_2015_07_03.assembled.demult.maxee.unique.fasta, template=../../SeqData/db/silva.total.filter.pcr.filter.fasta, processors=4, flip=T, ksize=9)\n",
      "\n",
      "Using 4 processors.\n",
      "\n",
      "Reading in the ../../SeqData/db/silva.total.filter.pcr.filter.fasta template sequences...\tDONE.\n",
      "It took 2 to read  18491 sequences.\n",
      "Aligning sequences from ../../SeqData/pear_merged_2015_07_03.assembled.demult.maxee.unique.fasta ...\n",
      "Some of you sequences generated alignments that eliminated too many bases, a list is provided in ../../SeqData/pear_merged_2015_07_03.assembled.demult.maxee.unique.flip.accnos. If the reverse compliment proved to be better it was reported.\n",
      "It took 1183 secs to align 1105180 sequences.\n",
      "\n",
      "\n",
      "Output File Names:\n",
      "../../SeqData/pear_merged_2015_07_03.assembled.demult.maxee.unique.align\n",
      "../../SeqData/pear_merged_2015_07_03.assembled.demult.maxee.unique.align.report\n",
      "../../SeqData/pear_merged_2015_07_03.assembled.demult.maxee.unique.flip.accnos\n",
      "\n",
      "\n",
      "mothur > quit()\n"
     ]
    }
   ],
   "source": [
    "%%mothur\n",
    "align.seqs(candidate=../../SeqData/pear_merged_2015_07_03.assembled.demult.maxee.unique.fasta, template=../../SeqData/db/silva.total.filter.pcr.filter.fasta, processors=4, flip=T, ksize=9)"
   ]
  },
  {
   "cell_type": "markdown",
   "metadata": {},
   "source": [
    "^ Started at 3:52 PM finished at 4:12 PM"
   ]
  },
  {
   "cell_type": "code",
   "execution_count": 257,
   "metadata": {
    "collapsed": false
   },
   "outputs": [
    {
     "name": "stdout",
     "output_type": "stream",
     "text": [
      "mothur > summary.seqs(fasta=../../SeqData/pear_merged_2015_07_03.assembled.demult.maxee.unique.align, name=../../SeqData/pear_merged_2015_07_03.assembled.demult.maxee.names, processors=4)\n",
      "\n",
      "Using 4 processors.\n",
      "\n",
      "Start\tEnd\tNBases\tAmbigs\tPolymer\tNumSeqs\n",
      "Minimum:\t-1\t-1\t0\t0\t1\t1\n",
      "2.5%-tile:\t68\t3899\t295\t0\t4\t46906\n",
      "25%-tile:\t69\t3900\t299\t0\t4\t469060\n",
      "Median: \t78\t3911\t299\t0\t5\t938120\n",
      "75%-tile:\t82\t3913\t299\t0\t5\t1407180\n",
      "97.5%-tile:\t84\t3913\t300\t0\t6\t1829334\n",
      "Maximum:\t4000\t4000\t464\t0\t49\t1876239\n",
      "Mean:\t107.604\t3888.12\t295.377\t0\t4.65788\n",
      "# of unique seqs:\t1105180\n",
      "total # of seqs:\t1876239\n",
      "\n",
      "Output File Names:\n",
      "../../SeqData/pear_merged_2015_07_03.assembled.demult.maxee.unique.summary\n",
      "\n",
      "It took 83 secs to summarize 1876239 sequences.\n",
      "\n",
      "mothur > quit()\n"
     ]
    }
   ],
   "source": [
    "%%mothur\n",
    "summary.seqs(fasta=../../SeqData/pear_merged_2015_07_03.assembled.demult.maxee.unique.align, name=../../SeqData/pear_merged_2015_07_03.assembled.demult.maxee.names, processors=4)"
   ]
  },
  {
   "cell_type": "code",
   "execution_count": 262,
   "metadata": {
    "collapsed": false
   },
   "outputs": [
    {
     "name": "stdout",
     "output_type": "stream",
     "text": [
      "mothur > screen.seqs(fasta=../../SeqData/pear_merged_2015_07_03.assembled.demult.maxee.unique.align, name=../../SeqData/pear_merged_2015_07_03.assembled.demult.maxee.names, start=84, end=3899, minlength=298, maxlength=305, maxhomop=8, processors=4)\n",
      "\n",
      "Using 4 processors.\n",
      "\n",
      "Output File Names:\n",
      "../../SeqData/pear_merged_2015_07_03.assembled.demult.maxee.unique.good.align\n",
      "../../SeqData/pear_merged_2015_07_03.assembled.demult.maxee.unique.bad.accnos\n",
      "../../SeqData/pear_merged_2015_07_03.assembled.demult.maxee.good.names\n",
      "\n",
      "\n",
      "It took 122 secs to screen 1105180 sequences.\n",
      "\n",
      "mothur > quit()\n"
     ]
    }
   ],
   "source": [
    "%%mothur\n",
    "screen.seqs(fasta=../../SeqData/pear_merged_2015_07_03.assembled.demult.maxee.unique.align, name=../../SeqData/pear_merged_2015_07_03.assembled.demult.maxee.names, start=84, end=3899, minlength=298, maxlength=305, maxhomop=8, processors=4)"
   ]
  },
  {
   "cell_type": "code",
   "execution_count": 263,
   "metadata": {
    "collapsed": false
   },
   "outputs": [
    {
     "name": "stdout",
     "output_type": "stream",
     "text": [
      "mothur > summary.seqs(fasta=../../SeqData/pear_merged_2015_07_03.assembled.demult.maxee.unique.good.align, name=../../SeqData/pear_merged_2015_07_03.assembled.demult.maxee.good.names, processors=4)\n",
      "\n",
      "Using 4 processors.\n",
      "\n",
      "Start\tEnd\tNBases\tAmbigs\tPolymer\tNumSeqs\n",
      "Minimum:\t11\t3899\t298\t0\t3\t1\n",
      "2.5%-tile:\t68\t3899\t298\t0\t4\t44726\n",
      "25%-tile:\t69\t3900\t299\t0\t4\t447253\n",
      "Median: \t78\t3911\t299\t0\t5\t894505\n",
      "75%-tile:\t82\t3913\t299\t0\t5\t1341757\n",
      "97.5%-tile:\t84\t3913\t300\t0\t6\t1744284\n",
      "Maximum:\t84\t3923\t305\t0\t8\t1789009\n",
      "Mean:\t76.0718\t3908.09\t298.999\t0\t4.68288\n",
      "# of unique seqs:\t1018854\n",
      "total # of seqs:\t1789009\n",
      "\n",
      "Output File Names:\n",
      "../../SeqData/pear_merged_2015_07_03.assembled.demult.maxee.unique.good.summary\n",
      "\n",
      "It took 55 secs to summarize 1789009 sequences.\n",
      "\n",
      "mothur > quit()\n"
     ]
    }
   ],
   "source": [
    "%%mothur\n",
    "summary.seqs(fasta=../../SeqData/pear_merged_2015_07_03.assembled.demult.maxee.unique.good.align, name=../../SeqData/pear_merged_2015_07_03.assembled.demult.maxee.good.names, processors=4)"
   ]
  },
  {
   "cell_type": "code",
   "execution_count": 264,
   "metadata": {
    "collapsed": false
   },
   "outputs": [
    {
     "name": "stdout",
     "output_type": "stream",
     "text": [
      "mothur > filter.seqs(fasta=../../SeqData/pear_merged_2015_07_03.assembled.demult.maxee.unique.good.align, vertical=T, trump=., processors=4)\n",
      "\n",
      "Using 4 processors.\n",
      "Creating Filter...\n",
      "\n",
      "\n",
      "Running Filter...\n",
      "\n",
      "\n",
      "\n",
      "Length of filtered alignment: 612\n",
      "Number of columns removed: 3388\n",
      "Length of the original alignment: 4000\n",
      "Number of sequences used to construct filter: 1018854\n",
      "\n",
      "Output File Names:\n",
      "../../SeqData/pear_merged_2015_07_03.filter\n",
      "../../SeqData/pear_merged_2015_07_03.assembled.demult.maxee.unique.good.filter.fasta\n",
      "\n",
      "\n",
      "mothur > quit()\n"
     ]
    }
   ],
   "source": [
    "%%mothur\n",
    "filter.seqs(fasta=../../SeqData/pear_merged_2015_07_03.assembled.demult.maxee.unique.good.align, vertical=T, trump=., processors=4)"
   ]
  },
  {
   "cell_type": "markdown",
   "metadata": {},
   "source": [
    "This filter step make sure that the sequences are all comparable. Now they start around the same place, and will end around the same place, so they will be comparable."
   ]
  },
  {
   "cell_type": "code",
   "execution_count": 266,
   "metadata": {
    "collapsed": false
   },
   "outputs": [
    {
     "name": "stdout",
     "output_type": "stream",
     "text": [
      "mothur > summary.seqs(fasta=../../SeqData/pear_merged_2015_07_03.assembled.demult.maxee.unique.good.filter.fasta, name=../../SeqData/pear_merged_2015_07_03.assembled.demult.maxee.good.names, processors=4)\n",
      "\n",
      "Using 4 processors.\n",
      "\n",
      "Start\tEnd\tNBases\tAmbigs\tPolymer\tNumSeqs\n",
      "Minimum:\t1\t608\t270\t0\t3\t1\n",
      "2.5%-tile:\t1\t612\t291\t0\t4\t44726\n",
      "25%-tile:\t1\t612\t292\t0\t4\t447253\n",
      "Median: \t1\t612\t292\t0\t5\t894505\n",
      "75%-tile:\t1\t612\t292\t0\t5\t1341757\n",
      "97.5%-tile:\t1\t612\t293\t0\t6\t1744284\n",
      "Maximum:\t3\t612\t299\t0\t8\t1789009\n",
      "Mean:\t1.00008\t612\t292.113\t0\t4.68282\n",
      "# of unique seqs:\t1018854\n",
      "total # of seqs:\t1789009\n",
      "\n",
      "Output File Names:\n",
      "../../SeqData/pear_merged_2015_07_03.assembled.demult.maxee.unique.good.filter.summary\n",
      "\n",
      "It took 16 secs to summarize 1789009 sequences.\n",
      "\n",
      "mothur > quit()\n"
     ]
    }
   ],
   "source": [
    "%%mothur\n",
    "summary.seqs(fasta=../../SeqData/pear_merged_2015_07_03.assembled.demult.maxee.unique.good.filter.fasta, name=../../SeqData/pear_merged_2015_07_03.assembled.demult.maxee.good.names, processors=4)"
   ]
  },
  {
   "cell_type": "code",
   "execution_count": 276,
   "metadata": {
    "collapsed": false
   },
   "outputs": [
    {
     "name": "stdout",
     "output_type": "stream",
     "text": [
      "mothur > screen.seqs(fasta=../../SeqData/pear_merged_2015_07_03.assembled.demult.maxee.unique.good.filter.fasta, name=../../SeqData/pear_merged_2015_07_03.assembled.demult.maxee.good.names, start=2, end=612, minlength=289, maxhomop=8, processors=4)\n",
      "\n",
      "Using 4 processors.\n",
      "\n",
      "Output File Names:\n",
      "../../SeqData/pear_merged_2015_07_03.assembled.demult.maxee.unique.good.filter.good.fasta\n",
      "../../SeqData/pear_merged_2015_07_03.assembled.demult.maxee.unique.good.filter.bad.accnos\n",
      "../../SeqData/pear_merged_2015_07_03.assembled.demult.maxee.good.good.names\n",
      "\n",
      "\n",
      "It took 33 secs to screen 1018854 sequences.\n",
      "\n",
      "mothur > quit()\n"
     ]
    }
   ],
   "source": [
    "%%mothur\n",
    "screen.seqs(fasta=../../SeqData/pear_merged_2015_07_03.assembled.demult.maxee.unique.good.filter.fasta, name=../../SeqData/pear_merged_2015_07_03.assembled.demult.maxee.good.names, start=2, end=612, minlength=289, maxhomop=8, processors=4)"
   ]
  },
  {
   "cell_type": "code",
   "execution_count": 277,
   "metadata": {
    "collapsed": false
   },
   "outputs": [
    {
     "name": "stdout",
     "output_type": "stream",
     "text": [
      "mothur > summary.seqs(fasta=../../SeqData/pear_merged_2015_07_03.assembled.demult.maxee.unique.good.filter.good.fasta, name=../../SeqData/pear_merged_2015_07_03.assembled.demult.maxee.good.good.names, processors=4)\n",
      "\n",
      "Using 4 processors.\n",
      "\n",
      "Start\tEnd\tNBases\tAmbigs\tPolymer\tNumSeqs\n",
      "Minimum:\t1\t612\t289\t0\t3\t1\n",
      "2.5%-tile:\t1\t612\t291\t0\t4\t44718\n",
      "25%-tile:\t1\t612\t292\t0\t4\t447175\n",
      "Median: \t1\t612\t292\t0\t5\t894350\n",
      "75%-tile:\t1\t612\t292\t0\t5\t1341524\n",
      "97.5%-tile:\t1\t612\t293\t0\t6\t1743981\n",
      "Maximum:\t1\t612\t299\t0\t8\t1788698\n",
      "Mean:\t1\t612\t292.113\t0\t4.68288\n",
      "# of unique seqs:\t1018600\n",
      "total # of seqs:\t1788698\n",
      "\n",
      "Output File Names:\n",
      "../../SeqData/pear_merged_2015_07_03.assembled.demult.maxee.unique.good.filter.good.summary\n",
      "\n",
      "It took 30 secs to summarize 1788698 sequences.\n",
      "\n",
      "mothur > quit()\n"
     ]
    }
   ],
   "source": [
    "%%mothur\n",
    "summary.seqs(fasta=../../SeqData/pear_merged_2015_07_03.assembled.demult.maxee.unique.good.filter.good.fasta, name=../../SeqData/pear_merged_2015_07_03.assembled.demult.maxee.good.good.names, processors=4)"
   ]
  },
  {
   "cell_type": "code",
   "execution_count": 278,
   "metadata": {
    "collapsed": false
   },
   "outputs": [
    {
     "name": "stdout",
     "output_type": "stream",
     "text": [
      "mothur > deunique.seqs(fasta=../../SeqData/pear_merged_2015_07_03.assembled.demult.maxee.unique.good.filter.good.fasta, name=../../SeqData/pear_merged_2015_07_03.assembled.demult.maxee.good.good.names)\n",
      "\n",
      "Output File Names:\n",
      "../../SeqData/pear_merged_2015_07_03.assembled.demult.maxee.unique.good.filter.good.redundant.fasta\n",
      "\n",
      "\n",
      "mothur > quit()\n"
     ]
    }
   ],
   "source": [
    "%%mothur\n",
    "deunique.seqs(fasta=../../SeqData/pear_merged_2015_07_03.assembled.demult.maxee.unique.good.filter.good.fasta, name=../../SeqData/pear_merged_2015_07_03.assembled.demult.maxee.good.good.names)"
   ]
  },
  {
   "cell_type": "code",
   "execution_count": 282,
   "metadata": {
    "collapsed": false
   },
   "outputs": [],
   "source": [
    "# FinalQC.fasta will be our last file.\n",
    "# Here we are taking out all the alignment characters (-,.,etc.)\n",
    "nprocs=4\n",
    "!sed '/>/! s/-//g;/>/! s/\\.//g' ../../SeqData/pear_merged_2015_07_03.assembled.demult.maxee.unique.good.filter.good.redundant.fasta > ../../SeqData/16SfinalQC.crop.fasta"
   ]
  },
  {
   "cell_type": "code",
   "execution_count": 283,
   "metadata": {
    "collapsed": false
   },
   "outputs": [
    {
     "name": "stdout",
     "output_type": "stream",
     "text": [
      ">67.2_0\r\n",
      "TTGCCAGCCGCCGCGGTAAGACGTAGGGTGCAAGCGTTGTCCGGATTTATTGGGCATAAAGAGCTCGTAGGCGGCTTGTTGCGTCGACCGTGAAAACCTACCGCTTAACGGTGGGCTTGCGGTCGATACGGGCAGGCTAGAGTTCGGTAGGGGAGACTGGAATTCCTGGTGTAGCGGTGAAATGCGCAGATATCAGGAGGAACACCGGTGGCGAAGGCGGGTCTCTGGGCCGATACTGACGCTGAGGAGCGAAAGCGTGGGGAGCGAACAGGATTAGATACCCTTGTAGTCCC\r\n",
      ">74.2_1\r\n",
      "TTGCCAGCCGCCGCGGTAATACGAAGGGGGCTAGCGTTGTTCGGATTTACTGGGCGTAAAGCGCACGTAGGCGGATCGATCAGTCAGGGGTGAAATCCCAGGGCTCAACCCTGGAACTGCCTTTGATACTGTCGATCTGGAGTATGGAAGAGGTGAGTGGAATTCCGAGTGTAGAGGTGAAATTCGTAGATATTCGGAGGAACACCAGTGGCGAAGGCGGCTCACTGGTCCATTACTGACGCTGAGGTGCGAAAGCGTGGGGAGCAAACAGGATTAGAAACCCTGGTAGTCC\r\n",
      ">67_2\r\n",
      "GTGCCAGCAGCCGCGGTAATACAGAGGGTGCAAGCGTTGTTCGGAATTATTGGGCGTAAAGGGTGCGTAGGCGGTGCGGTAAGTCTTTTGTGAAATCTCCGGGCTCAACTCGGAGCCTGCAGAAGAAACTGCCGTGCTGGAGTATGGGAGAGGTGAGTGGAATTCCCGGTGTAGCGGTGAAATGCGTAGATATCGGGAGGAACACCTGTGGCGAAAGCGGCTCACTGGACCATCACTGACGCTGATGCACGAAAGCTAGGGGAGCAAACAGGATTAGAAACCCCTGTAGTCC\r\n",
      ">1_3\r\n",
      "GTGCCAGCCGCCGCGGTAATACAGAGGTGGCAAGCGTTGTTCGGAATTACTGGGCGTAAAGGGCGCGTAGGCGGCCTTCTAAGTCAGACGTGAAATCCCCCGGCTTAACCTGGGAACTGCGTCTGATACTGGGAGGCTTGAGTATGGGAGAGGGATGTAGAATTCCAGGTGTAGCGGTGAAATGCGTAGATATCTGGAGGAATACCGGTGGCGAAGGCGGCATCCTGGACCATAACTGACGCTGAGGCGCGAAAGCTAGGGGAGCAAACGGGATTAGATACCCGAGTAGTCC\r\n",
      ">58_5\r\n",
      "GTGCCAGCAGCCGCGGTAATACAGAGGGTGCAAGCGTTAATCGGAGTTACTGGGCGTAAAGGGCGCGTAGGCGGTTATTTAAGTTTGATGTGAAAGCCCTGGGCTTAACCTAGGAACTGCATTGAAAACTGGATAACTGGAGTACTGTAGAGGGTAGTGGAATTTCCGGTGTAGCGGTGAAATGCGTAGAGATCGGAAGGAACACCAGTGGCGAAGGCGGCTACCTGGACAGATACTGACGCTGAGGCGCGAGAGCGTGGGGAGCAAACAGGATTAGAAACCCTTGTAGTCC\r\n",
      ">9_6\r\n",
      "GTGCCAGCAGCCGCGGTAATACGAAGGGGGCTAGCGTTGCTCGGAATTACTGGGCGTAAAGCGCACGTAGGCGGCTTCTTGAGTCGGTGGTGGAATCCTGGAGCTCAACTCCAGAACTGCCTTCGATACTGGGGAGCTCGAGTCCGGGAGAGGTGAGTGGAACTGCGAGTGTAGAGGTGAAATTCGTAGATATTCGCAAGAACACCGGTGGCGAAGGCGGCCATCTGGCCCACAATTGACGCTGAGGCGCGAAAGCGTGGGGAGCAAACAGGATTAGATACCCGGGTAGTCC\r\n",
      ">53_7\r\n",
      "GTGCCAGCAGCCGCGGTAATACGTAGGGTGCAAGCGTTAATCGGAATTACTGGGCGTAAAGCGTGCGCAGGCGGTTCGCTAAGACAGATGTGAAATCCCCGGGCTTAACCTGGGAACTGCATTTGTGACTGGCGGGCTAGAGTATGGCAGAGGGGGGTAGAATTCCACGTGTAGCAGTGAAATGCGTAGAGATGTGGAGGAATACCGATGGCGAAGGCAGCCCCCTGGGCCAATACTGACGCTCATGCACGAAAGCGTGGGGAGCAAACAGGATTAGAAACCCTTGTAGTCC\r\n",
      ">50_8\r\n",
      "GTGCCAGCCGCCGCGGTAATACGGAGGGGGCTAGCGTTGTTCGGAATTACTGGGCGTAAAGCGCACGTAGGCGGCTTGGTAAGTTAGAGGTGAAAGCCTGGAGCTCAACTCCAGAATTGCCTTTAAGACTGCCGAGCTAGCAGGTGAGAGAGGTGAGTGGAATTCCGAGTGTAGAGGTGAAATTCGTAGATATTCGGAAGAACACCAGTGGCGAAGGCGGCTCACTGGCTCATACTGGACGCTGAGGTGCGAAAGCGTGGGGAGCAAACAGGATTAGAAACCCTTGTAGTCC\r\n",
      ">56_9\r\n",
      "GTGCCAGCCGCCGCGGTAATACGAAGGGGGCTAGCGTTGTTCGGAATTACTGGGCGTAAAGCGCACGTAGGCGGATTTTTAAGTCAGGGGTGAAATCCCGAGGCTCAACCTCGGAACTGCCTTTGATACTGGAGATCTTGAGTTCGGAAGAGGTTGGTGGAACAGCTAGTGTAGAGGTGAAATTCGTAGATATTAGCTAGAACACCAGTGGCGAAGGCGGCCAACTGGTCCGATACTGACGCTGAGGTGCGAAAGCGTGGGGAGCAAACAGGATTAGAAACCCCGGTAGTCC\r\n",
      ">74.2_10\r\n",
      "TTGCCAGCAGCCGCGGTAATACGGAGGGTGCGAGCGTTAATCGGAATTATTGGGCGTAAAGGGTGCGTAGGTGGTTATATAAGTTAGGTGTAAAATTCCTAGGCTCAACCTGGGGTGGCCACCTAAGACTGTATAGCTAGAGTATAGGAGAGGGTAGTAGAATTTCCGGTGTAGCGGTGAAATGCGTAGAGATCGGAAGGAATACCGGTGGCGAAGGCGGCTACCTGGCCTAATACTGACACTGAGGCACGAAAGCGTGGGGAGCAAACAGGATTAGAAACCCGAGTAGTCCC\r\n",
      ">69.2_12\r\n",
      "TTGCCAGCAGCCGCGGTAATACGTAGGTGGCAAGCGTTGTCCGGAATTATTGGGCGTAAAGCGCGCGCAGGCGGTCCTTTAAGTCTGATGTGAAAGCCCACGGCTCAACCGTGGAGGGTCATTGGAAACTGGGGGACTTGAGTGCAGGAGAGAAGAGTGGAATTCCACGTGTAGCGGTGAAATGCGTAGAGATGTGGAGGAACACCAGTGGCGAAGGCGACTCTTTGGCCTGTAACTGACGCTGAGGCGCGAAAGCGTGGGGAGCAAACAGGATTAGAAACCCTGGTACACG\r\n",
      ">52_13\r\n",
      "GTGCCAGCAGCCGCGGTAATACGGAGGGGGCTAGCGTTGTTCGGAATTACTGGGCGTAAAGCGCACGTAGGCGGCTTTGTAAGTTAGAGGTGAAAGCCCGGGGCTCAACTCCGGAATTGCCTTTAAGACTGCATCGCTAGAATTGTGGAGAGGTGAGTGGAATTCCGAGTGTAGAGGTGAAATTCGTAGATATTCGGAAGAACACCAGTGGCGAAGGCGACTCACTGGACACATATTGACGCTGAGGTGCGAAAGCGTGGGGAGCAAACAGGATTAGATACCCCAGTAGTCC\r\n",
      ">22_14\r\n",
      "GTGCCAGCCGCCGCGGTAATACAGAGGATGCAAGCGTTATCCGGAATGATTGGGCGTAAAGCGTCTGTAGGTGGCTTTTTAAGTCCGCCGTCAAATCCCAGGGCTCAACTCTGGACAGGCGGTGGAAACTACCAAGCTGGAGTACGGTAGGGGCAGAGGGAATTTCCGGTGGAGCGGTGAAATGCGTAGAGATCGGAAAGAACACCAACGGCGAAAGCACTCTGCTGGGCCGACACTGACACTGAGAGACGAAAGCTAGGGGAGCGAATGGGATTAGAAACCCCTGTAGTCC\r\n",
      ">95_15\r\n",
      "GTGCCAGCCGCCGCGGTAATACGGAGGGTGCGAGCGTTAATCGGAATTACTGGGCGTAAAGGGTGCGTAGGTGGTTTGATAAGTTATCTGTGAAATTCCTGGGCTCAACCTGGGGTGGTCAGATAAGACTGTTGGACTGGAGTATGGGAGAGGGTAGTGGAATTTCCGGTGTAGCGGTGAAATGCGTAGAGATCGGAAGGAACACCAGTGGCGAAGGCGGCTACCTGGCCTAATACTGACACTGAGGCACGAAAGCGTGGGGAGCAAACAGGATTAGAAACCCCTGTAGTCC\r\n",
      ">10_16\r\n",
      "GTGCCAGCCGCCGCGGTAAGACGGGGGATGCAAGTGTTATCCGGAATCACTGGGCGTAAAGCGTCTGTAGGTGGTTTAATAAGTCAACTGCTAAATCTTGGGGCTCAACCTCGAAATCGCAGTCGAAACTATTAGACTAGAGTATAGTAGGGGTAAAGGGAATTTCCAGTGGAGCGGTGAAATGCGTAGATATTGGAAAGAACACCGATGGCGAAGGCACTTTACTGGGCTATTACTAACACTGAGAGACGAAAGCTAGGGTAGCAAATGGGATTAGAAACCCTGGTAGTCC\r\n",
      ">58_18\r\n",
      "GTGCCAGCAGCGCGGTAATACGGAGGGTGCAAGCGTTATCCGGATTCACTGGGTTTAAAGGGTGCGTAGGTGGGCTAGTAAGTCCGTGGTGAAATCTCTGAGCTTAACTCGGAAACTGCCGTGGATACTATTAGTCTTGAATCTCGTGGAGGTAAGCGGAATATGTCATGTAGCGGTGAAATGCTTAGATATGACATAGAACACCGATAGCGAAGGCAGCTTGCTACACGAGTATTGACACTGAGGCACGAAAGCGTGGGGATCAAACAGGATTAGAAACCCTAGTAGTCC\r\n",
      ">1_19\r\n",
      "GTGCCAGCCGCCGCGGTAATACCAGCACCCCGAGTGGTCGGGACGATTATTGGGCCTAAAGCATCCGTAGCCGGTTTTACAAGTCCCCCGTTAAATCCAGCTGCTTAACAGATGGGCTGCGGAGGATACTATAAGACTAGGAGGCAGGAGAGGCAAGCGGTACTCAGTGGGTAGGGGTAAAATCCGTTGATCCATTGAAGACCACCAGTGGCGAAGGCGGCTTGCCAGAATGCGCTCGACGGTGAGGGATGAAAGCTGGGGGAGCAAACCGGATTAGATACCCTTGTAGTCC\r\n",
      ">39_20\r\n",
      "GTGCCAGCAGCCGCGGTAATACGTAGGGTGCAAGCGTTAATCGGAATGACTGGGCGTAAAGGGTGTGTAGGCGGTCTGCTAAGTCTGATGTGAAAGCCCCGGGCTCAACCTGGGAACTGCGTTGGAAACTAGCAAACTAGAGTACGTAAGAGGGGGGTGGAATTCCACGTGTAGCAGTGAAATGCGTAGAGATGTGGAGGAACACCGATGGCGAAGGCAACCCCCTGGGACGATACTGACGCTGAGGCACGAAAGCGTGGGGAGCAAACAGGATTAGAAACCGTGTAGTCC\r\n",
      ">74.2_21\r\n",
      "TTGCCAGCAGCCGCGGTAAGACGGGGGATGCAAGTGTTATCCGGAATTACTGGGCGTAAAGCGTCTGCAGGTGGTTCCCTAAGTCTACTGTTAAACCTTGAGGCTCAACCTCAAATCTGCAGTGGAAACTAGGAGACTTGAGTATAGTAGGGGTAGAGGGAATTTCCAGTGGAGCGGTGAAATGCGTAGATATTGGAAAGAACACCGATGGCGAAGGCACTCTACTGGGCTATTACTGACACTCAGAGACGAAAGCTAGGGGAGCAAATGGGATTAGAAACCCCGGTAGTCC\r\n",
      ">50_22\r\n",
      "GTGCCAGCAGCCGCGGTAAGACGAGGGGTGCAAACGTTATTCGGAATGATTGGGCGTAAAGGGTGCGTAGGCGGCTTATTAAGTCAACTGTTAAATTTCTCAGCCTAACTGGGAGTATGCGGTAGAAACTGATAGGCTTGAGGATGGAAGAGAGAAGTAGAATTCTCGGAGTAGCGGTAAAATGCGTAGATCTCGAGAGGAACACCGATGGCGAAGGCAGCTTCTTGGTCCATTTCTGACGCTGAGGCACGAAAGCGTGGGGAGCAAACAGGATTAGAAACCCCAGTAGTCC\r\n",
      ">69.2_23\r\n",
      "TTGCCAGCAGCCGCGGTAATACGTAGGGTGCAAGCGTTGTCCGGATTTATTGGGCGTAAAGAGCTCGTAGGCGGCTTGTCACGTCGGATGTGAAAGCCCGAGGCTTAACCTCGGGTCTGCATTCGATACGGGCTAGCTAGAGTGTGGTAGGGGAGATCGGAATTCCTGGTGTAGCGGTGAAATGCGCAGATATCAGGAGGAACACCGGTGGCGAAGGCGGATCTCTGGGCCATTACTGACGCTGAGGAGCGAAAGCGTGGGGAGCGAACAGGATTAGAAACCCCGGTAGTCCC\r\n",
      ">41_24\r\n",
      "GTGCCAGCAGCCGCGGTAATACGAAGGGGGCTAGCGTTGTTCGGAATTACTGGGCGTAAAGCGCACGTAGGCGGATATTTAAGTCAGGGGTGAAATCCCAGAGCTCAACTCTGGAACTGCCTTTGATACTGGGTATCTCGAGTATGGAAGAGGTGAGTGGAATTCCGAGTGTAGAGGTGAAATTCGTAGATATTCGGAGGAACACCAGTGGCGAAGGCGGCTCACTGGTCCATTACTGACGCTGAGGTGCGAAAGCGTGGGGAGCAAACAGGATTAGATACCCTGGTAGTCC\r\n",
      ">104_25\r\n",
      "GTGCCAGCAGCCGCGGTAATACGGGGGGGCAAGCGTTGTTCGGAATTACTGGGCGTAAAGGGTTCGTAGGTGGCTTGCTAAGTCAGACGTGAAATCCCTCGGCTCAACCGGGGAACTGCGTCTGAGACTGGCGAGCTTGAGTGCAGGAGAGGAACGCAGAATTCCAGGTGTAGCGGTGAAATGCGTAGATATCTGGAGGAATACCGGTGGCGAAGGCGGCGTTCTGGACTGCAACTGACACTGAGGAACGAAAGCCAGGGGAGCAAACGGGATTAGAAACCCCAGTAGTCC\r\n",
      ">49_26\r\n",
      "GTGCCAGCAGCCGCGGTAACACGTAGGGGGCAAGCGTTGTCCGGAATTATTGGGCGTAAAGCGCGCGCAGGTGGTTTCTTAAGTCTGATGTGAAAGCCCACGGCTCAACCGTGGAGGGTCATTGGAAACTGGGGAACTTGAGTGCAGAAGAGGAAAGTGGAATTCCAAGTGTAGCGGTGAAATGCGTAGAGATTTGGAGGAACACCAGTGGCGAAGGCGACTTTCTGGTCTGTAACTGACACTGAGGCGCGAAAGCGTGGGGAGCGAACAGGATTAGATACCCGTGTAGTCC\r\n",
      ">76.2_27\r\n",
      "TTGCCAGCAGCCGCGGTAATACGTAGGTGGCAAGCGTTATCCGGAATTATTGGGCGTAAAGCGCGCGCAGGCGGTTTCTTAAGTCTGATGTGAAAGCCCACGGCTCAACCGTGGAGGGTCATTGGAAACTGGGGAACTTGAGTGCAGAAGAGAAAAGCGGAATTCCACGTGTAGCGGTGAAATGCGTAGAGATGTGGAGGCACACCAGTGGCGAAGGCGGCTTTTTGGTCTGTAACTGACGCTGAGGCGCGAAAGCGTGGGGAGCAAACAGGATTAGATACCCCAGTAGTCCC\r\n",
      ">96_28\r\n",
      "GTGCCAGCAGCCGCGGTAATACGTAGGGTGCTAGCGTTAATCGGAATTACTGGGCGTAAAGCGTGCGCAGGCGGTTTTGTAAGCCAGATGTGCAATCCCCGGGCTTAAACTGGGAATGGCATTTGGGACTGCAAGGCTGGAGTGTGGCAGAGGAGACTGGAATTCCTGGTGTAGCAGTGAAATGCGTAGATATCAGGAGGAATACCGATGGCGAAGGCAGGTCTCTGGGCTGACACTGACGCTCATGCACGAAAGCGTGGGGAGCAAACAGGATTAGATACCCTGGTAGTCC\r\n",
      ">58_29\r\n",
      "GTGCCAGCAGGCGGTAATACGAAGGGGGCTAGCGTTGTTCGGAATTACTGGGCGTAAAGCGCACGTAGGCGGATATTTAAGTCAGGGGTGAAATCCCGGGGCTCAACCCCGGAACTGCCTTTGATACTGGGTATCTCGAGTCCGAGAGAGGTGAGTGGAATTCCGAGTGTAGAGGTGAAATTCGTAGATATTCGGAGGAACACCAGTGGCGAAGGCGGCTCACTGGCTCGGTACTGACGCTGAGGTGCGAAAGCGTGGGGAGCAAACAGGATTAGAAACCCCAGTAGTCC\r\n",
      ">72.2_30\r\n",
      "TTGCCAGCCGCCGCGGTAATACAGAGGTCTCAAGCGTTGTTCGGATTTATTGGGCGTAAAGGGTGCGTAGGCGGCAGATCAAGTTAGATGCGAAATACCCGGGCTCAACTCGGGAACTGCATTTAATACTGCTCTGCTCGAGTATTAGAGAAGAAGCTGGAATTTACGGTGTAGCAGTGAAATGCGTAGATATCGTAAAGAACGTCAGTGGCGAAAGCGAGCTTCTAGATAATTACTGACGCTGAGGCACGAAAGCTAGGGGAGCAAACGGGATTAGATACCCGAGTAGTCC\r\n",
      ">99_31\r\n",
      "GTGCCAGCCGCCGCGGTAATACGAAGGGGGCTAGCGTTGTTCGGAATTACTGGGCGTAAAGCGCACGTAGGCGGACTATTAAGTCAGGGGTGAAATCCCGGGGCTCAACCCCGGAACTGCCTTTGATACTGGTAGTCTCGAGTCCGGAAGAGGTGAGTGGAATTCCGAGTGTAGAGGTGAAATTCGTAGATATTCGGAGGAACACCAGTGGCGAAGGCGGCTCACTGGTCCGGTACTGACGCTGAGGTGCGAAAGCGTGGGGAGCAAACAGGATTAGAAACCCCGGTAGTCC\r\n",
      ">56_32\r\n",
      "GTGCCAGCAGCCGCGGTAATACGAAGGGGGCTAGCGTTGCTCGGAATCACTGGGCGTAAAGGGCGCGTAGGCGGACTTTTAAGTCGGAGGTGAAAGCCCAGGGCTCAACCCTGGAATTGCCTTCGATACTGGGAGTCTTGAGTTCGGGAGAGGTGAGTGGAACTGCGAGTGTAGAGGTGAAATTCGTAGATATTCGCAAGAACACCAGTGGCGAAGGCGGCTCACTGGCCCGATACTGACGCTGAGGCACGAAAGCGTGGGGAGCAAACAGGATTAGATACCCTGGTAGTCC\r\n",
      ">39_33\r\n",
      "GTGCCAGCCGCCGCGGTAATACGTAGGGGGCTAGCGTTGTCCGGAATCATTGGGCGTAAAGCGCGTGTAGGCGGTCCGGTAAGTCCGCTGTGAAAGTCGGGGGCTCAACCCTCGGATGCCGGTGGATACTGTCGGGCTTGAGTACGGAAGAGGCGAGTGGAATTCCTGGTGTAGCGGTGAAATGCGCAGATATCAGGAGGAACACCAATTGCGAAGGCAGCTCGCTGGGACGTTACTGACGCTGAGACGCGAAAGCGTGGGGAGCAAACAGGATTAGAAACCCTGGTAGTCC\r\n",
      ">99_34\r\n",
      "GTGCCAGCCGCCGCGGTAATACGGGGGGTGCGAGCGTTGTCCGGATTTACTGGGCGTAAAGGGCGCGTAGGCGGCCGCATCAGTCGGGCCTGTAAGTGCGGGGCTCAACCCCGTGATGGGCTCGGGACGGTGCGGCTGGGGCGCGGCAGAGGGAGACGGAATGCCGGGTGTAGTGGTGAAATGCGTAGAGATCCGGCGGAACACCGGTGGTGAAGGCGGTCTCCTGGGCCGAGAGCCGACGCTGAGGCGCGAGAGCGTGGGGAGCGAACCGGATTAGATACCCGAGTAGTCC\r\n",
      ">71.2_35\r\n",
      "TTGCCAGCAGCCGCGGTAATACAGAGACTGCAAGCGTTATTCGGATTCACTGGGCGTAAAGGGTGCGCAGGCGGTTGGGTGTGTCAGATGTGAAATCCCGAGGCTCAACCTCGGAACTGCGTCTGAAACTACTCGACTAGAGTATTGGAGAGGGTAACGGAATTCACGGTGTAGCAGTGAAATGCGTAGATATCGTGAGGAACACCAGAGGCGAAGGCGGTTACCTGGACAATTACTGACGCTCAGGCACGAAAGCATGGGGAGCAAAAGGGATTAGATACCCTTGTAGTCCC\r\n",
      ">61_36\r\n",
      "GTGCCAGCCGCCGCGGTAATACGTAGGGTCCGAGCGTTGTCCGGAGTTACTGGGCGTAAAGCGCGCGCAGGCGGCGGTGCTGGCCCGGCGTGAAAGCCCCCGGCTCAACCGGGGAGGGTCGTCGGGGACCGCACCGCTTGAGGGCGGTAGGGGCTGGTGGAATGCCTGGTGTAGTGGTGAAATGCGTAGAGATCAGGCGGAACACCCGTGGCGAAGGCGGCCAGCTGGGCCGTCCCTGACGCTGAGGCGCGAAGGCGTGGGGAGCGAACGGGATTAGATACCCGAGTAGTCC\r\n",
      ">50_37\r\n",
      "GTGCCAGCCGCCGCGGTAATACGGGGGGGGCAAGCGTTGTTCGGAATTACTGGGCGTAAAGGGCGCGTAGGCGGCCAGACCAAGTCGAGTGTGAAATTGCAGGGCTTAACTTTGCAGGGTCGCTCGATACTGGTCGGCTAGGGTGTGGAAGAGGGTGCTGGAATTCCCGGTGTAGCGGTGAAATGCGTAGATATCGGGAGGAACACCAGTGGCGAAGGCGGGCACCTGGGCCGACACTGACGCTGAGGCGCGAAAGCTAGGGGAGCAAACAGGATTAGAAACCCGAGTAGTCC\r\n",
      ">39_38\r\n",
      "GTGCCAGCAGCCGCGGTAATACAGGGGGTGCGAGCGTTAATCGGAATTACTGGGTGTAAAGGGCGCGTAGGCGGCAGGACATGTGTGATGTGAAAGCCCCGGGCTTAACCTGGGAAGCGCATTGCAAACTGTCCAGCTGGAGTACATGAGAGGGTGGCGGAATTTCCGGTGTAGCGGTGAAATGCGTAGAGATCGGAAGGAACGTCGATGGCGAAGGCAGCCACCTGGCATGATACTGACGCTGAGGCGCGAAAGCGTGGGGAGCGAACAGGATTAGATACCCCAGTAGTCC\r\n",
      ">4_39\r\n",
      "GTGCCAGCCGCCGCGGTAATACGTAGGTGGCAAGCGTTGTCCGGAATTATTGGGCGTAAAGCGCGCGCAGGTGGTTCCTTAAGTCTGATGTGAAAGCCCACGGCTCAACCGTGGAGGGTCATTGGAAACTGGGGAACTTGAGTGCAGAAGAGGAAAGTGGAATTCCAAGTGTAGCGGTGAAATGCGTAGAGATTTGGAGGAACACCAGTGGCGAAGGCGACTTTCTGGTCTGTAACTGACACTGAGGCGCGAAAGCGTGGGGAGCAAACAGGATTAGATACCCTGGTAGTCC\r\n",
      ">1_41\r\n",
      "GTGCCAGCCGCCGCGGTAATACGGAGGGTGCGAGCGTTAATCGGAATTACTGGGCGTAAAGCGTGCGTAGGTGGTTTGATAAGTTATCTGTGAAATCCCTGGGCTCAACCTGGGCAGGTCAGATAATACTGTTGGACTCGAGTATGGGAGAGGGTAGTGGAATTTCCGGTGTAGCGGTGAAATGCGTAGAGATCGGAAGGAACACCAGTGGCGAAGGCGGCTACCTGGCCTAATACTGACACTGAGGCACGAAAGCGTGGGGAGCAAACAGGATTAGATACCCGTGTAGTCC\r\n",
      ">74.2_42\r\n",
      "TTGCCAGCAGCCGCGGTAATACGTAGGGTGCGAGCGTTAATCGGAATTACTGGGCGTAAAGCGTGCGCAGGCGGTTATATAAGACAGATGTGAAATCCCCGGGCTCAACCTGGGAACTGCATTTGTGACTGTATAGCTAGAGTACGGCAGAGGGGGATGGAATTCCGCGTGTAGCAGTGAAATGCGTAGATATGCGGAGGAACACCGATGGCGAAGGCAATCCCCTGGGCCTGTACTGACGCTCATGCACGAAAGCGTGGGGAGCAAACAGGATTAGAAACCCCTGTAGTCCC\r\n",
      ">103_43\r\n",
      "GTGCCAGCAGCCGCGGTAATACGAAGGGGGCTAGCGTTGTTCGGAATTACTGGGCGTAAAGCGCACGTAGGCGGATCGATCAGTCAGGGGTGAAATCCCAGGGCTCAACCCTGGAACTGCCTTTGATACTGTCGATCTGGAGTATGGAAGAGGTGAGTGGAATTCCGAGTGTAGAGGTGAAATTCGTAGATATTCGGAGGAACACCAGTGGCGAAGGCGGCTCACTGGTCCATTACTGACGCTGAGGTGCGAAAGCGTGGGGAGCAAACAGGATTAGATACCCGTGTAATCC\r\n",
      ">102_44\r\n",
      "GTGCCAGCAGCCGCGGTAAGACAGAGGGTGCAAACGTTGTTCGGAATTACTGGGCGTAAAGCGTGTGTAGGTGGCTGCGAAAGTCGGATGTGAAAGCCCTGGGCTCAACTCAGGAAGTGCACCCGATACTGCGCAGCTCGAGTACCGGAGAGGTTGGTAGAATTCTCGGTGTAGAGGTGAAATTCGTAGATATCGAGAGGAATACCTGTGGCGAAGGCGGCCAACTGGACGAGTACTGACACTGAGACACGAAAGCGTGGGGAGCAAACAGGATTAGATACCCTTGTAGTCC\r\n",
      ">38_45\r\n",
      "GTGCCAGCAGCCGCGGTAATACAGAGGGTGCAAGCGTTAATCGGATTTACTGGGCGTAAAGCGTGTGTAGGTGGTCAAGAAAGTCGGTTGTGAAATCCCTGGGCTCAACCCGGGAACTGCTTCCGATACTTCATGACTCGAATTCGGTAGAGGGAGGCGGAACTCCAGGTGTAGCGGTGAAATGCGTAGATATCTGGAAGAACACCAATGGCGAAGGCAACCTCCTGGGCCTGAATTGACACTGAGACACGAAAGCGTGGGGTTCAAACAGGATTAGAAACCCAGTAGTCC\r\n",
      ">77.2_46\r\n",
      "TTGCCAGCAGCCGCGGTAATACGAAGGGGGCTAGCGTTGCTCGGAATCACTGGGCGTAAAGGGTGCGTAGGCGGGTTTTTAAGTCAGAGGTGAAATCCTGGAGCTCAACTCCAGAACTGCCTTTGATACTGGGAATCTTGAGTATGGAAGAGGTGAGTGGAACTGCGAGTGTAGAGGTGAAATTCGTAGATATTCGCAAGAACACCAGTGGCGAAGGCGGCTCACTGGTCCATAACTGACGCTGAGGCACGAAAGCGTGGGGAGCAAACAGGATTAGAAACCCTAGTAGTCC\r\n",
      ">99_47\r\n",
      "GTGCCAGCCGCCGCGGTAATACGTAGGGTGCGAGCGTTAATCGGAATTACTGGGCGTAAAGCGTGCGCAGGCGGTTTTGTAAGCCAGATGTGAAAGCCCCGGGCTCAACCTGGGAATGGCATTTGGGACTGCAAGGCTTGAGTTTGGCAGAGGAGACTGGAATTCCTGGTGTAGCAGTGAAATGCGTAGATATCAGGAGGAATACCGATGGCGAAGGCAGGTCTCTGGGCTATAACTGACGCTCATGCACGAAAGCGTGGGGAGCAAACAGGATTAGAAACCCCAGTAGTCC\r\n",
      ">93_42945\r\n",
      "GTGCCAGCCGCCGCGGTAATACGTAGGGTGCGAGCGTTAATCGGAATTACTGGGCGTAAAGCGTGCGCAGGCGGTTTTGTAAGCCAGATGTGAAAGCCCCGGGCTCAACCTGGGAATGGCATTTGGGACTGCAAGGCTTGAGTTTGGCAGAGGAGACTGGAATTCCTGGTGTAGCAGTGAAATGCGTAGATATCAGGAGGAATACCGATGGCGAAGGCAGGTCTCTGGGCTATAACTGACGCTCATGCACGAAAGCGTGGGGAGCAAACAGGATTAGAAACCCCAGTAGTCC\r\n",
      ">62_48\r\n",
      "GTGCCAGCAGCCGCGGTAATACGTAGGGCGCAAGCGTTGTCCGGAATTATTGGGCGTAAAGAGCTCGTAGGCGGCTTGTCACGTCGGGTGTGAAAGCCCGGGGCTTAACCCCGGGTCTGCATTCGATACGGGCTAGCTAGAGTGTGGTAGGGGAGATCGGAATTCCTGGTGTAGCGGTGAAATGCGCAGATATCAGGAGGAACACCGGTGGCGAAGGCGGATCTCTGGGCCATTACTGACGCTGAGGAGCGAAAGCGTGGGGAGCGAACAGGATTAGATACCCGAGTAGTCC\r\n",
      ">70_49\r\n",
      "GTGCCAGCAGCCGCGGTAATACGGAGGGTGCAAGCGTTATCCGGATTCACTGGGTTTAAAGGGTGCGTAGGCGGGCAGGTAAGTCAGTGGTGAAATCCTAGAGCTTAACTCTAGAACTGCCATTGATACTATCTGTCTTGAATATTGTGGAGGTAAGCGGAATATGTCATGTAGCGGTGAAATGCTTAGATATGACATAGAACACCTATTGCGAAGGCAGCTTACTACGCATATATTGACGCTGAGGCACGAAAGCGTGGGGATCAAACAGGATTAGAAACCCGGGTAGTCC\r\n",
      ">70_33622\r\n",
      "GTGCCAGCAGCCGCGGTAATACGGAGGGTGCAAGCGTTATCCGGATTCACTGGGTTTAAAGGGTGCGTAGGCGGGCAGGTAAGTCAGTGGTGAAATCCTAGAGCTTAACTCTAGAACTGCCATTGATACTATCTGTCTTGAATATTGTGGAGGTAAGCGGAATATGTCATGTAGCGGTGAAATGCTTAGATATGACATAGAACACCTATTGCGAAGGCAGCTTACTACGCATATATTGACGCTGAGGCACGAAAGCGTGGGGATCAAACAGGATTAGAAACCCGGGTAGTCC\r\n",
      ">106_50\r\n",
      "GTGCCAGCCGCCGCGGTAATACGTAGGGTGCGAGCGTTAATCGGAATTACTGGGCGTAAAGCGTGCGCAGGCGGTTTTGTAAGCCAGATGTGAAAGCCCCGGGCTTAACCTGGGAATGGCATTTGGGACTGCAAGGCTTGAGTGCGGCAGAGGAGACTGGAATTCCTGGTGTAGCAGTGAAATGCGTAGATATCAGGAGGAACACCGATGGCGAAGGCAGGTCTCTGGGCTGACACTGACGCTCATGCACGAAAGCGTGGGGAGCAAACAGGATTAGATACCCTGGTAGTCC\r\n",
      ">106_27599\r\n",
      "GTGCCAGCCGCCGCGGTAATACGTAGGGTGCGAGCGTTAATCGGAATTACTGGGCGTAAAGCGTGCGCAGGCGGTTTTGTAAGCCAGATGTGAAAGCCCCGGGCTTAACCTGGGAATGGCATTTGGGACTGCAAGGCTTGAGTGCGGCAGAGGAGACTGGAATTCCTGGTGTAGCAGTGAAATGCGTAGATATCAGGAGGAACACCGATGGCGAAGGCAGGTCTCTGGGCTGACACTGACGCTCATGCACGAAAGCGTGGGGAGCAAACAGGATTAGATACCCTGGTAGTCC\r\n"
     ]
    }
   ],
   "source": [
    "!head -100 ../../SeqData/16SfinalQC.fasta"
   ]
  },
  {
   "cell_type": "code",
   "execution_count": 281,
   "metadata": {
    "collapsed": false
   },
   "outputs": [
    {
     "name": "stdout",
     "output_type": "stream",
     "text": [
      "mothur > summary.seqs(fasta=../../SeqData/16SfinalQC.fasta)\n",
      "\n",
      "Using 1 processors.\n",
      "\n",
      "Start\tEnd\tNBases\tAmbigs\tPolymer\tNumSeqs\n",
      "Minimum:\t1\t289\t289\t0\t3\t1\n",
      "2.5%-tile:\t1\t291\t291\t0\t4\t44718\n",
      "25%-tile:\t1\t292\t292\t0\t4\t447175\n",
      "Median: \t1\t292\t292\t0\t5\t894350\n",
      "75%-tile:\t1\t292\t292\t0\t5\t1341524\n",
      "97.5%-tile:\t1\t293\t293\t0\t6\t1743981\n",
      "Maximum:\t1\t299\t299\t0\t8\t1788698\n",
      "Mean:\t1\t292.113\t292.113\t0\t4.68288\n",
      "# of Seqs:\t1788698\n",
      "\n",
      "Output File Names:\n",
      "../../SeqData/16SfinalQC.summary\n",
      "\n",
      "It took 203 secs to summarize 1788698 sequences.\n",
      "\n",
      "mothur > quit()\n"
     ]
    }
   ],
   "source": [
    "%%mothur\n",
    "summary.seqs(fasta=../../SeqData/16SfinalQC.fasta, processors=4)"
   ]
  },
  {
   "cell_type": "markdown",
   "metadata": {},
   "source": [
    "###Here we made the databases from mothur's reference Silva database. We took eukaryotic, archaeal, and bacterial sequences that should have hit our primers, combine them, cut them to our range, and filter out gaps."
   ]
  },
  {
   "cell_type": "code",
   "execution_count": 11,
   "metadata": {
    "collapsed": true
   },
   "outputs": [
    {
     "name": "stdout",
     "output_type": "stream",
     "text": [
      "  % Total    % Received % Xferd  Average Speed   Time    Time     Time  Current\n",
      "                                 Dload  Upload   Total   Spent    Left  Speed\n",
      "100 24.3M  100 24.3M    0     0   637k      0  0:00:39  0:00:39 --:--:--  689k\n",
      "  % Total    % Received % Xferd  Average Speed   Time    Time     Time  Current\n",
      "                                 Dload  Upload   Total   Spent    Left  Speed\n",
      "100 2464k  100 2464k    0     0   553k      0  0:00:04  0:00:04 --:--:--  553k\n",
      "  % Total    % Received % Xferd  Average Speed   Time    Time     Time  Current\n",
      "                                 Dload  Upload   Total   Spent    Left  Speed\n",
      "100 3773k  100 3773k    0     0   482k      0  0:00:07  0:00:07 --:--:--  642k\n",
      "Archive:  ../../SeqData/db/silva_B.zip\n",
      "   creating: silva.bacteria/\n",
      "  inflating: silva.bacteria/.DS_Store  \n",
      "   creating: __MACOSX/\n",
      "   creating: __MACOSX/silva.bacteria/\n",
      "  inflating: __MACOSX/silva.bacteria/._.DS_Store  \n",
      "  inflating: silva.bacteria/silva.bacteria.fasta  \n",
      "  inflating: __MACOSX/silva.bacteria/._silva.bacteria.fasta  \n",
      "  inflating: silva.bacteria/silva.bacteria.gg.tax  \n",
      "  inflating: __MACOSX/silva.bacteria/._silva.bacteria.gg.tax  \n",
      "  inflating: silva.bacteria/silva.bacteria.ncbi.tax  \n",
      "  inflating: __MACOSX/silva.bacteria/._silva.bacteria.ncbi.tax  \n",
      "  inflating: silva.bacteria/silva.bacteria.rdp.tax  \n",
      "  inflating: __MACOSX/silva.bacteria/._silva.bacteria.rdp.tax  \n",
      "  inflating: silva.bacteria/silva.bacteria.rdp6.tax  \n",
      "  inflating: __MACOSX/silva.bacteria/._silva.bacteria.rdp6.tax  \n",
      "  inflating: silva.bacteria/silva.bacteria.silva.tax  \n",
      "  inflating: __MACOSX/silva.bacteria/._silva.bacteria.silva.tax  \n",
      "  inflating: silva.bacteria/silva.gold.ng.fasta  \n",
      "  inflating: __MACOSX/._silva.bacteria  \n",
      "Archive:  ../../SeqData/db/silva_E.zip\n",
      "   creating: silva.eukarya/\n",
      "  inflating: silva.eukarya/nogap.eukarya.fasta  \n",
      "   creating: __MACOSX/silva.eukarya/\n",
      "  inflating: __MACOSX/silva.eukarya/._nogap.eukarya.fasta  \n",
      "  inflating: silva.eukarya/silva.eukarya.fasta  \n",
      "  inflating: __MACOSX/silva.eukarya/._silva.eukarya.fasta  \n",
      "  inflating: silva.eukarya/silva.eukarya.ncbi.tax  \n",
      "  inflating: __MACOSX/silva.eukarya/._silva.eukarya.ncbi.tax  \n",
      "  inflating: silva.eukarya/silva.eukarya.silva.tax  \n",
      "  inflating: __MACOSX/silva.eukarya/._silva.eukarya.silva.tax  \n",
      "  inflating: __MACOSX/._silva.eukarya  \n",
      "Archive:  ../../SeqData/db/silva_A.zip\n",
      "   creating: Silva.archaea/\n",
      "  inflating: Silva.archaea/.silva.archaea.silva.tax.swp  \n",
      "   creating: __MACOSX/Silva.archaea/\n",
      "  inflating: __MACOSX/Silva.archaea/._.silva.archaea.silva.tax.swp  \n",
      "  inflating: Silva.archaea/nogap.archaea.fasta  \n",
      "  inflating: __MACOSX/Silva.archaea/._nogap.archaea.fasta  \n",
      "  inflating: Silva.archaea/silva.archaea.fasta  \n",
      "  inflating: __MACOSX/Silva.archaea/._silva.archaea.fasta  \n",
      "  inflating: Silva.archaea/silva.archaea.gg.tax  \n",
      "  inflating: Silva.archaea/silva.archaea.ncbi.tax  \n",
      "  inflating: Silva.archaea/silva.archaea.rdp.tax  \n",
      "  inflating: Silva.archaea/silva.archaea.silva.tax  \n",
      "  inflating: __MACOSX/Silva.archaea/._silva.archaea.silva.tax  \n",
      "  inflating: __MACOSX/._Silva.archaea  \n"
     ]
    }
   ],
   "source": [
    "!mkdir ../../SeqData/db/\n",
    "!curl -o ../../SeqData/db/silva_B.zip http://www.mothur.org/w/images/9/98/Silva.bacteria.zip\n",
    "!curl -o ../../SeqData/db/silva_E.zip http://www.mothur.org/w/images/1/1a/Silva.eukarya.zip\n",
    "!curl -o ../../SeqData/db/silva_A.zip http://www.mothur.org/w/images/3/3c/Silva.archaea.zip\n",
    "!unzip ../../SeqData/db/silva_B.zip\n",
    "!unzip ../../SeqData/db/silva_E.zip\n",
    "!unzip ../../SeqData/db/silva_A.zip\n",
    "# Getting the Silva databases that mothur recommends\n",
    "# We aren't using these for our taxonomy assignments, per se - just to align our sequences for QC"
   ]
  },
  {
   "cell_type": "code",
   "execution_count": 14,
   "metadata": {
    "collapsed": false
   },
   "outputs": [],
   "source": [
    "!cat silva.bacteria/silva.bacteria.fasta \\\n",
    "    silva.eukarya/silva.eukarya.fasta \\\n",
    "    Silva.archaea/silva.archaea.fasta \\\n",
    "    > ../../SeqData/db/silva.total.fasta\n",
    "# Joining the ref files together"
   ]
  },
  {
   "cell_type": "code",
   "execution_count": 23,
   "metadata": {
    "collapsed": true
   },
   "outputs": [
    {
     "name": "stdout",
     "output_type": "stream",
     "text": [
      "mothur > filter.seqs(vertical=t, fasta=../../SeqData/db/silva.total.fasta, processors=4)\n",
      "\n",
      "Using 4 processors.\n",
      "Creating Filter...\n",
      "\n",
      "\n",
      "Running Filter...\n",
      "\n",
      "\n",
      "\n",
      "Length of filtered alignment: 11616\n",
      "Number of columns removed: 38384\n",
      "Length of the original alignment: 50000\n",
      "Number of sequences used to construct filter: 18491\n",
      "\n",
      "Output File Names:\n",
      "../../SeqData/db/silva.filter\n",
      "../../SeqData/db/silva.total.filter.fasta\n",
      "\n",
      "\n",
      "mothur > # Just gets rid of vertical gaps in alignment in the database - will speed things up later on.\n",
      "[ERROR]: You are missing (\n",
      "Invalid.\n",
      "\n",
      "mothur > quit()\n"
     ]
    }
   ],
   "source": [
    "%%mothur\n",
    "filter.seqs(vertical=t, fasta=../../SeqData/db/silva.total.fasta, processors=4)\n",
    "# Just gets rid of vertical gaps in alignment in the database - will speed things up later on."
   ]
  },
  {
   "cell_type": "code",
   "execution_count": 24,
   "metadata": {
    "collapsed": false
   },
   "outputs": [
    {
     "name": "stdout",
     "output_type": "stream",
     "text": [
      "mothur > summary.seqs(fasta=../../SeqData/db/silva.total.filter.fasta, processors=4)\n",
      "\n",
      "Using 4 processors.\n",
      "\n",
      "Start\tEnd\tNBases\tAmbigs\tPolymer\tNumSeqs\n",
      "Minimum:\t1\t11562\t1252\t0\t4\t1\n",
      "2.5%-tile:\t1\t11616\t1396\t0\t5\t463\n",
      "25%-tile:\t1\t11616\t1423\t0\t5\t4623\n",
      "Median: \t1\t11616\t1452\t0\t5\t9246\n",
      "75%-tile:\t1\t11616\t1467\t0\t6\t13869\n",
      "97.5%-tile:\t1\t11616\t1741\t3\t7\t18029\n",
      "Maximum:\t1\t11616\t2920\t5\t10\t18491\n",
      "Mean:\t1\t11616\t1464.96\t0.351685\t5.52918\n",
      "# of Seqs:\t18491\n",
      "\n",
      "Output File Names:\n",
      "../../SeqData/db/silva.total.filter.summary\n",
      "\n",
      "It took 4 secs to summarize 18491 sequences.\n",
      "\n",
      "mothur > quit()\n"
     ]
    }
   ],
   "source": [
    "%%mothur\n",
    "summary.seqs(fasta=../../SeqData/db/silva.total.filter.fasta, processors=4)"
   ]
  },
  {
   "cell_type": "markdown",
   "metadata": {},
   "source": [
    "Trimming the sequences in the database - our primers actually trim it back to about just the bacterial database (14868 seqs/18491). We might try keeping the non-primer matched sequences in there, but just using the bacterial database (14956). "
   ]
  },
  {
   "cell_type": "markdown",
   "metadata": {},
   "source": [
    "Actually, there must be some archeal or whatever in there, because trimming the bacterial db using pcr.seqs cuts it down to 13615 sequences. So, might as well go with the full, filtered db."
   ]
  },
  {
   "cell_type": "code",
   "execution_count": 25,
   "metadata": {
    "collapsed": false
   },
   "outputs": [
    {
     "name": "stdout",
     "output_type": "stream",
     "text": [
      "mothur > pcr.seqs(fasta=../../SeqData/db/silva.total.filter.fasta, oligos=../../SeqData/primers.txt, processors=4)\n",
      "\n",
      "Using 4 processors.\n",
      "\n",
      "Output File Names:\n",
      "../../SeqData/db/silva.total.filter.pcr.fasta\n",
      "../../SeqData/db/silva.total.filter.bad.accnos\n",
      "../../SeqData/db/silva.total.filter.scrap.pcr.fasta\n",
      "\n",
      "\n",
      "It took 12 secs to screen 18491 sequences.\n",
      "\n",
      "mothur > quit()\n"
     ]
    }
   ],
   "source": [
    "%%mothur\n",
    "pcr.seqs(fasta=../../SeqData/db/silva.total.filter.fasta, oligos=../../SeqData/primers.txt, processors=4)"
   ]
  },
  {
   "cell_type": "code",
   "execution_count": 26,
   "metadata": {
    "collapsed": false
   },
   "outputs": [
    {
     "name": "stdout",
     "output_type": "stream",
     "text": [
      "mothur > summary.seqs(fasta=../../SeqData/db/silva.total.filter.pcr.fasta)\n",
      "\n",
      "Using 1 processors.\n",
      "\n",
      "Start\tEnd\tNBases\tAmbigs\tPolymer\tNumSeqs\n",
      "Minimum:\t4186\t7013\t230\t0\t3\t1\n",
      "2.5%-tile:\t4187\t7013\t252\t0\t4\t372\n",
      "25%-tile:\t4187\t7013\t253\t0\t4\t3718\n",
      "Median: \t4187\t7013\t253\t0\t4\t7435\n",
      "75%-tile:\t4187\t7013\t253\t0\t5\t11152\n",
      "97.5%-tile:\t4187\t7013\t254\t1\t6\t14497\n",
      "Maximum:\t4187\t7060\t311\t5\t9\t14868\n",
      "Mean:\t4187\t7013\t253.048\t0.0471482\t4.57378\n",
      "# of Seqs:\t14868\n",
      "\n",
      "Output File Names:\n",
      "../../SeqData/db/silva.total.filter.pcr.summary\n",
      "\n",
      "It took 5 secs to summarize 14868 sequences.\n",
      "\n",
      "mothur > quit()\n"
     ]
    }
   ],
   "source": [
    "%%mothur\n",
    "summary.seqs(fasta=../../SeqData/db/silva.total.filter.pcr.fasta, processors=4)"
   ]
  },
  {
   "cell_type": "markdown",
   "metadata": {
    "collapsed": true
   },
   "source": [
    "PCRing the reference db with our sequences yielded only 250bp or so sequences, but ours are longer... I can try to expand the db by cutting at, say, 3600 and 7500 and see if that makes a difference - keeping still the smaller db for faster alignment."
   ]
  },
  {
   "cell_type": "markdown",
   "metadata": {},
   "source": [
    "It is better - come out more with 293bp seqs, not 250bp. I played around expanding or contracting it to optimize time/size."
   ]
  },
  {
   "cell_type": "code",
   "execution_count": 160,
   "metadata": {
    "collapsed": false
   },
   "outputs": [
    {
     "name": "stdout",
     "output_type": "stream",
     "text": [
      "mothur > pcr.seqs(fasta=../../SeqData/db/silva.total.filter.fasta, start=3200, end=7200, processors=4)\n",
      "\n",
      "Using 4 processors.\n",
      "\n",
      "Output File Names:\n",
      "../../SeqData/db/silva.total.filter.pcr.fasta\n",
      "\n",
      "\n",
      "It took 9 secs to screen 18491 sequences.\n",
      "\n",
      "mothur > quit()\n"
     ]
    }
   ],
   "source": [
    "%%mothur\n",
    "pcr.seqs(fasta=../../SeqData/db/silva.total.filter.fasta, start=3200, end=7200, processors=4)"
   ]
  },
  {
   "cell_type": "code",
   "execution_count": 161,
   "metadata": {
    "collapsed": false
   },
   "outputs": [
    {
     "name": "stdout",
     "output_type": "stream",
     "text": [
      "mothur > summary.seqs(fasta=../../SeqData/db/silva.total.filter.pcr.fasta, processors=4)\n",
      "\n",
      "Using 4 processors.\n",
      "\n",
      "Start\tEnd\tNBases\tAmbigs\tPolymer\tNumSeqs\n",
      "Minimum:\t3201\t7159\t335\t0\t3\t1\n",
      "2.5%-tile:\t3201\t7175\t354\t0\t4\t463\n",
      "25%-tile:\t3201\t7180\t356\t0\t4\t4623\n",
      "Median: \t3201\t7180\t357\t0\t5\t9246\n",
      "75%-tile:\t3201\t7184\t358\t0\t5\t13869\n",
      "97.5%-tile:\t3211\t7188\t528\t1\t6\t18029\n",
      "Maximum:\t3221\t7200\t1166\t5\t9\t18491\n",
      "Mean:\t3202.67\t7180.74\t369.108\t0.0754421\t4.78254\n",
      "# of Seqs:\t18491\n",
      "\n",
      "Output File Names:\n",
      "../../SeqData/db/silva.total.filter.pcr.summary\n",
      "\n",
      "It took 4 secs to summarize 18491 sequences.\n",
      "\n",
      "mothur > quit()\n"
     ]
    }
   ],
   "source": [
    "%%mothur\n",
    "summary.seqs(fasta=../../SeqData/db/silva.total.filter.pcr.fasta, processors=4)"
   ]
  },
  {
   "cell_type": "code",
   "execution_count": 231,
   "metadata": {
    "collapsed": false
   },
   "outputs": [
    {
     "name": "stdout",
     "output_type": "stream",
     "text": [
      "mothur > filter.seqs(fasta=../../SeqData/db/silva.total.filter.pcr.fasta)\n",
      "\n",
      "Using 1 processors.\n",
      "Creating Filter...\n",
      "\n",
      "\n",
      "Running Filter...\n",
      "\n",
      "\n",
      "\n",
      "Length of filtered alignment: 4000\n",
      "Number of columns removed: 7616\n",
      "Length of the original alignment: 11616\n",
      "Number of sequences used to construct filter: 18491\n",
      "\n",
      "Output File Names:\n",
      "../../SeqData/db/silva.filter\n",
      "../../SeqData/db/silva.total.filter.pcr.filter.fasta\n",
      "\n",
      "\n",
      "mothur > quit()\n"
     ]
    }
   ],
   "source": [
    "%%mothur\n",
    "filter.seqs(fasta=../../SeqData/db/silva.total.filter.pcr.fasta)"
   ]
  },
  {
   "cell_type": "code",
   "execution_count": null,
   "metadata": {
    "collapsed": true
   },
   "outputs": [],
   "source": []
  }
 ],
 "metadata": {
  "kernelspec": {
   "display_name": "Python 2",
   "language": "python",
   "name": "python2"
  },
  "language_info": {
   "codemirror_mode": {
    "name": "ipython",
    "version": 2
   },
   "file_extension": ".py",
   "mimetype": "text/x-python",
   "name": "python",
   "nbconvert_exporter": "python",
   "pygments_lexer": "ipython2",
   "version": "2.7.9"
  }
 },
 "nbformat": 4,
 "nbformat_minor": 0
}
