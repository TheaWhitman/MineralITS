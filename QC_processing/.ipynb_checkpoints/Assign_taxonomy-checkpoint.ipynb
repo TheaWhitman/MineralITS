{
 "cells": [
  {
   "cell_type": "code",
   "execution_count": 3,
   "metadata": {
    "collapsed": false
   },
   "outputs": [],
   "source": [
    "# The latest greengenes db was updated from the QIIME website \n",
    "# This is the assign taxonomy command from QIIME, using the greengenes database at 97%.\n",
    "# It is using the default uclust method, at default min 0.9 similarity\n",
    "nprocs = 4\n",
    "#!mkdir ../../SeqData/tmp\n",
    "!assign_taxonomy.py -i ../../SeqData/otus.pick.fasta -o ../../SeqData/Taxonomy/"
   ]
  },
  {
   "cell_type": "code",
   "execution_count": 5,
   "metadata": {
    "collapsed": false
   },
   "outputs": [
    {
     "name": "stdout",
     "output_type": "stream",
     "text": [
      "otus.pick_tax_assignments.log otus.pick_tax_assignments.txt\r\n"
     ]
    }
   ],
   "source": [
    "!ls ../../SeqData/Taxonomy/"
   ]
  },
  {
   "cell_type": "code",
   "execution_count": 6,
   "metadata": {
    "collapsed": false
   },
   "outputs": [
    {
     "name": "stdout",
     "output_type": "stream",
     "text": [
      "\u001b7\u001b[?47h\u001b[?1h\u001b=74_393013       k__Bacteria; p__Actinobacteria; c__Actinobacteria; o__Actinomycetales; f__Micromonosporaceae; g__Dactylosporangium; s__ 1.00    3\n",
      "72.2_989485     k__Bacteria; p__Planctomycetes; c__Planctomycetia; o__Gemmatales; f__Gemmataceae; g__Gemmata; s__       1.00    3\n",
      "10_157225       k__Bacteria; p__Proteobacteria; c__Deltaproteobacteria; o__Bdellovibrionales; f__Bdellovibrionaceae; g__Bdellovibrio; s__       1.00    3\n",
      "52_703740       k__Bacteria; p__Firmicutes; c__Bacilli; o__Bacillales; f__Paenibacillaceae; g__Paenibacillus; s__       0.67    3\n",
      "98_295428       k__Bacteria; p__Actinobacteria; c__Actinobacteria; o__Actinomycetales; f__Frankiaceae; g__; s__ 1.00    3\n",
      "102_48194       k__Bacteria; p__Acidobacteria; c__Acidobacteriia; o__Acidobacteriales; f__Koribacteraceae; g__; s__     1.00    3\n",
      "67_319935       k__Bacteria; p__Actinobacteria; c__Thermoleophilia; o__Gaiellales; f__Gaiellaceae; g__; s__     1.00    3\n",
      "74_49188        k__Bacteria; p__Planctomycetes; c__Planctomycetia; o__Pirellulales; f__Pirellulaceae; g__; s__  1.00    3\n",
      "55_461029       k__Bacteria; p__Proteobacteria; c__Betaproteobacteria; o__Burkholderiales; f__Comamonadaceae    1.00    3\n",
      "96_1177148      k__Bacteria; p__Proteobacteria; c__Alphaproteobacteria; o__Rhodospirillales; f__Rhodospirillaceae; g__; s__     1.00    3\n",
      "59_626506       k__Bacteria; p__Proteobacteria; c__Alphaproteobacteria; o__; f__; g__; s__      1.00    3\n",
      "\u001b[K; g__; s__      1.00    3\n",
      ":\u001b[K"
     ]
    }
   ],
   "source": [
    "!less ../../SeqData/Taxonomy/otus.pick_tax_assignments.txt"
   ]
  },
  {
   "cell_type": "code",
   "execution_count": 7,
   "metadata": {
    "collapsed": true
   },
   "outputs": [],
   "source": [
    "# Joining the classification taxonomy to the biom table\n",
    "! biom add-metadata -i ../../SeqData/otu_table.biom -o ../../SeqData/otu_table.tax.biom \\\n",
    "--observation-metadata-fp ../../SeqData/Taxonomy/otus.pick_tax_assignments.txt \\\n",
    "--observation-header OTUID,taxonomy,confidence,numrefdbseqs --sc-separated taxonomy "
   ]
  },
  {
   "cell_type": "code",
   "execution_count": 10,
   "metadata": {
    "collapsed": true
   },
   "outputs": [],
   "source": [
    "# Trying to add the mapping data too. Oh yeah but there are doubles in the map file.\n",
    "! biom add-metadata -i ../../SeqData/otu_table.tax.biom -o ../../SeqData/otu_table.tax.meta.biom \\\n",
    "--sample-metadata-fp ../../SeqData/MapFile.txt"
   ]
  },
  {
   "cell_type": "code",
   "execution_count": 11,
   "metadata": {
    "collapsed": true
   },
   "outputs": [],
   "source": [
    "! biom summarize-table -i ../../SeqData/otu_table.tax.meta.biom -o ../../SeqData/otu_table.tax.meta.biom.summary.txt"
   ]
  },
  {
   "cell_type": "code",
   "execution_count": 12,
   "metadata": {
    "collapsed": false
   },
   "outputs": [
    {
     "name": "stdout",
     "output_type": "stream",
     "text": [
      "Num samples: 102\r\n",
      "Num observations: 4858\r\n",
      "Total count: 1610247\r\n",
      "Table density (fraction of non-zero values): 0.224\r\n",
      "\r\n",
      "Counts/sample summary:\r\n",
      " Min: 39.0\r\n",
      " Max: 50457.0\r\n",
      " Median: 14993.000\r\n",
      " Mean: 15786.735\r\n",
      " Std. dev.: 12730.953\r\n",
      " Sample Metadata Categories: DNA; Description; BarcodeSequence; Cosm; OrigBarcodes; Month; LinkerPrimerSequence; Trtmt; MyID; Buff\r\n",
      " Observation Metadata Categories: taxonomy; confidence; numrefdbseqs\r\n",
      "\r\n",
      "Counts/sample detail:\r\n",
      " 16: 39.0\r\n",
      " 66: 51.0\r\n",
      " 14: 52.0\r\n",
      " 45: 52.0\r\n",
      " 63: 60.0\r\n",
      " 60: 71.0\r\n",
      " 48: 106.0\r\n",
      " 57: 111.0\r\n",
      " 5: 112.0\r\n",
      " 11: 155.0\r\n",
      " 54: 202.0\r\n",
      " 8: 272.0\r\n",
      " 18: 681.0\r\n",
      " 9: 702.0\r\n",
      " 68: 749.0\r\n",
      " 30: 788.0\r\n",
      " 20: 978.0\r\n",
      " 51: 1133.0\r\n",
      " 25: 1452.0\r\n",
      " 27: 1492.0\r\n",
      " 47: 1547.0\r\n",
      " 105: 1924.0\r\n",
      " 68.2: 2304.0\r\n",
      " 37: 2567.0\r\n",
      " 2: 2724.0\r\n",
      " 6: 2753.0\r\n",
      " 17: 2780.0\r\n",
      " 40: 3177.0\r\n",
      " 97: 3421.0\r\n",
      " 46: 3507.0\r\n",
      " 75.2: 3531.0\r\n",
      " 29: 3593.0\r\n",
      " 42: 3889.0\r\n",
      " 24: 4732.0\r\n",
      " 75: 5307.0\r\n",
      " 15: 5433.0\r\n",
      " 22: 7388.0\r\n",
      " 43: 9744.0\r\n",
      " 92: 10664.0\r\n",
      " 94: 11131.0\r\n",
      " 71.2: 11226.0\r\n",
      " 4: 12464.0\r\n",
      " 100: 12963.0\r\n",
      " 83: 13254.0\r\n",
      " 98: 13335.0\r\n",
      " 73.2: 13400.0\r\n",
      " 71: 13490.0\r\n",
      " 10: 13661.0\r\n",
      " 79: 14321.0\r\n",
      " 53: 14521.0\r\n",
      " 106: 14920.0\r\n",
      " 77.2: 15066.0\r\n",
      " 101: 15715.0\r\n",
      " 21: 15957.0\r\n",
      " 77: 16606.0\r\n",
      " 95: 16644.0\r\n",
      " 80: 16880.0\r\n",
      " 76.2: 17098.0\r\n",
      " 3: 17193.0\r\n",
      " 73: 17287.0\r\n",
      " 91: 17535.0\r\n",
      " 86: 17736.0\r\n",
      " 38: 19612.0\r\n",
      " 19: 21853.0\r\n",
      " 102: 21913.0\r\n",
      " 26: 22291.0\r\n",
      " 89: 23271.0\r\n",
      " 61: 23309.0\r\n",
      " 67.2: 23689.0\r\n",
      " 59: 23774.0\r\n",
      " 76: 23806.0\r\n",
      " 52: 23840.0\r\n",
      " 23: 23975.0\r\n",
      " 72.2: 24031.0\r\n",
      " 74.2: 24787.0\r\n",
      " 28: 25058.0\r\n",
      " 69.2: 26198.0\r\n",
      " 7: 26284.0\r\n",
      " 104: 26428.0\r\n",
      " 72: 28231.0\r\n",
      " 67: 28538.0\r\n",
      " 65: 28560.0\r\n",
      " 55: 29376.0\r\n",
      " 64: 29425.0\r\n",
      " 93: 29639.0\r\n",
      " 99: 29764.0\r\n",
      " 103: 29795.0\r\n",
      " 62: 30332.0\r\n",
      " 69: 30471.0\r\n",
      " 44: 32011.0\r\n",
      " 70.2: 32124.0\r\n",
      " 74: 33132.0\r\n",
      " 1: 33664.0\r\n",
      " 41: 33696.0\r\n",
      " 58: 34664.0\r\n",
      " 70: 35463.0\r\n",
      " 56: 37532.0\r\n",
      " 39: 37542.0\r\n",
      " 13: 38138.0\r\n",
      " 50: 38394.0\r\n",
      " 49: 42534.0\r\n",
      " 96: 50457.0\r\n"
     ]
    }
   ],
   "source": [
    "!cat ../../SeqData/otu_table.tax.meta.biom.summary.txt"
   ]
  },
  {
   "cell_type": "markdown",
   "metadata": {},
   "source": [
    "Now our full OTU table with metadata is found at:\n",
    "../../SeqData/otu_table.tax.meta.biom"
   ]
  }
 ],
 "metadata": {
  "kernelspec": {
   "display_name": "Python 2",
   "language": "python",
   "name": "python2"
  },
  "language_info": {
   "codemirror_mode": {
    "name": "ipython",
    "version": 2
   },
   "file_extension": ".py",
   "mimetype": "text/x-python",
   "name": "python",
   "nbconvert_exporter": "python",
   "pygments_lexer": "ipython2",
   "version": "2.7.9"
  }
 },
 "nbformat": 4,
 "nbformat_minor": 0
}
