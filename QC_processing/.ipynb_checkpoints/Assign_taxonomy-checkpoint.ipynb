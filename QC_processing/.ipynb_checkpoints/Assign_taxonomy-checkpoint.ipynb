{
 "cells": [
  {
   "cell_type": "code",
   "execution_count": null,
   "metadata": {
    "collapsed": false
   },
   "outputs": [],
   "source": [
    "# The latest greengenes db was updated from the QIIME website \n",
    "# This is the assign taxonomy command from QIIME, using the greengenes database at 97%.\n",
    "# It is using the default uclust method, at default min 0.9 similarity\n",
    "nprocs = 4\n",
    "#!mkdir ../../SeqData/tmp\n",
    "!assign_taxonomy.py -i ../../SeqData/otus.pick.fasta -o ../../SeqData/Taxonomy/"
   ]
  },
  {
   "cell_type": "code",
   "execution_count": null,
   "metadata": {
    "collapsed": false
   },
   "outputs": [],
   "source": [
    "!ls ../../SeqData/Taxonomy/"
   ]
  },
  {
   "cell_type": "code",
   "execution_count": null,
   "metadata": {
    "collapsed": false
   },
   "outputs": [],
   "source": [
    "!less ../../SeqData/Taxonomy/otus.pick_tax_assignments.txt"
   ]
  },
  {
   "cell_type": "code",
   "execution_count": null,
   "metadata": {
    "collapsed": true
   },
   "outputs": [],
   "source": [
    "# Joining the classification taxonomy to the biom table\n",
    "! biom add-metadata -i ../../SeqData/otu_table.biom -o ../../SeqData/otu_table.tax.biom \\\n",
    "--observation-metadata-fp ../../SeqData/Taxonomy/otus.pick_tax_assignments.txt \\\n",
    "--observation-header OTUID,taxonomy,confidence,numrefdbseqs --sc-separated taxonomy "
   ]
  },
  {
   "cell_type": "code",
   "execution_count": null,
   "metadata": {
    "collapsed": true
   },
   "outputs": [],
   "source": [
    "# Trying to add the mapping data too. Oh yeah but there are doubles in the map file.\n",
    "! biom add-metadata -i ../../SeqData/otu_table.tax.biom -o ../../SeqData/otu_table.tax.meta.biom \\\n",
    "--sample-metadata-fp ../../SeqData/MapFile.txt"
   ]
  },
  {
   "cell_type": "code",
   "execution_count": null,
   "metadata": {
    "collapsed": true
   },
   "outputs": [],
   "source": [
    "! biom summarize-table -i ../../SeqData/otu_table.tax.meta.biom -o ../../SeqData/otu_table.tax.meta.biom.summary.txt"
   ]
  },
  {
   "cell_type": "code",
   "execution_count": null,
   "metadata": {
    "collapsed": false
   },
   "outputs": [],
   "source": [
    "!cat ../../SeqData/otu_table.tax.meta.biom.summary.txt"
   ]
  },
  {
   "cell_type": "markdown",
   "metadata": {},
   "source": [
    "Now our full OTU table with metadata is found at:\n",
    "../../SeqData/otu_table.tax.meta.biom"
   ]
  }
 ],
 "metadata": {
  "kernelspec": {
   "display_name": "Python 2",
   "language": "python",
   "name": "python2"
  },
  "language_info": {
   "codemirror_mode": {
    "name": "ipython",
    "version": 2
   },
   "file_extension": ".py",
   "mimetype": "text/x-python",
   "name": "python",
   "nbconvert_exporter": "python",
   "pygments_lexer": "ipython2",
   "version": "2.7.9"
  }
 },
 "nbformat": 4,
 "nbformat_minor": 0
}
