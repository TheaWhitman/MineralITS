{
 "cells": [
  {
   "cell_type": "code",
   "execution_count": null,
   "metadata": {
    "collapsed": true
   },
   "outputs": [],
   "source": [
    "# Imports a parser from cogent\n",
    "from cogent.parse.fasta import MinimalFastaParser as parse"
   ]
  },
  {
   "cell_type": "code",
   "execution_count": null,
   "metadata": {
    "collapsed": true
   },
   "outputs": [],
   "source": [
    "%load_ext mothurmagic\n",
    "# Loads mothurmagic so we can run mothur in the notebook using %%mothur at the top of the cell"
   ]
  },
  {
   "cell_type": "code",
   "execution_count": null,
   "metadata": {
    "collapsed": true
   },
   "outputs": [],
   "source": [
    "# applies for the whole segment\n",
    "nprocs = 4"
   ]
  },
  {
   "cell_type": "code",
   "execution_count": null,
   "metadata": {
    "collapsed": false
   },
   "outputs": [],
   "source": [
    "# Checking out data file.\n",
    "# This file was created using the QC_basic notebook.\n",
    "!head ../../SeqData/16SfinalQC.fasta"
   ]
  },
  {
   "cell_type": "code",
   "execution_count": null,
   "metadata": {
    "collapsed": false
   },
   "outputs": [],
   "source": [
    "%%mothur\n",
    "unique.seqs(fasta=../../SeqData/16SfinalQC.fasta)"
   ]
  },
  {
   "cell_type": "code",
   "execution_count": null,
   "metadata": {
    "collapsed": true
   },
   "outputs": [],
   "source": [
    "counts = {}\n",
    "\n",
    "with open(\"../../SeqData/16SfinalQC.names\") as f:\n",
    "    for line in f:\n",
    "        seedID, seqIDs = line.split(\"\\t\")\n",
    "        count = len(seqIDs.split(\",\"))\n",
    "        counts[seedID] = count "
   ]
  },
  {
   "cell_type": "code",
   "execution_count": null,
   "metadata": {
    "collapsed": true
   },
   "outputs": [],
   "source": [
    "# Adds the counts from this dictionary to a new file so it looks like a usearch file with \"size=XXX\"\n",
    "\n",
    "with open(\"../../SeqData/16SfinalQC.unique.usearch_names.fasta\", \"w\") as f:\n",
    "    for n, s in parse(open(\"../../SeqData/16SfinalQC.unique.fasta\")):\n",
    "        f.write(\">%s;size=%s;\\n%s\\n\"%(n,counts[n],s)) "
   ]
  },
  {
   "cell_type": "markdown",
   "metadata": {},
   "source": [
    "We could also just do this with usearch \n",
    "\n",
    "!usearch -derep_fulllength data/finalQC.fasta -output data/finalQC.unique.fasta -sizeout -threads 20"
   ]
  },
  {
   "cell_type": "code",
   "execution_count": null,
   "metadata": {
    "collapsed": false
   },
   "outputs": [],
   "source": [
    "# This could run out of memory if seq files are too large\n",
    "!usearch -derep_fulllength ../../SeqData/16SfinalQC.fasta -fastaout ../../SeqData/16SfinalQC.unique.fasta ‑minseqlength  -sizeout -threads 4"
   ]
  },
  {
   "cell_type": "code",
   "execution_count": null,
   "metadata": {
    "collapsed": false
   },
   "outputs": [],
   "source": [
    "!head ../../SeqData/16SfinalQC.unique.fasta"
   ]
  },
  {
   "cell_type": "code",
   "execution_count": null,
   "metadata": {
    "collapsed": false
   },
   "outputs": [],
   "source": [
    "# Sequences are sorted by size\n",
    "# Here the size of clusters - we are excluding the singletons here\n",
    "# You would change minsize to 1 if you wanted to include singletons\n",
    "# Or, you know, just not do this step.\n",
    "# But you should just get rid of them.\n",
    "!usearch -sortbysize ../../SeqData/16SfinalQC.unique.fasta -fastaout ../../SeqData/16SfinalQC.unique.sorted.fasta -minsize 2"
   ]
  },
  {
   "cell_type": "code",
   "execution_count": null,
   "metadata": {
    "collapsed": false
   },
   "outputs": [],
   "source": [
    "!tail ../../SeqData/16SfinalQC.unique.sorted.fasta"
   ]
  },
  {
   "cell_type": "code",
   "execution_count": null,
   "metadata": {
    "collapsed": false
   },
   "outputs": [],
   "source": [
    "# Here we are just creating the centroids, or \"seeds\" for future clustering\n",
    "# Default is 97% minimum ID - not recommended to use more than 97%.\n",
    "\n",
    "!usearch -cluster_otus ../../SeqData/16SfinalQC.unique.sorted.fasta -otus ../../SeqData/otus.fasta"
   ]
  },
  {
   "cell_type": "code",
   "execution_count": null,
   "metadata": {
    "collapsed": false
   },
   "outputs": [],
   "source": [
    "!head ../../SeqData/otus.fasta\n",
    "# See the OTU names are currently not in QIIME format - we can use a script from Edgar to fix this."
   ]
  },
  {
   "cell_type": "code",
   "execution_count": null,
   "metadata": {
    "collapsed": false
   },
   "outputs": [],
   "source": [
    "# You do need to assign taxonomy in order to pull out the Euks., etc.\n",
    "# Input is your fasta file\n",
    "# Output is a fasta with taxonomy assinged (still working with unique seqs)\n",
    "\n",
    "!parallel_assign_taxonomy_uclust.py -i ../../SeqData/otus.fasta -o ../../SeqData/otus.tax -O 4\n",
    "#-r data/97_Silva_111_rep_set_no_ambig.fasta \\\n",
    "#-t data/Silva_111_taxa_map_full.txt \\\n",
    "\n"
   ]
  },
  {
   "cell_type": "code",
   "execution_count": null,
   "metadata": {
    "collapsed": false
   },
   "outputs": [],
   "source": [
    "# This makes a file of what we want to remove\n",
    "# Could change this to pull out different groups.\n",
    "# These primers actually had good Archaeal targets - so, it would be okay to include them.\n",
    "!egrep \"Chloroplast|Eukaryota|Unassigned|mitochondria\" \\\n",
    "../../SeqData/otus.tax/otus_tax_assignments.txt \\\n",
    "| awk '{print $1}' > ../../SeqData/to_remove_tax.accnos"
   ]
  },
  {
   "cell_type": "code",
   "execution_count": null,
   "metadata": {
    "collapsed": false
   },
   "outputs": [],
   "source": [
    "# wc is number of lines of the taxa that will be removed\n",
    "!wc -l ../../SeqData/to_remove_tax.accnos"
   ]
  },
  {
   "cell_type": "code",
   "execution_count": null,
   "metadata": {
    "collapsed": false
   },
   "outputs": [],
   "source": [
    "# Looking at what you're removing\n",
    "!head ../../SeqData/to_remove_tax.accnos"
   ]
  },
  {
   "cell_type": "code",
   "execution_count": null,
   "metadata": {
    "collapsed": false
   },
   "outputs": [],
   "source": [
    "%%mothur\n",
    "remove.seqs(fasta=../../SeqData/otus.fasta, accnos=../../SeqData/to_remove_tax.accnos)"
   ]
  },
  {
   "cell_type": "code",
   "execution_count": null,
   "metadata": {
    "collapsed": true
   },
   "outputs": [],
   "source": [
    "!head data/finalQC_usearchfmt.fasta"
   ]
  },
  {
   "cell_type": "code",
   "execution_count": null,
   "metadata": {
    "collapsed": false
   },
   "outputs": [],
   "source": [
    "# Pulling out the sample identifier.\n",
    "# It is adding a portion to the finalQC file that has the barcode label.\n",
    "# Then we can use this later\n",
    "# Now we will see how these reads map to the defined centroids (after removing EuK, etc.)\n",
    "# Basically, we cut, cut, refined our fasta to make our OTU centroids.\n",
    "# THEN, we went back to our original QC'd total fasta file and will throw it all against these nicely defined seeds.\n",
    "# Anything that doesn't match, we won't keep.\n",
    "!awk -F\"_\" \\\n",
    "'BEGIN{OFS=\";\"}{ if ( substr($1,0,1) == \">\"){ print $0,\"barcodelabel=\",$1 } else { print $0 } }' \\\n",
    "../../SeqData/16SfinalQC.fasta | \\\n",
    "sed 's/;>//' > ../../SeqData/16SfinalQC.usearch.fasta"
   ]
  },
  {
   "cell_type": "code",
   "execution_count": null,
   "metadata": {
    "collapsed": false
   },
   "outputs": [],
   "source": [
    "!head ../../SeqData/16SfinalQC.usearch.fasta"
   ]
  },
  {
   "cell_type": "code",
   "execution_count": null,
   "metadata": {
    "collapsed": false
   },
   "outputs": [],
   "source": [
    "# This is where the actual OTUs are being assigned. We choose 97% sequence ID threshold here.\n",
    "# This might take a while - Depending ont he clustering algorithm, like pairwise... \n",
    "# it would take, like, days on the same number of processors.\n",
    "# This is why usearch (centroid-based) is so much better\n",
    "# But is it more biologically relevant? ... maybe, maybe not.\n",
    "# Edgar is showing it's not that bad.\n",
    "\n",
    "# We take our total QC data\n",
    "# We compare it to the otusn.pick.fasta database we made above\n",
    "# We produce a readmap.uc file which tells us how the reads from our finalQC file map to the otusn seed database.\n",
    "\n",
    "!usearch -usearch_global ../../SeqData/16SfinalQC.usearch.fasta \\\n",
    "-db ../../SeqData/otus.pick.fasta \\\n",
    "-strand plus -id 0.97 \\\n",
    "-uc ../../SeqData/readmap.uc \\\n",
    "-threads 4"
   ]
  },
  {
   "cell_type": "code",
   "execution_count": null,
   "metadata": {
    "collapsed": false
   },
   "outputs": [],
   "source": [
    "# Makes an OTU table\n",
    "# It will tell me the OTU ID, and then for all the samples, which OTUs it has sequences from.\n",
    "!python /opt/virt_env/bin/uc2otutab.py ../../SeqData/readmap.uc > ../../SeqData/otu_table.txt"
   ]
  },
  {
   "cell_type": "code",
   "execution_count": null,
   "metadata": {
    "collapsed": false
   },
   "outputs": [],
   "source": [
    "# Issues with biom table formatting\n",
    "!if [ -f ../../SeqData/otu_table.biom ]; then rm ../../SeqData/otu_table.biom; fi #This is to mitigate a biom bug\n",
    "!biom convert -i ../../SeqData/otu_table.txt -o ../../SeqData/otu_table.biom --table-type=\"OTU table\" --to-json"
   ]
  },
  {
   "cell_type": "code",
   "execution_count": null,
   "metadata": {
    "collapsed": true
   },
   "outputs": [],
   "source": [
    "# Issues with biom table formatting\n",
    "!if [ -f ../../SeqData/otu_table_summary.txt ]; then rm ../../SeqData/otu_table_summary.txt; fi #This is to mitigate a biom bug\n",
    "!biom summarize-table -i ../../SeqData/otu_table.biom -o ../../SeqData/otu_table_summary.txt"
   ]
  },
  {
   "cell_type": "code",
   "execution_count": null,
   "metadata": {
    "collapsed": false
   },
   "outputs": [],
   "source": [
    "# This tells us the overall data info\n",
    "# Num obs = OTUs\n",
    "# total count = total seqs\n",
    "# Chantal had 50% reduction after QC.\n",
    "\n",
    "!cat ../../SeqData/otu_table_summary.txt"
   ]
  },
  {
   "cell_type": "markdown",
   "metadata": {},
   "source": [
    "This leaves us with the following data:\n",
    "OTU sequences: ../../SeqData/otus.pick.fasta\n",
    "OTU table: ../../SeqData/otu_table.biom\n",
    "\n",
    "We have 4.8k different OTUs, and 1.6M sequences"
   ]
  }
 ],
 "metadata": {
  "kernelspec": {
   "display_name": "Python 2",
   "language": "python",
   "name": "python2"
  },
  "language_info": {
   "codemirror_mode": {
    "name": "ipython",
    "version": 2
   },
   "file_extension": ".py",
   "mimetype": "text/x-python",
   "name": "python",
   "nbconvert_exporter": "python",
   "pygments_lexer": "ipython2",
   "version": "2.7.9"
  }
 },
 "nbformat": 4,
 "nbformat_minor": 0
}
