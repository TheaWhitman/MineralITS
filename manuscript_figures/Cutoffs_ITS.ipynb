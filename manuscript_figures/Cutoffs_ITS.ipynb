{
 "cells": [
  {
   "cell_type": "code",
   "execution_count": 1,
   "metadata": {
    "collapsed": true
   },
   "outputs": [],
   "source": [
    "%matplotlib inline\n",
    "%load_ext rpy2.ipython"
   ]
  },
  {
   "cell_type": "code",
   "execution_count": 2,
   "metadata": {
    "collapsed": false
   },
   "outputs": [
    {
     "data": {
      "text/plain": [
       "Loading required package: S4Vectors\n",
       "Loading required package: stats4\n",
       "Loading required package: BiocGenerics\n",
       "Loading required package: parallel\n",
       "\n",
       "Attaching package: ‘BiocGenerics’\n",
       "\n",
       "The following objects are masked from ‘package:parallel’:\n",
       "\n",
       "    clusterApply, clusterApplyLB, clusterCall, clusterEvalQ,\n",
       "    clusterExport, clusterMap, parApply, parCapply, parLapply,\n",
       "    parLapplyLB, parRapply, parSapply, parSapplyLB\n",
       "\n",
       "The following object is masked from ‘package:stats’:\n",
       "\n",
       "    xtabs\n",
       "\n",
       "The following objects are masked from ‘package:base’:\n",
       "\n",
       "    anyDuplicated, append, as.data.frame, as.vector, cbind, colnames,\n",
       "    do.call, duplicated, eval, evalq, Filter, Find, get, intersect,\n",
       "    is.unsorted, lapply, Map, mapply, match, mget, order, paste, pmax,\n",
       "    pmax.int, pmin, pmin.int, Position, rank, rbind, Reduce, rep.int,\n",
       "    rownames, sapply, setdiff, sort, table, tapply, union, unique,\n",
       "    unlist, unsplit\n",
       "\n",
       "Loading required package: IRanges\n",
       "Loading required package: GenomicRanges\n",
       "Loading required package: GenomeInfoDb\n",
       "Loading required package: Rcpp\n",
       "Loading required package: RcppArmadillo\n",
       "\n",
       "Attaching package: ‘phyloseq’\n",
       "\n",
       "The following object is masked from ‘package:GenomicRanges’:\n",
       "\n",
       "    distance\n",
       "\n",
       "The following object is masked from ‘package:IRanges’:\n",
       "\n",
       "    distance\n",
       "\n",
       "\n",
       "Attaching package: ‘plyr’\n",
       "\n",
       "The following object is masked from ‘package:IRanges’:\n",
       "\n",
       "    desc\n",
       "\n",
       "The following object is masked from ‘package:S4Vectors’:\n",
       "\n",
       "    rename\n",
       "\n",
       "\n",
       "Attaching package: ‘dplyr’\n",
       "\n",
       "The following objects are masked from ‘package:plyr’:\n",
       "\n",
       "    arrange, count, desc, failwith, id, mutate, rename, summarise,\n",
       "    summarize\n",
       "\n",
       "The following objects are masked from ‘package:GenomicRanges’:\n",
       "\n",
       "    intersect, setdiff, union\n",
       "\n",
       "The following object is masked from ‘package:GenomeInfoDb’:\n",
       "\n",
       "    intersect\n",
       "\n",
       "The following objects are masked from ‘package:IRanges’:\n",
       "\n",
       "    collapse, desc, intersect, setdiff, slice, union\n",
       "\n",
       "The following object is masked from ‘package:S4Vectors’:\n",
       "\n",
       "    rename\n",
       "\n",
       "The following objects are masked from ‘package:BiocGenerics’:\n",
       "\n",
       "    combine, intersect, setdiff, union\n",
       "\n",
       "The following objects are masked from ‘package:stats’:\n",
       "\n",
       "    filter, lag\n",
       "\n",
       "The following objects are masked from ‘package:base’:\n",
       "\n",
       "    intersect, setdiff, setequal, union\n",
       "\n"
      ]
     },
     "metadata": {},
     "output_type": "display_data"
    }
   ],
   "source": [
    "%%R\n",
    "# loading R packages\n",
    "library(DESeq2)\n",
    "library(phyloseq)\n",
    "library(plyr)\n",
    "library(dplyr)\n",
    "#dplyr needs to come in last\n",
    "library(ggplot2)\n",
    "library(rwantshue)\n",
    "library(RColorBrewer)"
   ]
  },
  {
   "cell_type": "code",
   "execution_count": 3,
   "metadata": {
    "collapsed": true
   },
   "outputs": [],
   "source": [
    "%%R\n",
    "physeq = import_biom(\"../../SeqData/ITS.otu_table.tax.meta.biom\", parseFunction = parse_taxonomy_greengenes)"
   ]
  },
  {
   "cell_type": "code",
   "execution_count": 4,
   "metadata": {
    "collapsed": true
   },
   "outputs": [],
   "source": [
    "%%R\n",
    "\n",
    "#physeq = subset_samples(physeq, Sample!=)\n",
    "\n",
    "Merge<-paste(as.character(sample_data(physeq)$Trtmt),as.character(sample_data(physeq)$Month),as.character(sample_data(physeq)$Cosm),sep=\"_\")\n",
    "sample_data(physeq)$Merge <- Merge\n",
    "# Creating a new column in the phyloseq sample data called Merge,\n",
    "# which contains a concatenated ID so all samples from the same mineral, month, and cosm\n",
    "# will have the same ID (thus merging PCR and buffer replicates).\n",
    "\n",
    "ps.merged = merge_samples(physeq, \"Merge\")\n",
    "# Merging the phyloseq object by biological replicates\n",
    "\n",
    "#ps.merged = subset_samples(ps.merged,row.names(sample_data(ps.merged))!=\"S_2.5_14\")\n",
    "# Removing soil sample with large Onygenales taxon (Emmonsia) - soil saprotroph, but huge\n",
    "\n",
    "keep=c(\"Cosm\",\"Month\",\"Trtmt\")\n",
    "sd = sample_data(ps.merged)\n",
    "sd = sd[,keep]\n",
    "sd$Trtmt = substring(row.names(sd),1,1)\n",
    "sd$Trtmt[sd$Trtmt==\"B\"]=\"Blank\"\n",
    "sd$Trtmt[sd$Trtmt==\"F\"]=\"Ferrihydrite\"\n",
    "sd$Trtmt[sd$Trtmt==\"Q\"]=\"Quartz\"\n",
    "sd$Trtmt[sd$Trtmt==\"H\"]=\"Heavy Fraction\"\n",
    "sd$Trtmt[sd$Trtmt==\"S\"]=\"Soil\"\n",
    "sd$Trtmt[sd$Trtmt==\"K\"]=\"Kaolinite\"\n",
    "sample_data(ps.merged) = sd\n",
    "sample_data(ps.merged)\n",
    "# Cleaning up the sample data table\n",
    "physeq = ps.merged"
   ]
  },
  {
   "cell_type": "code",
   "execution_count": 5,
   "metadata": {
    "collapsed": false
   },
   "outputs": [
    {
     "data": {
      "text/plain": [
       "Source: local data frame [14 x 3]\n",
       "Groups: Trtmt\n",
       "\n",
       "            Trtmt Month total\n",
       "1           Blank    NA     1\n",
       "2    Ferrihydrite   2.0     4\n",
       "3    Ferrihydrite   2.5     9\n",
       "4    Ferrihydrite   3.0     5\n",
       "5  Heavy Fraction   2.5     3\n",
       "6       Kaolinite   2.0     4\n",
       "7       Kaolinite   2.5     8\n",
       "8       Kaolinite   3.0     5\n",
       "9          Quartz   2.0     4\n",
       "10         Quartz   2.5     9\n",
       "11         Quartz   3.0     5\n",
       "12           Soil   2.0     5\n",
       "13           Soil   2.5     6\n",
       "14           Soil   3.0     5\n"
      ]
     },
     "metadata": {},
     "output_type": "display_data"
    }
   ],
   "source": [
    "%%R\n",
    "sample.data<-data.frame(sample_data(physeq)) %>%\n",
    "    dplyr::group_by(Trtmt,Month) %>%\n",
    "    dplyr::summarize(total=n())\n",
    "sample.data\n",
    "# Find out how many of each treatment-month combination we have... \n",
    "# Don't want to run it on anything with just one or two samples"
   ]
  },
  {
   "cell_type": "code",
   "execution_count": 6,
   "metadata": {
    "collapsed": false
   },
   "outputs": [
    {
     "data": {
      "text/plain": [
       "      Trtmt Month\n",
       "1 Kaolinite   2.0\n",
       "2 Kaolinite   2.5\n",
       "3 Kaolinite   3.0\n"
      ]
     },
     "metadata": {},
     "output_type": "display_data"
    }
   ],
   "source": [
    "%%R\n",
    "# Creating a matrix with the different combinations of variables for day and amendment\n",
    "variables = expand.grid(Trtmt = c(\"Kaolinite\"),\n",
    "                        Month = c(2, 2.5, 3))\n",
    "#<-variables[c(1,2,4,5,6,7,8),]\n",
    "variables"
   ]
  },
  {
   "cell_type": "code",
   "execution_count": 123,
   "metadata": {
    "collapsed": false
   },
   "outputs": [
    {
     "data": {
      "image/png": "[encoded data removed]"
     },
     "metadata": {},
     "output_type": "display_data"
    }
   ],
   "source": [
    "%%R -w 700 -h 300\n",
    "\n",
    "sums = (sample_sums(physeq))\n",
    "mdf = data.frame(sums)\n",
    "mdf[,2] = row.names(mdf)\n",
    "names = colnames(mdf)\n",
    "mdf[,3] = substr(mdf[,2],1,1)\n",
    "mdf[,4] = substr(mdf[,2],3,4)\n",
    "colnames(mdf) = c(names[1],\"Samples\",\"Trtmt\", \"Month\")\n",
    "mdf$MonthName = ifelse(mdf$Month=='2_',\"1 Month\",(ifelse(mdf$Month==\"2.\", \"1.5 Months\",\"2 Months\")))\n",
    "mdf$Trtmt[mdf$Trtmt==\"B\"]=\"Blank\"\n",
    "mdf$Trtmt[mdf$Trtmt==\"F\"]=\"Ferrihydrite\"\n",
    "mdf$Trtmt[mdf$Trtmt==\"Q\"]=\"Quartz\"\n",
    "mdf$Trtmt[mdf$Trtmt==\"H\"]=\"Heavy Fraction\"\n",
    "mdf$Trtmt[mdf$Trtmt==\"S\"]=\"Soil\"\n",
    "mdf$Trtmt[mdf$Trtmt==\"K\"]=\"Kaolinite\"\n",
    "mdf$Trtmt = ordered(mdf$Trtmt, levels = c(\"Ferrihydrite\", \"Quartz\", \"Kaolinite\", \"Heavy Fraction\", \"Soil\",\"Blank\"))\n",
    "\n",
    "p = ggplot(mdf, aes(x=Trtmt, y=log(sums), colour = Trtmt, shape = Trtmt))\n",
    "p = p + facet_grid(~MonthName, scales=\"free_x\")\n",
    "p = p + geom_point(size = 3)\n",
    "p = p + geom_hline(yintercept=log(1500),linetype='dashed',weight=2)\n",
    "p = p + theme_bw()\n",
    "p = p + theme(axis.text.x = element_text(angle=35, hjust=1),panel.grid.major= element_blank(), axis.title.x = element_blank(),strip.background = element_blank(),strip.text = element_text(size=14))\n",
    "p = p + ylim(0,13)\n",
    "p = p + guides(shape=FALSE,colour=FALSE)\n",
    "ggsave(filename=\"CutoffITS.jpg\", p, width=7, height=3)\n",
    "p"
   ]
  },
  {
   "cell_type": "code",
   "execution_count": null,
   "metadata": {
    "collapsed": true
   },
   "outputs": [],
   "source": []
  }
 ],
 "metadata": {
  "kernelspec": {
   "display_name": "Python 2",
   "language": "python",
   "name": "python2"
  },
  "language_info": {
   "codemirror_mode": {
    "name": "ipython",
    "version": 2
   },
   "file_extension": ".py",
   "mimetype": "text/x-python",
   "name": "python",
   "nbconvert_exporter": "python",
   "pygments_lexer": "ipython2",
   "version": "2.7.9"
  }
 },
 "nbformat": 4,
 "nbformat_minor": 0
}
