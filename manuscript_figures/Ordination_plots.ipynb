{
 "cells": [
  {
   "cell_type": "code",
   "execution_count": 1,
   "metadata": {
    "collapsed": false
   },
   "outputs": [],
   "source": [
    "% load_ext rpy2.ipython"
   ]
  },
  {
   "cell_type": "code",
   "execution_count": 2,
   "metadata": {
    "collapsed": false
   },
   "outputs": [],
   "source": [
    "%%R\n",
    "library(\"phyloseq\")\n",
    "library(ggplot2)"
   ]
  },
  {
   "cell_type": "code",
   "execution_count": 3,
   "metadata": {
    "collapsed": true
   },
   "outputs": [],
   "source": [
    "%%R\n",
    "physeq = import_biom(\"../../SeqData/ITS.otu_table.tax.meta.biom\", parseFunction = parse_taxonomy_greengenes)\n"
   ]
  },
  {
   "cell_type": "code",
   "execution_count": 5,
   "metadata": {
    "collapsed": false
   },
   "outputs": [],
   "source": [
    "%%R\n",
    "\n",
    "Merge<-paste(as.character(sample_data(physeq)$Trtmt),as.character(sample_data(physeq)$Month),as.character(sample_data(physeq)$Cosm),sep=\"_\")\n",
    "sample_data(physeq)$Merge <- Merge\n",
    "# Creating a new column in the phyloseq sample data called Merge,\n",
    "# which contains a concatenated ID so all samples from the same mineral, month, and cosm\n",
    "# will have the same ID (thus merging PCR and buffer replicates).\n",
    "\n",
    "ps.merged = merge_samples(physeq, \"Merge\")\n",
    "# Merging the phyloseq object by biological replicates\n",
    "\n",
    "keep=c(\"Cosm\",\"Month\",\"Trtmt\")\n",
    "sd = sample_data(ps.merged)\n",
    "sd = sd[,keep]\n",
    "sd$Trtmt = substring(row.names(sd),1,1)\n",
    "sd$Trtmt[sd$Trtmt==\"B\"]=\"Blank\"\n",
    "sd$Trtmt[sd$Trtmt==\"F\"]=\"Ferrihydrite\"\n",
    "sd$Trtmt[sd$Trtmt==\"Q\"]=\"Quartz\"\n",
    "sd$Trtmt[sd$Trtmt==\"H\"]=\"Heavy Fraction\"\n",
    "sd$Trtmt[sd$Trtmt==\"S\"]=\"Soil\"\n",
    "sd$Trtmt[sd$Trtmt==\"K\"]=\"Kaolinite\"\n",
    "sample_data(ps.merged) = sd\n",
    "physeq = ps.merged"
   ]
  },
  {
   "cell_type": "code",
   "execution_count": 43,
   "metadata": {
    "collapsed": false
   },
   "outputs": [
    {
     "data": {
      "text/plain": [
       " [1] \"Blank\"          \"Ferrihydrite\"   \"Ferrihydrite\"   \"Ferrihydrite\"  \n",
       " [5] \"Ferrihydrite\"   \"Ferrihydrite\"   \"Ferrihydrite\"   \"Ferrihydrite\"  \n",
       " [9] \"Ferrihydrite\"   \"Ferrihydrite\"   \"Ferrihydrite\"   \"Ferrihydrite\"  \n",
       "[13] \"Ferrihydrite\"   \"Ferrihydrite\"   \"Ferrihydrite\"   \"Ferrihydrite\"  \n",
       "[17] \"Ferrihydrite\"   \"Ferrihydrite\"   \"Ferrihydrite\"   \"Heavy Fraction\"\n",
       "[21] \"Heavy Fraction\" \"Heavy Fraction\" \"Kaolinite\"      \"Kaolinite\"     \n",
       "[25] \"Kaolinite\"      \"Kaolinite\"      \"Kaolinite\"      \"Kaolinite\"     \n",
       "[29] \"Kaolinite\"      \"Kaolinite\"      \"Kaolinite\"      \"Kaolinite\"     \n",
       "[33] \"Kaolinite\"      \"Kaolinite\"      \"Kaolinite\"      \"Kaolinite\"     \n",
       "[37] \"Kaolinite\"      \"Kaolinite\"      \"Kaolinite\"      \"Quartz\"        \n",
       "[41] \"Quartz\"         \"Quartz\"         \"Quartz\"         \"Quartz\"        \n",
       "[45] \"Quartz\"         \"Quartz\"         \"Quartz\"         \"Quartz\"        \n",
       "[49] \"Quartz\"         \"Quartz\"         \"Quartz\"         \"Quartz\"        \n",
       "[53] \"Quartz\"         \"Quartz\"         \"Quartz\"         \"Quartz\"        \n",
       "[57] \"Quartz\"         \"Soil\"           \"Soil\"           \"Soil\"          \n",
       "[61] \"Soil\"           \"Soil\"           \"Soil\"           \"Soil\"          \n",
       "[65] \"Soil\"           \"Soil\"           \"Soil\"           \"Soil\"          \n",
       "[69] \"Soil\"           \"Soil\"           \"Soil\"           \"Soil\"          \n",
       "[73] \"Soil\"          \n"
      ]
     },
     "metadata": {},
     "output_type": "display_data"
    }
   ],
   "source": [
    "%%R\n",
    "sample_data(physeq)$Trtmt=="
   ]
  },
  {
   "cell_type": "code",
   "execution_count": 44,
   "metadata": {
    "collapsed": false
   },
   "outputs": [],
   "source": [
    "%%R\n",
    "ps.FQS = subset_samples(physeq, (sample_data(physeq)$Trtmt==\"Ferrihydrite\"|sample_data(physeq)$Trtmt==\"Quartz\"|sample_data(physeq)$Trtmt==\"Soil\"))"
   ]
  },
  {
   "cell_type": "code",
   "execution_count": 45,
   "metadata": {
    "collapsed": false
   },
   "outputs": [],
   "source": [
    "%%R\n",
    "physeq.noSmall<-subset_samples(ps.FQS,sample_sums(physeq)>2000)"
   ]
  },
  {
   "cell_type": "code",
   "execution_count": 46,
   "metadata": {
    "collapsed": false
   },
   "outputs": [],
   "source": [
    "%%R\n",
    "ps <- physeq.noSmall"
   ]
  },
  {
   "cell_type": "code",
   "execution_count": 47,
   "metadata": {
    "collapsed": false
   },
   "outputs": [],
   "source": [
    "%%R\n",
    "# Normalizes the sample counts by the total - i.e., reporting what fraction of each sample each OTU makes up.\n",
    "ps_snorm = transform_sample_counts(ps, function(x) x / sum(x))"
   ]
  },
  {
   "cell_type": "code",
   "execution_count": 70,
   "metadata": {
    "collapsed": false
   },
   "outputs": [
    {
     "data": {
      "text/plain": [
       "Run 0 stress 0.2396364 \n",
       "Run 1 stress 0.2262868 \n",
       "... New best solution\n",
       "... procrustes: rmse 0.09900834  max resid 0.2803972 \n",
       "Run 2 stress 0.2312249 \n",
       "Run 3 stress 0.2245496 \n",
       "... New best solution\n",
       "... procrustes: rmse 0.06348672  max resid 0.3427664 \n",
       "Run 4 stress 0.2485546 \n",
       "Run 5 stress 0.2245516 \n",
       "... procrustes: rmse 0.00172127  max resid 0.007911727 \n",
       "*** Solution reached\n"
      ]
     },
     "metadata": {},
     "output_type": "display_data"
    }
   ],
   "source": [
    "%%R\n",
    "# Computing the Bray distance matrix and NMDS in parallel\n",
    "\n",
    "ord.full = ordinate(ps_snorm, method = \"NMDS\", distance = \"bray\", k=2, trymax=40)\n",
    "ord.full.plot = plot_ordination(ps_snorm, ord.full, axes = c(1,2), justDF = TRUE)\n",
    "ord.full.plot$Samples = rownames(ord.full.plot)"
   ]
  },
  {
   "cell_type": "code",
   "execution_count": 78,
   "metadata": {
    "collapsed": false
   },
   "outputs": [
    {
     "data": {
      "image/png": "[encoded data removed]"
     },
     "metadata": {},
     "output_type": "display_data"
    }
   ],
   "source": [
    "%%R -h 400 -w 700\n",
    "#D <- ord.full.plot\n",
    "# Sets the relevant ordination\n",
    "\n",
    "#colnames(D)[1:2]<-c(\"Axis1\",\"Axis2\")\n",
    "# Renames the axis columns\n",
    "\n",
    "#D$Month<-as.factor(D$Month)\n",
    "#D$Cosm<-as.factor(D$Cosm)\n",
    "\n",
    "# Creates an plot object, using the df.sites data, with the x and y axes specified as the PCoA axes,\n",
    "p = plot_ordination(ps_snorm, ord.full, color = \"Trtmt\", shape = \"Trtmt\")\n",
    "\n",
    "# Determines the size of the symbols\n",
    "p = p  + geom_point(size=3.5) + scale_colour_manual(values=c(\"skyblue3\",\"orange\",\"chartreuse4\",\"red3\",\"black\",\"gold1\"))\n",
    "\n",
    "p = p + guides(colour = guide_legend(\"\", ncol = 4), shape = guide_legend(\"\"))\n",
    "\n",
    "# Determines the color theme of the plot overall\n",
    "p = p + theme_bw() +\n",
    "  theme(legend.position = \"bottom\"\n",
    "    ,plot.background = element_blank()\n",
    "   ,panel.grid.major = element_blank()\n",
    "   ,panel.grid.minor = element_blank()\n",
    "  ) +\n",
    "  theme(strip.text.x = element_text(size=14, face=\"bold\"),axis.text = element_text(size=12),legend.text = element_text(size=12),\n",
    "          strip.background = element_rect(colour=\"white\", fill=\"white\"))\n",
    "\n",
    "p = p + facet_grid(~Month)\n",
    "# Adds a \"facet_wrap\" to it, which means it will plot it separately by whatever we specify - here, Days\n",
    "\n",
    "p"
   ]
  },
  {
   "cell_type": "markdown",
   "metadata": {
    "collapsed": true
   },
   "source": [
    "I need to calculate similarity distances between all units and see if the values are closer for related microcosms.  \n",
    "See Soil_Effect notebook. There is not a significant difference detected."
   ]
  },
  {
   "cell_type": "code",
   "execution_count": null,
   "metadata": {
    "collapsed": true
   },
   "outputs": [],
   "source": []
  }
 ],
 "metadata": {
  "kernelspec": {
   "display_name": "Python 2",
   "language": "python",
   "name": "python2"
  },
  "language_info": {
   "codemirror_mode": {
    "name": "ipython",
    "version": 2
   },
   "file_extension": ".py",
   "mimetype": "text/x-python",
   "name": "python",
   "nbconvert_exporter": "python",
   "pygments_lexer": "ipython2",
   "version": "2.7.9"
  }
 },
 "nbformat": 4,
 "nbformat_minor": 0
}
