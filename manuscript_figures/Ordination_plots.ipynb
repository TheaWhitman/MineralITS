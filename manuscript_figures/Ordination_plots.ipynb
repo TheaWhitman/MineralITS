{
 "cells": [
  {
   "cell_type": "code",
   "execution_count": 1,
   "metadata": {
    "collapsed": false
   },
   "outputs": [],
   "source": [
    "% load_ext rpy2.ipython"
   ]
  },
  {
   "cell_type": "code",
   "execution_count": 2,
   "metadata": {
    "collapsed": false
   },
   "outputs": [],
   "source": [
    "%%R\n",
    "library(\"phyloseq\")\n",
    "library(ggplot2)"
   ]
  },
  {
   "cell_type": "code",
   "execution_count": 3,
   "metadata": {
    "collapsed": true
   },
   "outputs": [],
   "source": [
    "%%R\n",
    "physeq = import_biom(\"../../SeqData/ITS.otu_table.tax.meta.biom\", parseFunction = parse_taxonomy_greengenes)\n"
   ]
  },
  {
   "cell_type": "code",
   "execution_count": 200,
   "metadata": {
    "collapsed": false
   },
   "outputs": [],
   "source": [
    "\n",
    "Merge<-paste(as.character(sample_data(physeq)$Trtmt),as.character(sample_data(physeq)$Month),as.character(sample_data(physeq)$Cosm),sep=\"_\")\n",
    "sample_data(physeq)$Merge <- Merge\n",
    "# Creating a new column in the phyloseq sample data called Merge,\n",
    "# which contains a concatenated ID so all samples from the same mineral, month, and cosm\n",
    "# will have the same ID (thus merging PCR and buffer replicates).\n",
    "\n",
    "ps.merged = merge_samples(physeq, \"Merge\")\n",
    "# Merging the phyloseq object by biological replicates\n",
    "\n",
    "keep=c(\"Cosm\",\"Month\",\"Trtmt\")\n",
    "sd = sample_data(ps.merged)\n",
    "sd = sd[,keep]\n",
    "sd$Trtmt = substring(row.names(sd),1,1)\n",
    "sd$Trtmt[sd$Trtmt==\"B\"]=\"Blank\"\n",
    "sd$Trtmt[sd$Trtmt==\"F\"]=\"Ferrihydrite\"\n",
    "sd$Trtmt[sd$Trtmt==\"Q\"]=\"Quartz\"\n",
    "sd$Trtmt[sd$Trtmt==\"H\"]=\"Heavy Fraction\"\n",
    "sd$Trtmt[sd$Trtmt==\"S\"]=\"Soil\"\n",
    "sd$Trtmt[sd$Trtmt==\"K\"]=\"Kaolinite\"\n",
    "sample_data(ps.merged) = sd\n",
    "physeq = ps.merged"
   ]
  },
  {
   "cell_type": "code",
   "execution_count": 4,
   "metadata": {
    "collapsed": false
   },
   "outputs": [
    {
     "data": {
      "text/plain": [
       "phyloseq-class experiment-level object\n",
       "otu_table()   OTU Table:         [ 2200 taxa and 100 samples ]\n",
       "sample_data() Sample Data:       [ 100 samples by 9 sample variables ]\n",
       "tax_table()   Taxonomy Table:    [ 2200 taxa by 8 taxonomic ranks ]\n"
      ]
     },
     "metadata": {},
     "output_type": "display_data"
    }
   ],
   "source": [
    "%%R\n",
    "physeq"
   ]
  },
  {
   "cell_type": "code",
   "execution_count": 31,
   "metadata": {
    "collapsed": false
   },
   "outputs": [],
   "source": [
    "%%R\n",
    "ps.FQS = subset_samples(physeq,sample_data(physeq)$Trtmt==\"F\"|sample_data(physeq)$Trtmt==\"Q\"|sample_data(physeq)$Trtmt==\"S\")"
   ]
  },
  {
   "cell_type": "code",
   "execution_count": 5,
   "metadata": {
    "collapsed": false
   },
   "outputs": [],
   "source": [
    "%%R\n",
    "physeq.noSmall<-subset_samples(physeq,sample_sums(physeq)>1000)"
   ]
  },
  {
   "cell_type": "code",
   "execution_count": 33,
   "metadata": {
    "collapsed": false
   },
   "outputs": [],
   "source": [
    "%%R\n",
    "ps <- ps.FQS"
   ]
  },
  {
   "cell_type": "code",
   "execution_count": 34,
   "metadata": {
    "collapsed": false
   },
   "outputs": [],
   "source": [
    "%%R\n",
    "# Normalizes the sample counts by the total - i.e., reporting what fraction of each sample each OTU makes up.\n",
    "ps_snorm = transform_sample_counts(ps, function(x) x / sum(x))"
   ]
  },
  {
   "cell_type": "code",
   "execution_count": 45,
   "metadata": {
    "collapsed": false
   },
   "outputs": [
    {
     "data": {
      "text/plain": [
       "Run 0 stress 0.1646447 \n",
       "Run 1 stress 0.1626342 \n",
       "... New best solution\n",
       "... procrustes: rmse 0.06379594  max resid 0.451415 \n",
       "Run 2 stress 0.164587 \n",
       "Run 3 stress 0.1648356 \n",
       "Run 4 stress 0.1626659 \n",
       "... procrustes: rmse 0.03400311  max resid 0.2475691 \n",
       "Run 5 stress 0.164802 \n",
       "Run 6 stress 0.1645887 \n",
       "Run 7 stress 0.1667089 \n",
       "Run 8 stress 0.1625466 \n",
       "... New best solution\n",
       "... procrustes: rmse 0.01736175  max resid 0.1189309 \n",
       "Run 9 stress 0.1632353 \n",
       "Run 10 stress 0.1654442 \n",
       "Run 11 stress 0.1666755 \n",
       "Run 12 stress 0.1645729 \n",
       "Run 13 stress 0.1628324 \n",
       "... procrustes: rmse 0.03260634  max resid 0.2493134 \n",
       "Run 14 stress 0.1629274 \n",
       "... procrustes: rmse 0.01048575  max resid 0.07529716 \n",
       "Run 15 stress 0.1630058 \n",
       "... procrustes: rmse 0.02227935  max resid 0.1351049 \n",
       "Run 16 stress 0.1657139 \n",
       "Run 17 stress 0.1654358 \n",
       "Run 18 stress 0.1625366 \n",
       "... New best solution\n",
       "... procrustes: rmse 0.004395386  max resid 0.02616916 \n",
       "Run 19 stress 0.1745252 \n",
       "Run 20 stress 0.1646435 \n",
       "Run 21 stress 0.1665809 \n",
       "Run 22 stress 0.1665981 \n",
       "Run 23 stress 0.1626303 \n",
       "... procrustes: rmse 0.0350282  max resid 0.2447935 \n",
       "Run 24 stress 0.1677251 \n",
       "Run 25 stress 0.1626653 \n",
       "... procrustes: rmse 0.03007881  max resid 0.2481511 \n",
       "Run 26 stress 0.1645846 \n",
       "Run 27 stress 0.1626688 \n",
       "... procrustes: rmse 0.0306798  max resid 0.2474156 \n",
       "Run 28 stress 0.1626715 \n",
       "... procrustes: rmse 0.03004407  max resid 0.2483259 \n",
       "Run 29 stress 0.1690208 \n",
       "Run 30 stress 0.1676701 \n",
       "Run 31 stress 0.1626347 \n",
       "... procrustes: rmse 0.03492326  max resid 0.2449337 \n",
       "Run 32 stress 0.1625478 \n",
       "... procrustes: rmse 0.002797414  max resid 0.01958571 \n",
       "Run 33 stress 0.1646456 \n",
       "Run 34 stress 0.1649748 \n",
       "Run 35 stress 0.1625613 \n",
       "... procrustes: rmse 0.005900474  max resid 0.03327532 \n",
       "Run 36 stress 0.169031 \n",
       "Run 37 stress 0.1625625 \n",
       "... procrustes: rmse 0.005693413  max resid 0.0280349 \n",
       "Run 38 stress 0.1659019 \n",
       "Run 39 stress 0.1629326 \n",
       "... procrustes: rmse 0.01174569  max resid 0.07666682 \n",
       "Run 40 stress 0.1645747 \n"
      ]
     },
     "metadata": {},
     "output_type": "display_data"
    }
   ],
   "source": [
    "%%R\n",
    "# Computing the Bray distance matrix and NMDS in parallel\n",
    "\n",
    "ord.full = ordinate(ps_snorm, method = \"NMDS\", distance = \"bray\", k=3, trymax=40)\n",
    "ord.full.plot = plot_ordination(ps_snorm, ord.full, axes = c(1,2), justDF = TRUE)\n",
    "ord.full.plot$Samples = rownames(ord.full.plot)"
   ]
  },
  {
   "cell_type": "code",
   "execution_count": 47,
   "metadata": {
    "collapsed": false
   },
   "outputs": [
    {
     "data": {
      "image/png": "[encoded data removed]"
     },
     "metadata": {},
     "output_type": "display_data"
    }
   ],
   "source": [
    "%%R -h 400 -w 700\n",
    "D <- ord.full.plot\n",
    "# Sets the relevant ordination\n",
    "\n",
    "colnames(D)[1:2]<-c(\"Axis1\",\"Axis2\")\n",
    "# Renames the axis columns\n",
    "\n",
    "D$Month<-as.factor(D$Month)\n",
    "D$Cosm<-as.factor(D$Cosm)\n",
    "\n",
    "# Creates an plot object, using the df.sites data, with the x and y axes specified as the PCoA axes,\n",
    "p = ggplot(D, aes(x = Axis1, y = Axis2, color = Trtmt, shape = Trtmt))\n",
    "\n",
    "# Determines the size of the symbols\n",
    "p = p  + geom_point(size=3.5) \n",
    "#+ scale_colour_manual(values=c(\"skyblue3\",\"orange\",\"chartreuse4\",\"gold1\",\"red3\",\"black\"))\n",
    "\n",
    "p = p + guides(colour = guide_legend(\"\"), shape = guide_legend(\"\"))\n",
    "\n",
    "# Determines the color theme of the plot overall\n",
    "p = p + theme_bw() +\n",
    "  theme(\n",
    "    plot.background = element_blank()\n",
    "   ,panel.grid.major = element_blank()\n",
    "   ,panel.grid.minor = element_blank()\n",
    "  ) +\n",
    "  theme(strip.text.x = element_text(size=14, face=\"bold\"),axis.text = element_text(size=12),legend.text = element_text(size=12),\n",
    "          strip.background = element_rect(colour=\"white\", fill=\"white\"))\n",
    "\n",
    "p = p + facet_grid(~Month)\n",
    "# Adds a \"facet_wrap\" to it, which means it will plot it separately by whatever we specify - here, Days\n",
    "\n",
    "p"
   ]
  },
  {
   "cell_type": "markdown",
   "metadata": {
    "collapsed": true
   },
   "source": [
    "I need to calculate similarity distances between all units and see if the values are closer for related microcosms.  \n",
    "See Soil_Effect notebook. There is not a significant difference detected."
   ]
  },
  {
   "cell_type": "code",
   "execution_count": null,
   "metadata": {
    "collapsed": true
   },
   "outputs": [],
   "source": []
  }
 ],
 "metadata": {
  "kernelspec": {
   "display_name": "Python 2",
   "language": "python",
   "name": "python2"
  },
  "language_info": {
   "codemirror_mode": {
    "name": "ipython",
    "version": 2
   },
   "file_extension": ".py",
   "mimetype": "text/x-python",
   "name": "python",
   "nbconvert_exporter": "python",
   "pygments_lexer": "ipython2",
   "version": "2.7.9"
  }
 },
 "nbformat": 4,
 "nbformat_minor": 0
}
