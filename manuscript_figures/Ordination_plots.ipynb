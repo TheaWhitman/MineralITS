{
 "cells": [
  {
   "cell_type": "code",
   "execution_count": 1,
   "metadata": {
    "collapsed": false
   },
   "outputs": [],
   "source": [
    "% load_ext rpy2.ipython"
   ]
  },
  {
   "cell_type": "code",
   "execution_count": 2,
   "metadata": {
    "collapsed": false
   },
   "outputs": [
    {
     "data": {
      "text/plain": [
       "NULL\n"
      ]
     },
     "metadata": {},
     "output_type": "display_data"
    }
   ],
   "source": [
    "%%R\n",
    "#ip <- installed.packages() \n",
    "#pkgs.to.remove <- ip[!(ip[,\"Priority\"] %in% c(\"base\", \"recommended\")), 1]\n",
    "#sapply(pkgs.to.remove, remove.packages)"
   ]
  },
  {
   "cell_type": "code",
   "execution_count": 3,
   "metadata": {
    "collapsed": false
   },
   "outputs": [
    {
     "data": {
      "text/plain": [
       "NULL\n"
      ]
     },
     "metadata": {},
     "output_type": "display_data"
    }
   ],
   "source": [
    "%%R\n",
    "#source(\"http://bioconductor.org/biocLite.R\")"
   ]
  },
  {
   "cell_type": "code",
   "execution_count": 4,
   "metadata": {
    "collapsed": false
   },
   "outputs": [
    {
     "data": {
      "text/plain": [
       "NULL\n"
      ]
     },
     "metadata": {},
     "output_type": "display_data"
    }
   ],
   "source": [
    "%%R\n",
    "#biocLite(\"phyloseq\")"
   ]
  },
  {
   "cell_type": "code",
   "execution_count": 5,
   "metadata": {
    "collapsed": false
   },
   "outputs": [
    {
     "data": {
      "text/plain": [
       "NULL\n"
      ]
     },
     "metadata": {},
     "output_type": "display_data"
    }
   ],
   "source": [
    "%%R\n",
    "#source(\"http://bioconductor.org/biocLite.R\")\n",
    "#biocLite(\"phyloseq\")"
   ]
  },
  {
   "cell_type": "code",
   "execution_count": 25,
   "metadata": {
    "collapsed": false
   },
   "outputs": [],
   "source": [
    "%%R\n",
    "library(\"phyloseq\")\n",
    "library(ggplot2)"
   ]
  },
  {
   "cell_type": "code",
   "execution_count": 200,
   "metadata": {
    "collapsed": false
   },
   "outputs": [],
   "source": [
    "%%R\n",
    "physeq = import_biom(\"../../SeqData/otu_table.tax.meta.biom\", \"../../SeqData/trees/fulltree.tre\", parseFunction = parse_taxonomy_greengenes)\n",
    "\n",
    "Merge<-paste(as.character(sample_data(physeq)$Trtmt),as.character(sample_data(physeq)$Month),as.character(sample_data(physeq)$Cosm),sep=\"_\")\n",
    "sample_data(physeq)$Merge <- Merge\n",
    "# Creating a new column in the phyloseq sample data called Merge,\n",
    "# which contains a concatenated ID so all samples from the same mineral, month, and cosm\n",
    "# will have the same ID (thus merging PCR and buffer replicates).\n",
    "\n",
    "ps.merged = merge_samples(physeq, \"Merge\")\n",
    "# Merging the phyloseq object by biological replicates\n",
    "\n",
    "keep=c(\"Cosm\",\"Month\",\"Trtmt\")\n",
    "sd = sample_data(ps.merged)\n",
    "sd = sd[,keep]\n",
    "sd$Trtmt = substring(row.names(sd),1,1)\n",
    "sd$Trtmt[sd$Trtmt==\"B\"]=\"Blank\"\n",
    "sd$Trtmt[sd$Trtmt==\"F\"]=\"Ferrihydrite\"\n",
    "sd$Trtmt[sd$Trtmt==\"Q\"]=\"Quartz\"\n",
    "sd$Trtmt[sd$Trtmt==\"H\"]=\"Heavy Fraction\"\n",
    "sd$Trtmt[sd$Trtmt==\"S\"]=\"Soil\"\n",
    "sd$Trtmt[sd$Trtmt==\"K\"]=\"Kaolinite\"\n",
    "sample_data(ps.merged) = sd\n",
    "physeq = ps.merged"
   ]
  },
  {
   "cell_type": "code",
   "execution_count": 201,
   "metadata": {
    "collapsed": false
   },
   "outputs": [
    {
     "data": {
      "text/plain": [
       "phyloseq-class experiment-level object\n",
       "otu_table()   OTU Table:         [ 4857 taxa and 66 samples ]\n",
       "sample_data() Sample Data:       [ 66 samples by 3 sample variables ]\n",
       "tax_table()   Taxonomy Table:    [ 4857 taxa by 7 taxonomic ranks ]\n",
       "phy_tree()    Phylogenetic Tree: [ 4857 tips and 4855 internal nodes ]\n"
      ]
     },
     "metadata": {},
     "output_type": "display_data"
    }
   ],
   "source": [
    "%%R\n",
    "physeq"
   ]
  },
  {
   "cell_type": "code",
   "execution_count": 191,
   "metadata": {
    "collapsed": false
   },
   "outputs": [],
   "source": [
    "%%R\n",
    "ps.b = subset_taxa(physeq,Kingdom==\"Bacteria\")\n",
    "ps.b = subset_samples(ps.b,sample_sums(physeq)>2000)"
   ]
  },
  {
   "cell_type": "code",
   "execution_count": 270,
   "metadata": {
    "collapsed": false
   },
   "outputs": [],
   "source": [
    "%%R\n",
    "physeq.noSmall<-subset_samples(physeq,sample_sums(physeq)>10000)"
   ]
  },
  {
   "cell_type": "code",
   "execution_count": 271,
   "metadata": {
    "collapsed": false
   },
   "outputs": [],
   "source": [
    "%%R\n",
    "ps <- physeq.noSmall"
   ]
  },
  {
   "cell_type": "code",
   "execution_count": 272,
   "metadata": {
    "collapsed": false
   },
   "outputs": [],
   "source": [
    "%%R\n",
    "# Normalizes the sample counts by the total - i.e., reporting what fraction of each sample each OTU makes up.\n",
    "ps_snorm = transform_sample_counts(ps, function(x) x / sum(x))"
   ]
  },
  {
   "cell_type": "code",
   "execution_count": 273,
   "metadata": {
    "collapsed": false
   },
   "outputs": [
    {
     "data": {
      "text/plain": [
       "Run 0 stress 0.114486 \n",
       "Run 1 stress 0.1332872 \n",
       "Run 2 stress 0.1348826 \n",
       "Run 3 stress 0.1287012 \n",
       "Run 4 stress 0.1540328 \n",
       "Run 5 stress 0.1323223 \n",
       "Run 6 stress 0.1206925 \n",
       "Run 7 stress 0.1588449 \n",
       "Run 8 stress 0.1146372 \n",
       "... procrustes: rmse 0.00593401  max resid 0.02877808 \n",
       "Run 9 stress 0.1123976 \n",
       "... New best solution\n",
       "... procrustes: rmse 0.07530012  max resid 0.357782 \n",
       "Run 10 stress 0.1388115 \n",
       "Run 11 stress 0.1206933 \n",
       "Run 12 stress 0.1303138 \n",
       "Run 13 stress 0.1532108 \n",
       "Run 14 stress 0.1459531 \n",
       "Run 15 stress 0.1498198 \n",
       "Run 16 stress 0.1240913 \n",
       "Run 17 stress 0.1450879 \n",
       "Run 18 stress 0.1241244 \n",
       "Run 19 stress 0.1385547 \n",
       "Run 20 stress 0.1342586 \n"
      ]
     },
     "metadata": {},
     "output_type": "display_data"
    }
   ],
   "source": [
    "%%R\n",
    "# Computing the Bray distance matrix and NMDS in parallel\n",
    "\n",
    "ord.full = ordinate(ps_snorm, method = \"NMDS\", distance = \"unifrac\", weighted=TRUE)\n",
    "ord.full.plot = plot_ordination(ps_snorm, ord.full, axes = c(1,2), justDF = TRUE)\n",
    "ord.full.plot$Samples = rownames(ord.full.plot)"
   ]
  },
  {
   "cell_type": "code",
   "execution_count": 274,
   "metadata": {
    "collapsed": false
   },
   "outputs": [
    {
     "data": {
      "image/png": "[encoded data removed]"
     },
     "metadata": {},
     "output_type": "display_data"
    }
   ],
   "source": [
    "%%R -h 400 -w 700\n",
    "D <- ord.full.plot\n",
    "# Sets the relevant ordination\n",
    "\n",
    "colnames(D)[1:2]<-c(\"Axis1\",\"Axis2\")\n",
    "# Renames the axis columns\n",
    "\n",
    "D$Month<-as.factor(D$Month)\n",
    "D$Cosm<-as.factor(D$Cosm)\n",
    "\n",
    "# Creates an plot object, using the df.sites data, with the x and y axes specified as the PCoA axes,\n",
    "p = ggplot(D, aes(x = Axis1, y = Axis2, color = Trtmt, shape = Month))\n",
    "\n",
    "# Determines the size of the symbols\n",
    "p = p  + geom_point(size=3.5) \n",
    "#+ scale_colour_manual(values=c(\"skyblue3\",\"orange\",\"chartreuse4\",\"gold1\",\"red3\",\"black\"))\n",
    "\n",
    "p = p + guides(colour = guide_legend(\"\"), shape = guide_legend(\"\"))\n",
    "\n",
    "# Determines the color theme of the plot overall\n",
    "p = p + theme_bw() +\n",
    "  theme(\n",
    "    plot.background = element_blank()\n",
    "   ,panel.grid.major = element_blank()\n",
    "   ,panel.grid.minor = element_blank()\n",
    "  ) +\n",
    "  theme(strip.text.x = element_text(size=14, face=\"bold\"),axis.text = element_text(size=12),legend.text = element_text(size=12),\n",
    "          strip.background = element_rect(colour=\"white\", fill=\"white\"))\n",
    "\n",
    "#p = p + facet_grid(~Month)\n",
    "# Adds a \"facet_wrap\" to it, which means it will plot it separately by whatever we specify - here, Days\n",
    "\n",
    "p"
   ]
  },
  {
   "cell_type": "markdown",
   "metadata": {
    "collapsed": true
   },
   "source": [
    "I need to calculate similarity distances between all units and see if the values are closer for related microcosms.  \n",
    "See Soil_Effect notebook. There is not a significant difference detected."
   ]
  },
  {
   "cell_type": "code",
   "execution_count": null,
   "metadata": {
    "collapsed": true
   },
   "outputs": [],
   "source": []
  }
 ],
 "metadata": {
  "kernelspec": {
   "display_name": "Python 2",
   "language": "python",
   "name": "python2"
  },
  "language_info": {
   "codemirror_mode": {
    "name": "ipython",
    "version": 2
   },
   "file_extension": ".py",
   "mimetype": "text/x-python",
   "name": "python",
   "nbconvert_exporter": "python",
   "pygments_lexer": "ipython2",
   "version": "2.7.9"
  }
 },
 "nbformat": 4,
 "nbformat_minor": 0
}
