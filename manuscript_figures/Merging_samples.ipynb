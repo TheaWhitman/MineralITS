{
 "cells": [
  {
   "cell_type": "code",
   "execution_count": 1,
   "metadata": {
    "collapsed": true
   },
   "outputs": [],
   "source": [
    "%load_ext rpy2.ipython"
   ]
  },
  {
   "cell_type": "code",
   "execution_count": 24,
   "metadata": {
    "collapsed": true
   },
   "outputs": [
    {
     "data": {
      "text/plain": [
       "\n",
       "Attaching package: ‘dplyr’\n",
       "\n",
       "The following objects are masked from ‘package:plyr’:\n",
       "\n",
       "    arrange, count, desc, failwith, id, mutate, rename, summarise,\n",
       "    summarize\n",
       "\n",
       "The following objects are masked from ‘package:GenomicRanges’:\n",
       "\n",
       "    intersect, setdiff, union\n",
       "\n",
       "The following object is masked from ‘package:GenomeInfoDb’:\n",
       "\n",
       "    intersect\n",
       "\n",
       "The following objects are masked from ‘package:IRanges’:\n",
       "\n",
       "    collapse, desc, intersect, setdiff, slice, union\n",
       "\n",
       "The following object is masked from ‘package:S4Vectors’:\n",
       "\n",
       "    rename\n",
       "\n",
       "The following objects are masked from ‘package:BiocGenerics’:\n",
       "\n",
       "    combine, intersect, setdiff, union\n",
       "\n",
       "The following objects are masked from ‘package:stats’:\n",
       "\n",
       "    filter, lag\n",
       "\n",
       "The following objects are masked from ‘package:base’:\n",
       "\n",
       "    intersect, setdiff, setequal, union\n",
       "\n"
      ]
     },
     "metadata": {},
     "output_type": "display_data"
    }
   ],
   "source": [
    "%%R\n",
    "# loading R packages\n",
    "library(DESeq2)\n",
    "library(phyloseq)\n",
    "library(plyr)\n",
    "library(dplyr)"
   ]
  },
  {
   "cell_type": "code",
   "execution_count": 63,
   "metadata": {
    "collapsed": true
   },
   "outputs": [],
   "source": [
    "%%R\n",
    "physeq = import_biom(\"../../SeqData/otu_table.tax.meta.biom\", \"../../SeqData/trees/fulltree.tre\", parseFunction = parse_taxonomy_greengenes)"
   ]
  },
  {
   "cell_type": "code",
   "execution_count": 64,
   "metadata": {
    "collapsed": true
   },
   "outputs": [
    {
     "data": {
      "text/plain": [
       "Sample Data:        [66 samples by 3 sample variables]:\n",
       "         Cosm Month          Trtmt\n",
       "B__        NA    NA          Blank\n",
       "F_2_15     15   2.0   Ferrihydrite\n",
       "F_2_28     28   2.0   Ferrihydrite\n",
       "F_2_33     33   2.0   Ferrihydrite\n",
       "F_2_9       9   2.0   Ferrihydrite\n",
       "F_2.5_13   13   2.5   Ferrihydrite\n",
       "F_2.5_14   14   2.5   Ferrihydrite\n",
       "F_2.5_16   16   2.5   Ferrihydrite\n",
       "F_2.5_27   27   2.5   Ferrihydrite\n",
       "F_2.5_3     3   2.5   Ferrihydrite\n",
       "F_2.5_30   30   2.5   Ferrihydrite\n",
       "F_2.5_31   31   2.5   Ferrihydrite\n",
       "F_2.5_42   42   2.5   Ferrihydrite\n",
       "F_2.5_49   49   2.5   Ferrihydrite\n",
       "F_3_12     12   3.0   Ferrihydrite\n",
       "F_3_20     20   3.0   Ferrihydrite\n",
       "F_3_22     22   3.0   Ferrihydrite\n",
       "F_3_23     23   3.0   Ferrihydrite\n",
       "F_3_44     44   3.0   Ferrihydrite\n",
       "H_2.5_13   13   2.5 Heavy Fraction\n",
       "H_2.5_3     3   2.5 Heavy Fraction\n",
       "H_2.5_42   42   2.5 Heavy Fraction\n",
       "K_2.5_13   13   2.5      Kaolinite\n",
       "K_2.5_14   14   2.5      Kaolinite\n",
       "K_2.5_16   16   2.5      Kaolinite\n",
       "K_2.5_27   27   2.5      Kaolinite\n",
       "K_2.5_3     3   2.5      Kaolinite\n",
       "K_2.5_30   30   2.5      Kaolinite\n",
       "K_2.5_42   42   2.5      Kaolinite\n",
       "K_2.5_49   49   2.5      Kaolinite\n",
       "K_3_12     12   3.0      Kaolinite\n",
       "K_3_20     20   3.0      Kaolinite\n",
       "K_3_22     22   3.0      Kaolinite\n",
       "K_3_23     23   3.0      Kaolinite\n",
       "K_3_44     44   3.0      Kaolinite\n",
       "Q_2_33     33   2.0         Quartz\n",
       "Q_2.5_13   13   2.5         Quartz\n",
       "Q_2.5_14   14   2.5         Quartz\n",
       "Q_2.5_16   16   2.5         Quartz\n",
       "Q_2.5_27   27   2.5         Quartz\n",
       "Q_2.5_3     3   2.5         Quartz\n",
       "Q_2.5_30   30   2.5         Quartz\n",
       "Q_2.5_31   31   2.5         Quartz\n",
       "Q_2.5_42   42   2.5         Quartz\n",
       "Q_2.5_49   49   2.5         Quartz\n",
       "Q_3_12     12   3.0         Quartz\n",
       "Q_3_20     20   3.0         Quartz\n",
       "Q_3_22     22   3.0         Quartz\n",
       "Q_3_23     23   3.0         Quartz\n",
       "Q_3_44     44   3.0         Quartz\n",
       "S_2_15     15   2.0           Soil\n",
       "S_2_28     28   2.0           Soil\n",
       "S_2_31     31   2.0           Soil\n",
       "S_2_33     33   2.0           Soil\n",
       "S_2_9       9   2.0           Soil\n",
       "S_2.5_13   13   2.5           Soil\n",
       "S_2.5_14   14   2.5           Soil\n",
       "S_2.5_16   16   2.5           Soil\n",
       "S_2.5_27   27   2.5           Soil\n",
       "S_2.5_3     3   2.5           Soil\n",
       "S_2.5_49   49   2.5           Soil\n",
       "S_3_12     12   3.0           Soil\n",
       "S_3_20     20   3.0           Soil\n",
       "S_3_22     22   3.0           Soil\n",
       "S_3_23     23   3.0           Soil\n",
       "S_3_44     44   3.0           Soil\n"
      ]
     },
     "metadata": {},
     "output_type": "display_data"
    }
   ],
   "source": [
    "%%R\n",
    "\n",
    "Merge<-paste(as.character(sample_data(physeq)$Trtmt),as.character(sample_data(physeq)$Month),as.character(sample_data(physeq)$Cosm),sep=\"_\")\n",
    "sample_data(physeq)$Merge <- Merge\n",
    "# Creating a new column in the phyloseq sample data called Merge,\n",
    "# which contains a concatenated ID so all samples from the same mineral, month, and cosm\n",
    "# will have the same ID (thus merging PCR and buffer replicates).\n",
    "\n",
    "ps.merged = merge_samples(physeq, \"Merge\")\n",
    "# Merging the phyloseq object by biological replicates\n",
    "\n",
    "keep=c(\"Cosm\",\"Month\",\"Trtmt\")\n",
    "sd = sample_data(ps.merged)\n",
    "sd = sd[,keep]\n",
    "sd$Trtmt = substring(row.names(sd),1,1)\n",
    "sd$Trtmt[sd$Trtmt==\"B\"]=\"Blank\"\n",
    "sd$Trtmt[sd$Trtmt==\"F\"]=\"Ferrihydrite\"\n",
    "sd$Trtmt[sd$Trtmt==\"Q\"]=\"Quartz\"\n",
    "sd$Trtmt[sd$Trtmt==\"H\"]=\"Heavy Fraction\"\n",
    "sd$Trtmt[sd$Trtmt==\"S\"]=\"Soil\"\n",
    "sd$Trtmt[sd$Trtmt==\"K\"]=\"Kaolinite\"\n",
    "sample_data(ps.merged) = sd\n",
    "sample_data(ps.merged)\n",
    "# Cleaning up the sample data table"
   ]
  },
  {
   "cell_type": "markdown",
   "metadata": {},
   "source": [
    "####This approach looks good for approaching at least the DESeq analyses"
   ]
  },
  {
   "cell_type": "code",
   "execution_count": null,
   "metadata": {
    "collapsed": true
   },
   "outputs": [],
   "source": []
  }
 ],
 "metadata": {
  "kernelspec": {
   "display_name": "Python 2",
   "language": "python",
   "name": "python2"
  },
  "language_info": {
   "codemirror_mode": {
    "name": "ipython",
    "version": 2
   },
   "file_extension": ".py",
   "mimetype": "text/x-python",
   "name": "python",
   "nbconvert_exporter": "python",
   "pygments_lexer": "ipython2",
   "version": "2.7.9"
  }
 },
 "nbformat": 4,
 "nbformat_minor": 0
}
