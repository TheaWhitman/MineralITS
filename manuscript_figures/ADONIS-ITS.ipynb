{
 "cells": [
  {
   "cell_type": "code",
   "execution_count": 1,
   "metadata": {
    "collapsed": true
   },
   "outputs": [],
   "source": [
    "%load_ext rpy2.ipython\n",
    "# Turning on in-IPy R capabilities"
   ]
  },
  {
   "cell_type": "code",
   "execution_count": 2,
   "metadata": {
    "collapsed": false
   },
   "outputs": [
    {
     "data": {
      "text/plain": [
       "Loading required package: permute\n",
       "Loading required package: lattice\n",
       "This is vegan 2.3-0\n",
       "\n",
       "Attaching package: ‘dplyr’\n",
       "\n",
       "The following objects are masked from ‘package:plyr’:\n",
       "\n",
       "    arrange, count, desc, failwith, id, mutate, rename, summarise,\n",
       "    summarize\n",
       "\n",
       "The following objects are masked from ‘package:stats’:\n",
       "\n",
       "    filter, lag\n",
       "\n",
       "The following objects are masked from ‘package:base’:\n",
       "\n",
       "    intersect, setdiff, setequal, union\n",
       "\n"
      ]
     },
     "metadata": {},
     "output_type": "display_data"
    }
   ],
   "source": [
    "%%R\n",
    "library(phyloseq)\n",
    "library(vegan)\n",
    "library(plyr)\n",
    "library(dplyr)"
   ]
  },
  {
   "cell_type": "code",
   "execution_count": 8,
   "metadata": {
    "collapsed": false
   },
   "outputs": [],
   "source": [
    "%%R\n",
    "#Creating the physeq object from our tree and biom table with taxonomic and metadata already included, telling it \\\n",
    "# that the taxonomy is from greengenes database, so it will recognize the samples\n",
    "physeq = import_biom(\"../../SeqData/ITS.otu_table.tax.meta.biom\", parseFunction = parse_taxonomy_greengenes)"
   ]
  },
  {
   "cell_type": "code",
   "execution_count": 9,
   "metadata": {
    "collapsed": false
   },
   "outputs": [],
   "source": [
    "%%R\n",
    "Merge<-paste(as.character(sample_data(physeq)$Trtmt),as.character(sample_data(physeq)$Month),as.character(sample_data(physeq)$Cosm),sep=\"_\")\n",
    "sample_data(physeq)$Merge <- Merge\n",
    "# Creating a new column in the phyloseq sample data called Merge,\n",
    "# which contains a concatenated ID so all samples from the same mineral, month, and cosm\n",
    "# will have the same ID (thus merging PCR and buffer replicates).\n",
    "\n",
    "ps.merged = merge_samples(physeq, \"Merge\")\n",
    "# Merging the phyloseq object by biological replicates\n",
    "\n",
    "keep=c(\"Cosm\",\"Month\",\"Trtmt\")\n",
    "sd = sample_data(ps.merged)\n",
    "sd = sd[,keep]\n",
    "sd$Trtmt = substring(row.names(sd),1,1)\n",
    "sd$Trtmt[sd$Trtmt==\"B\"]=\"Blank\"\n",
    "sd$Trtmt[sd$Trtmt==\"F\"]=\"Ferrihydrite\"\n",
    "sd$Trtmt[sd$Trtmt==\"Q\"]=\"Quartz\"\n",
    "sd$Trtmt[sd$Trtmt==\"H\"]=\"Heavy Fraction\"\n",
    "sd$Trtmt[sd$Trtmt==\"S\"]=\"Soil\"\n",
    "sd$Trtmt[sd$Trtmt==\"K\"]=\"Kaolinite\"\n",
    "sample_data(ps.merged) = sd\n",
    "physeq = ps.merged"
   ]
  },
  {
   "cell_type": "code",
   "execution_count": 10,
   "metadata": {
    "collapsed": false
   },
   "outputs": [],
   "source": [
    "%%R\n",
    "physeq = subset_samples(physeq,sample_sums(physeq)>1500)\n",
    "# Normalizes the sample counts by the total - i.e., reporting what fraction of each sample each OTU makes up.\n",
    "#physeq = transform_sample_counts(physeq, function(x) x / sum(x))\n",
    "#physeq = subset_samples(physeq, Trtmt!=\"Heavy Fraction\")\n",
    "#physeq = subset_samples(physeq, Trtmt!=\"Kaolinite\")\n",
    "#physeq = subset_samples(physeq, Trtmt!=\"Blank\")\n",
    "#physeq = subset_samples(physeq, Trtmt!=\"Quartz\")\n",
    "#physeq = subset_samples(physeq, Trtmt!=\"Ferrihydrite\")\n",
    "#physeq = subset_samples(physeq, Trtmt!=\"Soil\")"
   ]
  },
  {
   "cell_type": "code",
   "execution_count": 11,
   "metadata": {
    "collapsed": false
   },
   "outputs": [
    {
     "data": {
      "text/plain": [
       "  Tukey multiple comparisons of means\n",
       "    95% family-wise confidence level\n",
       "\n",
       "Fit: aov(formula = distances ~ group, data = df)\n",
       "\n",
       "$group\n",
       "                              diff         lwr         upr     p adj\n",
       "Kaolinite-Ferrihydrite  0.05917026 -0.03540727 0.153747795 0.3550856\n",
       "Quartz-Ferrihydrite     0.03403773 -0.03283868 0.100914146 0.5358390\n",
       "Soil-Ferrihydrite      -0.02913592 -0.09927650 0.041004652 0.6899896\n",
       "Quartz-Kaolinite       -0.02513253 -0.11971006 0.069445001 0.8947265\n",
       "Soil-Kaolinite         -0.08830619 -0.18521932 0.008606945 0.0861463\n",
       "Soil-Quartz            -0.06317365 -0.13331423 0.006966920 0.0916054\n",
       "\n"
      ]
     },
     "metadata": {},
     "output_type": "display_data"
    },
    {
     "data": {
      "image/png": "[encoded data removed]"
     },
     "metadata": {},
     "output_type": "display_data"
    }
   ],
   "source": [
    "%%R\n",
    "df = as(sample_data(physeq), \"data.frame\")\n",
    "d = distance(physeq, method = \"bray\")\n",
    "sampdat = sample_data(physeq)\n",
    "groups = as.factor(sampdat$Trtmt)\n",
    "x = betadisper(d, groups)\n",
    "boxplot(x, ylab = \"Distance to centroid\")\n",
    "anova(x)\n",
    "TukeyHSD(x, ordered = FALSE, conf.level = 0.95)\n",
    "# Performing test of beta dispersion - the permanova/adonis test requires that groups have similar dispersion.\n",
    "# This doesn't look outrageously bad here. Some worry re. Kaolinite, as expected."
   ]
  },
  {
   "cell_type": "code",
   "execution_count": 12,
   "metadata": {
    "collapsed": false
   },
   "outputs": [
    {
     "data": {
      "text/plain": [
       "\n",
       "Call:\n",
       "adonis(formula = d ~ sample_data(physeq)$Month + sample_data(physeq)$Trtmt,      data = df) \n",
       "\n",
       "Permutation: free\n",
       "Number of permutations: 999\n",
       "\n",
       "Terms added sequentially (first to last)\n",
       "\n",
       "                          Df SumsOfSqs MeanSqs F.Model      R2 Pr(>F)    \n",
       "sample_data(physeq)$Month  1    0.6396 0.63956  1.9330 0.02973  0.004 ** \n",
       "sample_data(physeq)$Trtmt  3    3.6669 1.22229  3.6943 0.17047  0.001 ***\n",
       "Residuals                 52   17.2045 0.33086         0.79980           \n",
       "Total                     56   21.5110                 1.00000           \n",
       "---\n",
       "Signif. codes:  0 ‘***’ 0.001 ‘**’ 0.01 ‘*’ 0.05 ‘.’ 0.1 ‘ ’ 1\n"
      ]
     },
     "metadata": {},
     "output_type": "display_data"
    }
   ],
   "source": [
    "%%R\n",
    "df = as(sample_data(physeq), \"data.frame\")\n",
    "d = distance(physeq, method = \"bray\")\n",
    "\n",
    "d.adonis = adonis(d ~ sample_data(physeq)$Month + sample_data(physeq)$Trtmt, df)\n",
    "d.adonis"
   ]
  },
  {
   "cell_type": "markdown",
   "metadata": {},
   "source": [
    "There is a significant effect of both month and treatment, across samples"
   ]
  },
  {
   "cell_type": "code",
   "execution_count": 13,
   "metadata": {
    "collapsed": true
   },
   "outputs": [],
   "source": [
    "%%R\n",
    "physeq.QS = subset_samples(physeq, Trtmt == c(\"Soil\",\"Quartz\"))\n",
    "physeq.FS = subset_samples(physeq, Trtmt == c(\"Soil\",\"Ferrihydrite\"))\n",
    "physeq.QF = subset_samples(physeq, Trtmt == c(\"Quartz\",\"Ferrihydrite\"))"
   ]
  },
  {
   "cell_type": "code",
   "execution_count": 14,
   "metadata": {
    "collapsed": false
   },
   "outputs": [
    {
     "data": {
      "text/plain": [
       "\n",
       "Call:\n",
       "adonis(formula = d ~ sample_data(ps)$Month + sample_data(ps)$Trtmt,      data = df) \n",
       "\n",
       "Permutation: free\n",
       "Number of permutations: 999\n",
       "\n",
       "Terms added sequentially (first to last)\n",
       "\n",
       "                      Df SumsOfSqs MeanSqs F.Model      R2 Pr(>F)    \n",
       "sample_data(ps)$Month  1    0.3868 0.38684  1.2169 0.07011  0.172    \n",
       "sample_data(ps)$Trtmt  1    0.6802 0.68022  2.1398 0.12328  0.001 ***\n",
       "Residuals             14    4.4505 0.31790         0.80661           \n",
       "Total                 16    5.5176                 1.00000           \n",
       "---\n",
       "Signif. codes:  0 ‘***’ 0.001 ‘**’ 0.01 ‘*’ 0.05 ‘.’ 0.1 ‘ ’ 1\n"
      ]
     },
     "metadata": {},
     "output_type": "display_data"
    }
   ],
   "source": [
    "%%R\n",
    "ps = physeq.QS\n",
    "df = as(sample_data(ps), \"data.frame\")\n",
    "d = distance(ps, method = \"bray\")\n",
    "\n",
    "d.adonis = adonis(d ~ sample_data(ps)$Month + sample_data(ps)$Trtmt, df)\n",
    "d.adonis"
   ]
  },
  {
   "cell_type": "code",
   "execution_count": 15,
   "metadata": {
    "collapsed": false
   },
   "outputs": [
    {
     "data": {
      "text/plain": [
       "\n",
       "Call:\n",
       "adonis(formula = d ~ sample_data(ps)$Month + sample_data(ps)$Trtmt,      data = df) \n",
       "\n",
       "Permutation: free\n",
       "Number of permutations: 999\n",
       "\n",
       "Terms added sequentially (first to last)\n",
       "\n",
       "                      Df SumsOfSqs MeanSqs F.Model      R2 Pr(>F)    \n",
       "sample_data(ps)$Month  1    0.2857 0.28575 0.92378 0.05149  0.555    \n",
       "sample_data(ps)$Trtmt  1    0.9330 0.93299 3.01620 0.16813  0.001 ***\n",
       "Residuals             14    4.3306 0.30933         0.78038           \n",
       "Total                 16    5.5493                 1.00000           \n",
       "---\n",
       "Signif. codes:  0 ‘***’ 0.001 ‘**’ 0.01 ‘*’ 0.05 ‘.’ 0.1 ‘ ’ 1\n"
      ]
     },
     "metadata": {},
     "output_type": "display_data"
    }
   ],
   "source": [
    "%%R\n",
    "ps = physeq.FS\n",
    "df = as(sample_data(ps), \"data.frame\")\n",
    "d = distance(ps, method = \"bray\")\n",
    "\n",
    "d.adonis = adonis(d ~ sample_data(ps)$Month + sample_data(ps)$Trtmt, df)\n",
    "d.adonis"
   ]
  },
  {
   "cell_type": "code",
   "execution_count": 16,
   "metadata": {
    "collapsed": false
   },
   "outputs": [
    {
     "data": {
      "text/plain": [
       "\n",
       "Call:\n",
       "adonis(formula = d ~ sample_data(ps)$Month + sample_data(ps)$Trtmt,      data = df) \n",
       "\n",
       "Permutation: free\n",
       "Number of permutations: 999\n",
       "\n",
       "Terms added sequentially (first to last)\n",
       "\n",
       "                      Df SumsOfSqs MeanSqs F.Model      R2 Pr(>F)\n",
       "sample_data(ps)$Month  1    0.4327 0.43271   1.258 0.07143  0.144\n",
       "sample_data(ps)$Trtmt  1    0.4657 0.46573   1.354 0.07688  0.100\n",
       "Residuals             15    5.1594 0.34396         0.85169       \n",
       "Total                 17    6.0578                 1.00000       \n"
      ]
     },
     "metadata": {},
     "output_type": "display_data"
    }
   ],
   "source": [
    "%%R\n",
    "ps = physeq.QF\n",
    "df = as(sample_data(ps), \"data.frame\")\n",
    "d = distance(ps, method = \"bray\")\n",
    "\n",
    "d.adonis = adonis(d ~ sample_data(ps)$Month + sample_data(ps)$Trtmt, df)\n",
    "d.adonis"
   ]
  },
  {
   "cell_type": "markdown",
   "metadata": {},
   "source": [
    "### Testing to see if there is a difference between Months 2 and 2.5"
   ]
  },
  {
   "cell_type": "code",
   "execution_count": 22,
   "metadata": {
    "collapsed": true
   },
   "outputs": [],
   "source": [
    "%%R\n",
    "physeq.later = subset_samples(physeq, Month!=2.0)\n",
    "physeq.later = subset_samples(physeq.later, Trtmt!=\"Heavy Fraction\")\n",
    "# Removing this because it doesn't exist in both timepoints\n",
    "#physeq.later = subset_samples(physeq.later, Trtmt!=\"Kaolinite\")\n",
    "# Removing this because we know it's more extreme than other samples - test if it makes a difference"
   ]
  },
  {
   "cell_type": "code",
   "execution_count": 24,
   "metadata": {
    "collapsed": false
   },
   "outputs": [
    {
     "data": {
      "text/plain": [
       "\n",
       "Call:\n",
       "adonis(formula = d ~ sample_data(physeq.later)$Month + sample_data(physeq.later)$Trtmt,      data = df) \n",
       "\n",
       "Permutation: free\n",
       "Number of permutations: 999\n",
       "\n",
       "Terms added sequentially (first to last)\n",
       "\n",
       "                                Df SumsOfSqs MeanSqs F.Model      R2 Pr(>F)    \n",
       "sample_data(physeq.later)$Month  1    0.4311 0.43105  1.2769 0.02742  0.122    \n",
       "sample_data(physeq.later)$Trtmt  3    2.7990 0.93300  2.7637 0.17805  0.001 ***\n",
       "Residuals                       37   12.4907 0.33759         0.79454           \n",
       "Total                           41   15.7207                 1.00000           \n",
       "---\n",
       "Signif. codes:  0 ‘***’ 0.001 ‘**’ 0.01 ‘*’ 0.05 ‘.’ 0.1 ‘ ’ 1\n"
      ]
     },
     "metadata": {},
     "output_type": "display_data"
    }
   ],
   "source": [
    "%%R\n",
    "df = as(sample_data(physeq.later), \"data.frame\")\n",
    "d = distance(physeq.later, method = \"bray\")\n",
    "\n",
    "d.adonis = adonis(d ~ sample_data(physeq.later)$Month + sample_data(physeq.later)$Trtmt, df)\n",
    "d.adonis"
   ]
  },
  {
   "cell_type": "markdown",
   "metadata": {},
   "source": [
    "#### Using Bray distances, there is not a significant effect of month (p=0.100) btw 2 and 2.5 months of root exposure.\n",
    "This is regardless of whether we exclude Kaolinite or not, and include Cosm as a factor or not."
   ]
  },
  {
   "cell_type": "code",
   "execution_count": null,
   "metadata": {
    "collapsed": true
   },
   "outputs": [],
   "source": []
  }
 ],
 "metadata": {
  "kernelspec": {
   "display_name": "Python 2",
   "language": "python",
   "name": "python2"
  },
  "language_info": {
   "codemirror_mode": {
    "name": "ipython",
    "version": 2
   },
   "file_extension": ".py",
   "mimetype": "text/x-python",
   "name": "python",
   "nbconvert_exporter": "python",
   "pygments_lexer": "ipython2",
   "version": "2.7.9"
  }
 },
 "nbformat": 4,
 "nbformat_minor": 0
}
