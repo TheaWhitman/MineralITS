{
 "cells": [
  {
   "cell_type": "code",
   "execution_count": 1,
   "metadata": {
    "collapsed": true
   },
   "outputs": [],
   "source": [
    "%load_ext rpy2.ipython"
   ]
  },
  {
   "cell_type": "code",
   "execution_count": 165,
   "metadata": {
    "collapsed": true
   },
   "outputs": [
    {
     "data": {
      "text/plain": [
       "\n",
       "Attaching package: ‘dplyr’\n",
       "\n",
       "The following objects are masked from ‘package:stats’:\n",
       "\n",
       "    filter, lag\n",
       "\n",
       "The following objects are masked from ‘package:base’:\n",
       "\n",
       "    intersect, setdiff, setequal, union\n",
       "\n"
      ]
     },
     "metadata": {},
     "output_type": "display_data"
    }
   ],
   "source": [
    "%%R\n",
    "library(phyloseq)\n",
    "#library(plyr)\n",
    "library(dplyr)\n",
    "library(ggplot2)\n",
    "library(rwantshue)"
   ]
  },
  {
   "cell_type": "code",
   "execution_count": 164,
   "metadata": {
    "collapsed": false
   },
   "outputs": [],
   "source": [
    "%%R\n",
    "detach(package:dplyr)\n",
    "detach(package:plyr)"
   ]
  },
  {
   "cell_type": "code",
   "execution_count": 147,
   "metadata": {
    "collapsed": true
   },
   "outputs": [],
   "source": [
    "%%R\n",
    "physeq = import_biom(\"../../SeqData/ITS.otu_table.tax.meta.biom\")"
   ]
  },
  {
   "cell_type": "code",
   "execution_count": 148,
   "metadata": {
    "collapsed": true
   },
   "outputs": [],
   "source": [
    "%%R\n",
    "Merge<-paste(as.character(sample_data(physeq)$Trtmt),as.character(sample_data(physeq)$Month),as.character(sample_data(physeq)$Cosm),sep=\"_\")\n",
    "sample_data(physeq)$Merge <- Merge\n",
    "# Creating a new column in the phyloseq sample data called Merge,\n",
    "# which contains a concatenated ID so all samples from the same mineral, month, and cosm\n",
    "# will have the same ID (thus merging PCR and buffer replicates).\n",
    "\n",
    "ps.merged = merge_samples(physeq, \"Merge\")\n",
    "# Merging the phyloseq object by biological replicates\n",
    "\n",
    "keep=c(\"Cosm\",\"Month\",\"Trtmt\")\n",
    "sd = sample_data(ps.merged)\n",
    "sd = sd[,keep]\n",
    "sd$Trtmt = substring(row.names(sd),1,1)\n",
    "sd$Trtmt[sd$Trtmt==\"B\"]=\"Blank\"\n",
    "sd$Trtmt[sd$Trtmt==\"F\"]=\"Ferrihydrite\"\n",
    "sd$Trtmt[sd$Trtmt==\"Q\"]=\"Quartz\"\n",
    "sd$Trtmt[sd$Trtmt==\"H\"]=\"Heavy Fraction\"\n",
    "sd$Trtmt[sd$Trtmt==\"S\"]=\"Soil\"\n",
    "sd$Trtmt[sd$Trtmt==\"K\"]=\"Kaolinite\"\n",
    "sample_data(ps.merged) = sd\n",
    "physeq = ps.merged"
   ]
  },
  {
   "cell_type": "code",
   "execution_count": 261,
   "metadata": {
    "collapsed": false
   },
   "outputs": [],
   "source": [
    "%%R\n",
    "EMF = read.csv(\"../../SeqData/EMF.txt\",quote =\"\",header=FALSE)"
   ]
  },
  {
   "cell_type": "code",
   "execution_count": 262,
   "metadata": {
    "collapsed": true
   },
   "outputs": [
    {
     "data": {
      "text/plain": [
       "  [1] \"g__Afroboletus\"       \"g__Albatrellus\"       \"g__Alnicola\"         \n",
       "  [4] \"g__Alpova\"            \"g__Amanita\"           \"g__Amphinema\"        \n",
       "  [7] \"g__Amylascus\"         \"g__Andebbia\"          \"g__Arcangeliella\"    \n",
       " [10] \"g__Aroramyces\"        \"g__Astraeus\"          \"g__Aureoboletus\"     \n",
       " [13] \"g__Austroboletus\"     \"g__Austrogautieria\"   \"g__Austropaxillus\"   \n",
       " [16] \"g__Balsamia\"          \"g__Bankera\"           \"g__Barssia\"          \n",
       " [19] \"g__Boletellus\"        \"g__Boletinus\"         \"g__Boletus\"          \n",
       " [22] \"g__Bothia\"            \"g__Byssocorticium\"    \"g__Byssoporia\"       \n",
       " [25] \"g__Calostoma\"         \"g__Cantharellus\"      \"g__Castoreum\"        \n",
       " [28] \"g__Catathelasma\"      \"g__Cazia\"             \"g__Cenococcum\"       \n",
       " [31] \"g__Choiromyces\"       \"g__Chondrogaster\"     \"g__Clavariadelphus\"  \n",
       " [34] \"g__Clavulicium\"       \"g__Clavulina\"         \"g__Coltricia\"        \n",
       " [37] \"g__Corditubera\"       \"g__Cortinarius\"       \"g__Craterellus\"      \n",
       " [40] \"g__Cuphocybe\"         \"g__Cystangium\"        \"g__Densospora\"       \n",
       " [43] \"g__Dermocybe\"         \"g__Descolea\"          \"g__Descomyces\"       \n",
       " [46] \"g__Dingleya\"          \"g__Diplocystis\"       \"g__Elaphomyces\"      \n",
       " [49] \"g__Fischerula\"        \"g__Galactinia\"        \"g__Gallacea\"         \n",
       " [52] \"g__Gastroboletus\"     \"g__Gautieria\"         \"g__Geastrum\"         \n",
       " [55] \"g__Genabea\"           \"g__Genea\"             \"g__Geopora\"          \n",
       " [58] \"g__Gilkeya\"           \"g__Glischroderma\"     \"g__Gloeocantharellus\"\n",
       " [61] \"g__Gomphogaster\"      \"g__Gomphus\"           \"g__Gummiglobus\"      \n",
       " [64] \"g__Gymnohydnotrya\"    \"g__Gymnomyces\"        \"g__Gyrodon\"          \n",
       " [67] \"g__Gyroporus\"         \"g__Hallingea\"         \"g__Hebeloma\"         \n",
       " [70] \"g__Heimiella\"         \"g__Heimioporus\"       \"g__Helvella\"         \n",
       " [73] \"g__Humaria\"           \"g__Hydnangium\"        \"g__Hydnellum\"        \n",
       " [76] \"g__Hydnobolites\"      \"g__Hydnoplicata\"      \"g__Hydnotrya\"        \n",
       " [79] \"g__Hydnotryopsis\"     \"g__Hydnum\"            \"g__Hygrophorus\"      \n",
       " [82] \"g__Hysterangium\"      \"g__Inocybe\"           \"g__Labyrinthomyces\"  \n",
       " [85] \"g__Laccaria\"          \"g__Lachnea\"           \"g__Lactarius\"        \n",
       " [88] \"g__Leccinum\"          \"g__Leucangium\"        \"g__Leucogaster\"      \n",
       " [91] \"g__Leucophleps\"       \"g__Mackintoshia\"      \"g__Macowanites\"      \n",
       " [94] \"g__Malajczukia\"       \"g__Melanogaster\"      \"g__Membranomyces\"    \n",
       " [97] \"g__Mesophellia\"       \"g__Mycolevis\"         \"g__Nothocastoreum\"   \n",
       "[100] \"g__Nothojafnea\"       \"g__Otidea\"            \"g__Pachyphloeus\"     \n",
       "[103] \"g__Paragyrodon\"       \"g__Phylloboletellus\"  \"g__Phylloporus\"      \n",
       "[106] \"g__Picoa\"             \"g__Piloderma\"         \"g__Pisolithus\"       \n",
       "[109] \"g__Polyozellus\"       \"g__Polyporoletus\"     \"g__Porphyrellus\"     \n",
       "[112] \"g__Protoglossum\"      \"g__Pseudoboletus\"     \"g__Pseudotomentella\" \n",
       "[115] \"g__Pseudotulostoma\"   \"g__Pterygellus\"       \"g__Pulveroboletus\"   \n",
       "[118] \"g__Quadrispora\"       \"g__Reddellomyces\"     \"g__Retiboletus\"      \n",
       "[121] \"g__Rhizopogon\"        \"g__Rhodactina\"        \"g__Richoniella\"      \n",
       "[124] \"g__Riessia\"           \"g__Riessiella\"        \"g__Royoungia\"        \n",
       "[127] \"g__Rozites\"           \"g__Rubinoboletus\"     \"g__Ruhlandiella\"     \n",
       "[130] \"g__Russula\"           \"g__Sarcosphaera\"      \"g__Scabropezia\"      \n",
       "[133] \"g__Scleroderma\"       \"g__Setchelliogaster\"  \"g__Sowerbyella\"      \n",
       "[136] \"g__Sphaerosporella\"   \"g__Sphaerozone\"       \"g__Strobilomyces\"    \n",
       "[139] \"g__Suillus\"           \"g__Tarzetta\"          \"g__Terfezia\"         \n",
       "[142] \"g__Thaxterogaster\"    \"g__Thelephora\"        \"g__Tirmania\"         \n",
       "[145] \"g__Tomentellopsis\"    \"g__Tomentella\"        \"g__Tremellodendron\"  \n",
       "[148] \"g__Tremellogaster\"    \"g__Tricholoma\"        \"g__Trichophaea\"      \n",
       "[151] \"g__Truncoclumella\"    \"g__Truncocolumella\"   \"g__Tuber\"            \n",
       "[154] \"g__Turbinellus\"       \"g__Tyloporus\"         \"g__Tylospora\"        \n",
       "[157] \"g__Ulurua\"            \"g__Underwoodia\"       \"g__Wilcoxina\"        \n",
       "[160] \"g__Wynnella\"          \"g__Xanthoconium\"      \"g__Xerocomus\"        \n",
       "[163] \"g__Zelleromyces \"     \"f__Rhizopogonaceae\"   \"f__Suillaceae\"       \n"
      ]
     },
     "metadata": {},
     "output_type": "display_data"
    }
   ],
   "source": [
    "%%R\n",
    "m = c()\n",
    "for (i in c(1:165)) {\n",
    "    m = c(m,paste(EMF[[i]]))\n",
    "}\n",
    "m"
   ]
  },
  {
   "cell_type": "code",
   "execution_count": 252,
   "metadata": {
    "collapsed": true
   },
   "outputs": [
    {
     "data": {
      "text/plain": [
       "  [1] \"g__Afroboletus\"       \"g__Albatrellus\"       \"g__Alnicola\"         \n",
       "  [4] \"g__Alpova\"            \"g__Amanita\"           \"g__Amphinema\"        \n",
       "  [7] \"g__Amylascus\"         \"g__Andebbia\"          \"g__Arcangeliella\"    \n",
       " [10] \"g__Aroramyces\"        \"g__Astraeus\"          \"g__Aureoboletus\"     \n",
       " [13] \"g__Austroboletus\"     \"g__Austrogautieria\"   \"g__Austropaxillus\"   \n",
       " [16] \"g__Balsamia\"          \"g__Bankera\"           \"g__Barssia\"          \n",
       " [19] \"g__Boletellus\"        \"g__Boletinus\"         \"g__Boletus\"          \n",
       " [22] \"g__Bothia\"            \"g__Byssocorticium\"    \"g__Byssoporia\"       \n",
       " [25] \"g__Calostoma\"         \"g__Cantharellus\"      \"g__Castoreum\"        \n",
       " [28] \"g__Catathelasma\"      \"g__Cazia\"             \"g__Cenococcum\"       \n",
       " [31] \"g__Choiromyces\"       \"g__Chondrogaster\"     \"g__Clavariadelphus\"  \n",
       " [34] \"g__Clavulicium\"       \"g__Clavulina\"         \"g__Coltricia\"        \n",
       " [37] \"g__Corditubera\"       \"g__Cortinarius\"       \"g__Craterellus\"      \n",
       " [40] \"g__Cuphocybe\"         \"g__Cystangium\"        \"g__Densospora\"       \n",
       " [43] \"g__Dermocybe\"         \"g__Descolea\"          \"g__Descomyces\"       \n",
       " [46] \"g__Dingleya\"          \"g__Diplocystis\"       \"g__Elaphomyces\"      \n",
       " [49] \"g__Fischerula\"        \"g__Galactinia\"        \"g__Gallacea\"         \n",
       " [52] \"g__Gastroboletus\"     \"g__Gautieria\"         \"g__Geastrum\"         \n",
       " [55] \"g__Genabea\"           \"g__Genea\"             \"g__Geopora\"          \n",
       " [58] \"g__Gilkeya\"           \"g__Glischroderma\"     \"g__Gloeocantharellus\"\n",
       " [61] \"g__Gomphogaster\"      \"g__Gomphus\"           \"g__Gummiglobus\"      \n",
       " [64] \"g__Gymnohydnotrya\"    \"g__Gymnomyces\"        \"g__Gyrodon\"          \n",
       " [67] \"g__Gyroporus\"         \"g__Hallingea\"         \"g__Hebeloma\"         \n",
       " [70] \"g__Heimiella\"         \"g__Heimioporus\"       \"g__Helvella\"         \n",
       " [73] \"g__Humaria\"           \"g__Hydnangium\"        \"g__Hydnellum\"        \n",
       " [76] \"g__Hydnobolites\"      \"g__Hydnoplicata\"      \"g__Hydnotrya\"        \n",
       " [79] \"g__Hydnotryopsis\"     \"g__Hydnum\"            \"g__Hygrophorus\"      \n",
       " [82] \"g__Hysterangium\"      \"g__Inocybe\"           \"g__Labyrinthomyces\"  \n",
       " [85] \"g__Laccaria\"          \"g__Lachnea\"           \"g__Lactarius\"        \n",
       " [88] \"g__Leccinum\"          \"g__Leucangium\"        \"g__Leucogaster\"      \n",
       " [91] \"g__Leucophleps\"       \"g__Mackintoshia\"      \"g__Macowanites\"      \n",
       " [94] \"g__Malajczukia\"       \"g__Melanogaster\"      \"g__Membranomyces\"    \n",
       " [97] \"g__Mesophellia\"       \"g__Mycolevis\"         \"g__Nothocastoreum\"   \n",
       "[100] \"g__Nothojafnea\"       \"g__Otidea\"            \"g__Pachyphloeus\"     \n",
       "[103] \"g__Paragyrodon\"       \"g__Phylloboletellus\"  \"g__Phylloporus\"      \n",
       "[106] \"g__Picoa\"             \"g__Piloderma\"         \"g__Pisolithus\"       \n",
       "[109] \"g__Polyozellus\"       \"g__Polyporoletus\"     \"g__Porphyrellus\"     \n",
       "[112] \"g__Protoglossum\"      \"g__Pseudoboletus\"     \"g__Pseudotomentella\" \n",
       "[115] \"g__Pseudotulostoma\"   \"g__Pterygellus\"       \"g__Pulveroboletus\"   \n",
       "[118] \"g__Quadrispora\"       \"g__Reddellomyces\"     \"g__Retiboletus\"      \n",
       "[121] \"g__Rhizopogon\"        \"g__Rhodactina\"        \"g__Richoniella\"      \n",
       "[124] \"g__Riessia\"           \"g__Riessiella\"        \"g__Royoungia\"        \n",
       "[127] \"g__Rozites\"           \"g__Rubinoboletus\"     \"g__Ruhlandiella\"     \n",
       "[130] \"g__Russula\"           \"g__Sarcosphaera\"      \"g__Scabropezia\"      \n",
       "[133] \"g__Scleroderma\"       \"g__Setchelliogaster\"  \"g__Sowerbyella\"      \n",
       "[136] \"g__Sphaerosporella\"   \"g__Sphaerozone\"       \"g__Strobilomyces\"    \n",
       "[139] \"g__Suillus\"           \"g__Tarzetta\"          \"g__Terfezia\"         \n",
       "[142] \"g__Thaxterogaster\"    \"g__Thelephora\"        \"g__Tirmania\"         \n",
       "[145] \"g__Tomentellopsis\"    \"g__Tomentella\"        \"g__Tremellodendron\"  \n",
       "[148] \"g__Tremellogaster\"    \"g__Tricholoma\"        \"g__Trichophaea\"      \n",
       "[151] \"g__Truncoclumella\"    \"g__Truncocolumella\"   \"g__Tuber\"            \n",
       "[154] \"g__Turbinellus\"       \"g__Tyloporus\"         \"g__Tylospora\"        \n",
       "[157] \"g__Ulurua\"            \"g__Underwoodia\"       \"g__Wilcoxina\"        \n",
       "[160] \"g__Wynnella\"          \"g__Xanthoconium\"      \"g__Xerocomus\"        \n",
       "[163] \"g__Zelleromyces \"     \"f__Rhizopogonaceae\"   \"f__Suillaceae\"       \n"
      ]
     },
     "metadata": {},
     "output_type": "display_data"
    }
   ],
   "source": [
    "%%R\n",
    "(m)"
   ]
  },
  {
   "cell_type": "code",
   "execution_count": 272,
   "metadata": {
    "collapsed": false
   },
   "outputs": [
    {
     "data": {
      "text/plain": [
       "    OTU   Sample Abundance Cosm Month        Trtmt    Rank1            Rank2\n",
       "1 OTU_9   F_3_44     42350   44   3.0 Ferrihydrite k__Fungi p__Basidiomycota\n",
       "2 OTU_6   F_3_44     40179   44   3.0 Ferrihydrite k__Fungi p__Basidiomycota\n",
       "3 OTU_2   Q_3_12     35804   12   3.0       Quartz k__Fungi    p__Ascomycota\n",
       "4 OTU_1   S_2_33     35197   33   2.0         Soil k__Fungi    p__Ascomycota\n",
       "5 OTU_3 S_2.5_14     32608   14   2.5         Soil k__Fungi    p__Ascomycota\n",
       "6 OTU_5 S_2.5_49     28529   49   2.5         Soil k__Fungi    p__Ascomycota\n",
       "               Rank3          Rank4                  Rank5           Rank6\n",
       "1  c__Agaricomycetes o__Sebacinales        f__unidentified g__unidentified\n",
       "2  c__Agaricomycetes o__Sebacinales f__Sebacinales Group B  g__Serendipita\n",
       "3  c__Eurotiomycetes  o__Eurotiales      f__Trichocomaceae  g__Talaromyces\n",
       "4 c__Sordariomycetes o__Sordariales   f__Lasiosphaeriaceae    g__Podospora\n",
       "5  c__Eurotiomycetes  o__Onygenales    f__Ajellomycetaceae     g__Emmonsia\n",
       "6 c__Sordariomycetes o__Sordariales   f__Lasiosphaeriaceae            <NA>\n",
       "                     Rank7 EMF   EMFv\n",
       "1        s__Sebacinales sp   0 Not MF\n",
       "2 s__Serendipita vermifera   0 Not MF\n",
       "3                     <NA>   0 Not MF\n",
       "4          s__Podospora sp   0 Not MF\n",
       "5                     <NA>   0 Not MF\n",
       "6                     <NA>   0 Not MF\n"
      ]
     },
     "metadata": {},
     "output_type": "display_data"
    }
   ],
   "source": [
    "%%R\n",
    "head(ps)"
   ]
  },
  {
   "cell_type": "code",
   "execution_count": 322,
   "metadata": {
    "collapsed": false
   },
   "outputs": [
    {
     "data": {
      "text/plain": [
       "   Mode   FALSE    TRUE    NA's \n",
       "logical  156220    4380       0 \n"
      ]
     },
     "metadata": {},
     "output_type": "display_data"
    }
   ],
   "source": [
    "%%R\n",
    "ps = ps %>%\n",
    "    mutate(EMFv =ifelse(ps$Rank5 %in% m | ps$Rank6 %in% m, \"EMF\",\n",
    "                ifelse(ps$Rank2==\"p__Glomeromycota\",\"AMF\",\"Other\")))\n",
    "ps$EMFv[is.na(ps$EMFv)]=\"Other\"\n",
    "summary(ps$EMFv==\"AMF\")"
   ]
  },
  {
   "cell_type": "code",
   "execution_count": 328,
   "metadata": {
    "collapsed": false
   },
   "outputs": [
    {
     "data": {
      "text/plain": [
       "Source: local data frame [14 x 3]\n",
       "Groups: Trtmt\n",
       "\n",
       "            Trtmt  EMFv    n\n",
       "1           Blank Other    1\n",
       "2    Ferrihydrite   AMF   44\n",
       "3    Ferrihydrite   EMF    4\n",
       "4    Ferrihydrite Other 1146\n",
       "5  Heavy Fraction Other   24\n",
       "6       Kaolinite   AMF    6\n",
       "7       Kaolinite   EMF    1\n",
       "8       Kaolinite Other  698\n",
       "9          Quartz   AMF   29\n",
       "10         Quartz   EMF    4\n",
       "11         Quartz Other 1139\n",
       "12           Soil   AMF   44\n",
       "13           Soil   EMF    3\n",
       "14           Soil Other 1375\n"
      ]
     },
     "metadata": {},
     "output_type": "display_data"
    }
   ],
   "source": [
    "%%R\n",
    "ps2 = ps %>%\n",
    "    group_by(Trtmt,Month,OTU)%>%\n",
    "    filter(sum(Abundance)>0)%>%\n",
    "    group_by(Trtmt,EMFv) %>%\n",
    "    summarize(n=n_distinct(OTU))\n",
    "ps2"
   ]
  },
  {
   "cell_type": "code",
   "execution_count": 327,
   "metadata": {
    "collapsed": false
   },
   "outputs": [
    {
     "data": {
      "text/plain": [
       "Source: local data frame [18 x 3]\n",
       "Groups: Trtmt\n",
       "\n",
       "            Trtmt  EMFv     relabund\n",
       "1           Blank   AMF 0.000000e+00\n",
       "2           Blank   EMF 0.000000e+00\n",
       "3           Blank Other 1.000000e+00\n",
       "4    Ferrihydrite   AMF 1.735825e-02\n",
       "5    Ferrihydrite   EMF 5.102433e-03\n",
       "6    Ferrihydrite Other 9.775393e-01\n",
       "7  Heavy Fraction   AMF 0.000000e+00\n",
       "8  Heavy Fraction   EMF 0.000000e+00\n",
       "9  Heavy Fraction Other 1.000000e+00\n",
       "10      Kaolinite   AMF 2.505739e-04\n",
       "11      Kaolinite   EMF 6.165988e-05\n",
       "12      Kaolinite Other 9.996878e-01\n",
       "13         Quartz   AMF 5.181039e-03\n",
       "14         Quartz   EMF 2.019924e-03\n",
       "15         Quartz Other 9.927990e-01\n",
       "16           Soil   AMF 3.161485e-03\n",
       "17           Soil   EMF 5.449234e-05\n",
       "18           Soil Other 9.967840e-01\n"
      ]
     },
     "metadata": {},
     "output_type": "display_data"
    }
   ],
   "source": [
    "%%R\n",
    "ps3 = ps %>%\n",
    "    group_by(Sample)%>%\n",
    "    mutate(relabund=Abundance/sum(Abundance))%>%\n",
    "    group_by(Sample,Trtmt,EMFv)%>%\n",
    "    summarize(relabund=sum(relabund))%>%\n",
    "    group_by(Trtmt,EMFv)%>%\n",
    "    summarize(relabund=mean(relabund))\n",
    "\n",
    "ps3"
   ]
  },
  {
   "cell_type": "code",
   "execution_count": 318,
   "metadata": {
    "collapsed": false
   },
   "outputs": [
    {
     "ename": "RRuntimeError",
     "evalue": "Error in eval(expr, envir, enclos) : object 'Total' not found\n",
     "output_type": "error",
     "traceback": [
      "\u001b[0;31m---------------------------------------------------------------------------\u001b[0m",
      "\u001b[0;31mRRuntimeError\u001b[0m                             Traceback (most recent call last)",
      "\u001b[0;32m<ipython-input-318-5a8136d43ee6>\u001b[0m in \u001b[0;36m<module>\u001b[0;34m()\u001b[0m\n\u001b[0;32m----> 1\u001b[0;31m \u001b[0mget_ipython\u001b[0m\u001b[0;34m(\u001b[0m\u001b[0;34m)\u001b[0m\u001b[0;34m.\u001b[0m\u001b[0mrun_cell_magic\u001b[0m\u001b[0;34m(\u001b[0m\u001b[0;34mu'R'\u001b[0m\u001b[0;34m,\u001b[0m \u001b[0;34mu''\u001b[0m\u001b[0;34m,\u001b[0m \u001b[0;34mu'ps.plot = ps %>%\\n    group_by(Sample)%>%\\n    filter(sum(Abundance)>2000)%>%\\n    mutate(relabund=Abundance/sum(Abundance))%>%\\n    group_by(Trtmt,Month,EMFv)\\n\\np = ggplot(ps.plot, aes(x = Trtmt,y=Total,fill=EMFv))\\np = p + geom_bar(stat=\"identity\")\\np = p + facet_grid(~Month)\\np'\u001b[0m\u001b[0;34m)\u001b[0m\u001b[0;34m\u001b[0m\u001b[0m\n\u001b[0m",
      "\u001b[0;32m/opt/virt_env/lib/python2.7/site-packages/IPython/core/interactiveshell.pyc\u001b[0m in \u001b[0;36mrun_cell_magic\u001b[0;34m(self, magic_name, line, cell)\u001b[0m\n\u001b[1;32m   2262\u001b[0m             \u001b[0mmagic_arg_s\u001b[0m \u001b[0;34m=\u001b[0m \u001b[0mself\u001b[0m\u001b[0;34m.\u001b[0m\u001b[0mvar_expand\u001b[0m\u001b[0;34m(\u001b[0m\u001b[0mline\u001b[0m\u001b[0;34m,\u001b[0m \u001b[0mstack_depth\u001b[0m\u001b[0;34m)\u001b[0m\u001b[0;34m\u001b[0m\u001b[0m\n\u001b[1;32m   2263\u001b[0m             \u001b[0;32mwith\u001b[0m \u001b[0mself\u001b[0m\u001b[0;34m.\u001b[0m\u001b[0mbuiltin_trap\u001b[0m\u001b[0;34m:\u001b[0m\u001b[0;34m\u001b[0m\u001b[0m\n\u001b[0;32m-> 2264\u001b[0;31m                 \u001b[0mresult\u001b[0m \u001b[0;34m=\u001b[0m \u001b[0mfn\u001b[0m\u001b[0;34m(\u001b[0m\u001b[0mmagic_arg_s\u001b[0m\u001b[0;34m,\u001b[0m \u001b[0mcell\u001b[0m\u001b[0;34m)\u001b[0m\u001b[0;34m\u001b[0m\u001b[0m\n\u001b[0m\u001b[1;32m   2265\u001b[0m             \u001b[0;32mreturn\u001b[0m \u001b[0mresult\u001b[0m\u001b[0;34m\u001b[0m\u001b[0m\n\u001b[1;32m   2266\u001b[0m \u001b[0;34m\u001b[0m\u001b[0m\n",
      "\u001b[0;32m/opt/virt_env/lib/python2.7/site-packages/rpy2/ipython/rmagic.pyc\u001b[0m in \u001b[0;36mR\u001b[0;34m(self, line, cell, local_ns)\u001b[0m\n",
      "\u001b[0;32m/opt/virt_env/lib/python2.7/site-packages/IPython/core/magic.pyc\u001b[0m in \u001b[0;36m<lambda>\u001b[0;34m(f, *a, **k)\u001b[0m\n\u001b[1;32m    191\u001b[0m     \u001b[0;31m# but it's overkill for just that one bit of state.\u001b[0m\u001b[0;34m\u001b[0m\u001b[0;34m\u001b[0m\u001b[0m\n\u001b[1;32m    192\u001b[0m     \u001b[0;32mdef\u001b[0m \u001b[0mmagic_deco\u001b[0m\u001b[0;34m(\u001b[0m\u001b[0marg\u001b[0m\u001b[0;34m)\u001b[0m\u001b[0;34m:\u001b[0m\u001b[0;34m\u001b[0m\u001b[0m\n\u001b[0;32m--> 193\u001b[0;31m         \u001b[0mcall\u001b[0m \u001b[0;34m=\u001b[0m \u001b[0;32mlambda\u001b[0m \u001b[0mf\u001b[0m\u001b[0;34m,\u001b[0m \u001b[0;34m*\u001b[0m\u001b[0ma\u001b[0m\u001b[0;34m,\u001b[0m \u001b[0;34m**\u001b[0m\u001b[0mk\u001b[0m\u001b[0;34m:\u001b[0m \u001b[0mf\u001b[0m\u001b[0;34m(\u001b[0m\u001b[0;34m*\u001b[0m\u001b[0ma\u001b[0m\u001b[0;34m,\u001b[0m \u001b[0;34m**\u001b[0m\u001b[0mk\u001b[0m\u001b[0;34m)\u001b[0m\u001b[0;34m\u001b[0m\u001b[0m\n\u001b[0m\u001b[1;32m    194\u001b[0m \u001b[0;34m\u001b[0m\u001b[0m\n\u001b[1;32m    195\u001b[0m         \u001b[0;32mif\u001b[0m \u001b[0mcallable\u001b[0m\u001b[0;34m(\u001b[0m\u001b[0marg\u001b[0m\u001b[0;34m)\u001b[0m\u001b[0;34m:\u001b[0m\u001b[0;34m\u001b[0m\u001b[0m\n",
      "\u001b[0;32m/opt/virt_env/lib/python2.7/site-packages/rpy2/ipython/rmagic.pyc\u001b[0m in \u001b[0;36mR\u001b[0;34m(self, line, cell, local_ns)\u001b[0m\n\u001b[1;32m    640\u001b[0m                     \u001b[0mold_writeconsole\u001b[0m \u001b[0;34m=\u001b[0m \u001b[0mri\u001b[0m\u001b[0;34m.\u001b[0m\u001b[0mget_writeconsole\u001b[0m\u001b[0;34m(\u001b[0m\u001b[0;34m)\u001b[0m\u001b[0;34m\u001b[0m\u001b[0m\n\u001b[1;32m    641\u001b[0m                     \u001b[0mri\u001b[0m\u001b[0;34m.\u001b[0m\u001b[0mset_writeconsole\u001b[0m\u001b[0;34m(\u001b[0m\u001b[0mself\u001b[0m\u001b[0;34m.\u001b[0m\u001b[0mwrite_console\u001b[0m\u001b[0;34m)\u001b[0m\u001b[0;34m\u001b[0m\u001b[0m\n\u001b[0;32m--> 642\u001b[0;31m                     \u001b[0mro\u001b[0m\u001b[0;34m.\u001b[0m\u001b[0mr\u001b[0m\u001b[0;34m.\u001b[0m\u001b[0mshow\u001b[0m\u001b[0;34m(\u001b[0m\u001b[0mresult\u001b[0m\u001b[0;34m)\u001b[0m\u001b[0;34m\u001b[0m\u001b[0m\n\u001b[0m\u001b[1;32m    643\u001b[0m                     \u001b[0mtext_output\u001b[0m \u001b[0;34m+=\u001b[0m \u001b[0mself\u001b[0m\u001b[0;34m.\u001b[0m\u001b[0mflush\u001b[0m\u001b[0;34m(\u001b[0m\u001b[0;34m)\u001b[0m\u001b[0;34m\u001b[0m\u001b[0m\n\u001b[1;32m    644\u001b[0m                     \u001b[0mri\u001b[0m\u001b[0;34m.\u001b[0m\u001b[0mset_writeconsole\u001b[0m\u001b[0;34m(\u001b[0m\u001b[0mold_writeconsole\u001b[0m\u001b[0;34m)\u001b[0m\u001b[0;34m\u001b[0m\u001b[0m\n",
      "\u001b[0;32m/opt/virt_env/lib/python2.7/site-packages/rpy2/robjects/functions.pyc\u001b[0m in \u001b[0;36m__call__\u001b[0;34m(self, *args, **kwargs)\u001b[0m\n\u001b[1;32m    168\u001b[0m                 \u001b[0mv\u001b[0m \u001b[0;34m=\u001b[0m \u001b[0mkwargs\u001b[0m\u001b[0;34m.\u001b[0m\u001b[0mpop\u001b[0m\u001b[0;34m(\u001b[0m\u001b[0mk\u001b[0m\u001b[0;34m)\u001b[0m\u001b[0;34m\u001b[0m\u001b[0m\n\u001b[1;32m    169\u001b[0m                 \u001b[0mkwargs\u001b[0m\u001b[0;34m[\u001b[0m\u001b[0mr_k\u001b[0m\u001b[0;34m]\u001b[0m \u001b[0;34m=\u001b[0m \u001b[0mv\u001b[0m\u001b[0;34m\u001b[0m\u001b[0m\n\u001b[0;32m--> 170\u001b[0;31m         \u001b[0;32mreturn\u001b[0m \u001b[0msuper\u001b[0m\u001b[0;34m(\u001b[0m\u001b[0mSignatureTranslatedFunction\u001b[0m\u001b[0;34m,\u001b[0m \u001b[0mself\u001b[0m\u001b[0;34m)\u001b[0m\u001b[0;34m.\u001b[0m\u001b[0m__call__\u001b[0m\u001b[0;34m(\u001b[0m\u001b[0;34m*\u001b[0m\u001b[0margs\u001b[0m\u001b[0;34m,\u001b[0m \u001b[0;34m**\u001b[0m\u001b[0mkwargs\u001b[0m\u001b[0;34m)\u001b[0m\u001b[0;34m\u001b[0m\u001b[0m\n\u001b[0m\u001b[1;32m    171\u001b[0m \u001b[0;34m\u001b[0m\u001b[0m\n\u001b[1;32m    172\u001b[0m \u001b[0mpattern_link\u001b[0m \u001b[0;34m=\u001b[0m \u001b[0mre\u001b[0m\u001b[0;34m.\u001b[0m\u001b[0mcompile\u001b[0m\u001b[0;34m(\u001b[0m\u001b[0;34mr'\\\\link\\{(.+?)\\}'\u001b[0m\u001b[0;34m)\u001b[0m\u001b[0;34m\u001b[0m\u001b[0m\n",
      "\u001b[0;32m/opt/virt_env/lib/python2.7/site-packages/rpy2/robjects/functions.pyc\u001b[0m in \u001b[0;36m__call__\u001b[0;34m(self, *args, **kwargs)\u001b[0m\n\u001b[1;32m     98\u001b[0m         \u001b[0;32mfor\u001b[0m \u001b[0mk\u001b[0m\u001b[0;34m,\u001b[0m \u001b[0mv\u001b[0m \u001b[0;32min\u001b[0m \u001b[0mkwargs\u001b[0m\u001b[0;34m.\u001b[0m\u001b[0mitems\u001b[0m\u001b[0;34m(\u001b[0m\u001b[0;34m)\u001b[0m\u001b[0;34m:\u001b[0m\u001b[0;34m\u001b[0m\u001b[0m\n\u001b[1;32m     99\u001b[0m             \u001b[0mnew_kwargs\u001b[0m\u001b[0;34m[\u001b[0m\u001b[0mk\u001b[0m\u001b[0;34m]\u001b[0m \u001b[0;34m=\u001b[0m \u001b[0mconversion\u001b[0m\u001b[0;34m.\u001b[0m\u001b[0mpy2ri\u001b[0m\u001b[0;34m(\u001b[0m\u001b[0mv\u001b[0m\u001b[0;34m)\u001b[0m\u001b[0;34m\u001b[0m\u001b[0m\n\u001b[0;32m--> 100\u001b[0;31m         \u001b[0mres\u001b[0m \u001b[0;34m=\u001b[0m \u001b[0msuper\u001b[0m\u001b[0;34m(\u001b[0m\u001b[0mFunction\u001b[0m\u001b[0;34m,\u001b[0m \u001b[0mself\u001b[0m\u001b[0;34m)\u001b[0m\u001b[0;34m.\u001b[0m\u001b[0m__call__\u001b[0m\u001b[0;34m(\u001b[0m\u001b[0;34m*\u001b[0m\u001b[0mnew_args\u001b[0m\u001b[0;34m,\u001b[0m \u001b[0;34m**\u001b[0m\u001b[0mnew_kwargs\u001b[0m\u001b[0;34m)\u001b[0m\u001b[0;34m\u001b[0m\u001b[0m\n\u001b[0m\u001b[1;32m    101\u001b[0m         \u001b[0mres\u001b[0m \u001b[0;34m=\u001b[0m \u001b[0mconversion\u001b[0m\u001b[0;34m.\u001b[0m\u001b[0mri2ro\u001b[0m\u001b[0;34m(\u001b[0m\u001b[0mres\u001b[0m\u001b[0;34m)\u001b[0m\u001b[0;34m\u001b[0m\u001b[0m\n\u001b[1;32m    102\u001b[0m         \u001b[0;32mreturn\u001b[0m \u001b[0mres\u001b[0m\u001b[0;34m\u001b[0m\u001b[0m\n",
      "\u001b[0;31mRRuntimeError\u001b[0m: Error in eval(expr, envir, enclos) : object 'Total' not found\n"
     ]
    }
   ],
   "source": [
    "%%R\n",
    "ps.plot = ps %>%\n",
    "    group_by(Sample)%>%\n",
    "    filter(sum(Abundance)>2000)%>%\n",
    "    mutate(relabund=Abundance/sum(Abundance))%>%\n",
    "    group_by(Trtmt,Month,EMFv)\n",
    "\n",
    "p = ggplot(ps.plot, aes(x = Trtmt,y=Total,fill=EMFv))\n",
    "p = p + geom_bar(stat=\"identity\")\n",
    "p = p + facet_grid(~Month)\n",
    "p"
   ]
  },
  {
   "cell_type": "code",
   "execution_count": null,
   "metadata": {
    "collapsed": true
   },
   "outputs": [],
   "source": []
  }
 ],
 "metadata": {
  "kernelspec": {
   "display_name": "Python 2",
   "language": "python",
   "name": "python2"
  },
  "language_info": {
   "codemirror_mode": {
    "name": "ipython",
    "version": 2
   },
   "file_extension": ".py",
   "mimetype": "text/x-python",
   "name": "python",
   "nbconvert_exporter": "python",
   "pygments_lexer": "ipython2",
   "version": "2.7.9"
  }
 },
 "nbformat": 4,
 "nbformat_minor": 0
}
