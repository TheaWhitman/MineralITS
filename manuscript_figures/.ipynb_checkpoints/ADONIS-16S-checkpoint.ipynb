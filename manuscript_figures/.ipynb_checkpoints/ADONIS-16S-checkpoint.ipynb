{
 "cells": [
  {
   "cell_type": "code",
   "execution_count": 1,
   "metadata": {
    "collapsed": true
   },
   "outputs": [],
   "source": [
    "%load_ext rpy2.ipython\n",
    "# Turning on in-IPy R capabilities"
   ]
  },
  {
   "cell_type": "code",
   "execution_count": 7,
   "metadata": {
    "collapsed": true
   },
   "outputs": [
    {
     "data": {
      "text/plain": [
       "\n",
       "Attaching package: ‘dplyr’\n",
       "\n",
       "The following objects are masked from ‘package:plyr’:\n",
       "\n",
       "    arrange, count, desc, failwith, id, mutate, rename, summarise,\n",
       "    summarize\n",
       "\n",
       "The following objects are masked from ‘package:stats’:\n",
       "\n",
       "    filter, lag\n",
       "\n",
       "The following objects are masked from ‘package:base’:\n",
       "\n",
       "    intersect, setdiff, setequal, union\n",
       "\n"
      ]
     },
     "metadata": {},
     "output_type": "display_data"
    }
   ],
   "source": [
    "%%R\n",
    "library(phyloseq)\n",
    "library(vegan)\n",
    "library(plyr)\n",
    "library(dplyr)"
   ]
  },
  {
   "cell_type": "code",
   "execution_count": 3,
   "metadata": {
    "collapsed": true
   },
   "outputs": [],
   "source": [
    "%%R\n",
    "#Creating the physeq object from our tree and biom table with taxonomic and metadata already included, telling it \\\n",
    "# that the taxonomy is from greengenes database, so it will recognize the samples\n",
    "physeq = import_biom(\"../../SeqData/ITS.otu_table.tax.meta.biom\", parseFunction = parse_taxonomy_greengenes)"
   ]
  },
  {
   "cell_type": "code",
   "execution_count": 4,
   "metadata": {
    "collapsed": true
   },
   "outputs": [],
   "source": [
    "%%R\n",
    "Merge<-paste(as.character(sample_data(physeq)$Trtmt),as.character(sample_data(physeq)$Month),as.character(sample_data(physeq)$Cosm),sep=\"_\")\n",
    "sample_data(physeq)$Merge <- Merge\n",
    "# Creating a new column in the phyloseq sample data called Merge,\n",
    "# which contains a concatenated ID so all samples from the same mineral, month, and cosm\n",
    "# will have the same ID (thus merging PCR and buffer replicates).\n",
    "\n",
    "ps.merged = merge_samples(physeq, \"Merge\")\n",
    "# Merging the phyloseq object by biological replicates\n",
    "\n",
    "keep=c(\"Cosm\",\"Month\",\"Trtmt\")\n",
    "sd = sample_data(ps.merged)\n",
    "sd = sd[,keep]\n",
    "sd$Trtmt = substring(row.names(sd),1,1)\n",
    "sd$Trtmt[sd$Trtmt==\"B\"]=\"Blank\"\n",
    "sd$Trtmt[sd$Trtmt==\"F\"]=\"Ferrihydrite\"\n",
    "sd$Trtmt[sd$Trtmt==\"Q\"]=\"Quartz\"\n",
    "sd$Trtmt[sd$Trtmt==\"H\"]=\"Heavy Fraction\"\n",
    "sd$Trtmt[sd$Trtmt==\"S\"]=\"Soil\"\n",
    "sd$Trtmt[sd$Trtmt==\"K\"]=\"Kaolinite\"\n",
    "sample_data(ps.merged) = sd\n",
    "physeq = ps.merged"
   ]
  },
  {
   "cell_type": "code",
   "execution_count": 8,
   "metadata": {
    "collapsed": false
   },
   "outputs": [
    {
     "data": {
      "text/plain": [
       "Sample Data:        [52 samples by 3 sample variables]:\n",
       "         Cosm Month        Trtmt\n",
       "F_2_15     15   2.0 Ferrihydrite\n",
       "F_2_28     28   2.0 Ferrihydrite\n",
       "F_2_33     33   2.0 Ferrihydrite\n",
       "F_2_9       9   2.0 Ferrihydrite\n",
       "F_2.5_13   13   2.5 Ferrihydrite\n",
       "F_2.5_14   14   2.5 Ferrihydrite\n",
       "F_2.5_16   16   2.5 Ferrihydrite\n",
       "F_2.5_27   27   2.5 Ferrihydrite\n",
       "F_2.5_3     3   2.5 Ferrihydrite\n",
       "F_2.5_30   30   2.5 Ferrihydrite\n",
       "F_2.5_31   31   2.5 Ferrihydrite\n",
       "F_2.5_42   42   2.5 Ferrihydrite\n",
       "F_2.5_49   49   2.5 Ferrihydrite\n",
       "F_3_12     12   3.0 Ferrihydrite\n",
       "F_3_20     20   3.0 Ferrihydrite\n",
       "F_3_22     22   3.0 Ferrihydrite\n",
       "F_3_23     23   3.0 Ferrihydrite\n",
       "F_3_44     44   3.0 Ferrihydrite\n",
       "Q_2_15     15   2.0       Quartz\n",
       "Q_2_28     28   2.0       Quartz\n",
       "Q_2_33     33   2.0       Quartz\n",
       "Q_2_9       9   2.0       Quartz\n",
       "Q_2.5_13   13   2.5       Quartz\n",
       "Q_2.5_14   14   2.5       Quartz\n",
       "Q_2.5_16   16   2.5       Quartz\n",
       "Q_2.5_27   27   2.5       Quartz\n",
       "Q_2.5_3     3   2.5       Quartz\n",
       "Q_2.5_30   30   2.5       Quartz\n",
       "Q_2.5_31   31   2.5       Quartz\n",
       "Q_2.5_42   42   2.5       Quartz\n",
       "Q_2.5_49   49   2.5       Quartz\n",
       "Q_3_12     12   3.0       Quartz\n",
       "Q_3_20     20   3.0       Quartz\n",
       "Q_3_22     22   3.0       Quartz\n",
       "Q_3_23     23   3.0       Quartz\n",
       "Q_3_44     44   3.0       Quartz\n",
       "S_2_15     15   2.0         Soil\n",
       "S_2_28     28   2.0         Soil\n",
       "S_2_31     31   2.0         Soil\n",
       "S_2_33     33   2.0         Soil\n",
       "S_2_9       9   2.0         Soil\n",
       "S_2.5_13   13   2.5         Soil\n",
       "S_2.5_14   14   2.5         Soil\n",
       "S_2.5_16   16   2.5         Soil\n",
       "S_2.5_27   27   2.5         Soil\n",
       "S_2.5_3     3   2.5         Soil\n",
       "S_2.5_49   49   2.5         Soil\n",
       "S_3_12     12   3.0         Soil\n",
       "S_3_20     20   3.0         Soil\n",
       "S_3_22     22   3.0         Soil\n",
       "S_3_23     23   3.0         Soil\n",
       "S_3_44     44   3.0         Soil\n"
      ]
     },
     "metadata": {},
     "output_type": "display_data"
    }
   ],
   "source": [
    "%%R\n",
    "# Normalizes the sample counts by the total - i.e., reporting what fraction of each sample each OTU makes up.\n",
    "physeq = transform_sample_counts(physeq, function(x) x / sum(x))\n",
    "physeq = subset_samples(physeq, Trtmt!=\"Heavy Fraction\")\n",
    "physeq = subset_samples(physeq, Trtmt!=\"Kaolinite\")\n",
    "physeq = subset_samples(physeq, Trtmt!=\"Blank\")\n",
    "sample_data(physeq)"
   ]
  },
  {
   "cell_type": "code",
   "execution_count": 9,
   "metadata": {
    "collapsed": false
   },
   "outputs": [
    {
     "data": {
      "text/plain": [
       "\n",
       "Call:\n",
       "adonis(formula = d ~ sample_data(physeq)$Month + sample_data(physeq)$Trtmt,      data = df) \n",
       "\n",
       "Permutation: free\n",
       "Number of permutations: 999\n",
       "\n",
       "Terms added sequentially (first to last)\n",
       "\n",
       "                          Df SumsOfSqs MeanSqs F.Model      R2 Pr(>F)    \n",
       "sample_data(physeq)$Month  1    0.5247 0.52465  1.9598 0.03195  0.008 ** \n",
       "sample_data(physeq)$Trtmt  2    3.0486 1.52431  5.6938 0.18562  0.001 ***\n",
       "Residuals                 48   12.8502 0.26771         0.78243           \n",
       "Total                     51   16.4235                 1.00000           \n",
       "---\n",
       "Signif. codes:  0 ‘***’ 0.001 ‘**’ 0.01 ‘*’ 0.05 ‘.’ 0.1 ‘ ’ 1\n"
      ]
     },
     "metadata": {},
     "output_type": "display_data"
    }
   ],
   "source": [
    "%%R\n",
    "df = as(sample_data(physeq), \"data.frame\")\n",
    "d = distance(physeq, method = \"bray\")\n",
    "\n",
    "d.adonis = adonis(d ~ sample_data(physeq)$Month + sample_data(physeq)$Trtmt, df)\n",
    "d.adonis"
   ]
  },
  {
   "cell_type": "markdown",
   "metadata": {},
   "source": [
    "There is a significant effect of both month and treatment, across samples"
   ]
  },
  {
   "cell_type": "code",
   "execution_count": 10,
   "metadata": {
    "collapsed": true
   },
   "outputs": [],
   "source": [
    "%%R\n",
    "physeq.QS = subset_samples(physeq, Trtmt == c(\"Soil\",\"Quartz\"))\n",
    "physeq.FS = subset_samples(physeq, Trtmt == c(\"Soil\",\"Ferrihydrite\"))\n",
    "physeq.QF = subset_samples(physeq, Trtmt == c(\"Quartz\",\"Ferrihydrite\"))"
   ]
  },
  {
   "cell_type": "code",
   "execution_count": 11,
   "metadata": {
    "collapsed": false
   },
   "outputs": [
    {
     "data": {
      "text/plain": [
       "\n",
       "Call:\n",
       "adonis(formula = d ~ sample_data(ps)$Month + sample_data(ps)$Trtmt,      data = df) \n",
       "\n",
       "Permutation: free\n",
       "Number of permutations: 999\n",
       "\n",
       "Terms added sequentially (first to last)\n",
       "\n",
       "                      Df SumsOfSqs MeanSqs F.Model      R2 Pr(>F)    \n",
       "sample_data(ps)$Month  1    0.4073 0.40732  1.5194 0.08266  0.064 .  \n",
       "sample_data(ps)$Trtmt  1    0.7670 0.76696  2.8610 0.15565  0.001 ***\n",
       "Residuals             14    3.7531 0.26808         0.76168           \n",
       "Total                 16    4.9274                 1.00000           \n",
       "---\n",
       "Signif. codes:  0 ‘***’ 0.001 ‘**’ 0.01 ‘*’ 0.05 ‘.’ 0.1 ‘ ’ 1\n"
      ]
     },
     "metadata": {},
     "output_type": "display_data"
    }
   ],
   "source": [
    "%%R\n",
    "ps = physeq.QS\n",
    "df = as(sample_data(ps), \"data.frame\")\n",
    "d = distance(ps, method = \"bray\")\n",
    "\n",
    "d.adonis = adonis(d ~ sample_data(ps)$Month + sample_data(ps)$Trtmt, df)\n",
    "d.adonis"
   ]
  },
  {
   "cell_type": "code",
   "execution_count": 12,
   "metadata": {
    "collapsed": false
   },
   "outputs": [
    {
     "data": {
      "text/plain": [
       "\n",
       "Call:\n",
       "adonis(formula = d ~ sample_data(ps)$Month + sample_data(ps)$Trtmt,      data = df) \n",
       "\n",
       "Permutation: free\n",
       "Number of permutations: 999\n",
       "\n",
       "Terms added sequentially (first to last)\n",
       "\n",
       "                      Df SumsOfSqs MeanSqs F.Model      R2 Pr(>F)    \n",
       "sample_data(ps)$Month  1    0.3179 0.31789  1.2050 0.06117  0.222    \n",
       "sample_data(ps)$Trtmt  1    1.1860 1.18596  4.4955 0.22819  0.001 ***\n",
       "Residuals             14    3.6933 0.26381         0.71064           \n",
       "Total                 16    5.1972                 1.00000           \n",
       "---\n",
       "Signif. codes:  0 ‘***’ 0.001 ‘**’ 0.01 ‘*’ 0.05 ‘.’ 0.1 ‘ ’ 1\n"
      ]
     },
     "metadata": {},
     "output_type": "display_data"
    }
   ],
   "source": [
    "%%R\n",
    "ps = physeq.FS\n",
    "df = as(sample_data(ps), \"data.frame\")\n",
    "d = distance(ps, method = \"bray\")\n",
    "\n",
    "d.adonis = adonis(d ~ sample_data(ps)$Month + sample_data(ps)$Trtmt, df)\n",
    "d.adonis"
   ]
  },
  {
   "cell_type": "code",
   "execution_count": 14,
   "metadata": {
    "collapsed": false
   },
   "outputs": [
    {
     "data": {
      "text/plain": [
       "\n",
       "Call:\n",
       "adonis(formula = d ~ sample_data(ps)$Month + sample_data(ps)$Trtmt,      data = df) \n",
       "\n",
       "Permutation: free\n",
       "Number of permutations: 999\n",
       "\n",
       "Terms added sequentially (first to last)\n",
       "\n",
       "                      Df SumsOfSqs MeanSqs F.Model      R2 Pr(>F)  \n",
       "sample_data(ps)$Month  1    0.3899 0.38993  1.3474 0.07536  0.099 .\n",
       "sample_data(ps)$Trtmt  1    0.4435 0.44346  1.5324 0.08570  0.023 *\n",
       "Residuals             15    4.3409 0.28939         0.83894         \n",
       "Total                 17    5.1743                 1.00000         \n",
       "---\n",
       "Signif. codes:  0 ‘***’ 0.001 ‘**’ 0.01 ‘*’ 0.05 ‘.’ 0.1 ‘ ’ 1\n"
      ]
     },
     "metadata": {},
     "output_type": "display_data"
    }
   ],
   "source": [
    "%%R\n",
    "ps = physeq.QF\n",
    "df = as(sample_data(ps), \"data.frame\")\n",
    "d = distance(ps, method = \"bray\")\n",
    "\n",
    "d.adonis = adonis(d ~ sample_data(ps)$Month + sample_data(ps)$Trtmt, df)\n",
    "d.adonis"
   ]
  },
  {
   "cell_type": "code",
   "execution_count": null,
   "metadata": {
    "collapsed": true
   },
   "outputs": [],
   "source": []
  }
 ],
 "metadata": {
  "kernelspec": {
   "display_name": "Python 2",
   "language": "python",
   "name": "python2"
  },
  "language_info": {
   "codemirror_mode": {
    "name": "ipython",
    "version": 2
   },
   "file_extension": ".py",
   "mimetype": "text/x-python",
   "name": "python",
   "nbconvert_exporter": "python",
   "pygments_lexer": "ipython2",
   "version": "2.7.9"
  }
 },
 "nbformat": 4,
 "nbformat_minor": 0
}
