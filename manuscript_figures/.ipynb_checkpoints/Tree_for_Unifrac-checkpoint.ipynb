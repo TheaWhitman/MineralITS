{
 "cells": [
  {
   "cell_type": "code",
   "execution_count": 10,
   "metadata": {
    "collapsed": true
   },
   "outputs": [],
   "source": [
    "#!export SSUALIGNDIR=\"/opt/virt_env/bin/ssu-align-0.1/src\""
   ]
  },
  {
   "cell_type": "code",
   "execution_count": 8,
   "metadata": {
    "collapsed": false
   },
   "outputs": [
    {
     "name": "stdout",
     "output_type": "stream",
     "text": [
      "\r\n"
     ]
    }
   ],
   "source": [
    "#!echo $SSUALIGNDIR\n",
    "# Had to do some weird stuff moving src and model directory contents to main ssu-align-0.1 directory."
   ]
  },
  {
   "cell_type": "code",
   "execution_count": 2,
   "metadata": {
    "collapsed": true
   },
   "outputs": [
    {
     "name": "stdout",
     "output_type": "stream",
     "text": [
      "# ssu-align :: align SSU rRNA sequences\n",
      "# SSU-ALIGN 0.1 (June 2010)\n",
      "# Copyright (C) 2010 HHMI Janelia Farm Research Campus\n",
      "# Freely distributed under the GNU General Public License (GPLv3)\n",
      "# - - - - - - - - - - - - - - - - - - - - - - - - - - - - - - - - - - - -\n",
      "# command: ssu-align -h \n",
      "# date:    Mon Jul  6 12:45:10 2015\n",
      "Usage: ssu-align [-options] <sequence file> <output dir>\n",
      "\n",
      "where general options are:\n",
      "  -h     : show brief help on version and usage\n",
      "  -f     : force; if dir named <output dir> already exists, empty it first\n",
      "  -m <f> : use CM file <f> instead of the default CM file\n",
      "  -b <x> : set minimum bit score of a surviving subsequence as <x> [default: 50]\n",
      "  -l <n> : set minimum length    of a surviving subsequence as <n> [default: 1]\n",
      "  -i     : output alignments in interleaved Stockholm format (not 1 line/seq)\n",
      "  -n <s> : only search with and align to single CM named <s> in CM file\n",
      "           (default CM file includes 'archaea', 'bacteria', 'eukarya')\n",
      "\n",
      "miscellaneous output options:\n",
      "  --dna      : output alignments as DNA, default is RNA (even if input is DNA)\n",
      "  --rfonly   : discard inserts, only keep consensus (nongap RF) columns in alignments\n",
      "               (alignments will be fixed width but won't include all target nucleotides)\n",
      "\n",
      "options for skipping the 1st (search) stage or 2nd (alignment) stage:\n",
      "  --no-align  : only search target sequence file for hits, skip alignment step\n",
      "  --no-search : only align  target sequence file, skip initial search step\n",
      "\n",
      "expert options for tuning the initial search stage:\n",
      "  --toponly  : only search the top strand [default: search both strands]\n",
      "  --forward  : use the HMM forward algorithm for searching, not HMM viterbi\n",
      "  --global   : search with globally configured HMM [default: local]\n",
      "  --keep-int : keep intermediate files which are normally removed\n",
      "\n",
      "expert options for tuning the alignment stage:\n",
      "  --aln-one <s> : only align best-matching sequences to the CM named <s> in CM file\n",
      "  --no-trunc    : do not truncate seqs to HMM predicted start/end, align full seqs\n",
      "  --no-prob     : do not append posterior probabilities to alignments\n",
      "  --mxsize <f>  : increase mx size for cmalign to <f> Mb [default: 4096]\n"
     ]
    }
   ],
   "source": [
    "!ssu-align -h"
   ]
  },
  {
   "cell_type": "code",
   "execution_count": 4,
   "metadata": {
    "collapsed": false
   },
   "outputs": [
    {
     "name": "stdout",
     "output_type": "stream",
     "text": [
      "# ssu-align :: align SSU rRNA sequences\n",
      "# SSU-ALIGN 0.1 (June 2010)\n",
      "# Copyright (C) 2010 HHMI Janelia Farm Research Campus\n",
      "# Freely distributed under the GNU General Public License (GPLv3)\n",
      "# - - - - - - - - - - - - - - - - - - - - - - - - - - - - - - - - - - - -\n",
      "# command: ssu-align -f --dna --rfonly ../../SeqData/otus.pick.fasta ../../SeqData/trees\n",
      "# date:    Mon Jul  6 12:45:19 2015\n",
      "#\n",
      "# Validating input sequence file ... done.\n",
      "#\n",
      "# Stage 1: Determining SSU start/end positions and best-matching models...\n",
      "#\n",
      "# output file name        description                                \n",
      "# ----------------------  -------------------------------------------\n",
      "  trees.tab               locations/scores of hits defined by HMM(s)\n",
      "  trees.archaea.hitlist   list of sequences to align with archaea CM\n",
      "  trees.archaea.fa             25 sequences to align with archaea CM\n",
      "  trees.bacteria.hitlist  list of sequences to align with bacteria CM\n",
      "  trees.bacteria.fa          4834 sequences to align with bacteria CM\n",
      "#\n",
      "# Stage 2: Aligning each sequence to its best-matching model...\n",
      "#\n",
      "# output file name        description\n",
      "# ----------------------  ---------------------------------------\n",
      "  trees.archaea.stk       archaea alignment\n",
      "  trees.archaea.cmalign   archaea cmalign output\n",
      "  trees.archaea.ifile     archaea insert info\n",
      "  trees.bacteria.stk      bacteria alignment\n",
      "  trees.bacteria.cmalign  bacteria cmalign output\n",
      "  trees.bacteria.ifile    bacteria insert info\n",
      "  trees.scores            list of CM/HMM scores for each sequence\n",
      "#\n",
      "# Summary statistics:\n",
      "#\n",
      "# model or       number  fraction        average   average               \n",
      "# category      of seqs  of total         length  coverage    nucleotides\n",
      "# ------------  -------  --------  -------------  --------  -------------\n",
      "  *input*          4859    1.0000         292.11    1.0000        1419340\n",
      "#\n",
      "  archaea            25    0.0051         292.20    1.0000           7305\n",
      "  bacteria         4834    0.9949         292.07    0.9999        1411845\n",
      "  eukarya             0    0.0000              -         -              0\n",
      "#\n",
      "  *all-models*     4859    1.0000         292.07    0.9999        1419150\n",
      "  *no-models*         0    0.0000              -         -              0\n",
      "#\n",
      "# Speed statistics:\n",
      "#\n",
      "# stage      num seqs  seq/sec  seq/sec/model    nucleotides    nt/sec\n",
      "# ---------  --------  -------  -------------  -------------  --------\n",
      "  search         4859   18.054          6.018        1419340    5273.6\n",
      "  alignment      4859   20.506         20.506        1419150    5989.2\n",
      "#\n",
      "#\n",
      "# List of executed commands saved in:     trees.ssu-align.log.\n",
      "# Output printed to the screen saved in:  trees.ssu-align.sum.\n",
      "#\n",
      "# All output files created in directory ./../../SeqData/trees/\n",
      "#\n",
      "# CPU time (search):     00:04:29.14  (hh:mm:ss)\n",
      "# CPU time (alignment):  00:03:56.95  (hh:mm:ss)\n",
      "# CPU time (total):      00:08:26.69  (hh:mm:ss)\n",
      "#\n"
     ]
    }
   ],
   "source": [
    "!ssu-align --dna --rfonly -f ../../SeqData/otus.pick.fasta ../../SeqData/trees\n",
    "# Aligns sequences - looking for bacteria, archaea, and eukarya, discarding inserts"
   ]
  },
  {
   "cell_type": "code",
   "execution_count": 6,
   "metadata": {
    "collapsed": true
   },
   "outputs": [
    {
     "name": "stdout",
     "output_type": "stream",
     "text": [
      "# ssu-mask :: mask SSU rRNA alignments\r\n",
      "# SSU-ALIGN 0.1 (June 2010)\r\n",
      "# Copyright (C) 2010 HHMI Janelia Farm Research Campus\r\n",
      "# Freely distributed under the GNU General Public License (GPLv3)\r\n",
      "# - - - - - - - - - - - - - - - - - - - - - - - - - - - - - - - - - - - -\r\n",
      "# command: ssu-mask -h \r\n",
      "# date:    Mon Jul  6 12:54:59 2015\r\n",
      "Usage: ssu-mask [-options] <directory created by ssu-align (includes >= 1 alignment file(s))>\r\n",
      "Usage: ssu-mask [-options] -a <Stockholm alignment file>\r\n",
      "\r\n",
      "where general options are:\r\n",
      "  -h     : show brief help on version and usage\r\n",
      "  -a     : the command-line argument is a stockholm alignment, not a directory\r\n",
      "  -d     : use default ssu-align-0.1 masks\r\n",
      "  -s <f> : use single mask in existing file <f> to mask single alignment\r\n",
      "  -k <s> : use mask file named <modelname>.<s>.mask for masking\r\n",
      "           (<modelname> might be 'archaea', 'bacteria' or 'eukarya')\r\n",
      "  -m <f> : CM file <f> created the alignment(s) (with ssu-align -m <f>)\r\n",
      "  -t <f> : for structure diagrams, use template file <f>, not the default\r\n",
      "  -i     : -i used with ssu-align, alignments are interleaved\r\n",
      "\r\n",
      "options controlling mask construction:\r\n",
      "  --pf <x>        : include columns w/<x> fraction of seqs w/prob >= --pt <y> [df: 0.95]\r\n",
      "  --pt <y>        : set probability threshold as <y> [default=0.95]\r\n",
      "  --rfonly        : exclude insert (gap in RF) columns only\r\n",
      "  --gapthresh <x> : only consider columns with <= <x> fraction gaps\r\n",
      "  --gaponly       : do not consider posterior probabilities, only gap frequencies\r\n",
      "\r\n",
      "miscellaneous output options:\r\n",
      "  --afa         : output aligned FASTA (.afa) alignments, not Stockholm ones\r\n",
      "  --dna         : output alignments as DNA, default is RNA (even if input is DNA)\r\n",
      "  --key-out <s> : add <s> to all output file names, before the suffix\r\n",
      "\r\n",
      "options for creating secondary structure diagrams displaying masks\r\n",
      "  (diagrams are created only if default models were used for alignment):\r\n",
      "  --ps2pdf <s> : <s> (!= \"ps2pdf\") is the command for converting ps to pdf\r\n",
      "  --ps-only    : save postscript secondary structure diagrams, don't convert to pdf\r\n",
      "  --no-draw    : do not draw mask diagrams\r\n",
      "\r\n",
      "options for listing, converting, or removing sequences (no masking will be done):\r\n",
      "  --list      : output list file(s) of sequence names in alignment(s)\r\n",
      "  --stk2afa   : convert Stockholm alignment(s) to aligned FASTA\r\n",
      "  --seq-k <f> : with -a, remove all sequences *except* those listed in file <f>\r\n",
      "  --seq-r <f> : with -a, remove sequences with names listed in file <f>\r\n"
     ]
    }
   ],
   "source": [
    "!ssu-mask -h "
   ]
  },
  {
   "cell_type": "code",
   "execution_count": 16,
   "metadata": {
    "collapsed": true
   },
   "outputs": [
    {
     "name": "stdout",
     "output_type": "stream",
     "text": [
      "# ssu-mask :: mask SSU rRNA alignments\n",
      "# SSU-ALIGN 0.1 (June 2010)\n",
      "# Copyright (C) 2010 HHMI Janelia Farm Research Campus\n",
      "# Freely distributed under the GNU General Public License (GPLv3)\n",
      "# - - - - - - - - - - - - - - - - - - - - - - - - - - - - - - - - - - - -\n",
      "# command: ssu-mask --afa ../../SeqData/trees/\n",
      "# date:    Mon Jul  6 13:06:49 2015\n",
      "#\n",
      "# Masking alignments based on posterior probabilities...\n",
      "#\n",
      "#                                                   mask    \n",
      "#                                               ------------\n",
      "# file name                in/out  type  #cols  incl.  excl.\n",
      "# -----------------------  ------  ----  -----  -----  -----\n",
      "  trees.archaea.stk         input   aln   1508      -      -\n",
      "  trees.archaea.mask       output  mask   1508    292   1216\n",
      "  trees.archaea.mask.pdf   output   pdf   1508    292   1216\n",
      "  trees.archaea.mask.afa   output   aln    292      -      -\n",
      "#\n",
      "  trees.bacteria.stk        input   aln   1582      -      -\n",
      "  trees.bacteria.mask      output  mask   1582    284   1298\n",
      "  trees.bacteria.mask.pdf  output   pdf   1582    284   1298\n",
      "  trees.bacteria.mask.afa  output   aln    284      -      -\n",
      "#\n",
      "# All attempts to draw structure diagrams of masks were successful.\n",
      "#\n",
      "# List of executed commands saved in:     trees.ssu-mask.log.\n",
      "# Output printed to the screen saved in:  trees.ssu-mask.sum.\n",
      "#\n",
      "# All output files created in directory ./../../SeqData/trees/\n",
      "#\n",
      "# CPU time:  00:00:00.82  (hh:mm:ss)\n",
      "# \n"
     ]
    }
   ],
   "source": [
    "# Mask out some ambiguous columns\n",
    "# SSU align allows us to be objective about the masked columns, \n",
    "# because it gives a posterior probability that this character belongs here.\n",
    "# Also converts tree to fasta file --afa\n",
    "\n",
    "!ssu-mask --afa ../../SeqData/trees/"
   ]
  },
  {
   "cell_type": "markdown",
   "metadata": {},
   "source": [
    "Trying to force to bacterial alignment"
   ]
  },
  {
   "cell_type": "code",
   "execution_count": 18,
   "metadata": {
    "collapsed": true
   },
   "outputs": [
    {
     "name": "stdout",
     "output_type": "stream",
     "text": [
      "# ssu-align :: align SSU rRNA sequences\n",
      "# SSU-ALIGN 0.1 (June 2010)\n",
      "# Copyright (C) 2010 HHMI Janelia Farm Research Campus\n",
      "# Freely distributed under the GNU General Public License (GPLv3)\n",
      "# - - - - - - - - - - - - - - - - - - - - - - - - - - - - - - - - - - - -\n",
      "# command: ssu-align -f -n bacteria --dna --rfonly ../../SeqData/otus.pick.fasta ../../SeqData/trees/bacteria\n",
      "# date:    Mon Jul  6 13:09:16 2015\n",
      "#\n",
      "# Validating input sequence file ... done.\n",
      "#\n",
      "# Stage 1: Determining SSU start/end positions and best-matching models...\n",
      "#\n",
      "# output file name           description                                \n",
      "# -------------------------  -------------------------------------------\n",
      "  bacteria.tab               locations/scores of hits defined by HMM(s)\n",
      "  bacteria.bacteria.hitlist  list of sequences to align with bacteria CM\n",
      "  bacteria.bacteria.fa          4858 sequences to align with bacteria CM\n",
      "#\n",
      "# Stage 2: Aligning each sequence to its best-matching model...\n",
      "#\n",
      "# output file name           description\n",
      "# -------------------------  ---------------------------------------\n",
      "  bacteria.bacteria.stk      bacteria alignment\n",
      "  bacteria.bacteria.cmalign  bacteria cmalign output\n",
      "  bacteria.bacteria.ifile    bacteria insert info\n",
      "  bacteria.scores            list of CM/HMM scores for each sequence\n",
      "  bacteria.nomatch           list of seqs that don't match any model\n",
      "#\n",
      "# Summary statistics:\n",
      "#\n",
      "# model or       number  fraction        average   average               \n",
      "# category      of seqs  of total         length  coverage    nucleotides\n",
      "# ------------  -------  --------  -------------  --------  -------------\n",
      "  *input*          4859    1.0000         292.11    1.0000        1419340\n",
      "#\n",
      "  bacteria         4858    0.9998         291.86    0.9992        1417858\n",
      "#\n",
      "  *all-models*     4858    0.9998         291.86    0.9992        1417858\n",
      "  *no-models*         1    0.0002         292.00    0.0000            292\n",
      "#\n",
      "# Speed statistics:\n",
      "#\n",
      "# stage      num seqs  seq/sec  seq/sec/model    nucleotides    nt/sec\n",
      "# ---------  --------  -------  -------------  -------------  --------\n",
      "  search         4859   48.829         48.829        1419340   14263.1\n",
      "  alignment      4858   19.775         19.775        1417858    5771.5\n",
      "#\n",
      "#\n",
      "# List of executed commands saved in:     bacteria.ssu-align.log.\n",
      "# Output printed to the screen saved in:  bacteria.ssu-align.sum.\n",
      "#\n",
      "# All output files created in directory ./../../SeqData/trees/bacteria/\n",
      "#\n",
      "# CPU time (search):     00:01:39.51  (hh:mm:ss)\n",
      "# CPU time (alignment):  00:04:05.67  (hh:mm:ss)\n",
      "# CPU time (total):      00:05:45.59  (hh:mm:ss)\n",
      "#\n"
     ]
    }
   ],
   "source": [
    "!ssu-align --dna --rfonly -n \"bacteria\" -f ../../SeqData/otus.pick.fasta ../../SeqData/trees/bacteria\n",
    "# Aligns sequences - looking for bacteria, archaea, and eukarya, discarding inserts\n",
    "# It was able to include the archaea, it seems."
   ]
  },
  {
   "cell_type": "code",
   "execution_count": 19,
   "metadata": {
    "collapsed": true
   },
   "outputs": [
    {
     "name": "stdout",
     "output_type": "stream",
     "text": [
      "# ssu-mask :: mask SSU rRNA alignments\n",
      "# SSU-ALIGN 0.1 (June 2010)\n",
      "# Copyright (C) 2010 HHMI Janelia Farm Research Campus\n",
      "# Freely distributed under the GNU General Public License (GPLv3)\n",
      "# - - - - - - - - - - - - - - - - - - - - - - - - - - - - - - - - - - - -\n",
      "# command: ssu-mask --afa ../../SeqData/trees/bacteria\n",
      "# date:    Mon Jul  6 13:15:30 2015\n",
      "#\n",
      "# Masking alignments based on posterior probabilities...\n",
      "#\n",
      "#                                                      mask    \n",
      "#                                                  ------------\n",
      "# file name                   in/out  type  #cols  incl.  excl.\n",
      "# --------------------------  ------  ----  -----  -----  -----\n",
      "  bacteria.bacteria.stk        input   aln   1582      -      -\n",
      "  bacteria.bacteria.mask      output  mask   1582    284   1298\n",
      "  bacteria.bacteria.mask.pdf  output   pdf   1582    284   1298\n",
      "  bacteria.bacteria.mask.afa  output   aln    284      -      -\n",
      "#\n",
      "# All attempts to draw structure diagrams of masks were successful.\n",
      "#\n",
      "# List of executed commands saved in:     bacteria.ssu-mask.log.\n",
      "# Output printed to the screen saved in:  bacteria.ssu-mask.sum.\n",
      "#\n",
      "# All output files created in directory ./../../SeqData/trees/bacteria/\n",
      "#\n",
      "# CPU time:  00:00:00.53  (hh:mm:ss)\n",
      "# \n"
     ]
    }
   ],
   "source": [
    "!ssu-mask --afa ../../SeqData/trees/bacteria"
   ]
  },
  {
   "cell_type": "code",
   "execution_count": 23,
   "metadata": {
    "collapsed": false
   },
   "outputs": [
    {
     "name": "stdout",
     "output_type": "stream",
     "text": [
      "bacteria.bacteria.cmalign  bacteria.bacteria.stk\r\n",
      "bacteria.bacteria.fa       bacteria.nomatch\r\n",
      "bacteria.bacteria.hitlist  bacteria.scores\r\n",
      "bacteria.bacteria.ifile    bacteria.ssu-align.log\r\n",
      "bacteria.bacteria.mask     bacteria.ssu-align.sum\r\n",
      "bacteria.bacteria.mask.afa bacteria.ssu-mask.log\r\n",
      "bacteria.bacteria.mask.pdf bacteria.ssu-mask.sum\r\n",
      "bacteria.bacteria.mask.stk bacteria.tab\r\n"
     ]
    }
   ],
   "source": [
    "!ls ../../SeqData/trees/bacteria/"
   ]
  },
  {
   "cell_type": "code",
   "execution_count": 24,
   "metadata": {
    "collapsed": false
   },
   "outputs": [],
   "source": [
    "!cp ../../SeqData/trees/bacteria/bacteria.bacteria.mask.afa ../../SeqData/trees/fulltree.fasta"
   ]
  },
  {
   "cell_type": "code",
   "execution_count": 25,
   "metadata": {
    "collapsed": true
   },
   "outputs": [],
   "source": [
    "# Making a tree using qiime's make_phylogeny\n",
    "# Using the default, which is fasttree\n",
    "# Saves in Newick format (.tre)\n",
    "\n",
    "!make_phylogeny.py -i ../../SeqData/trees/fulltree.fasta -o ../../SeqData/trees/fulltree.tre \\\n",
    "-t fasttree"
   ]
  },
  {
   "cell_type": "code",
   "execution_count": 26,
   "metadata": {
    "collapsed": false
   },
   "outputs": [
    {
     "name": "stdout",
     "output_type": "stream",
     "text": [
      "\u001b[34mbacteria\u001b[m\u001b[m                trees.archaea.mask.pdf  trees.bacteria.mask.pdf\r\n",
      "fulltree.fasta          trees.archaea.mask.stk  trees.bacteria.mask.stk\r\n",
      "fulltree.tre            trees.archaea.stk       trees.bacteria.stk\r\n",
      "trees.archaea.afa       trees.bacteria.afa      trees.scores\r\n",
      "trees.archaea.cmalign   trees.bacteria.cmalign  trees.ssu-align.log\r\n",
      "trees.archaea.fa        trees.bacteria.fa       trees.ssu-align.sum\r\n",
      "trees.archaea.hitlist   trees.bacteria.hitlist  trees.ssu-mask.log\r\n",
      "trees.archaea.ifile     trees.bacteria.ifile    trees.ssu-mask.sum\r\n",
      "trees.archaea.mask      trees.bacteria.mask     trees.tab\r\n",
      "trees.archaea.mask.afa  trees.bacteria.mask.afa\r\n"
     ]
    }
   ],
   "source": [
    "!ls ../../SeqData/trees"
   ]
  },
  {
   "cell_type": "code",
   "execution_count": null,
   "metadata": {
    "collapsed": true
   },
   "outputs": [],
   "source": []
  }
 ],
 "metadata": {
  "kernelspec": {
   "display_name": "Python 2",
   "language": "python",
   "name": "python2"
  },
  "language_info": {
   "codemirror_mode": {
    "name": "ipython",
    "version": 2
   },
   "file_extension": ".py",
   "mimetype": "text/x-python",
   "name": "python",
   "nbconvert_exporter": "python",
   "pygments_lexer": "ipython2",
   "version": "2.7.9"
  }
 },
 "nbformat": 4,
 "nbformat_minor": 0
}
