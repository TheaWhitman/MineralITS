{
 "cells": [
  {
   "cell_type": "code",
   "execution_count": 1,
   "metadata": {
    "collapsed": true
   },
   "outputs": [],
   "source": [
    "%matplotlib inline\n",
    "%load_ext rpy2.ipython"
   ]
  },
  {
   "cell_type": "code",
   "execution_count": 2,
   "metadata": {
    "collapsed": false
   },
   "outputs": [
    {
     "data": {
      "text/plain": [
       "Loading required package: S4Vectors\n",
       "Loading required package: stats4\n",
       "Loading required package: BiocGenerics\n",
       "Loading required package: parallel\n",
       "\n",
       "Attaching package: ‘BiocGenerics’\n",
       "\n",
       "The following objects are masked from ‘package:parallel’:\n",
       "\n",
       "    clusterApply, clusterApplyLB, clusterCall, clusterEvalQ,\n",
       "    clusterExport, clusterMap, parApply, parCapply, parLapply,\n",
       "    parLapplyLB, parRapply, parSapply, parSapplyLB\n",
       "\n",
       "The following object is masked from ‘package:stats’:\n",
       "\n",
       "    xtabs\n",
       "\n",
       "The following objects are masked from ‘package:base’:\n",
       "\n",
       "    anyDuplicated, append, as.data.frame, as.vector, cbind, colnames,\n",
       "    do.call, duplicated, eval, evalq, Filter, Find, get, intersect,\n",
       "    is.unsorted, lapply, Map, mapply, match, mget, order, paste, pmax,\n",
       "    pmax.int, pmin, pmin.int, Position, rank, rbind, Reduce, rep.int,\n",
       "    rownames, sapply, setdiff, sort, table, tapply, union, unique,\n",
       "    unlist, unsplit\n",
       "\n",
       "Loading required package: IRanges\n",
       "Loading required package: GenomicRanges\n",
       "Loading required package: GenomeInfoDb\n",
       "Loading required package: Rcpp\n",
       "Loading required package: RcppArmadillo\n",
       "\n",
       "Attaching package: ‘phyloseq’\n",
       "\n",
       "The following object is masked from ‘package:GenomicRanges’:\n",
       "\n",
       "    distance\n",
       "\n",
       "The following object is masked from ‘package:IRanges’:\n",
       "\n",
       "    distance\n",
       "\n",
       "\n",
       "Attaching package: ‘plyr’\n",
       "\n",
       "The following object is masked from ‘package:IRanges’:\n",
       "\n",
       "    desc\n",
       "\n",
       "The following object is masked from ‘package:S4Vectors’:\n",
       "\n",
       "    rename\n",
       "\n",
       "\n",
       "Attaching package: ‘dplyr’\n",
       "\n",
       "The following objects are masked from ‘package:plyr’:\n",
       "\n",
       "    arrange, count, desc, failwith, id, mutate, rename, summarise,\n",
       "    summarize\n",
       "\n",
       "The following objects are masked from ‘package:GenomicRanges’:\n",
       "\n",
       "    intersect, setdiff, union\n",
       "\n",
       "The following object is masked from ‘package:GenomeInfoDb’:\n",
       "\n",
       "    intersect\n",
       "\n",
       "The following objects are masked from ‘package:IRanges’:\n",
       "\n",
       "    collapse, desc, intersect, setdiff, slice, union\n",
       "\n",
       "The following object is masked from ‘package:S4Vectors’:\n",
       "\n",
       "    rename\n",
       "\n",
       "The following objects are masked from ‘package:BiocGenerics’:\n",
       "\n",
       "    combine, intersect, setdiff, union\n",
       "\n",
       "The following objects are masked from ‘package:stats’:\n",
       "\n",
       "    filter, lag\n",
       "\n",
       "The following objects are masked from ‘package:base’:\n",
       "\n",
       "    intersect, setdiff, setequal, union\n",
       "\n"
      ]
     },
     "metadata": {},
     "output_type": "display_data"
    }
   ],
   "source": [
    "%%R\n",
    "# loading R packages\n",
    "library(DESeq2)\n",
    "library(phyloseq)\n",
    "library(plyr)\n",
    "library(dplyr)\n",
    "#dplyr needs to come in last\n",
    "library(ggplot2)\n",
    "library(rwantshue)\n",
    "library(RColorBrewer)"
   ]
  },
  {
   "cell_type": "code",
   "execution_count": 3,
   "metadata": {
    "collapsed": true
   },
   "outputs": [],
   "source": [
    "%%R\n",
    "physeq = import_biom(\"../../SeqData/ITS.otu_table.tax.meta.biom\", parseFunction = parse_taxonomy_greengenes)"
   ]
  },
  {
   "cell_type": "code",
   "execution_count": 4,
   "metadata": {
    "collapsed": true
   },
   "outputs": [],
   "source": [
    "%%R\n",
    "\n",
    "#physeq = subset_samples(physeq, Sample!=)\n",
    "\n",
    "Merge<-paste(as.character(sample_data(physeq)$Trtmt),as.character(sample_data(physeq)$Month),as.character(sample_data(physeq)$Cosm),sep=\"_\")\n",
    "sample_data(physeq)$Merge <- Merge\n",
    "# Creating a new column in the phyloseq sample data called Merge,\n",
    "# which contains a concatenated ID so all samples from the same mineral, month, and cosm\n",
    "# will have the same ID (thus merging PCR and buffer replicates).\n",
    "\n",
    "ps.merged = merge_samples(physeq, \"Merge\")\n",
    "# Merging the phyloseq object by biological replicates\n",
    "\n",
    "#ps.merged = subset_samples(ps.merged,row.names(sample_data(ps.merged))!=\"S_2.5_14\")\n",
    "# Removing soil sample with large Onygenales taxon (Emmonsia) - soil saprotroph, but huge\n",
    "\n",
    "keep=c(\"Cosm\",\"Month\",\"Trtmt\")\n",
    "sd = sample_data(ps.merged)\n",
    "sd = sd[,keep]\n",
    "sd$Trtmt = substring(row.names(sd),1,1)\n",
    "sd$Trtmt[sd$Trtmt==\"B\"]=\"Blank\"\n",
    "sd$Trtmt[sd$Trtmt==\"F\"]=\"Ferrihydrite\"\n",
    "sd$Trtmt[sd$Trtmt==\"Q\"]=\"Quartz\"\n",
    "sd$Trtmt[sd$Trtmt==\"H\"]=\"Heavy Fraction\"\n",
    "sd$Trtmt[sd$Trtmt==\"S\"]=\"Soil\"\n",
    "sd$Trtmt[sd$Trtmt==\"K\"]=\"Kaolinite\"\n",
    "sample_data(ps.merged) = sd\n",
    "sample_data(ps.merged)\n",
    "# Cleaning up the sample data table\n",
    "physeq = ps.merged"
   ]
  },
  {
   "cell_type": "code",
   "execution_count": 5,
   "metadata": {
    "collapsed": false
   },
   "outputs": [
    {
     "data": {
      "text/plain": [
       "Source: local data frame [14 x 3]\n",
       "Groups: Trtmt\n",
       "\n",
       "            Trtmt Month total\n",
       "1           Blank    NA     1\n",
       "2    Ferrihydrite   2.0     4\n",
       "3    Ferrihydrite   2.5     9\n",
       "4    Ferrihydrite   3.0     5\n",
       "5  Heavy Fraction   2.5     3\n",
       "6       Kaolinite   2.0     4\n",
       "7       Kaolinite   2.5     8\n",
       "8       Kaolinite   3.0     5\n",
       "9          Quartz   2.0     4\n",
       "10         Quartz   2.5     9\n",
       "11         Quartz   3.0     5\n",
       "12           Soil   2.0     5\n",
       "13           Soil   2.5     6\n",
       "14           Soil   3.0     5\n"
      ]
     },
     "metadata": {},
     "output_type": "display_data"
    }
   ],
   "source": [
    "%%R\n",
    "sample.data<-data.frame(sample_data(physeq)) %>%\n",
    "    dplyr::group_by(Trtmt,Month) %>%\n",
    "    dplyr::summarize(total=n())\n",
    "sample.data\n",
    "# Find out how many of each treatment-month combination we have... \n",
    "# Don't want to run it on anything with just one or two samples"
   ]
  },
  {
   "cell_type": "code",
   "execution_count": 6,
   "metadata": {
    "collapsed": false
   },
   "outputs": [
    {
     "data": {
      "text/plain": [
       "      Trtmt Month\n",
       "1 Kaolinite   2.0\n",
       "2 Kaolinite   2.5\n",
       "3 Kaolinite   3.0\n"
      ]
     },
     "metadata": {},
     "output_type": "display_data"
    }
   ],
   "source": [
    "%%R\n",
    "# Creating a matrix with the different combinations of variables for day and amendment\n",
    "variables = expand.grid(Trtmt = c(\"Kaolinite\"),\n",
    "                        Month = c(2, 2.5, 3))\n",
    "#<-variables[c(1,2,4,5,6,7,8),]\n",
    "variables"
   ]
  },
  {
   "cell_type": "code",
   "execution_count": 28,
   "metadata": {
    "collapsed": false
   },
   "outputs": [],
   "source": [
    "%%R\n",
    "physeq.pruned = prune_samples((sample_data(physeq)$Month == 2.0),physeq)\n",
    "taxa_sums(prune_taxa(taxa_sums(physeq.pruned)>0,physeq.pruned))\n",
    "sample_data(prune_samples(sample_sums(physeq)>1000,physeq))\n",
    "sums = sample_sums(physeq)"
   ]
  },
  {
   "cell_type": "markdown",
   "metadata": {},
   "source": [
    "%%R\n",
    "\n",
    "p = ggplot(physeq, aes(x=Sample, y=sample_sums()))\n",
    "p"
   ]
  },
  {
   "cell_type": "code",
   "execution_count": null,
   "metadata": {
    "collapsed": true
   },
   "outputs": [],
   "source": [
    "%%R\n",
    "#run deseq on each subset of factors (day and amendment), return the factors, OTU ID, base mean, log2-fold change, \n",
    "# the standard error, and the p value associated with the response.\n",
    "\n",
    "Dif_Abund = function(Trtmt,Month){\n",
    "    physeq.pruned <- prune_samples(((sample_data(physeq)$Month == Month) & (sample_data(physeq)$Trtmt == Trtmt)) | ((sample_data(physeq)$Month == Month) & (sample_data(physeq)$Trtmt == \"Soil\")),physeq)\n",
    "    physeq.pruned = prune_taxa(taxa_sums(physeq.pruned) > 0, physeq.pruned)\n",
    "    physeq.pruned = prune_samples(sample_sums(physeq.pruned)>1000, physeq.pruned)\n",
    "    taxonomy <- data.frame(tax_table(physeq.pruned))\n",
    "    dseq = phyloseq_to_deseq2(physeq.pruned, ~Trtmt)\n",
    "    dseq$Trtmt = relevel(dseq$Trtmt,\"Soil\")\n",
    "    dseq = DESeq(dseq, quiet = TRUE, fitType = \"local\")\n",
    "    results = results(dseq, cooksCutoff=TRUE)\n",
    "# Change CooksCutoff to stop outliers (FALSE leaves them in)\n",
    "    results$Month = Month\n",
    "    results$Trtmt = Trtmt\n",
    "    results = data.frame(results$Month,results$Trtmt,rownames(results),results$baseMean,results$log2FoldChange,results$lfcSE,results$pvalue,taxonomy[,1:7])\n",
    "    colnames(results) = c(\"Month\",\"Trtmt\",\"OTU\",\"baseMean\",\"l2FC\",\"SE\",\"pvalue\",\"Kingdom\",\"Phylum\",\"Class\",\"Order\",\"Family\",\"Genus\",\"Species\")\n",
    "    results\n",
    "    }\n",
    "# Note: this function throws an error based on calculating the geometric mean for samples with very low OTU counts\n",
    "# Thus, we added the prune_samples step above, removing any samples with fewer than X counts."
   ]
  }
 ],
 "metadata": {
  "kernelspec": {
   "display_name": "Python 2",
   "language": "python",
   "name": "python2"
  },
  "language_info": {
   "codemirror_mode": {
    "name": "ipython",
    "version": 2
   },
   "file_extension": ".py",
   "mimetype": "text/x-python",
   "name": "python",
   "nbconvert_exporter": "python",
   "pygments_lexer": "ipython2",
   "version": "2.7.9"
  }
 },
 "nbformat": 4,
 "nbformat_minor": 0
}
