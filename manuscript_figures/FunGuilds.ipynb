{
 "cells": [
  {
   "cell_type": "code",
   "execution_count": 1,
   "metadata": {
    "collapsed": true
   },
   "outputs": [],
   "source": [
    "%load_ext rpy2.ipython"
   ]
  },
  {
   "cell_type": "code",
   "execution_count": 16,
   "metadata": {
    "collapsed": true
   },
   "outputs": [],
   "source": [
    "%%R\n",
    "# loading R packages\n",
    "library(phyloseq)"
   ]
  },
  {
   "cell_type": "code",
   "execution_count": 26,
   "metadata": {
    "collapsed": true
   },
   "outputs": [
    {
     "data": {
      "text/plain": [
       "Taxonomy Table:     [6 taxa by 8 taxonomic ranks]:\n",
       "        Kingdom Phylum          Class             Order            \n",
       "OTU_4   \"Fungi\" \"Ascomycota\"    \"Eurotiomycetes\"  \"Eurotiales\"     \n",
       "OTU_568 \"Fungi\" \"Ascomycota\"    \"Eurotiomycetes\"  \"Chaetothyriales\"\n",
       "OTU_5   \"Fungi\" \"Ascomycota\"    \"Sordariomycetes\" \"Sordariales\"    \n",
       "OTU_9   \"Fungi\" \"Basidiomycota\" \"Agaricomycetes\"  \"Sebacinales\"    \n",
       "OTU_3   \"Fungi\" \"Ascomycota\"    \"Eurotiomycetes\"  \"Onygenales\"     \n",
       "OTU_64  NA      NA              NA                NA               \n",
       "        Family              Genus          Species              Rank1       \n",
       "OTU_4   \"Trichocomaceae\"    \"Penicillium\"  NA                   NA          \n",
       "OTU_568 \"unidentified\"      \"unidentified\" \"Chaetothyriales sp\" NA          \n",
       "OTU_5   \"Lasiosphaeriaceae\" NA             NA                   NA          \n",
       "OTU_9   \"unidentified\"      \"unidentified\" \"Sebacinales sp\"     NA          \n",
       "OTU_3   \"Ajellomycetaceae\"  \"Emmonsia\"     NA                   NA          \n",
       "OTU_64  NA                  NA             NA                   \"Unassigned\"\n"
      ]
     },
     "metadata": {},
     "output_type": "display_data"
    }
   ],
   "source": [
    "%%R\n",
    "physeq = import_biom(\"../../SeqData/ITS.otu_table.tax.meta.biom\", parseFunction = parse_taxonomy_greengenes)\n",
    "ps.tax = tax_table(physeq)\n",
    "head(ps.tax)"
   ]
  },
  {
   "cell_type": "code",
   "execution_count": 44,
   "metadata": {
    "collapsed": false
   },
   "outputs": [],
   "source": [
    "%%R\n",
    "OTU_ID = data.frame(OTU_ID=rownames(ps.tax))\n",
    "#ps.tax$Taxonomy"
   ]
  },
  {
   "cell_type": "code",
   "execution_count": 37,
   "metadata": {
    "collapsed": false
   },
   "outputs": [],
   "source": [
    "%%R\n",
    "Taxonomy = data.frame(Taxonomy=paste(ps.tax[,1],ps.tax[,2],ps.tax[,3],ps.tax[,4],ps.tax[,5],ps.tax[,6],ps.tax[,7],ps.tax[,8], sep=\";\"))"
   ]
  },
  {
   "cell_type": "code",
   "execution_count": 69,
   "metadata": {
    "collapsed": false
   },
   "outputs": [
    {
     "data": {
      "text/plain": [
       "[1] 2200    2\n"
      ]
     },
     "metadata": {},
     "output_type": "display_data"
    }
   ],
   "source": [
    "%%R\n",
    "Funguild = data.frame(OTU_ID,Taxonomy)\n",
    "Funguild <- data.frame(matrix(unlist(Funguild), ncol=2, byrow=F),stringsAsFactors=FALSE)\n",
    "colnames(Funguild) = c(\"OTU_ID\",\"taxonomy\")\n",
    "dim(Funguild)"
   ]
  },
  {
   "cell_type": "code",
   "execution_count": 73,
   "metadata": {
    "collapsed": false
   },
   "outputs": [],
   "source": [
    "%%R\n",
    "write.table(Funguild, file = \"../../SeqData/Funguild.txt\",append = FALSE, quote=FALSE, sep = \"\\t\",row.names=FALSE)"
   ]
  },
  {
   "cell_type": "code",
   "execution_count": 74,
   "metadata": {
    "collapsed": false
   },
   "outputs": [
    {
     "name": "stdout",
     "output_type": "stream",
     "text": [
      "OTU_ID\ttaxonomy\r\n",
      "OTU_4\tFungi;Ascomycota;Eurotiomycetes;Eurotiales;Trichocomaceae;Penicillium;NA;NA\r\n",
      "OTU_568\tFungi;Ascomycota;Eurotiomycetes;Chaetothyriales;unidentified;unidentified;Chaetothyriales sp;NA\r\n",
      "OTU_5\tFungi;Ascomycota;Sordariomycetes;Sordariales;Lasiosphaeriaceae;NA;NA;NA\r\n",
      "OTU_9\tFungi;Basidiomycota;Agaricomycetes;Sebacinales;unidentified;unidentified;Sebacinales sp;NA\r\n",
      "OTU_3\tFungi;Ascomycota;Eurotiomycetes;Onygenales;Ajellomycetaceae;Emmonsia;NA;NA\r\n",
      "OTU_64\tNA;NA;NA;NA;NA;NA;NA;Unassigned\r\n",
      "OTU_8\tFungi;Ascomycota;Leotiomycetes;Helotiales;Rutstroemiaceae;NA;NA;NA\r\n",
      "OTU_821\tFungi;Ascomycota;Dothideomycetes;Pleosporales;Phaeosphaeriaceae;Phaeosphaeria;NA;NA\r\n",
      "OTU_23\tFungi;Rozellomycota;unidentified;unidentified;unidentified;unidentified;Rozellomycota sp;NA\r\n"
     ]
    }
   ],
   "source": [
    "!head ../../SeqData/Funguild.txt"
   ]
  },
  {
   "cell_type": "code",
   "execution_count": 103,
   "metadata": {
    "collapsed": false
   },
   "outputs": [
    {
     "name": "stdout",
     "output_type": "stream",
     "text": [
      "FunGuild v1.0 Beta\n",
      "Downloading fungi database ...\n",
      "\n",
      "Reading in the OTU table: '../../SeqData/Funguild.txt'\n",
      "\n",
      "Searching the FUNGuild database...\n",
      "10%\n",
      "20%\n",
      "30%\n",
      "40%\n",
      "50%\n",
      "60%\n",
      "70%\n",
      "80%\n",
      "90%\n",
      "100%\n",
      "\n",
      "Found 638 matching taxonomy records in the database.\n",
      "Dereplicating and sorting the result...\n",
      "FunGuild tried to assign function to 2200 OTUs in '../../SeqData/Funguild.txt'.\n",
      "FUNGuild made assignments on 518 OTUs.\n",
      "Result saved to '../../SeqData/Funguild.guilds.txt'\n",
      "\n",
      "Total calculating time: 16.48 seconds.\n"
     ]
    }
   ],
   "source": [
    "!python /opt/virt_env/bin/funguilds.py -otu ../../SeqData/Funguild.txt -db fungi"
   ]
  },
  {
   "cell_type": "code",
   "execution_count": 104,
   "metadata": {
    "collapsed": false
   },
   "outputs": [
    {
     "name": "stdout",
     "output_type": "stream",
     "text": [
      "OTU_ID\ttaxonomy\tTaxon\tTaxon Level\tTrophic Mode\tGuild\tConfidence Ranking\tGrowth Morphology\tTrait\tNotes\tCitation/Source\r\n",
      "OTU_1\tFungi;Ascomycota;Sordariomycetes;Sordariales;Lasiosphaeriaceae;Podospora;Podospora sp;NA\tPodospora\t13\tSaprotroph\tUndefined Saprotroph\tProbable\tNULL\tNULL\tNULL\tTedersoo L, et al. 2014. Science 346:1256688\r\n",
      "OTU_10\tFungi;Basidiomycota;Agaricomycetes;Agaricales;Strophariaceae;Agrocybe;Agrocybe pediades;NA\tAgrocybe\t13\tSaprotroph\tUndefined Saprotroph\tProbable\tNULL\tNULL\tNULL\tTedersoo L, et al. 2014. Science 346:1256688\r\n",
      "OTU_1002\tFungi;Ascomycota;Eurotiomycetes;Eurotiales;Trichocomaceae;Penicillium;NA;NA\tPenicillium\t13\tSaprotroph\tUndefined Saprotroph\tProbable\tNULL\tNULL\tNULL\tTedersoo L, et al. 2014. Science 346:1256688\r\n",
      "OTU_1003\tFungi;Ascomycota;Eurotiomycetes;Eurotiales;Trichocomaceae;Penicillium;NA;NA\tPenicillium\t13\tSaprotroph\tUndefined Saprotroph\tProbable\tNULL\tNULL\tNULL\tTedersoo L, et al. 2014. Science 346:1256688\r\n",
      "OTU_1005\tFungi;Glomeromycota;Glomeromycetes;Glomerales;Glomeraceae;Funneliformis;Funneliformis mosseae;NA\tFunneliformis\t13\tSymbiotroph\tArbuscular Mycorrhizal\tHighly Probable\tNULL\tNULL\tNULL\tRedecker D, et al. 2013. Mycorrhiza 23:515-531\r\n",
      "OTU_1011\tFungi;Ascomycota;Sordariomycetes;Sordariales;Lasiosphaeriaceae;Cladorrhinum;Cladorrhinum sp;NA\tCladorrhinum\t13\tSaprotroph\tUndefined Saprotroph\tProbable\tNULL\tNULL\tNULL\tEsslinger TL. 2014. North Dakota State University (http://www.ndsu.edu/pubweb/~esslinge/chcklst/chcklst7.htm)\r\n",
      "OTU_102\tFungi;Glomeromycota;Glomeromycetes;Glomerales;Glomeraceae;unidentified;Glomeraceae sp;NA\tGlomeraceae\t9\tSymbiotroph\tArbuscular Mycorrhizal\tHighly Probable\tNULL\tNULL\tNULL\tRedecker D, et al. 2013. Mycorrhiza 23:515-531\r\n",
      "OTU_1025\tFungi;Ascomycota;Sordariomycetes;Xylariales;Incertae sedis;Coniocessia;Coniocessia nodulisporioides;NA\tConiocessia\t13\tSaprotroph\tUndefined Saprotroph\tProbable\tNULL\tNULL\tNULL\tTedersoo L, et al. 2014. Science 346:1256688\r\n",
      "OTU_1032\tFungi;Zygomycota;Incertae sedis;Mucorales;Cunninghamellaceae;Absidia;Absidia glauca;NA\tAbsidia\t13\tSaprotroph\tUndefined Saprotroph\tProbable\tNULL\tNULL\tNULL\tTedersoo L, et al. 2014. Science 346:1256688\r\n"
     ]
    }
   ],
   "source": [
    "!head ../../SeqData/Funguild.guilds.txt"
   ]
  },
  {
   "cell_type": "code",
   "execution_count": 109,
   "metadata": {
    "collapsed": false
   },
   "outputs": [
    {
     "data": {
      "text/plain": [
       "    OTU_ID         Taxon Taxon.Level Trophic.Mode                  Guild\n",
       "1    OTU_1     Podospora          13   Saprotroph   Undefined Saprotroph\n",
       "2   OTU_10      Agrocybe          13   Saprotroph   Undefined Saprotroph\n",
       "3 OTU_1002   Penicillium          13   Saprotroph   Undefined Saprotroph\n",
       "4 OTU_1003   Penicillium          13   Saprotroph   Undefined Saprotroph\n",
       "5 OTU_1005 Funneliformis          13  Symbiotroph Arbuscular Mycorrhizal\n",
       "6 OTU_1011  Cladorrhinum          13   Saprotroph   Undefined Saprotroph\n",
       "  Confidence.Ranking\n",
       "1           Probable\n",
       "2           Probable\n",
       "3           Probable\n",
       "4           Probable\n",
       "5    Highly Probable\n",
       "6           Probable\n"
      ]
     },
     "metadata": {},
     "output_type": "display_data"
    }
   ],
   "source": [
    "%%R\n",
    "Funguilds.guilds = (read.table(\"../../SeqData/Funguild.guilds.txt\",sep=\"\\t\",header=TRUE))\n",
    "Funguilds.guilds = Funguilds.guilds[,c(1,3:7)]\n",
    "head(Funguilds.guilds)"
   ]
  },
  {
   "cell_type": "code",
   "execution_count": 110,
   "metadata": {
    "collapsed": true
   },
   "outputs": [],
   "source": [
    "%%R\n",
    "write.table(Funguilds.guilds, file = \"../../SeqData/Funguild.guilds.txt\",append = FALSE, quote=FALSE, sep = \"\\t\",row.names=FALSE, col.names=TRUE)"
   ]
  },
  {
   "cell_type": "code",
   "execution_count": 111,
   "metadata": {
    "collapsed": false
   },
   "outputs": [
    {
     "name": "stdout",
     "output_type": "stream",
     "text": [
      "OTU_ID\tTaxon\tTaxon.Level\tTrophic.Mode\tGuild\tConfidence.Ranking\r\n",
      "OTU_1\tPodospora\t13\tSaprotroph\tUndefined Saprotroph\tProbable\r\n",
      "OTU_10\tAgrocybe\t13\tSaprotroph\tUndefined Saprotroph\tProbable\r\n",
      "OTU_1002\tPenicillium\t13\tSaprotroph\tUndefined Saprotroph\tProbable\r\n",
      "OTU_1003\tPenicillium\t13\tSaprotroph\tUndefined Saprotroph\tProbable\r\n",
      "OTU_1005\tFunneliformis\t13\tSymbiotroph\tArbuscular Mycorrhizal\tHighly Probable\r\n",
      "OTU_1011\tCladorrhinum\t13\tSaprotroph\tUndefined Saprotroph\tProbable\r\n",
      "OTU_102\tGlomeraceae\t9\tSymbiotroph\tArbuscular Mycorrhizal\tHighly Probable\r\n",
      "OTU_1025\tConiocessia\t13\tSaprotroph\tUndefined Saprotroph\tProbable\r\n",
      "OTU_1032\tAbsidia\t13\tSaprotroph\tUndefined Saprotroph\tProbable\r\n"
     ]
    }
   ],
   "source": [
    "!head ../../SeqData/Funguild.guilds.txt"
   ]
  },
  {
   "cell_type": "code",
   "execution_count": 93,
   "metadata": {
    "collapsed": true
   },
   "outputs": [],
   "source": [
    "!mkdir ../../SeqData/Funguilds/"
   ]
  },
  {
   "cell_type": "code",
   "execution_count": 118,
   "metadata": {
    "collapsed": false
   },
   "outputs": [],
   "source": [
    "# Joining the classification taxonomy to the biom table\n",
    "!if [ -f ../../SeqData/Funguilds/ITS.otu_table.meta.biom ]; then rm ../../SeqData/Funguilds/ITS.otu_table.meta.biom; fi #This is to mitigate a biom bug\n",
    "! biom add-metadata -i ../../SeqData/ITS.otu_table.biom -o ../../SeqData/Funguilds/ITS.otu_table.meta.biom \\\n",
    "--observation-metadata-fp ../../SeqData/Funguild.guilds.txt \\\n",
    "--observation-header OTUID,taxon,taxon.level,trophic.mode,guild,confidence "
   ]
  },
  {
   "cell_type": "code",
   "execution_count": 119,
   "metadata": {
    "collapsed": true
   },
   "outputs": [],
   "source": [
    "!if [ -f ../../SeqData/Funguilds/ITS.otu_table.tax.meta.biom.summary.txt ]; then rm ../../SeqData/Funguilds/ITS.otu_table.tax.meta.biom.summary.txt; fi #This is to mitigate a biom bug\n",
    "! biom summarize-table -i ../../SeqData/Funguilds/ITS.otu_table.meta.biom -o ../../SeqData/Funguilds/ITS.otu_table.meta.biom.summary.txt"
   ]
  },
  {
   "cell_type": "code",
   "execution_count": 1,
   "metadata": {
    "collapsed": false
   },
   "outputs": [
    {
     "name": "stdout",
     "output_type": "stream",
     "text": [
      "Num samples: 100\r\n",
      "Num observations: 2200\r\n",
      "Total count: 1902544\r\n",
      "Table density (fraction of non-zero values): 0.062\r\n",
      "\r\n",
      "Counts/sample summary:\r\n",
      " Min: 1.0\r\n",
      " Max: 165893.0\r\n",
      " Median: 6463.000\r\n",
      " Mean: 19025.440\r\n",
      " Std. dev.: 28826.747\r\n",
      " Sample Metadata Categories: None provided\r\n",
      " Observation Metadata Categories: trophic.mode; confidence; taxon.level; guild; taxon\r\n",
      "\r\n",
      "Counts/sample detail:\r\n",
      " 30: 1.0\r\n",
      " 54: 2.0\r\n",
      " 37: 2.0\r\n",
      " 63: 2.0\r\n",
      " 60: 5.0\r\n",
      " 14: 9.0\r\n",
      " 68: 13.0\r\n",
      " 16: 28.0\r\n",
      " 51: 57.0\r\n",
      " 48: 63.0\r\n",
      " 87: 76.0\r\n",
      " 11: 95.0\r\n",
      " 42: 96.0\r\n",
      " 8: 100.0\r\n",
      " 22: 135.0\r\n",
      " 9: 150.0\r\n",
      " 92: 194.0\r\n",
      " 45: 270.0\r\n",
      " 21: 294.0\r\n",
      " 23: 337.0\r\n",
      " 29: 391.0\r\n",
      " 18: 462.0\r\n",
      " 47: 468.0\r\n",
      " 81: 665.0\r\n",
      " 25: 768.0\r\n",
      " 2: 953.0\r\n",
      " 75: 954.0\r\n",
      " 27: 1139.0\r\n",
      " 24: 1212.0\r\n",
      " 78: 1364.0\r\n",
      " 84: 1561.0\r\n",
      " 71: 1747.0\r\n",
      " 90: 1923.0\r\n",
      " 28: 1924.0\r\n",
      " 73: 2081.0\r\n",
      " 6: 2164.0\r\n",
      " 10: 2490.0\r\n",
      " 57: 2492.0\r\n",
      " 82: 2922.0\r\n",
      " 74: 2979.0\r\n",
      " 76: 3462.0\r\n",
      " 4: 3934.0\r\n",
      " 26: 4573.0\r\n",
      " 5: 4646.0\r\n",
      " 3: 4671.0\r\n",
      " 19: 4894.0\r\n",
      " 77: 5087.0\r\n",
      " 72: 5259.0\r\n",
      " 85: 5307.0\r\n",
      " 12: 6024.0\r\n",
      " 1: 6902.0\r\n",
      " 97: 7253.0\r\n",
      " 15: 7582.0\r\n",
      " 88: 7769.0\r\n",
      " 103: 7930.0\r\n",
      " 17: 8411.0\r\n",
      " 66: 9546.0\r\n",
      " 83: 11635.0\r\n",
      " 46: 12327.0\r\n",
      " 91: 12615.0\r\n",
      " 20: 13435.0\r\n",
      " 69: 13460.0\r\n",
      " 80: 13748.0\r\n",
      " 55: 17957.0\r\n",
      " 79: 18378.0\r\n",
      " 86: 18497.0\r\n",
      " 50: 18605.0\r\n",
      " 38: 18990.0\r\n",
      " 95: 19326.0\r\n",
      " 43: 19407.0\r\n",
      " 53: 19509.0\r\n",
      " 99: 20230.0\r\n",
      " 106: 21736.0\r\n",
      " 102: 22826.0\r\n",
      " 40: 22962.0\r\n",
      " 52: 28034.0\r\n",
      " 39: 28648.0\r\n",
      " 64: 29085.0\r\n",
      " 89: 32445.0\r\n",
      " 59: 33447.0\r\n",
      " 67: 34724.0\r\n",
      " 41: 35088.0\r\n",
      " 44: 36684.0\r\n",
      " 62: 38145.0\r\n",
      " 105: 40212.0\r\n",
      " 70: 42825.0\r\n",
      " 104: 50042.0\r\n",
      " 58: 51070.0\r\n",
      " 98: 53054.0\r\n",
      " 7: 55346.0\r\n",
      " 56: 56977.0\r\n",
      " 100: 59039.0\r\n",
      " 65: 60505.0\r\n",
      " 93: 61599.0\r\n",
      " 13: 66287.0\r\n",
      " 94: 73106.0\r\n",
      " 49: 74218.0\r\n",
      " 96: 93820.0\r\n",
      " 101: 150770.0\r\n",
      " 61: 165893.0\r\n"
     ]
    }
   ],
   "source": [
    "!cat ../../SeqData/Funguilds/ITS.otu_table.meta.biom.summary.txt"
   ]
  },
  {
   "cell_type": "code",
   "execution_count": null,
   "metadata": {
    "collapsed": true
   },
   "outputs": [],
   "source": []
  }
 ],
 "metadata": {
  "kernelspec": {
   "display_name": "Python 2",
   "language": "python",
   "name": "python2"
  },
  "language_info": {
   "codemirror_mode": {
    "name": "ipython",
    "version": 2
   },
   "file_extension": ".py",
   "mimetype": "text/x-python",
   "name": "python",
   "nbconvert_exporter": "python",
   "pygments_lexer": "ipython2",
   "version": "2.7.9"
  }
 },
 "nbformat": 4,
 "nbformat_minor": 0
}
